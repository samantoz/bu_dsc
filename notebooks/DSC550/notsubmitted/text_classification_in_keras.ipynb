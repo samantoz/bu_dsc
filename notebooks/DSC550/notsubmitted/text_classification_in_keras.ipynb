{
 "metadata": {
  "language_info": {
   "codemirror_mode": {
    "name": "ipython",
    "version": 3
   },
   "file_extension": ".py",
   "mimetype": "text/x-python",
   "name": "python",
   "nbconvert_exporter": "python",
   "pygments_lexer": "ipython3",
   "version": "3.8.5-final"
  },
  "orig_nbformat": 2,
  "kernelspec": {
   "name": "python38564bitdd2052ddce364b29b70b9ef2f4771a5e",
   "display_name": "Python 3.8.5 64-bit"
  }
 },
 "nbformat": 4,
 "nbformat_minor": 2,
 "cells": [
  {
   "source": [
    "Before using keras trying to explain the process using sklearns regression model in a simple form.\n",
    "https://realpython.com/python-keras-text-classification/\n"
   ],
   "cell_type": "markdown",
   "metadata": {}
  },
  {
   "cell_type": "code",
   "execution_count": 1,
   "metadata": {},
   "outputs": [],
   "source": [
    "import pandas as pd"
   ]
  },
  {
   "cell_type": "code",
   "execution_count": 4,
   "metadata": {},
   "outputs": [
    {
     "output_type": "execute_result",
     "data": {
      "text/plain": [
       "(2748, 3)"
      ]
     },
     "metadata": {},
     "execution_count": 4
    }
   ],
   "source": [
    "# Creating a dictionary object of the filepath\n",
    "path = \"/home/arindam/Documents/mygithub/bu_dsc/data/processed/sentiment labelled sentences/\"\n",
    "\n",
    "filepath_dict = {'yelp': path +'yelp_labelled.txt',\n",
    "                'amazon': path + 'amazon_cells_labelled.txt',\n",
    "                'imdb': path + 'imdb_labelled.txt' }\n",
    "\n",
    "df_list=[]\n",
    "for source,filepath in filepath_dict.items():\n",
    "    df = pd.read_csv(filepath, names=['sentence','label'], sep = '\\t')\n",
    "    df['source'] = source # This column is added to track the file source name\n",
    "    df_list.append(df)\n",
    "\n",
    "data = pd.concat(df_list)\n",
    "data.shape"
   ]
  },
  {
   "cell_type": "code",
   "execution_count": 5,
   "metadata": {},
   "outputs": [
    {
     "output_type": "execute_result",
     "data": {
      "text/plain": [
       "<bound method NDFrame.head of                                               sentence  label source\n",
       "0                             Wow... Loved this place.      1   yelp\n",
       "1                                   Crust is not good.      0   yelp\n",
       "2            Not tasty and the texture was just nasty.      0   yelp\n",
       "3    Stopped by during the late May bank holiday of...      1   yelp\n",
       "4    The selection on the menu was great and so wer...      1   yelp\n",
       "..                                                 ...    ...    ...\n",
       "743  I just got bored watching Jessice Lange take h...      0   imdb\n",
       "744  Unfortunately, any virtue in this film's produ...      0   imdb\n",
       "745                   In a word, it is embarrassing.        0   imdb\n",
       "746                               Exceptionally bad!        0   imdb\n",
       "747  All in all its an insult to one's intelligence...      0   imdb\n",
       "\n",
       "[2748 rows x 3 columns]>"
      ]
     },
     "metadata": {},
     "execution_count": 5
    }
   ],
   "source": [
    "data.head"
   ]
  },
  {
   "cell_type": "code",
   "execution_count": 7,
   "metadata": {},
   "outputs": [
    {
     "output_type": "execute_result",
     "data": {
      "text/plain": [
       "'Now I am getting angry and I want my damn pho.'"
      ]
     },
     "metadata": {},
     "execution_count": 7
    }
   ],
   "source": [
    "data.iloc[5].sentence"
   ]
  },
  {
   "cell_type": "code",
   "execution_count": 8,
   "metadata": {},
   "outputs": [
    {
     "output_type": "execute_result",
     "data": {
      "text/plain": [
       "sentence    Now I am getting angry and I want my damn pho.\n",
       "label                                                    0\n",
       "source                                                yelp\n",
       "Name: 5, dtype: object"
      ]
     },
     "metadata": {},
     "execution_count": 8
    }
   ],
   "source": [
    "data.iloc[5]"
   ]
  },
  {
   "cell_type": "code",
   "execution_count": 20,
   "metadata": {},
   "outputs": [
    {
     "output_type": "execute_result",
     "data": {
      "text/plain": [
       "10                             Service was very prompt.\n",
       "11                                   Would not go back.\n",
       "12    The cashier had no care what so ever on what I...\n",
       "Name: sentence, dtype: object"
      ]
     },
     "metadata": {},
     "execution_count": 20
    }
   ],
   "source": [
    "sample_sentences = data.iloc[10:13].sentence\n",
    "sample_sentences"
   ]
  },
  {
   "source": [
    "'''\n",
    "How do we plan to predict the sentiment?\n",
    "    1) Count the frequency of each word in a sentence\n",
    "    2) tie this count back to the entire set of words in the data set\n",
    "    3) create a vocabulary of all the words in all the sentences - called corpus in NLP\n",
    "    4) create a vector for each sentence\n",
    "    5) take the sentence you want to vectorize and count each occurrance of the word in the vocabulary - called feature vector\n",
    "'''"
   ],
   "cell_type": "markdown",
   "metadata": {}
  },
  {
   "cell_type": "code",
   "execution_count": 21,
   "metadata": {},
   "outputs": [
    {
     "output_type": "execute_result",
     "data": {
      "text/plain": [
       "{'Service': 0,\n",
       " 'was': 23,\n",
       " 'very': 22,\n",
       " 'prompt': 16,\n",
       " 'Would': 2,\n",
       " 'not': 13,\n",
       " 'go': 9,\n",
       " 'back': 3,\n",
       " 'The': 1,\n",
       " 'cashier': 6,\n",
       " 'had': 10,\n",
       " 'no': 12,\n",
       " 'care': 5,\n",
       " 'what': 25,\n",
       " 'so': 18,\n",
       " 'ever': 8,\n",
       " 'on': 14,\n",
       " 'to': 20,\n",
       " 'say': 17,\n",
       " 'it': 11,\n",
       " 'still': 19,\n",
       " 'ended': 7,\n",
       " 'up': 21,\n",
       " 'being': 4,\n",
       " 'wayyy': 24,\n",
       " 'overpriced': 15}"
      ]
     },
     "metadata": {},
     "execution_count": 21
    }
   ],
   "source": [
    "'''\n",
    "vocabulary is a list of words that occurred in our text where each word has its own index\n",
    "'''\n",
    "from sklearn.feature_extraction.text import CountVectorizer\n",
    "\n",
    "vectorizer = CountVectorizer(min_df=0, lowercase=False)\n",
    "vectorizer.fit(sample_sentences)\n",
    "vectorizer.vocabulary_"
   ]
  },
  {
   "cell_type": "code",
   "execution_count": 22,
   "metadata": {},
   "outputs": [
    {
     "output_type": "execute_result",
     "data": {
      "text/plain": [
       "array([[1, 0, 0, 0, 0, 0, 0, 0, 0, 0, 0, 0, 0, 0, 0, 0, 1, 0, 0, 0, 0, 0,\n",
       "        1, 1, 0, 0],\n",
       "       [0, 0, 1, 1, 0, 0, 0, 0, 0, 1, 0, 0, 0, 1, 0, 0, 0, 0, 0, 0, 0, 0,\n",
       "        0, 0, 0, 0],\n",
       "       [0, 1, 0, 0, 1, 1, 1, 1, 1, 0, 2, 1, 1, 0, 1, 1, 0, 1, 1, 1, 1, 1,\n",
       "        0, 0, 1, 2]])"
      ]
     },
     "metadata": {},
     "execution_count": 22
    }
   ],
   "source": [
    "vectorizer.transform(sample_sentences).toarray()"
   ]
  },
  {
   "cell_type": "code",
   "execution_count": 23,
   "metadata": {},
   "outputs": [
    {
     "output_type": "execute_result",
     "data": {
      "text/plain": [
       "['Service',\n",
       " 'The',\n",
       " 'Would',\n",
       " 'back',\n",
       " 'being',\n",
       " 'care',\n",
       " 'cashier',\n",
       " 'ended',\n",
       " 'ever',\n",
       " 'go',\n",
       " 'had',\n",
       " 'it',\n",
       " 'no',\n",
       " 'not',\n",
       " 'on',\n",
       " 'overpriced',\n",
       " 'prompt',\n",
       " 'say',\n",
       " 'so',\n",
       " 'still',\n",
       " 'to',\n",
       " 'up',\n",
       " 'very',\n",
       " 'was',\n",
       " 'wayyy',\n",
       " 'what']"
      ]
     },
     "metadata": {},
     "execution_count": 23
    }
   ],
   "source": [
    "vectorizer.get_feature_names()"
   ]
  },
  {
   "cell_type": "code",
   "execution_count": 24,
   "metadata": {},
   "outputs": [
    {
     "output_type": "execute_result",
     "data": {
      "text/plain": [
       "   Service  The  Would  back  being  care  cashier  ended  ever  go  ...  \\\n",
       "0        1    0      0     0      0     0        0      0     0   0  ...   \n",
       "1        0    0      1     1      0     0        0      0     0   1  ...   \n",
       "2        0    1      0     0      1     1        1      1     1   0  ...   \n",
       "\n",
       "   prompt  say  so  still  to  up  very  was  wayyy  what  \n",
       "0       1    0   0      0   0   0     1    1      0     0  \n",
       "1       0    0   0      0   0   0     0    0      0     0  \n",
       "2       0    1   1      1   1   1     0    0      1     2  \n",
       "\n",
       "[3 rows x 26 columns]"
      ],
      "text/html": "<div>\n<style scoped>\n    .dataframe tbody tr th:only-of-type {\n        vertical-align: middle;\n    }\n\n    .dataframe tbody tr th {\n        vertical-align: top;\n    }\n\n    .dataframe thead th {\n        text-align: right;\n    }\n</style>\n<table border=\"1\" class=\"dataframe\">\n  <thead>\n    <tr style=\"text-align: right;\">\n      <th></th>\n      <th>Service</th>\n      <th>The</th>\n      <th>Would</th>\n      <th>back</th>\n      <th>being</th>\n      <th>care</th>\n      <th>cashier</th>\n      <th>ended</th>\n      <th>ever</th>\n      <th>go</th>\n      <th>...</th>\n      <th>prompt</th>\n      <th>say</th>\n      <th>so</th>\n      <th>still</th>\n      <th>to</th>\n      <th>up</th>\n      <th>very</th>\n      <th>was</th>\n      <th>wayyy</th>\n      <th>what</th>\n    </tr>\n  </thead>\n  <tbody>\n    <tr>\n      <th>0</th>\n      <td>1</td>\n      <td>0</td>\n      <td>0</td>\n      <td>0</td>\n      <td>0</td>\n      <td>0</td>\n      <td>0</td>\n      <td>0</td>\n      <td>0</td>\n      <td>0</td>\n      <td>...</td>\n      <td>1</td>\n      <td>0</td>\n      <td>0</td>\n      <td>0</td>\n      <td>0</td>\n      <td>0</td>\n      <td>1</td>\n      <td>1</td>\n      <td>0</td>\n      <td>0</td>\n    </tr>\n    <tr>\n      <th>1</th>\n      <td>0</td>\n      <td>0</td>\n      <td>1</td>\n      <td>1</td>\n      <td>0</td>\n      <td>0</td>\n      <td>0</td>\n      <td>0</td>\n      <td>0</td>\n      <td>1</td>\n      <td>...</td>\n      <td>0</td>\n      <td>0</td>\n      <td>0</td>\n      <td>0</td>\n      <td>0</td>\n      <td>0</td>\n      <td>0</td>\n      <td>0</td>\n      <td>0</td>\n      <td>0</td>\n    </tr>\n    <tr>\n      <th>2</th>\n      <td>0</td>\n      <td>1</td>\n      <td>0</td>\n      <td>0</td>\n      <td>1</td>\n      <td>1</td>\n      <td>1</td>\n      <td>1</td>\n      <td>1</td>\n      <td>0</td>\n      <td>...</td>\n      <td>0</td>\n      <td>1</td>\n      <td>1</td>\n      <td>1</td>\n      <td>1</td>\n      <td>1</td>\n      <td>0</td>\n      <td>0</td>\n      <td>1</td>\n      <td>2</td>\n    </tr>\n  </tbody>\n</table>\n<p>3 rows × 26 columns</p>\n</div>"
     },
     "metadata": {},
     "execution_count": 24
    }
   ],
   "source": [
    "# Convert to a dataframe\n",
    "df1 = pd.DataFrame(vectorizer.transform(sample_sentences).toarray(), columns=vectorizer.get_feature_names())\n",
    "df1"
   ]
  },
  {
   "cell_type": "code",
   "execution_count": 25,
   "metadata": {},
   "outputs": [],
   "source": [
    "# Defining a baseline model\n",
    "# Split the data into training and testing set\n",
    "from sklearn.model_selection import train_test_split\n",
    "df_yelp = data[data['source']=='yelp']\n",
    "\n",
    "sentences = df_yelp['sentence'].values\n",
    "y = df_yelp['label'].values\n",
    "\n",
    "sentences_train,sentences_test,y_train,y_test = train_test_split(sentences,y,test_size=0.25, random_state=1000)"
   ]
  },
  {
   "cell_type": "code",
   "execution_count": 26,
   "metadata": {},
   "outputs": [
    {
     "output_type": "stream",
     "name": "stdout",
     "text": [
      "Total Set:  1000\nTraining Set:  750\nTesting Set:  250\n"
     ]
    }
   ],
   "source": [
    "print(\"Total Set: \", df_yelp.shape[0])\n",
    "print(\"Training Set: \", len(sentences_train))\n",
    "print(\"Testing Set: \", len(sentences_test))"
   ]
  },
  {
   "cell_type": "code",
   "execution_count": 27,
   "metadata": {},
   "outputs": [],
   "source": [
    "'''\n",
    "How we will be using the BOW model to vectorize the sentences. In some cases you might not have the testing data available\n",
    "during the training so creating the vocabulary using only the training data.\n",
    "'''\n",
    "from sklearn.feature_extraction.text import CountVectorizer\n",
    "# vectorizer = CountVectorizer(lowercase=True)\n",
    "vectorizer = CountVectorizer()\n",
    "vectorizer.fit(sentences_train) # vocabulary using only the training data\n",
    "\n",
    "X_train = vectorizer.transform(sentences_train)\n",
    "X_test = vectorizer.transform(sentences_test)"
   ]
  },
  {
   "cell_type": "code",
   "execution_count": 28,
   "metadata": {},
   "outputs": [
    {
     "output_type": "stream",
     "name": "stdout",
     "text": [
      "Training features:  1714\nTesting features:  1714\nUsing the same Training vocabulary\n"
     ]
    }
   ],
   "source": [
    "print(\"Training features: \", X_train.shape[1])\n",
    "print(\"Testing features: \", X_test.shape[1])\n",
    "print(\"Using the same Training vocabulary\")"
   ]
  },
  {
   "cell_type": "code",
   "execution_count": 29,
   "metadata": {},
   "outputs": [
    {
     "output_type": "stream",
     "name": "stdout",
     "text": [
      "Accuracy: 0.796\n"
     ]
    }
   ],
   "source": [
    "'''\n",
    "CountVectorizer performs tokenization which separates the sentences into a set of tokens. The Classification model we are going to consider here is the logistic regression. It is simple yet a powerful linear model.\n",
    "'''\n",
    "\n",
    "from sklearn.linear_model import LogisticRegression\n",
    "\n",
    "classifier = LogisticRegression()\n",
    "classifier.fit(X_train, y_train)\n",
    "\n",
    "score = classifier.score(X_test, y_test)\n",
    "print(\"Accuracy:\", score)"
   ]
  },
  {
   "cell_type": "code",
   "execution_count": 31,
   "metadata": {},
   "outputs": [
    {
     "output_type": "execute_result",
     "data": {
      "text/plain": [
       "(2748, 3)"
      ]
     },
     "metadata": {},
     "execution_count": 31
    }
   ],
   "source": [
    "data.shape"
   ]
  },
  {
   "cell_type": "code",
   "execution_count": 36,
   "metadata": {},
   "outputs": [
    {
     "output_type": "execute_result",
     "data": {
      "text/plain": [
       "amazon    1000\n",
       "yelp      1000\n",
       "imdb       748\n",
       "Name: source, dtype: int64"
      ]
     },
     "metadata": {},
     "execution_count": 36
    }
   ],
   "source": [
    "data['source'].value_counts()"
   ]
  },
  {
   "cell_type": "code",
   "execution_count": 41,
   "metadata": {},
   "outputs": [
    {
     "output_type": "stream",
     "name": "stdout",
     "text": [
      "Training set for yelp is 750\nTesting set for yelp is 250\nAccuracy score for yelp is 0.796\n=====================\nFeature Vector for yelp is 1714\n=====================\nTraining set for amazon is 750\nTesting set for amazon is 250\nAccuracy score for amazon is 0.796\n=====================\nFeature Vector for amazon is 1546\n=====================\nTraining set for imdb is 561\nTesting set for imdb is 187\nAccuracy score for imdb is 0.7486631016042781\n=====================\nFeature Vector for imdb is 2505\n=====================\n"
     ]
    }
   ],
   "source": [
    "# Now let us see how the model performs on the other data sets we have\n",
    "for source in data['source'].unique():\n",
    "    df_source = data[data['source']==source]\n",
    "    sentences = df_source['sentence'].values\n",
    "    y = df_source['label'].values\n",
    "\n",
    "    # split the data into training and test set\n",
    "    sentences_train,sentences_test,y_train,y_test = train_test_split(sentences,y,test_size=0.25, random_state=1000)\n",
    "    vectorizer = CountVectorizer()\n",
    "    vectorizer.fit(sentences_train) # vocabulary using only the training data\n",
    "\n",
    "    X_train = vectorizer.transform(sentences_train)\n",
    "    X_test = vectorizer.transform(sentences_test)    \n",
    "\n",
    "    classifier = LogisticRegression()\n",
    "    classifier.fit(X_train, y_train)\n",
    "\n",
    "    score = classifier.score(X_test, y_test)\n",
    "    \n",
    "    print(\"Training set for {} is {}\".format(source, len(sentences_train)))\n",
    "    print(\"Testing set for {} is {}\".format(source, len(sentences_test)))\n",
    "    print(\"Accuracy score for {} is {}\".format(source,score))\n",
    "    print(\"=====================\")\n",
    "\n",
    "    print(\"Feature Vector for {} is {}\".format(source, X_train.shape[1]))\n",
    "    print(\"=====================\")"
   ]
  },
  {
   "cell_type": "code",
   "execution_count": 3,
   "metadata": {},
   "outputs": [
    {
     "output_type": "execute_result",
     "data": {
      "text/plain": [
       "'\\nwriting a classifier to classify topics\\nUsing the reuters dataset from keras dataset for that\\n'"
      ]
     },
     "metadata": {},
     "execution_count": 3
    }
   ],
   "source": [
    "'''\n",
    "# writing a classifier to classify topics\n",
    "# Using the reuters dataset from keras dataset for that\n",
    "'''\n"
   ]
  },
  {
   "cell_type": "code",
   "execution_count": 38,
   "metadata": {},
   "outputs": [],
   "source": [
    "from keras.models import Sequential\n",
    "from keras import layers\n",
    "\n",
    "input_dim = X_train.shape[1] # Number of features\n",
    "\n",
    "model = Sequential()\n",
    "model.add(layers.Dense(10, input_dim=input_dim, activation='relu'))\n",
    "model.add(layers.Dense(1, activation='sigmoid'))"
   ]
  },
  {
   "cell_type": "code",
   "execution_count": 39,
   "metadata": {},
   "outputs": [
    {
     "output_type": "stream",
     "name": "stdout",
     "text": [
      "Model: \"sequential\"\n_________________________________________________________________\nLayer (type)                 Output Shape              Param #   \n=================================================================\ndense (Dense)                (None, 10)                25060     \n_________________________________________________________________\ndense_1 (Dense)              (None, 1)                 11        \n=================================================================\nTotal params: 25,071\nTrainable params: 25,071\nNon-trainable params: 0\n_________________________________________________________________\n"
     ]
    }
   ],
   "source": [
    "# Configure the learning process\n",
    "# This .compile method specifies the optimizer and the loss function\n",
    "model.compile(loss='binary_crossentropy',\n",
    "               optimizer='adam',\n",
    "               metrics=['accuracy'])\n",
    "model.summary()"
   ]
  },
  {
   "cell_type": "code",
   "execution_count": 42,
   "metadata": {},
   "outputs": [
    {
     "output_type": "stream",
     "name": "stdout",
     "text": [
      "Epoch 1/100\n",
      "57/57 [==============================] - 3s 57ms/step - loss: 0.6931 - accuracy: 0.5615 - val_loss: 0.7064 - val_accuracy: 0.5936\n",
      "Epoch 2/100\n",
      "57/57 [==============================] - 3s 53ms/step - loss: 0.6447 - accuracy: 0.8253 - val_loss: 0.6744 - val_accuracy: 0.6845\n",
      "Epoch 3/100\n",
      "57/57 [==============================] - 3s 57ms/step - loss: 0.5791 - accuracy: 0.9037 - val_loss: 0.6664 - val_accuracy: 0.6952\n",
      "Epoch 4/100\n",
      "57/57 [==============================] - 3s 51ms/step - loss: 0.4867 - accuracy: 0.9483 - val_loss: 0.6092 - val_accuracy: 0.7166\n",
      "Epoch 5/100\n",
      "57/57 [==============================] - 3s 46ms/step - loss: 0.3936 - accuracy: 0.9590 - val_loss: 0.6077 - val_accuracy: 0.7326\n",
      "Epoch 6/100\n",
      "57/57 [==============================] - 3s 50ms/step - loss: 0.3142 - accuracy: 0.9733 - val_loss: 0.5443 - val_accuracy: 0.7540\n",
      "Epoch 7/100\n",
      "57/57 [==============================] - 3s 50ms/step - loss: 0.2532 - accuracy: 0.9786 - val_loss: 0.5585 - val_accuracy: 0.7487\n",
      "Epoch 8/100\n",
      "57/57 [==============================] - 3s 45ms/step - loss: 0.2066 - accuracy: 0.9822 - val_loss: 0.5140 - val_accuracy: 0.7594\n",
      "Epoch 9/100\n",
      "57/57 [==============================] - 3s 48ms/step - loss: 0.1712 - accuracy: 0.9857 - val_loss: 0.5175 - val_accuracy: 0.7647\n",
      "Epoch 10/100\n",
      "57/57 [==============================] - 3s 49ms/step - loss: 0.1439 - accuracy: 0.9911 - val_loss: 0.5060 - val_accuracy: 0.7861\n",
      "Epoch 11/100\n",
      "57/57 [==============================] - 3s 52ms/step - loss: 0.1225 - accuracy: 0.9964 - val_loss: 0.5028 - val_accuracy: 0.8021\n",
      "Epoch 12/100\n",
      "57/57 [==============================] - 3s 48ms/step - loss: 0.1049 - accuracy: 0.9964 - val_loss: 0.5208 - val_accuracy: 0.8021\n",
      "Epoch 13/100\n",
      "57/57 [==============================] - 3s 46ms/step - loss: 0.0907 - accuracy: 0.9964 - val_loss: 0.5068 - val_accuracy: 0.8182\n",
      "Epoch 14/100\n",
      "57/57 [==============================] - 3s 48ms/step - loss: 0.0792 - accuracy: 0.9982 - val_loss: 0.5231 - val_accuracy: 0.8182\n",
      "Epoch 15/100\n",
      "57/57 [==============================] - 3s 54ms/step - loss: 0.0696 - accuracy: 0.9982 - val_loss: 0.4870 - val_accuracy: 0.8182\n",
      "Epoch 16/100\n",
      "57/57 [==============================] - 3s 47ms/step - loss: 0.0616 - accuracy: 0.9982 - val_loss: 0.5065 - val_accuracy: 0.8235\n",
      "Epoch 17/100\n",
      "57/57 [==============================] - 3s 45ms/step - loss: 0.0548 - accuracy: 0.9982 - val_loss: 0.5118 - val_accuracy: 0.8235\n",
      "Epoch 18/100\n",
      "57/57 [==============================] - 3s 47ms/step - loss: 0.0489 - accuracy: 0.9982 - val_loss: 0.5300 - val_accuracy: 0.8182\n",
      "Epoch 19/100\n",
      "57/57 [==============================] - 3s 49ms/step - loss: 0.0439 - accuracy: 0.9982 - val_loss: 0.5378 - val_accuracy: 0.8182\n",
      "Epoch 20/100\n",
      "57/57 [==============================] - 3s 49ms/step - loss: 0.0397 - accuracy: 0.9982 - val_loss: 0.5235 - val_accuracy: 0.8182\n",
      "Epoch 21/100\n",
      "57/57 [==============================] - 3s 50ms/step - loss: 0.0359 - accuracy: 0.9982 - val_loss: 0.5391 - val_accuracy: 0.8182\n",
      "Epoch 22/100\n",
      "57/57 [==============================] - 3s 59ms/step - loss: 0.0328 - accuracy: 0.9982 - val_loss: 0.5424 - val_accuracy: 0.8075\n",
      "Epoch 23/100\n",
      "57/57 [==============================] - 3s 53ms/step - loss: 0.0299 - accuracy: 0.9982 - val_loss: 0.5498 - val_accuracy: 0.8075\n",
      "Epoch 24/100\n",
      "57/57 [==============================] - 3s 57ms/step - loss: 0.0274 - accuracy: 0.9982 - val_loss: 0.5473 - val_accuracy: 0.8021\n",
      "Epoch 25/100\n",
      "57/57 [==============================] - 3s 58ms/step - loss: 0.0251 - accuracy: 0.9982 - val_loss: 0.5591 - val_accuracy: 0.7968\n",
      "Epoch 26/100\n",
      "57/57 [==============================] - 3s 55ms/step - loss: 0.0232 - accuracy: 0.9982 - val_loss: 0.5725 - val_accuracy: 0.7968\n",
      "Epoch 27/100\n",
      "57/57 [==============================] - 3s 48ms/step - loss: 0.0214 - accuracy: 0.9982 - val_loss: 0.5747 - val_accuracy: 0.7914\n",
      "Epoch 28/100\n",
      "57/57 [==============================] - 3s 48ms/step - loss: 0.0197 - accuracy: 0.9982 - val_loss: 0.5706 - val_accuracy: 0.7968\n",
      "Epoch 29/100\n",
      "57/57 [==============================] - 3s 60ms/step - loss: 0.0182 - accuracy: 0.9982 - val_loss: 0.5864 - val_accuracy: 0.7968\n",
      "Epoch 30/100\n",
      "57/57 [==============================] - 3s 56ms/step - loss: 0.0169 - accuracy: 0.9982 - val_loss: 0.5891 - val_accuracy: 0.7968\n",
      "Epoch 31/100\n",
      "57/57 [==============================] - 3s 51ms/step - loss: 0.0157 - accuracy: 0.9982 - val_loss: 0.6013 - val_accuracy: 0.7968\n",
      "Epoch 32/100\n",
      "57/57 [==============================] - 3s 52ms/step - loss: 0.0147 - accuracy: 0.9982 - val_loss: 0.6109 - val_accuracy: 0.7914\n",
      "Epoch 33/100\n",
      "57/57 [==============================] - 3s 47ms/step - loss: 0.0137 - accuracy: 0.9982 - val_loss: 0.6165 - val_accuracy: 0.7914\n",
      "Epoch 34/100\n",
      "57/57 [==============================] - 3s 49ms/step - loss: 0.0128 - accuracy: 0.9982 - val_loss: 0.6256 - val_accuracy: 0.7914\n",
      "Epoch 35/100\n",
      "57/57 [==============================] - 3s 50ms/step - loss: 0.0120 - accuracy: 0.9982 - val_loss: 0.6151 - val_accuracy: 0.7914\n",
      "Epoch 36/100\n",
      "57/57 [==============================] - 3s 54ms/step - loss: 0.0112 - accuracy: 0.9982 - val_loss: 0.6261 - val_accuracy: 0.7861\n",
      "Epoch 37/100\n",
      "57/57 [==============================] - 3s 49ms/step - loss: 0.0105 - accuracy: 0.9982 - val_loss: 0.6302 - val_accuracy: 0.7861\n",
      "Epoch 38/100\n",
      "57/57 [==============================] - 3s 50ms/step - loss: 0.0099 - accuracy: 1.0000 - val_loss: 0.6521 - val_accuracy: 0.7914\n",
      "Epoch 39/100\n",
      "57/57 [==============================] - 3s 50ms/step - loss: 0.0093 - accuracy: 1.0000 - val_loss: 0.6553 - val_accuracy: 0.7914\n",
      "Epoch 40/100\n",
      "57/57 [==============================] - 3s 47ms/step - loss: 0.0088 - accuracy: 1.0000 - val_loss: 0.6730 - val_accuracy: 0.7861\n",
      "Epoch 41/100\n",
      "57/57 [==============================] - 3s 54ms/step - loss: 0.0083 - accuracy: 1.0000 - val_loss: 0.6775 - val_accuracy: 0.7861\n",
      "Epoch 42/100\n",
      "57/57 [==============================] - 3s 49ms/step - loss: 0.0079 - accuracy: 1.0000 - val_loss: 0.6822 - val_accuracy: 0.7861\n",
      "Epoch 43/100\n",
      "57/57 [==============================] - 3s 58ms/step - loss: 0.0075 - accuracy: 1.0000 - val_loss: 0.6848 - val_accuracy: 0.7861\n",
      "Epoch 44/100\n",
      "57/57 [==============================] - 3s 60ms/step - loss: 0.0071 - accuracy: 1.0000 - val_loss: 0.6880 - val_accuracy: 0.7861\n",
      "Epoch 45/100\n",
      "57/57 [==============================] - 3s 60ms/step - loss: 0.0067 - accuracy: 1.0000 - val_loss: 0.6937 - val_accuracy: 0.7861\n",
      "Epoch 46/100\n",
      "57/57 [==============================] - 3s 49ms/step - loss: 0.0064 - accuracy: 1.0000 - val_loss: 0.6963 - val_accuracy: 0.7807\n",
      "Epoch 47/100\n",
      "57/57 [==============================] - 3s 54ms/step - loss: 0.0061 - accuracy: 1.0000 - val_loss: 0.7013 - val_accuracy: 0.7807\n",
      "Epoch 48/100\n",
      "57/57 [==============================] - 3s 55ms/step - loss: 0.0058 - accuracy: 1.0000 - val_loss: 0.7250 - val_accuracy: 0.7861\n",
      "Epoch 49/100\n",
      "57/57 [==============================] - 3s 53ms/step - loss: 0.0056 - accuracy: 1.0000 - val_loss: 0.7289 - val_accuracy: 0.7861\n",
      "Epoch 50/100\n",
      "57/57 [==============================] - 3s 57ms/step - loss: 0.0053 - accuracy: 1.0000 - val_loss: 0.7456 - val_accuracy: 0.7861\n",
      "Epoch 51/100\n",
      "57/57 [==============================] - 3s 50ms/step - loss: 0.0051 - accuracy: 1.0000 - val_loss: 0.7456 - val_accuracy: 0.7861\n",
      "Epoch 52/100\n",
      "57/57 [==============================] - 3s 61ms/step - loss: 0.0049 - accuracy: 1.0000 - val_loss: 0.7458 - val_accuracy: 0.7861\n",
      "Epoch 53/100\n",
      "57/57 [==============================] - 3s 49ms/step - loss: 0.0047 - accuracy: 1.0000 - val_loss: 0.7559 - val_accuracy: 0.7861\n",
      "Epoch 54/100\n",
      "57/57 [==============================] - 3s 55ms/step - loss: 0.0045 - accuracy: 1.0000 - val_loss: 0.7623 - val_accuracy: 0.7861\n",
      "Epoch 55/100\n",
      "57/57 [==============================] - 3s 46ms/step - loss: 0.0044 - accuracy: 1.0000 - val_loss: 0.7651 - val_accuracy: 0.7861\n",
      "Epoch 56/100\n",
      "57/57 [==============================] - 3s 52ms/step - loss: 0.0042 - accuracy: 1.0000 - val_loss: 0.7726 - val_accuracy: 0.7861\n",
      "Epoch 57/100\n",
      "57/57 [==============================] - 3s 54ms/step - loss: 0.0040 - accuracy: 1.0000 - val_loss: 0.7781 - val_accuracy: 0.7861\n",
      "Epoch 58/100\n",
      "57/57 [==============================] - 3s 56ms/step - loss: 0.0039 - accuracy: 1.0000 - val_loss: 0.7852 - val_accuracy: 0.7861\n",
      "Epoch 59/100\n",
      "57/57 [==============================] - 3s 56ms/step - loss: 0.0038 - accuracy: 1.0000 - val_loss: 0.7899 - val_accuracy: 0.7861\n",
      "Epoch 60/100\n",
      "57/57 [==============================] - 3s 52ms/step - loss: 0.0036 - accuracy: 1.0000 - val_loss: 0.7900 - val_accuracy: 0.7861\n",
      "Epoch 61/100\n",
      "57/57 [==============================] - 2s 43ms/step - loss: 0.0035 - accuracy: 1.0000 - val_loss: 0.7933 - val_accuracy: 0.7861\n",
      "Epoch 62/100\n",
      "57/57 [==============================] - 3s 56ms/step - loss: 0.0034 - accuracy: 1.0000 - val_loss: 0.7964 - val_accuracy: 0.7861\n",
      "Epoch 63/100\n",
      "57/57 [==============================] - 3s 52ms/step - loss: 0.0033 - accuracy: 1.0000 - val_loss: 0.8063 - val_accuracy: 0.7861\n",
      "Epoch 64/100\n",
      "57/57 [==============================] - 3s 57ms/step - loss: 0.0032 - accuracy: 1.0000 - val_loss: 0.8145 - val_accuracy: 0.7861\n",
      "Epoch 65/100\n",
      "57/57 [==============================] - 3s 52ms/step - loss: 0.0031 - accuracy: 1.0000 - val_loss: 0.8133 - val_accuracy: 0.7861\n",
      "Epoch 66/100\n",
      "57/57 [==============================] - 3s 54ms/step - loss: 0.0030 - accuracy: 1.0000 - val_loss: 0.8167 - val_accuracy: 0.7861\n",
      "Epoch 67/100\n",
      "57/57 [==============================] - 3s 54ms/step - loss: 0.0029 - accuracy: 1.0000 - val_loss: 0.8214 - val_accuracy: 0.7861\n",
      "Epoch 68/100\n",
      "57/57 [==============================] - 3s 45ms/step - loss: 0.0028 - accuracy: 1.0000 - val_loss: 0.8240 - val_accuracy: 0.7861\n",
      "Epoch 69/100\n",
      "57/57 [==============================] - 3s 46ms/step - loss: 0.0028 - accuracy: 1.0000 - val_loss: 0.8297 - val_accuracy: 0.7861\n",
      "Epoch 70/100\n",
      "57/57 [==============================] - 3s 53ms/step - loss: 0.0027 - accuracy: 1.0000 - val_loss: 0.8290 - val_accuracy: 0.7861\n",
      "Epoch 71/100\n",
      "57/57 [==============================] - 3s 46ms/step - loss: 0.0026 - accuracy: 1.0000 - val_loss: 0.8367 - val_accuracy: 0.7861\n",
      "Epoch 72/100\n",
      "57/57 [==============================] - 3s 50ms/step - loss: 0.0025 - accuracy: 1.0000 - val_loss: 0.8402 - val_accuracy: 0.7861\n",
      "Epoch 73/100\n",
      "57/57 [==============================] - 3s 58ms/step - loss: 0.0025 - accuracy: 1.0000 - val_loss: 0.8491 - val_accuracy: 0.7861\n",
      "Epoch 74/100\n",
      "57/57 [==============================] - 3s 53ms/step - loss: 0.0024 - accuracy: 1.0000 - val_loss: 0.8582 - val_accuracy: 0.7861\n",
      "Epoch 75/100\n",
      "57/57 [==============================] - 3s 49ms/step - loss: 0.0024 - accuracy: 1.0000 - val_loss: 0.8751 - val_accuracy: 0.7861\n",
      "Epoch 76/100\n",
      "57/57 [==============================] - 3s 48ms/step - loss: 0.0023 - accuracy: 1.0000 - val_loss: 0.8676 - val_accuracy: 0.7861\n",
      "Epoch 77/100\n",
      "57/57 [==============================] - 3s 55ms/step - loss: 0.0022 - accuracy: 1.0000 - val_loss: 0.8693 - val_accuracy: 0.7861\n",
      "Epoch 78/100\n",
      "57/57 [==============================] - 3s 55ms/step - loss: 0.0022 - accuracy: 1.0000 - val_loss: 0.8796 - val_accuracy: 0.7861\n",
      "Epoch 79/100\n",
      "57/57 [==============================] - 3s 52ms/step - loss: 0.0022 - accuracy: 1.0000 - val_loss: 0.8754 - val_accuracy: 0.7861\n",
      "Epoch 80/100\n",
      "57/57 [==============================] - 3s 59ms/step - loss: 0.0021 - accuracy: 1.0000 - val_loss: 0.8853 - val_accuracy: 0.7861\n",
      "Epoch 81/100\n",
      "57/57 [==============================] - 3s 51ms/step - loss: 0.0021 - accuracy: 1.0000 - val_loss: 0.8874 - val_accuracy: 0.7861\n",
      "Epoch 82/100\n",
      "57/57 [==============================] - 3s 48ms/step - loss: 0.0020 - accuracy: 1.0000 - val_loss: 0.8922 - val_accuracy: 0.7861\n",
      "Epoch 83/100\n",
      "57/57 [==============================] - 3s 52ms/step - loss: 0.0020 - accuracy: 1.0000 - val_loss: 0.8946 - val_accuracy: 0.7861\n",
      "Epoch 84/100\n",
      "57/57 [==============================] - 3s 44ms/step - loss: 0.0019 - accuracy: 1.0000 - val_loss: 0.8996 - val_accuracy: 0.7807\n",
      "Epoch 85/100\n",
      "57/57 [==============================] - 3s 53ms/step - loss: 0.0019 - accuracy: 1.0000 - val_loss: 0.8962 - val_accuracy: 0.7807\n",
      "Epoch 86/100\n",
      "57/57 [==============================] - 3s 51ms/step - loss: 0.0019 - accuracy: 1.0000 - val_loss: 0.9011 - val_accuracy: 0.7807\n",
      "Epoch 87/100\n",
      "57/57 [==============================] - 3s 54ms/step - loss: 0.0018 - accuracy: 1.0000 - val_loss: 0.9022 - val_accuracy: 0.7807\n",
      "Epoch 88/100\n",
      "57/57 [==============================] - 3s 48ms/step - loss: 0.0018 - accuracy: 1.0000 - val_loss: 0.9081 - val_accuracy: 0.7807\n",
      "Epoch 89/100\n",
      "57/57 [==============================] - 3s 46ms/step - loss: 0.0018 - accuracy: 1.0000 - val_loss: 0.9118 - val_accuracy: 0.7807\n",
      "Epoch 90/100\n",
      "57/57 [==============================] - 3s 51ms/step - loss: 0.0017 - accuracy: 1.0000 - val_loss: 0.9201 - val_accuracy: 0.7807\n",
      "Epoch 91/100\n",
      "57/57 [==============================] - 2s 43ms/step - loss: 0.0017 - accuracy: 1.0000 - val_loss: 0.9201 - val_accuracy: 0.7807\n",
      "Epoch 92/100\n",
      "57/57 [==============================] - 2s 42ms/step - loss: 0.0017 - accuracy: 1.0000 - val_loss: 0.9327 - val_accuracy: 0.7807\n",
      "Epoch 93/100\n",
      "57/57 [==============================] - 3s 45ms/step - loss: 0.0016 - accuracy: 1.0000 - val_loss: 0.9328 - val_accuracy: 0.7807\n",
      "Epoch 94/100\n",
      "57/57 [==============================] - 3s 49ms/step - loss: 0.0016 - accuracy: 1.0000 - val_loss: 0.9466 - val_accuracy: 0.7807\n",
      "Epoch 95/100\n",
      "57/57 [==============================] - 3s 46ms/step - loss: 0.0016 - accuracy: 1.0000 - val_loss: 0.9507 - val_accuracy: 0.7861\n",
      "Epoch 96/100\n",
      "57/57 [==============================] - 2s 42ms/step - loss: 0.0016 - accuracy: 1.0000 - val_loss: 0.9527 - val_accuracy: 0.7861\n",
      "Epoch 97/100\n",
      "57/57 [==============================] - 3s 49ms/step - loss: 0.0015 - accuracy: 1.0000 - val_loss: 0.9636 - val_accuracy: 0.7807\n",
      "Epoch 98/100\n",
      "57/57 [==============================] - 3s 55ms/step - loss: 0.0015 - accuracy: 1.0000 - val_loss: 0.9701 - val_accuracy: 0.7807\n",
      "Epoch 99/100\n",
      "57/57 [==============================] - 3s 49ms/step - loss: 0.0015 - accuracy: 1.0000 - val_loss: 0.9665 - val_accuracy: 0.7807\n",
      "Epoch 100/100\n",
      "57/57 [==============================] - 3s 51ms/step - loss: 0.0015 - accuracy: 1.0000 - val_loss: 0.9658 - val_accuracy: 0.7807\n"
     ]
    }
   ],
   "source": [
    "# Training the model with .fit function\n",
    "# Each completed iterations are commonly called epochs\n",
    "# batch size is responsible for how many samples we want to use in one epoch\n",
    "history = model.fit(X_train, y_train,\n",
    "                    epochs = 20,\n",
    "                    verbose=True,\n",
    "                    validation_data=(X_test,y_test),\n",
    "                    batch_size=10)"
   ]
  },
  {
   "cell_type": "code",
   "execution_count": 43,
   "metadata": {},
   "outputs": [],
   "source": [
    "# rerunning the .fit method will start off with the computed weights from the previous training\n",
    "from keras.backend import clear_session\n",
    "clear_session()"
   ]
  },
  {
   "cell_type": "code",
   "execution_count": 44,
   "metadata": {},
   "outputs": [
    {
     "output_type": "stream",
     "name": "stdout",
     "text": [
      "18/18 [==============================] - 0s 14ms/step - loss: 0.0015 - accuracy: 1.0000\n",
      "Training Accuracy: 1.0000\n",
      "6/6 [==============================] - 0s 17ms/step - loss: 0.9658 - accuracy: 0.7807\n",
      "Testing Accuracy: 0.7807\n"
     ]
    }
   ],
   "source": [
    "# Evaluate the accuracy of the model\n",
    "loss, accuracy = model.evaluate(X_train, y_train, verbose=True)\n",
    "print(\"Training Accuracy: {:.4f}\".format(accuracy))\n",
    "\n",
    "loss, accuracy = model.evaluate(X_test, y_test, verbose=True)\n",
    "print(\"Testing Accuracy: {:.4f}\".format(accuracy))"
   ]
  },
  {
   "cell_type": "code",
   "execution_count": 52,
   "metadata": {},
   "outputs": [],
   "source": [
    "import matplotlib.pyplot as plt\n",
    "plt.style.use('ggplot')\n",
    "\n",
    "def plot_history(history):\n",
    "    acc = history.history['accuracy']\n",
    "    val_acc = history.history['val_accuracy']\n",
    "    loss = history.history['loss']\n",
    "    val_loss = history.history['val_loss']\n",
    "    x = range(1, len(acc) + 1)\n",
    "\n",
    "    plt.figure(figsize=(12, 5))\n",
    "    plt.subplot(1, 2, 1)\n",
    "    plt.plot(x, acc, 'b', label='Training acc')\n",
    "    plt.plot(x, val_acc, 'r', label='Validation acc')\n",
    "    plt.title('Training and validation accuracy')\n",
    "    plt.legend()\n",
    "    plt.subplot(1, 2, 2)\n",
    "    plt.plot(x, loss, 'b', label='Training loss')\n",
    "    plt.plot(x, val_loss, 'r', label='Validation loss')\n",
    "    plt.title('Training and validation loss')\n",
    "    plt.legend()"
   ]
  },
  {
   "cell_type": "code",
   "execution_count": 53,
   "metadata": {},
   "outputs": [
    {
     "output_type": "display_data",
     "data": {
      "text/plain": "<Figure size 864x360 with 2 Axes>",
      "image/svg+xml": "<?xml version=\"1.0\" encoding=\"utf-8\" standalone=\"no\"?>\n<!DOCTYPE svg PUBLIC \"-//W3C//DTD SVG 1.1//EN\"\n  \"http://www.w3.org/Graphics/SVG/1.1/DTD/svg11.dtd\">\n<!-- Created with matplotlib (https://matplotlib.org/) -->\n<svg height=\"319.819875pt\" version=\"1.1\" viewBox=\"0 0 706.903125 319.819875\" width=\"706.903125pt\" xmlns=\"http://www.w3.org/2000/svg\" xmlns:xlink=\"http://www.w3.org/1999/xlink\">\n <metadata>\n  <rdf:RDF xmlns:cc=\"http://creativecommons.org/ns#\" xmlns:dc=\"http://purl.org/dc/elements/1.1/\" xmlns:rdf=\"http://www.w3.org/1999/02/22-rdf-syntax-ns#\">\n   <cc:Work>\n    <dc:type rdf:resource=\"http://purl.org/dc/dcmitype/StillImage\"/>\n    <dc:date>2021-05-20T21:31:20.861323</dc:date>\n    <dc:format>image/svg+xml</dc:format>\n    <dc:creator>\n     <cc:Agent>\n      <dc:title>Matplotlib v3.3.2, https://matplotlib.org/</dc:title>\n     </cc:Agent>\n    </dc:creator>\n   </cc:Work>\n  </rdf:RDF>\n </metadata>\n <defs>\n  <style type=\"text/css\">*{stroke-linecap:butt;stroke-linejoin:round;}</style>\n </defs>\n <g id=\"figure_1\">\n  <g id=\"patch_1\">\n   <path d=\"M 0 319.819875 \nL 706.903125 319.819875 \nL 706.903125 0 \nL 0 0 \nz\n\" style=\"fill:#ffffff;\"/>\n  </g>\n  <g id=\"axes_1\">\n   <g id=\"patch_2\">\n    <path d=\"M 30.103125 295.94175 \nL 334.466761 295.94175 \nL 334.466761 24.14175 \nL 30.103125 24.14175 \nz\n\" style=\"fill:#e5e5e5;\"/>\n   </g>\n   <g id=\"matplotlib.axis_1\">\n    <g id=\"xtick_1\">\n     <g id=\"line2d_1\">\n      <path clip-path=\"url(#p2545f8f627)\" d=\"M 41.142945 295.94175 \nL 41.142945 24.14175 \n\" style=\"fill:none;stroke:#ffffff;stroke-linecap:square;stroke-width:0.8;\"/>\n     </g>\n     <g id=\"line2d_2\">\n      <defs>\n       <path d=\"M 0 0 \nL 0 3.5 \n\" id=\"mc39443c17a\" style=\"stroke:#555555;stroke-width:0.8;\"/>\n      </defs>\n      <g>\n       <use style=\"fill:#555555;stroke:#555555;stroke-width:0.8;\" x=\"41.142945\" xlink:href=\"#mc39443c17a\" y=\"295.94175\"/>\n      </g>\n     </g>\n     <g id=\"text_1\">\n      <!-- 0 -->\n      <g style=\"fill:#555555;\" transform=\"translate(37.961695 310.540188)scale(0.1 -0.1)\">\n       <defs>\n        <path d=\"M 31.78125 66.40625 \nQ 24.171875 66.40625 20.328125 58.90625 \nQ 16.5 51.421875 16.5 36.375 \nQ 16.5 21.390625 20.328125 13.890625 \nQ 24.171875 6.390625 31.78125 6.390625 \nQ 39.453125 6.390625 43.28125 13.890625 \nQ 47.125 21.390625 47.125 36.375 \nQ 47.125 51.421875 43.28125 58.90625 \nQ 39.453125 66.40625 31.78125 66.40625 \nz\nM 31.78125 74.21875 \nQ 44.046875 74.21875 50.515625 64.515625 \nQ 56.984375 54.828125 56.984375 36.375 \nQ 56.984375 17.96875 50.515625 8.265625 \nQ 44.046875 -1.421875 31.78125 -1.421875 \nQ 19.53125 -1.421875 13.0625 8.265625 \nQ 6.59375 17.96875 6.59375 36.375 \nQ 6.59375 54.828125 13.0625 64.515625 \nQ 19.53125 74.21875 31.78125 74.21875 \nz\n\" id=\"DejaVuSans-48\"/>\n       </defs>\n       <use xlink:href=\"#DejaVuSans-48\"/>\n      </g>\n     </g>\n    </g>\n    <g id=\"xtick_2\">\n     <g id=\"line2d_3\">\n      <path clip-path=\"url(#p2545f8f627)\" d=\"M 97.040766 295.94175 \nL 97.040766 24.14175 \n\" style=\"fill:none;stroke:#ffffff;stroke-linecap:square;stroke-width:0.8;\"/>\n     </g>\n     <g id=\"line2d_4\">\n      <g>\n       <use style=\"fill:#555555;stroke:#555555;stroke-width:0.8;\" x=\"97.040766\" xlink:href=\"#mc39443c17a\" y=\"295.94175\"/>\n      </g>\n     </g>\n     <g id=\"text_2\">\n      <!-- 20 -->\n      <g style=\"fill:#555555;\" transform=\"translate(90.678266 310.540188)scale(0.1 -0.1)\">\n       <defs>\n        <path d=\"M 19.1875 8.296875 \nL 53.609375 8.296875 \nL 53.609375 0 \nL 7.328125 0 \nL 7.328125 8.296875 \nQ 12.9375 14.109375 22.625 23.890625 \nQ 32.328125 33.6875 34.8125 36.53125 \nQ 39.546875 41.84375 41.421875 45.53125 \nQ 43.3125 49.21875 43.3125 52.78125 \nQ 43.3125 58.59375 39.234375 62.25 \nQ 35.15625 65.921875 28.609375 65.921875 \nQ 23.96875 65.921875 18.8125 64.3125 \nQ 13.671875 62.703125 7.8125 59.421875 \nL 7.8125 69.390625 \nQ 13.765625 71.78125 18.9375 73 \nQ 24.125 74.21875 28.421875 74.21875 \nQ 39.75 74.21875 46.484375 68.546875 \nQ 53.21875 62.890625 53.21875 53.421875 \nQ 53.21875 48.921875 51.53125 44.890625 \nQ 49.859375 40.875 45.40625 35.40625 \nQ 44.1875 33.984375 37.640625 27.21875 \nQ 31.109375 20.453125 19.1875 8.296875 \nz\n\" id=\"DejaVuSans-50\"/>\n       </defs>\n       <use xlink:href=\"#DejaVuSans-50\"/>\n       <use x=\"63.623047\" xlink:href=\"#DejaVuSans-48\"/>\n      </g>\n     </g>\n    </g>\n    <g id=\"xtick_3\">\n     <g id=\"line2d_5\">\n      <path clip-path=\"url(#p2545f8f627)\" d=\"M 152.938587 295.94175 \nL 152.938587 24.14175 \n\" style=\"fill:none;stroke:#ffffff;stroke-linecap:square;stroke-width:0.8;\"/>\n     </g>\n     <g id=\"line2d_6\">\n      <g>\n       <use style=\"fill:#555555;stroke:#555555;stroke-width:0.8;\" x=\"152.938587\" xlink:href=\"#mc39443c17a\" y=\"295.94175\"/>\n      </g>\n     </g>\n     <g id=\"text_3\">\n      <!-- 40 -->\n      <g style=\"fill:#555555;\" transform=\"translate(146.576087 310.540188)scale(0.1 -0.1)\">\n       <defs>\n        <path d=\"M 37.796875 64.3125 \nL 12.890625 25.390625 \nL 37.796875 25.390625 \nz\nM 35.203125 72.90625 \nL 47.609375 72.90625 \nL 47.609375 25.390625 \nL 58.015625 25.390625 \nL 58.015625 17.1875 \nL 47.609375 17.1875 \nL 47.609375 0 \nL 37.796875 0 \nL 37.796875 17.1875 \nL 4.890625 17.1875 \nL 4.890625 26.703125 \nz\n\" id=\"DejaVuSans-52\"/>\n       </defs>\n       <use xlink:href=\"#DejaVuSans-52\"/>\n       <use x=\"63.623047\" xlink:href=\"#DejaVuSans-48\"/>\n      </g>\n     </g>\n    </g>\n    <g id=\"xtick_4\">\n     <g id=\"line2d_7\">\n      <path clip-path=\"url(#p2545f8f627)\" d=\"M 208.836408 295.94175 \nL 208.836408 24.14175 \n\" style=\"fill:none;stroke:#ffffff;stroke-linecap:square;stroke-width:0.8;\"/>\n     </g>\n     <g id=\"line2d_8\">\n      <g>\n       <use style=\"fill:#555555;stroke:#555555;stroke-width:0.8;\" x=\"208.836408\" xlink:href=\"#mc39443c17a\" y=\"295.94175\"/>\n      </g>\n     </g>\n     <g id=\"text_4\">\n      <!-- 60 -->\n      <g style=\"fill:#555555;\" transform=\"translate(202.473908 310.540188)scale(0.1 -0.1)\">\n       <defs>\n        <path d=\"M 33.015625 40.375 \nQ 26.375 40.375 22.484375 35.828125 \nQ 18.609375 31.296875 18.609375 23.390625 \nQ 18.609375 15.53125 22.484375 10.953125 \nQ 26.375 6.390625 33.015625 6.390625 \nQ 39.65625 6.390625 43.53125 10.953125 \nQ 47.40625 15.53125 47.40625 23.390625 \nQ 47.40625 31.296875 43.53125 35.828125 \nQ 39.65625 40.375 33.015625 40.375 \nz\nM 52.59375 71.296875 \nL 52.59375 62.3125 \nQ 48.875 64.0625 45.09375 64.984375 \nQ 41.3125 65.921875 37.59375 65.921875 \nQ 27.828125 65.921875 22.671875 59.328125 \nQ 17.53125 52.734375 16.796875 39.40625 \nQ 19.671875 43.65625 24.015625 45.921875 \nQ 28.375 48.1875 33.59375 48.1875 \nQ 44.578125 48.1875 50.953125 41.515625 \nQ 57.328125 34.859375 57.328125 23.390625 \nQ 57.328125 12.15625 50.6875 5.359375 \nQ 44.046875 -1.421875 33.015625 -1.421875 \nQ 20.359375 -1.421875 13.671875 8.265625 \nQ 6.984375 17.96875 6.984375 36.375 \nQ 6.984375 53.65625 15.1875 63.9375 \nQ 23.390625 74.21875 37.203125 74.21875 \nQ 40.921875 74.21875 44.703125 73.484375 \nQ 48.484375 72.75 52.59375 71.296875 \nz\n\" id=\"DejaVuSans-54\"/>\n       </defs>\n       <use xlink:href=\"#DejaVuSans-54\"/>\n       <use x=\"63.623047\" xlink:href=\"#DejaVuSans-48\"/>\n      </g>\n     </g>\n    </g>\n    <g id=\"xtick_5\">\n     <g id=\"line2d_9\">\n      <path clip-path=\"url(#p2545f8f627)\" d=\"M 264.734229 295.94175 \nL 264.734229 24.14175 \n\" style=\"fill:none;stroke:#ffffff;stroke-linecap:square;stroke-width:0.8;\"/>\n     </g>\n     <g id=\"line2d_10\">\n      <g>\n       <use style=\"fill:#555555;stroke:#555555;stroke-width:0.8;\" x=\"264.734229\" xlink:href=\"#mc39443c17a\" y=\"295.94175\"/>\n      </g>\n     </g>\n     <g id=\"text_5\">\n      <!-- 80 -->\n      <g style=\"fill:#555555;\" transform=\"translate(258.371729 310.540188)scale(0.1 -0.1)\">\n       <defs>\n        <path d=\"M 31.78125 34.625 \nQ 24.75 34.625 20.71875 30.859375 \nQ 16.703125 27.09375 16.703125 20.515625 \nQ 16.703125 13.921875 20.71875 10.15625 \nQ 24.75 6.390625 31.78125 6.390625 \nQ 38.8125 6.390625 42.859375 10.171875 \nQ 46.921875 13.96875 46.921875 20.515625 \nQ 46.921875 27.09375 42.890625 30.859375 \nQ 38.875 34.625 31.78125 34.625 \nz\nM 21.921875 38.8125 \nQ 15.578125 40.375 12.03125 44.71875 \nQ 8.5 49.078125 8.5 55.328125 \nQ 8.5 64.0625 14.71875 69.140625 \nQ 20.953125 74.21875 31.78125 74.21875 \nQ 42.671875 74.21875 48.875 69.140625 \nQ 55.078125 64.0625 55.078125 55.328125 \nQ 55.078125 49.078125 51.53125 44.71875 \nQ 48 40.375 41.703125 38.8125 \nQ 48.828125 37.15625 52.796875 32.3125 \nQ 56.78125 27.484375 56.78125 20.515625 \nQ 56.78125 9.90625 50.3125 4.234375 \nQ 43.84375 -1.421875 31.78125 -1.421875 \nQ 19.734375 -1.421875 13.25 4.234375 \nQ 6.78125 9.90625 6.78125 20.515625 \nQ 6.78125 27.484375 10.78125 32.3125 \nQ 14.796875 37.15625 21.921875 38.8125 \nz\nM 18.3125 54.390625 \nQ 18.3125 48.734375 21.84375 45.5625 \nQ 25.390625 42.390625 31.78125 42.390625 \nQ 38.140625 42.390625 41.71875 45.5625 \nQ 45.3125 48.734375 45.3125 54.390625 \nQ 45.3125 60.0625 41.71875 63.234375 \nQ 38.140625 66.40625 31.78125 66.40625 \nQ 25.390625 66.40625 21.84375 63.234375 \nQ 18.3125 60.0625 18.3125 54.390625 \nz\n\" id=\"DejaVuSans-56\"/>\n       </defs>\n       <use xlink:href=\"#DejaVuSans-56\"/>\n       <use x=\"63.623047\" xlink:href=\"#DejaVuSans-48\"/>\n      </g>\n     </g>\n    </g>\n    <g id=\"xtick_6\">\n     <g id=\"line2d_11\">\n      <path clip-path=\"url(#p2545f8f627)\" d=\"M 320.632051 295.94175 \nL 320.632051 24.14175 \n\" style=\"fill:none;stroke:#ffffff;stroke-linecap:square;stroke-width:0.8;\"/>\n     </g>\n     <g id=\"line2d_12\">\n      <g>\n       <use style=\"fill:#555555;stroke:#555555;stroke-width:0.8;\" x=\"320.632051\" xlink:href=\"#mc39443c17a\" y=\"295.94175\"/>\n      </g>\n     </g>\n     <g id=\"text_6\">\n      <!-- 100 -->\n      <g style=\"fill:#555555;\" transform=\"translate(311.088301 310.540188)scale(0.1 -0.1)\">\n       <defs>\n        <path d=\"M 12.40625 8.296875 \nL 28.515625 8.296875 \nL 28.515625 63.921875 \nL 10.984375 60.40625 \nL 10.984375 69.390625 \nL 28.421875 72.90625 \nL 38.28125 72.90625 \nL 38.28125 8.296875 \nL 54.390625 8.296875 \nL 54.390625 0 \nL 12.40625 0 \nz\n\" id=\"DejaVuSans-49\"/>\n       </defs>\n       <use xlink:href=\"#DejaVuSans-49\"/>\n       <use x=\"63.623047\" xlink:href=\"#DejaVuSans-48\"/>\n       <use x=\"127.246094\" xlink:href=\"#DejaVuSans-48\"/>\n      </g>\n     </g>\n    </g>\n   </g>\n   <g id=\"matplotlib.axis_2\">\n    <g id=\"ytick_1\">\n     <g id=\"line2d_13\">\n      <path clip-path=\"url(#p2545f8f627)\" d=\"M 30.103125 261.89142 \nL 334.466761 261.89142 \n\" style=\"fill:none;stroke:#ffffff;stroke-linecap:square;stroke-width:0.8;\"/>\n     </g>\n     <g id=\"line2d_14\">\n      <defs>\n       <path d=\"M 0 0 \nL -3.5 0 \n\" id=\"m7b3c27d964\" style=\"stroke:#555555;stroke-width:0.8;\"/>\n      </defs>\n      <g>\n       <use style=\"fill:#555555;stroke:#555555;stroke-width:0.8;\" x=\"30.103125\" xlink:href=\"#m7b3c27d964\" y=\"261.89142\"/>\n      </g>\n     </g>\n     <g id=\"text_7\">\n      <!-- 0.6 -->\n      <g style=\"fill:#555555;\" transform=\"translate(7.2 265.690638)scale(0.1 -0.1)\">\n       <defs>\n        <path d=\"M 10.6875 12.40625 \nL 21 12.40625 \nL 21 0 \nL 10.6875 0 \nz\n\" id=\"DejaVuSans-46\"/>\n       </defs>\n       <use xlink:href=\"#DejaVuSans-48\"/>\n       <use x=\"63.623047\" xlink:href=\"#DejaVuSans-46\"/>\n       <use x=\"95.410156\" xlink:href=\"#DejaVuSans-54\"/>\n      </g>\n     </g>\n    </g>\n    <g id=\"ytick_2\">\n     <g id=\"line2d_15\">\n      <path clip-path=\"url(#p2545f8f627)\" d=\"M 30.103125 205.542639 \nL 334.466761 205.542639 \n\" style=\"fill:none;stroke:#ffffff;stroke-linecap:square;stroke-width:0.8;\"/>\n     </g>\n     <g id=\"line2d_16\">\n      <g>\n       <use style=\"fill:#555555;stroke:#555555;stroke-width:0.8;\" x=\"30.103125\" xlink:href=\"#m7b3c27d964\" y=\"205.542639\"/>\n      </g>\n     </g>\n     <g id=\"text_8\">\n      <!-- 0.7 -->\n      <g style=\"fill:#555555;\" transform=\"translate(7.2 209.341857)scale(0.1 -0.1)\">\n       <defs>\n        <path d=\"M 8.203125 72.90625 \nL 55.078125 72.90625 \nL 55.078125 68.703125 \nL 28.609375 0 \nL 18.3125 0 \nL 43.21875 64.59375 \nL 8.203125 64.59375 \nz\n\" id=\"DejaVuSans-55\"/>\n       </defs>\n       <use xlink:href=\"#DejaVuSans-48\"/>\n       <use x=\"63.623047\" xlink:href=\"#DejaVuSans-46\"/>\n       <use x=\"95.410156\" xlink:href=\"#DejaVuSans-55\"/>\n      </g>\n     </g>\n    </g>\n    <g id=\"ytick_3\">\n     <g id=\"line2d_17\">\n      <path clip-path=\"url(#p2545f8f627)\" d=\"M 30.103125 149.193858 \nL 334.466761 149.193858 \n\" style=\"fill:none;stroke:#ffffff;stroke-linecap:square;stroke-width:0.8;\"/>\n     </g>\n     <g id=\"line2d_18\">\n      <g>\n       <use style=\"fill:#555555;stroke:#555555;stroke-width:0.8;\" x=\"30.103125\" xlink:href=\"#m7b3c27d964\" y=\"149.193858\"/>\n      </g>\n     </g>\n     <g id=\"text_9\">\n      <!-- 0.8 -->\n      <g style=\"fill:#555555;\" transform=\"translate(7.2 152.993076)scale(0.1 -0.1)\">\n       <use xlink:href=\"#DejaVuSans-48\"/>\n       <use x=\"63.623047\" xlink:href=\"#DejaVuSans-46\"/>\n       <use x=\"95.410156\" xlink:href=\"#DejaVuSans-56\"/>\n      </g>\n     </g>\n    </g>\n    <g id=\"ytick_4\">\n     <g id=\"line2d_19\">\n      <path clip-path=\"url(#p2545f8f627)\" d=\"M 30.103125 92.845077 \nL 334.466761 92.845077 \n\" style=\"fill:none;stroke:#ffffff;stroke-linecap:square;stroke-width:0.8;\"/>\n     </g>\n     <g id=\"line2d_20\">\n      <g>\n       <use style=\"fill:#555555;stroke:#555555;stroke-width:0.8;\" x=\"30.103125\" xlink:href=\"#m7b3c27d964\" y=\"92.845077\"/>\n      </g>\n     </g>\n     <g id=\"text_10\">\n      <!-- 0.9 -->\n      <g style=\"fill:#555555;\" transform=\"translate(7.2 96.644295)scale(0.1 -0.1)\">\n       <defs>\n        <path d=\"M 10.984375 1.515625 \nL 10.984375 10.5 \nQ 14.703125 8.734375 18.5 7.8125 \nQ 22.3125 6.890625 25.984375 6.890625 \nQ 35.75 6.890625 40.890625 13.453125 \nQ 46.046875 20.015625 46.78125 33.40625 \nQ 43.953125 29.203125 39.59375 26.953125 \nQ 35.25 24.703125 29.984375 24.703125 \nQ 19.046875 24.703125 12.671875 31.3125 \nQ 6.296875 37.9375 6.296875 49.421875 \nQ 6.296875 60.640625 12.9375 67.421875 \nQ 19.578125 74.21875 30.609375 74.21875 \nQ 43.265625 74.21875 49.921875 64.515625 \nQ 56.59375 54.828125 56.59375 36.375 \nQ 56.59375 19.140625 48.40625 8.859375 \nQ 40.234375 -1.421875 26.421875 -1.421875 \nQ 22.703125 -1.421875 18.890625 -0.6875 \nQ 15.09375 0.046875 10.984375 1.515625 \nz\nM 30.609375 32.421875 \nQ 37.25 32.421875 41.125 36.953125 \nQ 45.015625 41.5 45.015625 49.421875 \nQ 45.015625 57.28125 41.125 61.84375 \nQ 37.25 66.40625 30.609375 66.40625 \nQ 23.96875 66.40625 20.09375 61.84375 \nQ 16.21875 57.28125 16.21875 49.421875 \nQ 16.21875 41.5 20.09375 36.953125 \nQ 23.96875 32.421875 30.609375 32.421875 \nz\n\" id=\"DejaVuSans-57\"/>\n       </defs>\n       <use xlink:href=\"#DejaVuSans-48\"/>\n       <use x=\"63.623047\" xlink:href=\"#DejaVuSans-46\"/>\n       <use x=\"95.410156\" xlink:href=\"#DejaVuSans-57\"/>\n      </g>\n     </g>\n    </g>\n    <g id=\"ytick_5\">\n     <g id=\"line2d_21\">\n      <path clip-path=\"url(#p2545f8f627)\" d=\"M 30.103125 36.496295 \nL 334.466761 36.496295 \n\" style=\"fill:none;stroke:#ffffff;stroke-linecap:square;stroke-width:0.8;\"/>\n     </g>\n     <g id=\"line2d_22\">\n      <g>\n       <use style=\"fill:#555555;stroke:#555555;stroke-width:0.8;\" x=\"30.103125\" xlink:href=\"#m7b3c27d964\" y=\"36.496295\"/>\n      </g>\n     </g>\n     <g id=\"text_11\">\n      <!-- 1.0 -->\n      <g style=\"fill:#555555;\" transform=\"translate(7.2 40.295514)scale(0.1 -0.1)\">\n       <use xlink:href=\"#DejaVuSans-49\"/>\n       <use x=\"63.623047\" xlink:href=\"#DejaVuSans-46\"/>\n       <use x=\"95.410156\" xlink:href=\"#DejaVuSans-48\"/>\n      </g>\n     </g>\n    </g>\n   </g>\n   <g id=\"line2d_23\">\n    <path clip-path=\"url(#p2545f8f627)\" d=\"M 43.937836 283.587205 \nL 46.732727 134.930877 \nL 49.527618 90.735758 \nL 52.322509 65.624885 \nL 55.1174 59.598293 \nL 57.912291 51.562826 \nL 60.707182 48.549513 \nL 63.502073 46.540638 \nL 66.296964 44.531763 \nL 69.091855 41.518483 \nL 71.886746 38.505171 \nL 74.681637 38.505171 \nL 77.476528 38.505171 \nL 80.27142 37.500733 \nL 83.066311 37.500733 \nL 85.861202 37.500733 \nL 88.656093 37.500733 \nL 91.450984 37.500733 \nL 94.245875 37.500733 \nL 97.040766 37.500733 \nL 99.835657 37.500733 \nL 102.630548 37.500733 \nL 105.425439 37.500733 \nL 108.22033 37.500733 \nL 111.015221 37.500733 \nL 113.810112 37.500733 \nL 116.605003 37.500733 \nL 119.399894 37.500733 \nL 122.194785 37.500733 \nL 124.989676 37.500733 \nL 127.784568 37.500733 \nL 130.579459 37.500733 \nL 133.37435 37.500733 \nL 136.169241 37.500733 \nL 138.964132 37.500733 \nL 141.759023 37.500733 \nL 144.553914 37.500733 \nL 147.348805 36.496295 \nL 150.143696 36.496295 \nL 152.938587 36.496295 \nL 155.733478 36.496295 \nL 158.528369 36.496295 \nL 161.32326 36.496295 \nL 164.118151 36.496295 \nL 166.913042 36.496295 \nL 169.707933 36.496295 \nL 172.502824 36.496295 \nL 175.297716 36.496295 \nL 178.092607 36.496295 \nL 180.887498 36.496295 \nL 183.682389 36.496295 \nL 186.47728 36.496295 \nL 189.272171 36.496295 \nL 192.067062 36.496295 \nL 194.861953 36.496295 \nL 197.656844 36.496295 \nL 200.451735 36.496295 \nL 203.246626 36.496295 \nL 206.041517 36.496295 \nL 208.836408 36.496295 \nL 211.631299 36.496295 \nL 214.42619 36.496295 \nL 217.221081 36.496295 \nL 220.015972 36.496295 \nL 222.810864 36.496295 \nL 225.605755 36.496295 \nL 228.400646 36.496295 \nL 231.195537 36.496295 \nL 233.990428 36.496295 \nL 236.785319 36.496295 \nL 239.58021 36.496295 \nL 242.375101 36.496295 \nL 245.169992 36.496295 \nL 247.964883 36.496295 \nL 250.759774 36.496295 \nL 253.554665 36.496295 \nL 256.349556 36.496295 \nL 259.144447 36.496295 \nL 261.939338 36.496295 \nL 264.734229 36.496295 \nL 267.52912 36.496295 \nL 270.324012 36.496295 \nL 273.118903 36.496295 \nL 275.913794 36.496295 \nL 278.708685 36.496295 \nL 281.503576 36.496295 \nL 284.298467 36.496295 \nL 287.093358 36.496295 \nL 289.888249 36.496295 \nL 292.68314 36.496295 \nL 295.478031 36.496295 \nL 298.272922 36.496295 \nL 301.067813 36.496295 \nL 303.862704 36.496295 \nL 306.657595 36.496295 \nL 309.452486 36.496295 \nL 312.247377 36.496295 \nL 315.042269 36.496295 \nL 317.83716 36.496295 \nL 320.632051 36.496295 \n\" style=\"fill:none;stroke:#0000ff;stroke-linecap:square;stroke-width:1.5;\"/>\n   </g>\n   <g id=\"line2d_24\">\n    <path clip-path=\"url(#p2545f8f627)\" d=\"M 43.937836 265.507395 \nL 46.732727 214.281212 \nL 49.527618 208.25462 \nL 52.322509 196.201403 \nL 55.1174 187.161498 \nL 57.912291 175.10828 \nL 60.707182 178.12156 \nL 63.502073 172.094968 \nL 66.296964 169.081655 \nL 69.091855 157.028437 \nL 71.886746 147.988532 \nL 74.681637 147.988532 \nL 77.476528 138.948628 \nL 80.27142 138.948628 \nL 83.066311 138.948628 \nL 85.861202 135.935315 \nL 88.656093 135.935315 \nL 91.450984 138.948628 \nL 94.245875 138.948628 \nL 97.040766 138.948628 \nL 99.835657 138.948628 \nL 102.630548 144.97522 \nL 105.425439 144.97522 \nL 108.22033 147.988532 \nL 111.015221 151.001845 \nL 113.810112 151.001845 \nL 116.605003 154.015158 \nL 119.399894 151.001845 \nL 122.194785 151.001845 \nL 124.989676 151.001845 \nL 127.784568 151.001845 \nL 130.579459 154.015158 \nL 133.37435 154.015158 \nL 136.169241 154.015158 \nL 138.964132 154.015158 \nL 141.759023 157.028437 \nL 144.553914 157.028437 \nL 147.348805 154.015158 \nL 150.143696 154.015158 \nL 152.938587 157.028437 \nL 155.733478 157.028437 \nL 158.528369 157.028437 \nL 161.32326 157.028437 \nL 164.118151 157.028437 \nL 166.913042 157.028437 \nL 169.707933 160.04175 \nL 172.502824 160.04175 \nL 175.297716 157.028437 \nL 178.092607 157.028437 \nL 180.887498 157.028437 \nL 183.682389 157.028437 \nL 186.47728 157.028437 \nL 189.272171 157.028437 \nL 192.067062 157.028437 \nL 194.861953 157.028437 \nL 197.656844 157.028437 \nL 200.451735 157.028437 \nL 203.246626 157.028437 \nL 206.041517 157.028437 \nL 208.836408 157.028437 \nL 211.631299 157.028437 \nL 214.42619 157.028437 \nL 217.221081 157.028437 \nL 220.015972 157.028437 \nL 222.810864 157.028437 \nL 225.605755 157.028437 \nL 228.400646 157.028437 \nL 231.195537 157.028437 \nL 233.990428 157.028437 \nL 236.785319 157.028437 \nL 239.58021 157.028437 \nL 242.375101 157.028437 \nL 245.169992 157.028437 \nL 247.964883 157.028437 \nL 250.759774 157.028437 \nL 253.554665 157.028437 \nL 256.349556 157.028437 \nL 259.144447 157.028437 \nL 261.939338 157.028437 \nL 264.734229 157.028437 \nL 267.52912 157.028437 \nL 270.324012 157.028437 \nL 273.118903 157.028437 \nL 275.913794 160.04175 \nL 278.708685 160.04175 \nL 281.503576 160.04175 \nL 284.298467 160.04175 \nL 287.093358 160.04175 \nL 289.888249 160.04175 \nL 292.68314 160.04175 \nL 295.478031 160.04175 \nL 298.272922 160.04175 \nL 301.067813 160.04175 \nL 303.862704 160.04175 \nL 306.657595 157.028437 \nL 309.452486 157.028437 \nL 312.247377 160.04175 \nL 315.042269 160.04175 \nL 317.83716 160.04175 \nL 320.632051 160.04175 \n\" style=\"fill:none;stroke:#ff0000;stroke-linecap:square;stroke-width:1.5;\"/>\n   </g>\n   <g id=\"patch_3\">\n    <path d=\"M 30.103125 295.94175 \nL 30.103125 24.14175 \n\" style=\"fill:none;stroke:#ffffff;stroke-linecap:square;stroke-linejoin:miter;\"/>\n   </g>\n   <g id=\"patch_4\">\n    <path d=\"M 334.466761 295.94175 \nL 334.466761 24.14175 \n\" style=\"fill:none;stroke:#ffffff;stroke-linecap:square;stroke-linejoin:miter;\"/>\n   </g>\n   <g id=\"patch_5\">\n    <path d=\"M 30.103125 295.94175 \nL 334.466761 295.94175 \n\" style=\"fill:none;stroke:#ffffff;stroke-linecap:square;stroke-linejoin:miter;\"/>\n   </g>\n   <g id=\"patch_6\">\n    <path d=\"M 30.103125 24.14175 \nL 334.466761 24.14175 \n\" style=\"fill:none;stroke:#ffffff;stroke-linecap:square;stroke-linejoin:miter;\"/>\n   </g>\n   <g id=\"text_12\">\n    <!-- Training and validation accuracy -->\n    <g transform=\"translate(65.534693 18.14175)scale(0.144 -0.144)\">\n     <defs>\n      <path d=\"M -0.296875 72.90625 \nL 61.375 72.90625 \nL 61.375 64.59375 \nL 35.5 64.59375 \nL 35.5 0 \nL 25.59375 0 \nL 25.59375 64.59375 \nL -0.296875 64.59375 \nz\n\" id=\"DejaVuSans-84\"/>\n      <path d=\"M 41.109375 46.296875 \nQ 39.59375 47.171875 37.8125 47.578125 \nQ 36.03125 48 33.890625 48 \nQ 26.265625 48 22.1875 43.046875 \nQ 18.109375 38.09375 18.109375 28.8125 \nL 18.109375 0 \nL 9.078125 0 \nL 9.078125 54.6875 \nL 18.109375 54.6875 \nL 18.109375 46.1875 \nQ 20.953125 51.171875 25.484375 53.578125 \nQ 30.03125 56 36.53125 56 \nQ 37.453125 56 38.578125 55.875 \nQ 39.703125 55.765625 41.0625 55.515625 \nz\n\" id=\"DejaVuSans-114\"/>\n      <path d=\"M 34.28125 27.484375 \nQ 23.390625 27.484375 19.1875 25 \nQ 14.984375 22.515625 14.984375 16.5 \nQ 14.984375 11.71875 18.140625 8.90625 \nQ 21.296875 6.109375 26.703125 6.109375 \nQ 34.1875 6.109375 38.703125 11.40625 \nQ 43.21875 16.703125 43.21875 25.484375 \nL 43.21875 27.484375 \nz\nM 52.203125 31.203125 \nL 52.203125 0 \nL 43.21875 0 \nL 43.21875 8.296875 \nQ 40.140625 3.328125 35.546875 0.953125 \nQ 30.953125 -1.421875 24.3125 -1.421875 \nQ 15.921875 -1.421875 10.953125 3.296875 \nQ 6 8.015625 6 15.921875 \nQ 6 25.140625 12.171875 29.828125 \nQ 18.359375 34.515625 30.609375 34.515625 \nL 43.21875 34.515625 \nL 43.21875 35.40625 \nQ 43.21875 41.609375 39.140625 45 \nQ 35.0625 48.390625 27.6875 48.390625 \nQ 23 48.390625 18.546875 47.265625 \nQ 14.109375 46.140625 10.015625 43.890625 \nL 10.015625 52.203125 \nQ 14.9375 54.109375 19.578125 55.046875 \nQ 24.21875 56 28.609375 56 \nQ 40.484375 56 46.34375 49.84375 \nQ 52.203125 43.703125 52.203125 31.203125 \nz\n\" id=\"DejaVuSans-97\"/>\n      <path d=\"M 9.421875 54.6875 \nL 18.40625 54.6875 \nL 18.40625 0 \nL 9.421875 0 \nz\nM 9.421875 75.984375 \nL 18.40625 75.984375 \nL 18.40625 64.59375 \nL 9.421875 64.59375 \nz\n\" id=\"DejaVuSans-105\"/>\n      <path d=\"M 54.890625 33.015625 \nL 54.890625 0 \nL 45.90625 0 \nL 45.90625 32.71875 \nQ 45.90625 40.484375 42.875 44.328125 \nQ 39.84375 48.1875 33.796875 48.1875 \nQ 26.515625 48.1875 22.3125 43.546875 \nQ 18.109375 38.921875 18.109375 30.90625 \nL 18.109375 0 \nL 9.078125 0 \nL 9.078125 54.6875 \nL 18.109375 54.6875 \nL 18.109375 46.1875 \nQ 21.34375 51.125 25.703125 53.5625 \nQ 30.078125 56 35.796875 56 \nQ 45.21875 56 50.046875 50.171875 \nQ 54.890625 44.34375 54.890625 33.015625 \nz\n\" id=\"DejaVuSans-110\"/>\n      <path d=\"M 45.40625 27.984375 \nQ 45.40625 37.75 41.375 43.109375 \nQ 37.359375 48.484375 30.078125 48.484375 \nQ 22.859375 48.484375 18.828125 43.109375 \nQ 14.796875 37.75 14.796875 27.984375 \nQ 14.796875 18.265625 18.828125 12.890625 \nQ 22.859375 7.515625 30.078125 7.515625 \nQ 37.359375 7.515625 41.375 12.890625 \nQ 45.40625 18.265625 45.40625 27.984375 \nz\nM 54.390625 6.78125 \nQ 54.390625 -7.171875 48.1875 -13.984375 \nQ 42 -20.796875 29.203125 -20.796875 \nQ 24.46875 -20.796875 20.265625 -20.09375 \nQ 16.0625 -19.390625 12.109375 -17.921875 \nL 12.109375 -9.1875 \nQ 16.0625 -11.328125 19.921875 -12.34375 \nQ 23.78125 -13.375 27.78125 -13.375 \nQ 36.625 -13.375 41.015625 -8.765625 \nQ 45.40625 -4.15625 45.40625 5.171875 \nL 45.40625 9.625 \nQ 42.625 4.78125 38.28125 2.390625 \nQ 33.9375 0 27.875 0 \nQ 17.828125 0 11.671875 7.65625 \nQ 5.515625 15.328125 5.515625 27.984375 \nQ 5.515625 40.671875 11.671875 48.328125 \nQ 17.828125 56 27.875 56 \nQ 33.9375 56 38.28125 53.609375 \nQ 42.625 51.21875 45.40625 46.390625 \nL 45.40625 54.6875 \nL 54.390625 54.6875 \nz\n\" id=\"DejaVuSans-103\"/>\n      <path id=\"DejaVuSans-32\"/>\n      <path d=\"M 45.40625 46.390625 \nL 45.40625 75.984375 \nL 54.390625 75.984375 \nL 54.390625 0 \nL 45.40625 0 \nL 45.40625 8.203125 \nQ 42.578125 3.328125 38.25 0.953125 \nQ 33.9375 -1.421875 27.875 -1.421875 \nQ 17.96875 -1.421875 11.734375 6.484375 \nQ 5.515625 14.40625 5.515625 27.296875 \nQ 5.515625 40.1875 11.734375 48.09375 \nQ 17.96875 56 27.875 56 \nQ 33.9375 56 38.25 53.625 \nQ 42.578125 51.265625 45.40625 46.390625 \nz\nM 14.796875 27.296875 \nQ 14.796875 17.390625 18.875 11.75 \nQ 22.953125 6.109375 30.078125 6.109375 \nQ 37.203125 6.109375 41.296875 11.75 \nQ 45.40625 17.390625 45.40625 27.296875 \nQ 45.40625 37.203125 41.296875 42.84375 \nQ 37.203125 48.484375 30.078125 48.484375 \nQ 22.953125 48.484375 18.875 42.84375 \nQ 14.796875 37.203125 14.796875 27.296875 \nz\n\" id=\"DejaVuSans-100\"/>\n      <path d=\"M 2.984375 54.6875 \nL 12.5 54.6875 \nL 29.59375 8.796875 \nL 46.6875 54.6875 \nL 56.203125 54.6875 \nL 35.6875 0 \nL 23.484375 0 \nz\n\" id=\"DejaVuSans-118\"/>\n      <path d=\"M 9.421875 75.984375 \nL 18.40625 75.984375 \nL 18.40625 0 \nL 9.421875 0 \nz\n\" id=\"DejaVuSans-108\"/>\n      <path d=\"M 18.3125 70.21875 \nL 18.3125 54.6875 \nL 36.8125 54.6875 \nL 36.8125 47.703125 \nL 18.3125 47.703125 \nL 18.3125 18.015625 \nQ 18.3125 11.328125 20.140625 9.421875 \nQ 21.96875 7.515625 27.59375 7.515625 \nL 36.8125 7.515625 \nL 36.8125 0 \nL 27.59375 0 \nQ 17.1875 0 13.234375 3.875 \nQ 9.28125 7.765625 9.28125 18.015625 \nL 9.28125 47.703125 \nL 2.6875 47.703125 \nL 2.6875 54.6875 \nL 9.28125 54.6875 \nL 9.28125 70.21875 \nz\n\" id=\"DejaVuSans-116\"/>\n      <path d=\"M 30.609375 48.390625 \nQ 23.390625 48.390625 19.1875 42.75 \nQ 14.984375 37.109375 14.984375 27.296875 \nQ 14.984375 17.484375 19.15625 11.84375 \nQ 23.34375 6.203125 30.609375 6.203125 \nQ 37.796875 6.203125 41.984375 11.859375 \nQ 46.1875 17.53125 46.1875 27.296875 \nQ 46.1875 37.015625 41.984375 42.703125 \nQ 37.796875 48.390625 30.609375 48.390625 \nz\nM 30.609375 56 \nQ 42.328125 56 49.015625 48.375 \nQ 55.71875 40.765625 55.71875 27.296875 \nQ 55.71875 13.875 49.015625 6.21875 \nQ 42.328125 -1.421875 30.609375 -1.421875 \nQ 18.84375 -1.421875 12.171875 6.21875 \nQ 5.515625 13.875 5.515625 27.296875 \nQ 5.515625 40.765625 12.171875 48.375 \nQ 18.84375 56 30.609375 56 \nz\n\" id=\"DejaVuSans-111\"/>\n      <path d=\"M 48.78125 52.59375 \nL 48.78125 44.1875 \nQ 44.96875 46.296875 41.140625 47.34375 \nQ 37.3125 48.390625 33.40625 48.390625 \nQ 24.65625 48.390625 19.8125 42.84375 \nQ 14.984375 37.3125 14.984375 27.296875 \nQ 14.984375 17.28125 19.8125 11.734375 \nQ 24.65625 6.203125 33.40625 6.203125 \nQ 37.3125 6.203125 41.140625 7.25 \nQ 44.96875 8.296875 48.78125 10.40625 \nL 48.78125 2.09375 \nQ 45.015625 0.34375 40.984375 -0.53125 \nQ 36.96875 -1.421875 32.421875 -1.421875 \nQ 20.0625 -1.421875 12.78125 6.34375 \nQ 5.515625 14.109375 5.515625 27.296875 \nQ 5.515625 40.671875 12.859375 48.328125 \nQ 20.21875 56 33.015625 56 \nQ 37.15625 56 41.109375 55.140625 \nQ 45.0625 54.296875 48.78125 52.59375 \nz\n\" id=\"DejaVuSans-99\"/>\n      <path d=\"M 8.5 21.578125 \nL 8.5 54.6875 \nL 17.484375 54.6875 \nL 17.484375 21.921875 \nQ 17.484375 14.15625 20.5 10.265625 \nQ 23.53125 6.390625 29.59375 6.390625 \nQ 36.859375 6.390625 41.078125 11.03125 \nQ 45.3125 15.671875 45.3125 23.6875 \nL 45.3125 54.6875 \nL 54.296875 54.6875 \nL 54.296875 0 \nL 45.3125 0 \nL 45.3125 8.40625 \nQ 42.046875 3.421875 37.71875 1 \nQ 33.40625 -1.421875 27.6875 -1.421875 \nQ 18.265625 -1.421875 13.375 4.4375 \nQ 8.5 10.296875 8.5 21.578125 \nz\nM 31.109375 56 \nz\n\" id=\"DejaVuSans-117\"/>\n      <path d=\"M 32.171875 -5.078125 \nQ 28.375 -14.84375 24.75 -17.8125 \nQ 21.140625 -20.796875 15.09375 -20.796875 \nL 7.90625 -20.796875 \nL 7.90625 -13.28125 \nL 13.1875 -13.28125 \nQ 16.890625 -13.28125 18.9375 -11.515625 \nQ 21 -9.765625 23.484375 -3.21875 \nL 25.09375 0.875 \nL 2.984375 54.6875 \nL 12.5 54.6875 \nL 29.59375 11.921875 \nL 46.6875 54.6875 \nL 56.203125 54.6875 \nz\n\" id=\"DejaVuSans-121\"/>\n     </defs>\n     <use xlink:href=\"#DejaVuSans-84\"/>\n     <use x=\"46.333984\" xlink:href=\"#DejaVuSans-114\"/>\n     <use x=\"87.447266\" xlink:href=\"#DejaVuSans-97\"/>\n     <use x=\"148.726562\" xlink:href=\"#DejaVuSans-105\"/>\n     <use x=\"176.509766\" xlink:href=\"#DejaVuSans-110\"/>\n     <use x=\"239.888672\" xlink:href=\"#DejaVuSans-105\"/>\n     <use x=\"267.671875\" xlink:href=\"#DejaVuSans-110\"/>\n     <use x=\"331.050781\" xlink:href=\"#DejaVuSans-103\"/>\n     <use x=\"394.527344\" xlink:href=\"#DejaVuSans-32\"/>\n     <use x=\"426.314453\" xlink:href=\"#DejaVuSans-97\"/>\n     <use x=\"487.59375\" xlink:href=\"#DejaVuSans-110\"/>\n     <use x=\"550.972656\" xlink:href=\"#DejaVuSans-100\"/>\n     <use x=\"614.449219\" xlink:href=\"#DejaVuSans-32\"/>\n     <use x=\"646.236328\" xlink:href=\"#DejaVuSans-118\"/>\n     <use x=\"705.416016\" xlink:href=\"#DejaVuSans-97\"/>\n     <use x=\"766.695312\" xlink:href=\"#DejaVuSans-108\"/>\n     <use x=\"794.478516\" xlink:href=\"#DejaVuSans-105\"/>\n     <use x=\"822.261719\" xlink:href=\"#DejaVuSans-100\"/>\n     <use x=\"885.738281\" xlink:href=\"#DejaVuSans-97\"/>\n     <use x=\"947.017578\" xlink:href=\"#DejaVuSans-116\"/>\n     <use x=\"986.226562\" xlink:href=\"#DejaVuSans-105\"/>\n     <use x=\"1014.009766\" xlink:href=\"#DejaVuSans-111\"/>\n     <use x=\"1075.191406\" xlink:href=\"#DejaVuSans-110\"/>\n     <use x=\"1138.570312\" xlink:href=\"#DejaVuSans-32\"/>\n     <use x=\"1170.357422\" xlink:href=\"#DejaVuSans-97\"/>\n     <use x=\"1231.636719\" xlink:href=\"#DejaVuSans-99\"/>\n     <use x=\"1286.617188\" xlink:href=\"#DejaVuSans-99\"/>\n     <use x=\"1341.597656\" xlink:href=\"#DejaVuSans-117\"/>\n     <use x=\"1404.976562\" xlink:href=\"#DejaVuSans-114\"/>\n     <use x=\"1446.089844\" xlink:href=\"#DejaVuSans-97\"/>\n     <use x=\"1507.369141\" xlink:href=\"#DejaVuSans-99\"/>\n     <use x=\"1562.349609\" xlink:href=\"#DejaVuSans-121\"/>\n    </g>\n   </g>\n   <g id=\"legend_1\">\n    <g id=\"patch_7\">\n     <path d=\"M 225.782386 290.94175 \nL 327.466761 290.94175 \nQ 329.466761 290.94175 329.466761 288.94175 \nL 329.466761 260.5855 \nQ 329.466761 258.5855 327.466761 258.5855 \nL 225.782386 258.5855 \nQ 223.782386 258.5855 223.782386 260.5855 \nL 223.782386 288.94175 \nQ 223.782386 290.94175 225.782386 290.94175 \nz\n\" style=\"fill:#e5e5e5;opacity:0.8;stroke:#cccccc;stroke-linejoin:miter;stroke-width:0.5;\"/>\n    </g>\n    <g id=\"line2d_25\">\n     <path d=\"M 227.782386 266.683938 \nL 247.782386 266.683938 \n\" style=\"fill:none;stroke:#0000ff;stroke-linecap:square;stroke-width:1.5;\"/>\n    </g>\n    <g id=\"line2d_26\"/>\n    <g id=\"text_13\">\n     <!-- Training acc -->\n     <g transform=\"translate(255.782386 270.183938)scale(0.1 -0.1)\">\n      <use xlink:href=\"#DejaVuSans-84\"/>\n      <use x=\"46.333984\" xlink:href=\"#DejaVuSans-114\"/>\n      <use x=\"87.447266\" xlink:href=\"#DejaVuSans-97\"/>\n      <use x=\"148.726562\" xlink:href=\"#DejaVuSans-105\"/>\n      <use x=\"176.509766\" xlink:href=\"#DejaVuSans-110\"/>\n      <use x=\"239.888672\" xlink:href=\"#DejaVuSans-105\"/>\n      <use x=\"267.671875\" xlink:href=\"#DejaVuSans-110\"/>\n      <use x=\"331.050781\" xlink:href=\"#DejaVuSans-103\"/>\n      <use x=\"394.527344\" xlink:href=\"#DejaVuSans-32\"/>\n      <use x=\"426.314453\" xlink:href=\"#DejaVuSans-97\"/>\n      <use x=\"487.59375\" xlink:href=\"#DejaVuSans-99\"/>\n      <use x=\"542.574219\" xlink:href=\"#DejaVuSans-99\"/>\n     </g>\n    </g>\n    <g id=\"line2d_27\">\n     <path d=\"M 227.782386 281.362063 \nL 247.782386 281.362063 \n\" style=\"fill:none;stroke:#ff0000;stroke-linecap:square;stroke-width:1.5;\"/>\n    </g>\n    <g id=\"line2d_28\"/>\n    <g id=\"text_14\">\n     <!-- Validation acc -->\n     <g transform=\"translate(255.782386 284.862063)scale(0.1 -0.1)\">\n      <defs>\n       <path d=\"M 28.609375 0 \nL 0.78125 72.90625 \nL 11.078125 72.90625 \nL 34.1875 11.53125 \nL 57.328125 72.90625 \nL 67.578125 72.90625 \nL 39.796875 0 \nz\n\" id=\"DejaVuSans-86\"/>\n      </defs>\n      <use xlink:href=\"#DejaVuSans-86\"/>\n      <use x=\"60.658203\" xlink:href=\"#DejaVuSans-97\"/>\n      <use x=\"121.9375\" xlink:href=\"#DejaVuSans-108\"/>\n      <use x=\"149.720703\" xlink:href=\"#DejaVuSans-105\"/>\n      <use x=\"177.503906\" xlink:href=\"#DejaVuSans-100\"/>\n      <use x=\"240.980469\" xlink:href=\"#DejaVuSans-97\"/>\n      <use x=\"302.259766\" xlink:href=\"#DejaVuSans-116\"/>\n      <use x=\"341.46875\" xlink:href=\"#DejaVuSans-105\"/>\n      <use x=\"369.251953\" xlink:href=\"#DejaVuSans-111\"/>\n      <use x=\"430.433594\" xlink:href=\"#DejaVuSans-110\"/>\n      <use x=\"493.8125\" xlink:href=\"#DejaVuSans-32\"/>\n      <use x=\"525.599609\" xlink:href=\"#DejaVuSans-97\"/>\n      <use x=\"586.878906\" xlink:href=\"#DejaVuSans-99\"/>\n      <use x=\"641.859375\" xlink:href=\"#DejaVuSans-99\"/>\n     </g>\n    </g>\n   </g>\n  </g>\n  <g id=\"axes_2\">\n   <g id=\"patch_8\">\n    <path d=\"M 395.339489 295.94175 \nL 699.703125 295.94175 \nL 699.703125 24.14175 \nL 395.339489 24.14175 \nz\n\" style=\"fill:#e5e5e5;\"/>\n   </g>\n   <g id=\"matplotlib.axis_3\">\n    <g id=\"xtick_7\">\n     <g id=\"line2d_29\">\n      <path clip-path=\"url(#pa48cd27c07)\" d=\"M 406.379308 295.94175 \nL 406.379308 24.14175 \n\" style=\"fill:none;stroke:#ffffff;stroke-linecap:square;stroke-width:0.8;\"/>\n     </g>\n     <g id=\"line2d_30\">\n      <g>\n       <use style=\"fill:#555555;stroke:#555555;stroke-width:0.8;\" x=\"406.379308\" xlink:href=\"#mc39443c17a\" y=\"295.94175\"/>\n      </g>\n     </g>\n     <g id=\"text_15\">\n      <!-- 0 -->\n      <g style=\"fill:#555555;\" transform=\"translate(403.198058 310.540188)scale(0.1 -0.1)\">\n       <use xlink:href=\"#DejaVuSans-48\"/>\n      </g>\n     </g>\n    </g>\n    <g id=\"xtick_8\">\n     <g id=\"line2d_31\">\n      <path clip-path=\"url(#pa48cd27c07)\" d=\"M 462.27713 295.94175 \nL 462.27713 24.14175 \n\" style=\"fill:none;stroke:#ffffff;stroke-linecap:square;stroke-width:0.8;\"/>\n     </g>\n     <g id=\"line2d_32\">\n      <g>\n       <use style=\"fill:#555555;stroke:#555555;stroke-width:0.8;\" x=\"462.27713\" xlink:href=\"#mc39443c17a\" y=\"295.94175\"/>\n      </g>\n     </g>\n     <g id=\"text_16\">\n      <!-- 20 -->\n      <g style=\"fill:#555555;\" transform=\"translate(455.91463 310.540188)scale(0.1 -0.1)\">\n       <use xlink:href=\"#DejaVuSans-50\"/>\n       <use x=\"63.623047\" xlink:href=\"#DejaVuSans-48\"/>\n      </g>\n     </g>\n    </g>\n    <g id=\"xtick_9\">\n     <g id=\"line2d_33\">\n      <path clip-path=\"url(#pa48cd27c07)\" d=\"M 518.174951 295.94175 \nL 518.174951 24.14175 \n\" style=\"fill:none;stroke:#ffffff;stroke-linecap:square;stroke-width:0.8;\"/>\n     </g>\n     <g id=\"line2d_34\">\n      <g>\n       <use style=\"fill:#555555;stroke:#555555;stroke-width:0.8;\" x=\"518.174951\" xlink:href=\"#mc39443c17a\" y=\"295.94175\"/>\n      </g>\n     </g>\n     <g id=\"text_17\">\n      <!-- 40 -->\n      <g style=\"fill:#555555;\" transform=\"translate(511.812451 310.540188)scale(0.1 -0.1)\">\n       <use xlink:href=\"#DejaVuSans-52\"/>\n       <use x=\"63.623047\" xlink:href=\"#DejaVuSans-48\"/>\n      </g>\n     </g>\n    </g>\n    <g id=\"xtick_10\">\n     <g id=\"line2d_35\">\n      <path clip-path=\"url(#pa48cd27c07)\" d=\"M 574.072772 295.94175 \nL 574.072772 24.14175 \n\" style=\"fill:none;stroke:#ffffff;stroke-linecap:square;stroke-width:0.8;\"/>\n     </g>\n     <g id=\"line2d_36\">\n      <g>\n       <use style=\"fill:#555555;stroke:#555555;stroke-width:0.8;\" x=\"574.072772\" xlink:href=\"#mc39443c17a\" y=\"295.94175\"/>\n      </g>\n     </g>\n     <g id=\"text_18\">\n      <!-- 60 -->\n      <g style=\"fill:#555555;\" transform=\"translate(567.710272 310.540188)scale(0.1 -0.1)\">\n       <use xlink:href=\"#DejaVuSans-54\"/>\n       <use x=\"63.623047\" xlink:href=\"#DejaVuSans-48\"/>\n      </g>\n     </g>\n    </g>\n    <g id=\"xtick_11\">\n     <g id=\"line2d_37\">\n      <path clip-path=\"url(#pa48cd27c07)\" d=\"M 629.970593 295.94175 \nL 629.970593 24.14175 \n\" style=\"fill:none;stroke:#ffffff;stroke-linecap:square;stroke-width:0.8;\"/>\n     </g>\n     <g id=\"line2d_38\">\n      <g>\n       <use style=\"fill:#555555;stroke:#555555;stroke-width:0.8;\" x=\"629.970593\" xlink:href=\"#mc39443c17a\" y=\"295.94175\"/>\n      </g>\n     </g>\n     <g id=\"text_19\">\n      <!-- 80 -->\n      <g style=\"fill:#555555;\" transform=\"translate(623.608093 310.540188)scale(0.1 -0.1)\">\n       <use xlink:href=\"#DejaVuSans-56\"/>\n       <use x=\"63.623047\" xlink:href=\"#DejaVuSans-48\"/>\n      </g>\n     </g>\n    </g>\n    <g id=\"xtick_12\">\n     <g id=\"line2d_39\">\n      <path clip-path=\"url(#pa48cd27c07)\" d=\"M 685.868414 295.94175 \nL 685.868414 24.14175 \n\" style=\"fill:none;stroke:#ffffff;stroke-linecap:square;stroke-width:0.8;\"/>\n     </g>\n     <g id=\"line2d_40\">\n      <g>\n       <use style=\"fill:#555555;stroke:#555555;stroke-width:0.8;\" x=\"685.868414\" xlink:href=\"#mc39443c17a\" y=\"295.94175\"/>\n      </g>\n     </g>\n     <g id=\"text_20\">\n      <!-- 100 -->\n      <g style=\"fill:#555555;\" transform=\"translate(676.324664 310.540188)scale(0.1 -0.1)\">\n       <use xlink:href=\"#DejaVuSans-49\"/>\n       <use x=\"63.623047\" xlink:href=\"#DejaVuSans-48\"/>\n       <use x=\"127.246094\" xlink:href=\"#DejaVuSans-48\"/>\n      </g>\n     </g>\n    </g>\n   </g>\n   <g id=\"matplotlib.axis_4\">\n    <g id=\"ytick_6\">\n     <g id=\"line2d_41\">\n      <path clip-path=\"url(#pa48cd27c07)\" d=\"M 395.339489 283.963693 \nL 699.703125 283.963693 \n\" style=\"fill:none;stroke:#ffffff;stroke-linecap:square;stroke-width:0.8;\"/>\n     </g>\n     <g id=\"line2d_42\">\n      <g>\n       <use style=\"fill:#555555;stroke:#555555;stroke-width:0.8;\" x=\"395.339489\" xlink:href=\"#m7b3c27d964\" y=\"283.963693\"/>\n      </g>\n     </g>\n     <g id=\"text_21\">\n      <!-- 0.0 -->\n      <g style=\"fill:#555555;\" transform=\"translate(372.436364 287.762911)scale(0.1 -0.1)\">\n       <use xlink:href=\"#DejaVuSans-48\"/>\n       <use x=\"63.623047\" xlink:href=\"#DejaVuSans-46\"/>\n       <use x=\"95.410156\" xlink:href=\"#DejaVuSans-48\"/>\n      </g>\n     </g>\n    </g>\n    <g id=\"ytick_7\">\n     <g id=\"line2d_43\">\n      <path clip-path=\"url(#pa48cd27c07)\" d=\"M 395.339489 232.946714 \nL 699.703125 232.946714 \n\" style=\"fill:none;stroke:#ffffff;stroke-linecap:square;stroke-width:0.8;\"/>\n     </g>\n     <g id=\"line2d_44\">\n      <g>\n       <use style=\"fill:#555555;stroke:#555555;stroke-width:0.8;\" x=\"395.339489\" xlink:href=\"#m7b3c27d964\" y=\"232.946714\"/>\n      </g>\n     </g>\n     <g id=\"text_22\">\n      <!-- 0.2 -->\n      <g style=\"fill:#555555;\" transform=\"translate(372.436364 236.745933)scale(0.1 -0.1)\">\n       <use xlink:href=\"#DejaVuSans-48\"/>\n       <use x=\"63.623047\" xlink:href=\"#DejaVuSans-46\"/>\n       <use x=\"95.410156\" xlink:href=\"#DejaVuSans-50\"/>\n      </g>\n     </g>\n    </g>\n    <g id=\"ytick_8\">\n     <g id=\"line2d_45\">\n      <path clip-path=\"url(#pa48cd27c07)\" d=\"M 395.339489 181.929736 \nL 699.703125 181.929736 \n\" style=\"fill:none;stroke:#ffffff;stroke-linecap:square;stroke-width:0.8;\"/>\n     </g>\n     <g id=\"line2d_46\">\n      <g>\n       <use style=\"fill:#555555;stroke:#555555;stroke-width:0.8;\" x=\"395.339489\" xlink:href=\"#m7b3c27d964\" y=\"181.929736\"/>\n      </g>\n     </g>\n     <g id=\"text_23\">\n      <!-- 0.4 -->\n      <g style=\"fill:#555555;\" transform=\"translate(372.436364 185.728955)scale(0.1 -0.1)\">\n       <use xlink:href=\"#DejaVuSans-48\"/>\n       <use x=\"63.623047\" xlink:href=\"#DejaVuSans-46\"/>\n       <use x=\"95.410156\" xlink:href=\"#DejaVuSans-52\"/>\n      </g>\n     </g>\n    </g>\n    <g id=\"ytick_9\">\n     <g id=\"line2d_47\">\n      <path clip-path=\"url(#pa48cd27c07)\" d=\"M 395.339489 130.912758 \nL 699.703125 130.912758 \n\" style=\"fill:none;stroke:#ffffff;stroke-linecap:square;stroke-width:0.8;\"/>\n     </g>\n     <g id=\"line2d_48\">\n      <g>\n       <use style=\"fill:#555555;stroke:#555555;stroke-width:0.8;\" x=\"395.339489\" xlink:href=\"#m7b3c27d964\" y=\"130.912758\"/>\n      </g>\n     </g>\n     <g id=\"text_24\">\n      <!-- 0.6 -->\n      <g style=\"fill:#555555;\" transform=\"translate(372.436364 134.711977)scale(0.1 -0.1)\">\n       <use xlink:href=\"#DejaVuSans-48\"/>\n       <use x=\"63.623047\" xlink:href=\"#DejaVuSans-46\"/>\n       <use x=\"95.410156\" xlink:href=\"#DejaVuSans-54\"/>\n      </g>\n     </g>\n    </g>\n    <g id=\"ytick_10\">\n     <g id=\"line2d_49\">\n      <path clip-path=\"url(#pa48cd27c07)\" d=\"M 395.339489 79.89578 \nL 699.703125 79.89578 \n\" style=\"fill:none;stroke:#ffffff;stroke-linecap:square;stroke-width:0.8;\"/>\n     </g>\n     <g id=\"line2d_50\">\n      <g>\n       <use style=\"fill:#555555;stroke:#555555;stroke-width:0.8;\" x=\"395.339489\" xlink:href=\"#m7b3c27d964\" y=\"79.89578\"/>\n      </g>\n     </g>\n     <g id=\"text_25\">\n      <!-- 0.8 -->\n      <g style=\"fill:#555555;\" transform=\"translate(372.436364 83.694999)scale(0.1 -0.1)\">\n       <use xlink:href=\"#DejaVuSans-48\"/>\n       <use x=\"63.623047\" xlink:href=\"#DejaVuSans-46\"/>\n       <use x=\"95.410156\" xlink:href=\"#DejaVuSans-56\"/>\n      </g>\n     </g>\n    </g>\n    <g id=\"ytick_11\">\n     <g id=\"line2d_51\">\n      <path clip-path=\"url(#pa48cd27c07)\" d=\"M 395.339489 28.878802 \nL 699.703125 28.878802 \n\" style=\"fill:none;stroke:#ffffff;stroke-linecap:square;stroke-width:0.8;\"/>\n     </g>\n     <g id=\"line2d_52\">\n      <g>\n       <use style=\"fill:#555555;stroke:#555555;stroke-width:0.8;\" x=\"395.339489\" xlink:href=\"#m7b3c27d964\" y=\"28.878802\"/>\n      </g>\n     </g>\n     <g id=\"text_26\">\n      <!-- 1.0 -->\n      <g style=\"fill:#555555;\" transform=\"translate(372.436364 32.678021)scale(0.1 -0.1)\">\n       <use xlink:href=\"#DejaVuSans-49\"/>\n       <use x=\"63.623047\" xlink:href=\"#DejaVuSans-46\"/>\n       <use x=\"95.410156\" xlink:href=\"#DejaVuSans-48\"/>\n      </g>\n     </g>\n    </g>\n   </g>\n   <g id=\"line2d_53\">\n    <path clip-path=\"url(#pa48cd27c07)\" d=\"M 409.174199 107.171385 \nL 411.96909 119.513187 \nL 414.763981 136.255219 \nL 417.558873 159.818848 \nL 420.353764 183.554156 \nL 423.148655 203.822858 \nL 425.943546 219.378845 \nL 428.738437 231.262828 \nL 431.533328 240.283069 \nL 434.328219 247.269279 \nL 437.12311 252.720565 \nL 439.918001 257.193123 \nL 442.712892 260.82964 \nL 445.507783 263.772829 \nL 448.302674 266.201465 \nL 451.097565 268.248987 \nL 453.892456 269.980314 \nL 456.687347 271.485469 \nL 459.482238 272.764743 \nL 462.27713 273.836893 \nL 465.072021 274.803767 \nL 467.866912 275.589064 \nL 470.661803 276.337484 \nL 473.456694 276.973612 \nL 476.251585 277.555483 \nL 479.046476 278.058416 \nL 481.841367 278.504665 \nL 484.636258 278.941514 \nL 487.431149 279.309673 \nL 490.22604 279.644778 \nL 493.020931 279.955268 \nL 495.815822 280.226665 \nL 498.610713 280.467701 \nL 501.405604 280.704567 \nL 504.200495 280.900885 \nL 506.995386 281.105251 \nL 509.790278 281.284671 \nL 512.585169 281.443121 \nL 515.38006 281.587122 \nL 518.174951 281.730757 \nL 520.969842 281.847578 \nL 523.764733 281.95268 \nL 526.559624 282.060858 \nL 529.354515 282.152537 \nL 532.149406 282.242252 \nL 534.944297 282.32523 \nL 537.739188 282.40083 \nL 540.534079 282.474289 \nL 543.32897 282.539091 \nL 546.123861 282.60085 \nL 548.918752 282.658956 \nL 551.713643 282.705134 \nL 554.508534 282.758803 \nL 557.303426 282.80433 \nL 560.098317 282.852185 \nL 562.893208 282.894485 \nL 565.688099 282.933028 \nL 568.48299 282.96621 \nL 571.277881 283.004018 \nL 574.072772 283.035276 \nL 576.867663 283.066431 \nL 579.662554 283.096788 \nL 582.457445 283.124645 \nL 585.252336 283.150842 \nL 588.047227 283.175563 \nL 590.842118 283.197202 \nL 593.637009 283.220391 \nL 596.4319 283.23948 \nL 599.226791 283.257479 \nL 602.021682 283.276735 \nL 604.816574 283.295568 \nL 607.611465 283.313659 \nL 610.406356 283.330053 \nL 613.201247 283.348105 \nL 615.996138 283.360654 \nL 618.791029 283.37838 \nL 621.58592 283.391982 \nL 624.380811 283.402416 \nL 627.175702 283.41487 \nL 629.970593 283.427926 \nL 632.765484 283.440467 \nL 635.560375 283.451571 \nL 638.355266 283.460942 \nL 641.150157 283.468236 \nL 643.945048 283.478596 \nL 646.739939 283.488648 \nL 649.53483 283.498234 \nL 652.329722 283.507115 \nL 655.124613 283.515439 \nL 657.919504 283.523351 \nL 660.714395 283.52955 \nL 663.509286 283.537088 \nL 666.304177 283.544693 \nL 669.099068 283.551995 \nL 671.893959 283.55891 \nL 674.68885 283.565418 \nL 677.483741 283.570198 \nL 680.278632 283.575088 \nL 683.073523 283.581132 \nL 685.868414 283.587205 \n\" style=\"fill:none;stroke:#0000ff;stroke-linecap:square;stroke-width:1.5;\"/>\n   </g>\n   <g id=\"line2d_54\">\n    <path clip-path=\"url(#pa48cd27c07)\" d=\"M 409.174199 103.767459 \nL 411.96909 111.929097 \nL 414.763981 113.980865 \nL 417.558873 128.562374 \nL 420.353764 128.958581 \nL 423.148655 145.116192 \nL 425.943546 141.499498 \nL 428.738437 152.841727 \nL 431.533328 151.967878 \nL 434.328219 154.885223 \nL 437.12311 155.698757 \nL 439.918001 151.126399 \nL 442.712892 154.679297 \nL 445.507783 150.541188 \nL 448.302674 159.746362 \nL 451.097565 154.763544 \nL 453.892456 153.40474 \nL 456.687347 148.769514 \nL 459.482238 146.790651 \nL 462.27713 150.436917 \nL 465.072021 146.440147 \nL 467.866912 145.617491 \nL 470.661803 143.707519 \nL 473.456694 144.354505 \nL 476.251585 141.346695 \nL 479.046476 137.927367 \nL 481.841367 137.358348 \nL 484.636258 138.418905 \nL 487.431149 134.381418 \nL 490.22604 133.691571 \nL 493.020931 130.585785 \nL 495.815822 128.139787 \nL 498.610713 126.707669 \nL 501.405604 124.38408 \nL 504.200495 127.066732 \nL 506.995386 124.251925 \nL 509.790278 123.198103 \nL 512.585169 117.626417 \nL 515.38006 116.815164 \nL 518.174951 112.302392 \nL 520.969842 111.141883 \nL 523.764733 109.95247 \nL 526.559624 109.27585 \nL 529.354515 108.464962 \nL 532.149406 107.018644 \nL 534.944297 106.335973 \nL 537.739188 105.075161 \nL 540.534079 99.029497 \nL 543.32897 98.031476 \nL 546.123861 93.770836 \nL 548.918752 93.778605 \nL 551.713643 93.718366 \nL 554.508534 91.136305 \nL 557.303426 89.523789 \nL 560.098317 88.805692 \nL 562.893208 86.873096 \nL 565.688099 85.491958 \nL 568.48299 83.661899 \nL 571.277881 82.48246 \nL 574.072772 82.456582 \nL 576.867663 81.613887 \nL 579.662554 80.805842 \nL 582.457445 78.289053 \nL 585.252336 76.195794 \nL 588.047227 76.507313 \nL 590.842118 75.634544 \nL 593.637009 74.436875 \nL 596.4319 73.770443 \nL 599.226791 72.320338 \nL 602.021682 72.495932 \nL 604.816574 70.522056 \nL 607.611465 69.641578 \nL 610.406356 67.381133 \nL 613.201247 65.057316 \nL 615.996138 60.742245 \nL 618.791029 62.656414 \nL 621.58592 62.219611 \nL 624.380811 59.601851 \nL 627.175702 60.662134 \nL 629.970593 58.149192 \nL 632.765484 57.603466 \nL 635.560375 56.378354 \nL 638.355266 55.767265 \nL 641.150157 54.493301 \nL 643.945048 55.358803 \nL 646.739939 54.118243 \nL 649.53483 53.818141 \nL 652.329722 52.328992 \nL 655.124613 51.377161 \nL 657.919504 49.247426 \nL 660.714395 49.268621 \nL 663.509286 46.044819 \nL 666.304177 46.019991 \nL 669.099068 42.488942 \nL 671.893959 41.455616 \nL 674.68885 40.946654 \nL 677.483741 38.165645 \nL 680.278632 36.496295 \nL 683.073523 37.42193 \nL 685.868414 37.613929 \n\" style=\"fill:none;stroke:#ff0000;stroke-linecap:square;stroke-width:1.5;\"/>\n   </g>\n   <g id=\"patch_9\">\n    <path d=\"M 395.339489 295.94175 \nL 395.339489 24.14175 \n\" style=\"fill:none;stroke:#ffffff;stroke-linecap:square;stroke-linejoin:miter;\"/>\n   </g>\n   <g id=\"patch_10\">\n    <path d=\"M 699.703125 295.94175 \nL 699.703125 24.14175 \n\" style=\"fill:none;stroke:#ffffff;stroke-linecap:square;stroke-linejoin:miter;\"/>\n   </g>\n   <g id=\"patch_11\">\n    <path d=\"M 395.339489 295.94175 \nL 699.703125 295.94175 \n\" style=\"fill:none;stroke:#ffffff;stroke-linecap:square;stroke-linejoin:miter;\"/>\n   </g>\n   <g id=\"patch_12\">\n    <path d=\"M 395.339489 24.14175 \nL 699.703125 24.14175 \n\" style=\"fill:none;stroke:#ffffff;stroke-linecap:square;stroke-linejoin:miter;\"/>\n   </g>\n   <g id=\"text_27\">\n    <!-- Training and validation loss -->\n    <g transform=\"translate(449.349307 18.14175)scale(0.144 -0.144)\">\n     <defs>\n      <path d=\"M 44.28125 53.078125 \nL 44.28125 44.578125 \nQ 40.484375 46.53125 36.375 47.5 \nQ 32.28125 48.484375 27.875 48.484375 \nQ 21.1875 48.484375 17.84375 46.4375 \nQ 14.5 44.390625 14.5 40.28125 \nQ 14.5 37.15625 16.890625 35.375 \nQ 19.28125 33.59375 26.515625 31.984375 \nL 29.59375 31.296875 \nQ 39.15625 29.25 43.1875 25.515625 \nQ 47.21875 21.78125 47.21875 15.09375 \nQ 47.21875 7.46875 41.1875 3.015625 \nQ 35.15625 -1.421875 24.609375 -1.421875 \nQ 20.21875 -1.421875 15.453125 -0.5625 \nQ 10.6875 0.296875 5.421875 2 \nL 5.421875 11.28125 \nQ 10.40625 8.6875 15.234375 7.390625 \nQ 20.0625 6.109375 24.8125 6.109375 \nQ 31.15625 6.109375 34.5625 8.28125 \nQ 37.984375 10.453125 37.984375 14.40625 \nQ 37.984375 18.0625 35.515625 20.015625 \nQ 33.0625 21.96875 24.703125 23.78125 \nL 21.578125 24.515625 \nQ 13.234375 26.265625 9.515625 29.90625 \nQ 5.8125 33.546875 5.8125 39.890625 \nQ 5.8125 47.609375 11.28125 51.796875 \nQ 16.75 56 26.8125 56 \nQ 31.78125 56 36.171875 55.265625 \nQ 40.578125 54.546875 44.28125 53.078125 \nz\n\" id=\"DejaVuSans-115\"/>\n     </defs>\n     <use xlink:href=\"#DejaVuSans-84\"/>\n     <use x=\"46.333984\" xlink:href=\"#DejaVuSans-114\"/>\n     <use x=\"87.447266\" xlink:href=\"#DejaVuSans-97\"/>\n     <use x=\"148.726562\" xlink:href=\"#DejaVuSans-105\"/>\n     <use x=\"176.509766\" xlink:href=\"#DejaVuSans-110\"/>\n     <use x=\"239.888672\" xlink:href=\"#DejaVuSans-105\"/>\n     <use x=\"267.671875\" xlink:href=\"#DejaVuSans-110\"/>\n     <use x=\"331.050781\" xlink:href=\"#DejaVuSans-103\"/>\n     <use x=\"394.527344\" xlink:href=\"#DejaVuSans-32\"/>\n     <use x=\"426.314453\" xlink:href=\"#DejaVuSans-97\"/>\n     <use x=\"487.59375\" xlink:href=\"#DejaVuSans-110\"/>\n     <use x=\"550.972656\" xlink:href=\"#DejaVuSans-100\"/>\n     <use x=\"614.449219\" xlink:href=\"#DejaVuSans-32\"/>\n     <use x=\"646.236328\" xlink:href=\"#DejaVuSans-118\"/>\n     <use x=\"705.416016\" xlink:href=\"#DejaVuSans-97\"/>\n     <use x=\"766.695312\" xlink:href=\"#DejaVuSans-108\"/>\n     <use x=\"794.478516\" xlink:href=\"#DejaVuSans-105\"/>\n     <use x=\"822.261719\" xlink:href=\"#DejaVuSans-100\"/>\n     <use x=\"885.738281\" xlink:href=\"#DejaVuSans-97\"/>\n     <use x=\"947.017578\" xlink:href=\"#DejaVuSans-116\"/>\n     <use x=\"986.226562\" xlink:href=\"#DejaVuSans-105\"/>\n     <use x=\"1014.009766\" xlink:href=\"#DejaVuSans-111\"/>\n     <use x=\"1075.191406\" xlink:href=\"#DejaVuSans-110\"/>\n     <use x=\"1138.570312\" xlink:href=\"#DejaVuSans-32\"/>\n     <use x=\"1170.357422\" xlink:href=\"#DejaVuSans-108\"/>\n     <use x=\"1198.140625\" xlink:href=\"#DejaVuSans-111\"/>\n     <use x=\"1259.322266\" xlink:href=\"#DejaVuSans-115\"/>\n     <use x=\"1311.421875\" xlink:href=\"#DejaVuSans-115\"/>\n    </g>\n   </g>\n   <g id=\"legend_2\">\n    <g id=\"patch_13\">\n     <path d=\"M 402.339489 61.498 \nL 506.214489 61.498 \nQ 508.214489 61.498 508.214489 59.498 \nL 508.214489 31.14175 \nQ 508.214489 29.14175 506.214489 29.14175 \nL 402.339489 29.14175 \nQ 400.339489 29.14175 400.339489 31.14175 \nL 400.339489 59.498 \nQ 400.339489 61.498 402.339489 61.498 \nz\n\" style=\"fill:#e5e5e5;opacity:0.8;stroke:#cccccc;stroke-linejoin:miter;stroke-width:0.5;\"/>\n    </g>\n    <g id=\"line2d_55\">\n     <path d=\"M 404.339489 37.240187 \nL 424.339489 37.240187 \n\" style=\"fill:none;stroke:#0000ff;stroke-linecap:square;stroke-width:1.5;\"/>\n    </g>\n    <g id=\"line2d_56\"/>\n    <g id=\"text_28\">\n     <!-- Training loss -->\n     <g transform=\"translate(432.339489 40.740187)scale(0.1 -0.1)\">\n      <use xlink:href=\"#DejaVuSans-84\"/>\n      <use x=\"46.333984\" xlink:href=\"#DejaVuSans-114\"/>\n      <use x=\"87.447266\" xlink:href=\"#DejaVuSans-97\"/>\n      <use x=\"148.726562\" xlink:href=\"#DejaVuSans-105\"/>\n      <use x=\"176.509766\" xlink:href=\"#DejaVuSans-110\"/>\n      <use x=\"239.888672\" xlink:href=\"#DejaVuSans-105\"/>\n      <use x=\"267.671875\" xlink:href=\"#DejaVuSans-110\"/>\n      <use x=\"331.050781\" xlink:href=\"#DejaVuSans-103\"/>\n      <use x=\"394.527344\" xlink:href=\"#DejaVuSans-32\"/>\n      <use x=\"426.314453\" xlink:href=\"#DejaVuSans-108\"/>\n      <use x=\"454.097656\" xlink:href=\"#DejaVuSans-111\"/>\n      <use x=\"515.279297\" xlink:href=\"#DejaVuSans-115\"/>\n      <use x=\"567.378906\" xlink:href=\"#DejaVuSans-115\"/>\n     </g>\n    </g>\n    <g id=\"line2d_57\">\n     <path d=\"M 404.339489 51.918313 \nL 424.339489 51.918313 \n\" style=\"fill:none;stroke:#ff0000;stroke-linecap:square;stroke-width:1.5;\"/>\n    </g>\n    <g id=\"line2d_58\"/>\n    <g id=\"text_29\">\n     <!-- Validation loss -->\n     <g transform=\"translate(432.339489 55.418313)scale(0.1 -0.1)\">\n      <use xlink:href=\"#DejaVuSans-86\"/>\n      <use x=\"60.658203\" xlink:href=\"#DejaVuSans-97\"/>\n      <use x=\"121.9375\" xlink:href=\"#DejaVuSans-108\"/>\n      <use x=\"149.720703\" xlink:href=\"#DejaVuSans-105\"/>\n      <use x=\"177.503906\" xlink:href=\"#DejaVuSans-100\"/>\n      <use x=\"240.980469\" xlink:href=\"#DejaVuSans-97\"/>\n      <use x=\"302.259766\" xlink:href=\"#DejaVuSans-116\"/>\n      <use x=\"341.46875\" xlink:href=\"#DejaVuSans-105\"/>\n      <use x=\"369.251953\" xlink:href=\"#DejaVuSans-111\"/>\n      <use x=\"430.433594\" xlink:href=\"#DejaVuSans-110\"/>\n      <use x=\"493.8125\" xlink:href=\"#DejaVuSans-32\"/>\n      <use x=\"525.599609\" xlink:href=\"#DejaVuSans-108\"/>\n      <use x=\"553.382812\" xlink:href=\"#DejaVuSans-111\"/>\n      <use x=\"614.564453\" xlink:href=\"#DejaVuSans-115\"/>\n      <use x=\"666.664062\" xlink:href=\"#DejaVuSans-115\"/>\n     </g>\n    </g>\n   </g>\n  </g>\n </g>\n <defs>\n  <clipPath id=\"p2545f8f627\">\n   <rect height=\"271.8\" width=\"304.363636\" x=\"30.103125\" y=\"24.14175\"/>\n  </clipPath>\n  <clipPath id=\"pa48cd27c07\">\n   <rect height=\"271.8\" width=\"304.363636\" x=\"395.339489\" y=\"24.14175\"/>\n  </clipPath>\n </defs>\n</svg>\n",
      "image/png": "[encoded data removed]"
     },
     "metadata": {}
    }
   ],
   "source": [
    "plot_history(history)"
   ]
  }
 ]
}