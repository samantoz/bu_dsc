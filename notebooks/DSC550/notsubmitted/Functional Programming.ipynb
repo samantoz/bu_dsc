{
 "cells": [
  {
   "cell_type": "code",
   "execution_count": null,
   "metadata": {
    "collapsed": true
   },
   "outputs": [],
   "source": [
    "# Simple short list of integers\n",
    "data_model = [1,2,3,4,5,6]"
   ]
  },
  {
   "cell_type": "code",
   "execution_count": null,
   "metadata": {},
   "outputs": [],
   "source": [
    "# Using a loop\n",
    "# Uses single thread of execution\n",
    "\n",
    "map_loop_result = []\n",
    "scale = 10\n",
    "for i in data_model:\n",
    "    map_loop_result.append (i * scale)\n",
    "\n",
    "print (map_loop_result)"
   ]
  },
  {
   "cell_type": "code",
   "execution_count": null,
   "metadata": {},
   "outputs": [],
   "source": [
    "# Using the same above loop using list comprehension\n",
    "# In this case also data processing happens in the memory\n",
    "# of a single machine on a single thread of execution\n",
    "map_result_lc = [x * scale for x in data_model]; map_result_lc"
   ]
  },
  {
   "cell_type": "code",
   "execution_count": null,
   "metadata": {},
   "outputs": [],
   "source": [
    "'''\n",
    "Data processing using the map function involves uniformly applying a specific function to each element of a data model.\n",
    "Map function could be distributed across thousands of computers\n",
    "'''\n",
    "''' In python3 we need to wrap the output of a map function in a list to make it usable as map'''\n",
    "list (map (lambda x: x * scale, data_model))"
   ]
  },
  {
   "cell_type": "code",
   "execution_count": null,
   "metadata": {},
   "outputs": [],
   "source": [
    "# the lambda function could be defined outside of the map to increase code readability\n",
    "ml = lambda x: x * scale\n",
    "list (map (ml, data_model))"
   ]
  },
  {
   "cell_type": "code",
   "execution_count": null,
   "metadata": {},
   "outputs": [],
   "source": [
    "# Using traditional looping\n",
    "\n",
    "filter_loop_result = []\n",
    "for i in data_model:\n",
    "    if i % 2 == 0:\n",
    "        filter_loop_result.append(i)\n",
    "    \n",
    "print (filter_loop_result)"
   ]
  },
  {
   "cell_type": "code",
   "execution_count": null,
   "metadata": {},
   "outputs": [],
   "source": [
    "# Using list comprehension\n",
    "\n",
    "filter_result_lc = [i for i in data_model if i % 2 == 0]\n",
    "filter_result_lc"
   ]
  },
  {
   "cell_type": "code",
   "execution_count": null,
   "metadata": {},
   "outputs": [],
   "source": [
    "''' \n",
    "Data filtering is one of the most often used operations in data processing. \n",
    "Filtering in Python can also be efficiently done using the functional programming paradigm\n",
    "supported by the filter built-in global function.\n",
    "'''\n",
    "lada = lambda x: x % 2 == 0\n",
    "list (filter(lada, data_model))"
   ]
  },
  {
   "cell_type": "code",
   "execution_count": null,
   "metadata": {},
   "outputs": [],
   "source": [
    "sum_elem = 0\n",
    "for x in data_model:\n",
    "    sum_elem += x\n",
    "\n",
    "print (sum_elem)"
   ]
  },
  {
   "cell_type": "code",
   "execution_count": null,
   "metadata": {},
   "outputs": [],
   "source": [
    "from functools import reduce\n",
    "reduce(lambda x,y: x + y, data_model)"
   ]
  },
  {
   "cell_type": "code",
   "execution_count": null,
   "metadata": {},
   "outputs": [],
   "source": [
    "def rd (x,y):\n",
    "    print (x,y)\n",
    "    return x + y\n",
    "\n",
    "reduce(rd, data_model)"
   ]
  },
  {
   "cell_type": "code",
   "execution_count": null,
   "metadata": {},
   "outputs": [],
   "source": [
    "max_reduce = lambda x,y: x if x > y else y\n",
    "reduce(max_reduce, data_model)"
   ]
  },
  {
   "cell_type": "code",
   "execution_count": null,
   "metadata": {},
   "outputs": [],
   "source": [
    "min_reduce = lambda x,y: x if x < y else y\n",
    "reduce(min_reduce, data_model)"
   ]
  },
  {
   "cell_type": "code",
   "execution_count": null,
   "metadata": {
    "collapsed": true
   },
   "outputs": [],
   "source": [
    "list_of_words = \"A quick brownish fox jumps on the lazy dog\".split()"
   ]
  },
  {
   "cell_type": "code",
   "execution_count": null,
   "metadata": {},
   "outputs": [],
   "source": [
    "sorted_in_place = list_of_words.copy()\n",
    "sorted_in_place.sort(); sorted_in_place"
   ]
  },
  {
   "cell_type": "code",
   "execution_count": null,
   "metadata": {},
   "outputs": [],
   "source": [
    "list_of_words"
   ]
  },
  {
   "cell_type": "code",
   "execution_count": null,
   "metadata": {},
   "outputs": [],
   "source": [
    "sorted(list_of_words)"
   ]
  },
  {
   "cell_type": "code",
   "execution_count": null,
   "metadata": {},
   "outputs": [],
   "source": [
    "sorted(list_of_words, reverse=True)"
   ]
  },
  {
   "cell_type": "code",
   "execution_count": null,
   "metadata": {},
   "outputs": [],
   "source": [
    "sorted (list_of_words, key = lambda w: len(w))"
   ]
  },
  {
   "cell_type": "code",
   "execution_count": null,
   "metadata": {
    "collapsed": true
   },
   "outputs": [],
   "source": []
  }
 ],
 "metadata": {
  "kernelspec": {
   "display_name": "Python 3",
   "language": "python",
   "name": "python3"
  },
  "language_info": {
   "codemirror_mode": {
    "name": "ipython",
    "version": 3
   },
   "file_extension": ".py",
   "mimetype": "text/x-python",
   "name": "python",
   "nbconvert_exporter": "python",
   "pygments_lexer": "ipython3",
   "version": "3.6.1"
  }
 },
 "nbformat": 4,
 "nbformat_minor": 2
}