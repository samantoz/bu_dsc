{
 "metadata": {
  "language_info": {
   "codemirror_mode": {
    "name": "ipython",
    "version": 3
   },
   "file_extension": ".py",
   "mimetype": "text/x-python",
   "name": "python",
   "nbconvert_exporter": "python",
   "pygments_lexer": "ipython3",
   "version": "3.8.5-final"
  },
  "orig_nbformat": 2,
  "kernelspec": {
   "name": "python38564bitbaseconda9c4f9ef913ec46fba5f8aa62969238f5",
   "display_name": "Python 3.8.5 64-bit ('base': conda)"
  }
 },
 "nbformat": 4,
 "nbformat_minor": 2,
 "cells": [
  {
   "source": [
    "The first step is coming up with an idea Identify an original business problem for your project.\n",
    "\n",
    "The second step is locating your data. \n",
    "\n",
    "Begin Milestone 1 with a 250-500-word narrative describing an original idea for an analysis/model building business problem.\n",
    "\n",
    "Then, do a graphical analysis creating a minimum of four graphs.\n",
    "\n",
    "Label your graphs appropriately and explain/analyze the information provided by each graph.\n",
    "\n",
    "Write a short overview/conclusion of the insights gained from your graphical analysis."
   ],
   "cell_type": "markdown",
   "metadata": {}
  },
  {
   "cell_type": "code",
   "execution_count": 1,
   "metadata": {},
   "outputs": [],
   "source": [
    "# Grouping / Classification of documents based on Text Analysis - Part 1 \n",
    "## Graphics Analysis\n",
    "\n",
    "import pandas as pd \n",
    "import numpy as np\n",
    "import matplotlib.pyplot as plt\n"
   ]
  },
  {
   "cell_type": "code",
   "execution_count": 13,
   "metadata": {},
   "outputs": [
    {
     "output_type": "stream",
     "name": "stdout",
     "text": [
      "Python version:\n",
      "Python 3.8.5\n",
      "pandas version: 1.2.4\n",
      "numpy version: 1.19.2\n"
     ]
    }
   ],
   "source": [
    "#check versions of packages\n",
    "print('Python version:')  \n",
    "!python --version\n",
    "print('pandas version:', pd.__version__)\n",
    "print('numpy version:', np.__version__)\n",
    "# print('scikit-learn version:', sklearn.__version__)\n",
    "# print('NLTK version:', nltk.__version__)"
   ]
  },
  {
   "cell_type": "code",
   "execution_count": 2,
   "metadata": {},
   "outputs": [],
   "source": [
    "# Setting the parameters for the pandas dataframe\n",
    "\n",
    "output_width = 1000\n",
    "#output_width = 80 #//*** Normal Output width\n",
    "pd.set_option(\"display.width\", output_width)\n",
    "pd.set_option('display.max_rows', 100)\n",
    "pd.set_option('display.max_columns', None)\n",
    "pd.set_option('display.max_colwidth', None)"
   ]
  },
  {
   "cell_type": "code",
   "execution_count": 14,
   "metadata": {},
   "outputs": [
    {
     "output_type": "execute_result",
     "data": {
      "text/plain": [
       "        category                                                                     headline          authors                                                                                                                                        link                                                                        short_description       date\n",
       "0          CRIME             There Were 2 Mass Shootings In Texas Last Week, But Only 1 On TV  Melissa Jeltsen                                         https://www.huffingtonpost.com/entry/texas-amanda-painter-mass-shooting_us_5b081ab4e4b0802d69caad89             She left her husband. He killed their children. Just another day in America. 2018-05-26\n",
       "1  ENTERTAINMENT  Will Smith Joins Diplo And Nicky Jam For The 2018 World Cup's Official Song    Andy McDonald  https://www.huffingtonpost.com/entry/will-smith-joins-diplo-and-nicky-jam-for-the-official-2018-world-cup-song_us_5b09726fe4b0fdb2aa541201                                                                 Of course it has a song. 2018-05-26\n",
       "2  ENTERTAINMENT                              Hugh Grant Marries For The First Time At Age 57       Ron Dicker                                                         https://www.huffingtonpost.com/entry/hugh-grant-marries_us_5b09212ce4b0568a880b9a8c  The actor and his longtime girlfriend Anna Eberstein tied the knot in a civil ceremony. 2018-05-26\n",
       "3  ENTERTAINMENT        Jim Carrey Blasts 'Castrato' Adam Schiff And Democrats In New Artwork       Ron Dicker                                           https://www.huffingtonpost.com/entry/jim-carrey-adam-schiff-democrats_us_5b0950e8e4b0fdb2aa53e675   The actor gives Dems an ass-kicking for not fighting hard enough against Donald Trump. 2018-05-26\n",
       "4  ENTERTAINMENT      Julianna Margulies Uses Donald Trump Poop Bags To Pick Up After Her Dog       Ron Dicker                                          https://www.huffingtonpost.com/entry/julianna-margulies-trump-poop-bag_us_5b093ec2e4b0fdb2aa53df70  The \"Dietland\" actress said using the bags is a \"really cathartic, therapeutic moment.\" 2018-05-26"
      ],
      "text/html": "<div>\n<style scoped>\n    .dataframe tbody tr th:only-of-type {\n        vertical-align: middle;\n    }\n\n    .dataframe tbody tr th {\n        vertical-align: top;\n    }\n\n    .dataframe thead th {\n        text-align: right;\n    }\n</style>\n<table border=\"1\" class=\"dataframe\">\n  <thead>\n    <tr style=\"text-align: right;\">\n      <th></th>\n      <th>category</th>\n      <th>headline</th>\n      <th>authors</th>\n      <th>link</th>\n      <th>short_description</th>\n      <th>date</th>\n    </tr>\n  </thead>\n  <tbody>\n    <tr>\n      <th>0</th>\n      <td>CRIME</td>\n      <td>There Were 2 Mass Shootings In Texas Last Week, But Only 1 On TV</td>\n      <td>Melissa Jeltsen</td>\n      <td>https://www.huffingtonpost.com/entry/texas-amanda-painter-mass-shooting_us_5b081ab4e4b0802d69caad89</td>\n      <td>She left her husband. He killed their children. Just another day in America.</td>\n      <td>2018-05-26</td>\n    </tr>\n    <tr>\n      <th>1</th>\n      <td>ENTERTAINMENT</td>\n      <td>Will Smith Joins Diplo And Nicky Jam For The 2018 World Cup's Official Song</td>\n      <td>Andy McDonald</td>\n      <td>https://www.huffingtonpost.com/entry/will-smith-joins-diplo-and-nicky-jam-for-the-official-2018-world-cup-song_us_5b09726fe4b0fdb2aa541201</td>\n      <td>Of course it has a song.</td>\n      <td>2018-05-26</td>\n    </tr>\n    <tr>\n      <th>2</th>\n      <td>ENTERTAINMENT</td>\n      <td>Hugh Grant Marries For The First Time At Age 57</td>\n      <td>Ron Dicker</td>\n      <td>https://www.huffingtonpost.com/entry/hugh-grant-marries_us_5b09212ce4b0568a880b9a8c</td>\n      <td>The actor and his longtime girlfriend Anna Eberstein tied the knot in a civil ceremony.</td>\n      <td>2018-05-26</td>\n    </tr>\n    <tr>\n      <th>3</th>\n      <td>ENTERTAINMENT</td>\n      <td>Jim Carrey Blasts 'Castrato' Adam Schiff And Democrats In New Artwork</td>\n      <td>Ron Dicker</td>\n      <td>https://www.huffingtonpost.com/entry/jim-carrey-adam-schiff-democrats_us_5b0950e8e4b0fdb2aa53e675</td>\n      <td>The actor gives Dems an ass-kicking for not fighting hard enough against Donald Trump.</td>\n      <td>2018-05-26</td>\n    </tr>\n    <tr>\n      <th>4</th>\n      <td>ENTERTAINMENT</td>\n      <td>Julianna Margulies Uses Donald Trump Poop Bags To Pick Up After Her Dog</td>\n      <td>Ron Dicker</td>\n      <td>https://www.huffingtonpost.com/entry/julianna-margulies-trump-poop-bag_us_5b093ec2e4b0fdb2aa53df70</td>\n      <td>The \"Dietland\" actress said using the bags is a \"really cathartic, therapeutic moment.\"</td>\n      <td>2018-05-26</td>\n    </tr>\n  </tbody>\n</table>\n</div>"
     },
     "metadata": {},
     "execution_count": 14
    }
   ],
   "source": [
    "#Step 1: Load data into a dataframe \n",
    "filename = \"~/Documents/mygithub/bu_dsc/data/external/News_Category_Dataset_v2.json\"\n",
    "\n",
    "df_all = pd.read_json(filename, lines = True)\n",
    "#display the first few rows of data\n",
    "df_all.head()"
   ]
  },
  {
   "cell_type": "code",
   "execution_count": 15,
   "metadata": {},
   "outputs": [
    {
     "output_type": "stream",
     "name": "stdout",
     "text": [
      "The dimension of the table is:  (200853, 6)\n"
     ]
    }
   ],
   "source": [
    "# Step 2: Display the dimensions of the file (so you’ll have a good idea the amount of data you are working with.\n",
    "print(\"The dimension of the table is: \", df_all.shape)"
   ]
  },
  {
   "cell_type": "code",
   "execution_count": 17,
   "metadata": {},
   "outputs": [
    {
     "output_type": "stream",
     "name": "stdout",
     "text": [
      "Describe Data\n",
      "        category        headline authors                                                                                                                           link short_description                 date\n",
      "count     200853          200853  200853                                                                                                                         200853            200853               200853\n",
      "unique        41          199344   27993                                                                                                                         200812            178353                 2309\n",
      "top     POLITICS  Sunday Roundup          https://www.huffingtonpost.comhttp://www.weather.com/news/science/environment/10-cities-could-run-out-water-20131212?pageno=1                    2012-12-21 00:00:00\n",
      "freq       32739              90   36620                                                                                                                              2             19712                  100\n",
      "first        NaN             NaN     NaN                                                                                                                            NaN               NaN  2012-01-28 00:00:00\n",
      "last         NaN             NaN     NaN                                                                                                                            NaN               NaN  2018-05-26 00:00:00\n"
     ]
    }
   ],
   "source": [
    "#Step 3: what type of variables are in the table \n",
    "# Look at summary information about your data (total, mean, min, max, freq, unique, etc.) \n",
    "# Does this present any more questions for you? \n",
    "# Does it lead you to a conclusion yet?\n",
    "\n",
    "print(\"Describe Data\") \n",
    "print(df_all.describe()) \n",
    "# print(\"Summarized Data\") \n",
    "# print(df_all.describe(include='O'))"
   ]
  },
  {
   "cell_type": "code",
   "execution_count": null,
   "metadata": {},
   "outputs": [],
   "source": []
  }
 ]
}