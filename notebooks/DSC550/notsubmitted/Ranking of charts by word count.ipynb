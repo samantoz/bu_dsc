{
 "metadata": {
  "language_info": {
   "codemirror_mode": {
    "name": "ipython",
    "version": 3
   },
   "file_extension": ".py",
   "mimetype": "text/x-python",
   "name": "python",
   "nbconvert_exporter": "python",
   "pygments_lexer": "ipython3",
   "version": "3.8.5-final"
  },
  "orig_nbformat": 2,
  "kernelspec": {
   "name": "python38564bitbaseconda9c4f9ef913ec46fba5f8aa62969238f5",
   "display_name": "Python 3.8.5 64-bit ('base': conda)"
  }
 },
 "nbformat": 4,
 "nbformat_minor": 2,
 "cells": [
  {
   "source": [
    "# Ranking of the Charts"
   ],
   "cell_type": "markdown",
   "metadata": {}
  },
  {
   "source": [
    "## Description of the data\n",
    "## gapminder data\n",
    ">> This Gapminder data shows the excerpt of the data available at Gapminder.org. It shows for each of 142 countries, values for life expectancy, GDP per capita, and population, every five years from 1952 to 2007.\n",
    "## Ranking\n",
    "I have ranked the graphs from 1 to 3 where 1 being the lowest and 3 being the highest."
   ],
   "cell_type": "markdown",
   "metadata": {}
  },
  {
   "source": [
    "## Line Chart Rank 1\n",
    "> A line graph has the advantage of showing changes over time. Usually time is plotted on the horizontal axis while the change we are measuring is plotted on the y or vertical axis. So if we can chose the right scales for each axis we can easily see the changes in one group over time. We can also plot the changes of more than one group and easily compare the data over time.\n",
    "But for my analysis I was interested to plot the Life expectancy against the GDP per capita. But as each line represents a country it was showing the positive relationship for each country."
   ],
   "cell_type": "markdown",
   "metadata": {}
  },
  {
   "source": [
    "## Pie Chart Rank 2\n",
    "> A pie chart is a 2 dimensional circle. The whole chart shows the sum of all its data and the individual slices represent a percentage of the whole. So I plotted the total population taking the top 10 countries. I have tried to provide the pros and cons of using the pie chart. So taking all 142 countries we cannot plot all those in a single pie chart. So I have ranked it as my second.\n",
    ">> Advantages of a Pie Chart\n",
    "<ul>\n",
    "<li> It represents data visually as a fraction part of a whole</li>\n",
    "<li> It helps to see the data comparison at a glance</li>\n",
    "<li> To emphasize points we can manipulate pieces of data in a pie chart. </li>\n",
    "</ul>\n",
    ">> Disadvantages of a Pie Chart\n",
    "<ul>\n",
    "<li> If too many pieces of data are used, pie charts become less effective.</li>\n",
    "<li> In a pie chart as the reader has to compare non adjacent slices so angles has to be factored in for comparison.<?li>\n",
    "<li> Showing data in positive scale and negative scale is difficult in a pie chart </li>  \n",
    "</ul>"
   ],
   "cell_type": "markdown",
   "metadata": {}
  },
  {
   "source": [
    "## Scatter Plot Rank 3\n",
    "> A scatter Plot is great for general overviews, finding outliers and showing patterns between some dimensions. So for my analysis this was ranked as the top. I plotted the GDP per capita (in USD) in the X axis and the Life expectancy in the Y axis.\n",
    "<ul>\n",
    "<li>It shows the relationship between 2 variables that is part of my analysis.</li>\n",
    "<li>Additionally I could show the Total population as the size of the dots.</li>\n",
    "<Li> I was also able to show the continent as the hue(color) within the same graph.</li>\n",
    "<li>It can used to show large quantities of data(showing all 142 countries in a single graph) and easy to see correlations and clustering effects</li>\n",
    "<li>It is the best <b>method</b> to show a non-linear pattern.It also shows the total population proportional to the size of the dots.</li>\n",
    "<li>The range of data flow, i.e. maximum and minimum value, can be determined</li>\n",
    "<li>Observation and reading are straightforward</li>\n",
    "</ul>"
   ],
   "cell_type": "markdown",
   "metadata": {}
  },
  {
   "cell_type": "code",
   "execution_count": 2,
   "metadata": {},
   "outputs": [
    {
     "output_type": "stream",
     "name": "stdout",
     "text": [
      "Markdown Count :495\nHeading Count  :4\nCode Count     :0\n"
     ]
    }
   ],
   "source": [
    "import io\n",
    "from nbformat import current\n",
    "\n",
    "filepath = \"/home/arindam/Documents/GitHub/practice/Ranking of charts.ipynb\"\n",
    "with io.open(filepath, 'r', encoding='utf-8') as f:\n",
    "    nb = current.read(f, 'json')\n",
    "\n",
    "word_count_markdown = 0\n",
    "word_count_heading = 0\n",
    "word_count_code = 0\n",
    "\n",
    "for cell in nb.worksheets[0].cells:\n",
    "    if cell.cell_type == \"markdown\":\n",
    "        word_count_markdown += len(cell['source'].replace('#', '').lstrip().split(' '))\n",
    "    elif cell.cell_type == \"heading\":\n",
    "            word_count_heading += len(cell['source'].replace('#', '').lstrip().split(' '))\n",
    "    elif cell.cell_type == \"code\":\n",
    "            word_count_code += len(cell['input'].replace('#', '').lstrip().split(' '))\n",
    "\n",
    "print('Markdown Count :' + str(word_count_markdown))\n",
    "print('Heading Count  :' + str(word_count_heading))\n",
    "print('Code Count     :' + str(word_count_code))"
   ]
  },
  {
   "cell_type": "code",
   "execution_count": null,
   "metadata": {},
   "outputs": [],
   "source": []
  }
 ]
}