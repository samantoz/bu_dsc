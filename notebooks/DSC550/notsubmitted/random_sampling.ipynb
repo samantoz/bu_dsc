{
 "cells": [
  {
   "cell_type": "code",
   "execution_count": null,
   "metadata": {
    "collapsed": true
   },
   "outputs": [],
   "source": [
    "import random"
   ]
  },
  {
   "cell_type": "code",
   "execution_count": null,
   "metadata": {},
   "outputs": [],
   "source": [
    "value = random.random()\n",
    "print(value)"
   ]
  },
  {
   "cell_type": "code",
   "execution_count": null,
   "metadata": {},
   "outputs": [],
   "source": [
    "# get a uniform random float between 1 and 10\n",
    "value = random.uniform(1,5)\n",
    "print(value)"
   ]
  },
  {
   "cell_type": "code",
   "execution_count": null,
   "metadata": {},
   "outputs": [],
   "source": [
    "# get a random integers between 1 and 6 (both inclusive)\n",
    "value = random.randint(1,6)\n",
    "print(value)"
   ]
  },
  {
   "cell_type": "code",
   "execution_count": null,
   "metadata": {},
   "outputs": [],
   "source": [
    "colors = ['red','black','green']\n",
    "results = random.choices(colors, k=5)\n",
    "print(results)"
   ]
  },
  {
   "cell_type": "code",
   "execution_count": null,
   "metadata": {},
   "outputs": [],
   "source": [
    "# putting in a weight for the choice\n",
    "colors = ['red','black','green']\n",
    "results = random.choices(colors, weights=[3,3,1], k=5)\n",
    "print(results)"
   ]
  },
  {
   "cell_type": "code",
   "execution_count": null,
   "metadata": {},
   "outputs": [],
   "source": [
    "# list of deck of cards\n",
    "deck = list(range(1,53))\n",
    "print(deck)"
   ]
  },
  {
   "cell_type": "code",
   "execution_count": null,
   "metadata": {},
   "outputs": [],
   "source": [
    "# shuffle the deck\n",
    "deck = list(range(1,53))\n",
    "random.shuffle(deck)\n",
    "print(deck)"
   ]
  },
  {
   "cell_type": "code",
   "execution_count": null,
   "metadata": {},
   "outputs": [],
   "source": [
    "# shuffle the hand of 5 cards from the deck\n",
    "deck = list(range(1,53))\n",
    "hand = random.sample(deck, k=5)\n",
    "print(hand)"
   ]
  },
  {
   "cell_type": "code",
   "execution_count": null,
   "metadata": {},
   "outputs": [],
   "source": [
    "''' Super simple module to create a basic random data for tutorials'''\n",
    "first_names = ['John','Jane','Corey']\n",
    "\n",
    "last_names = ['Smith','Doe','Jenkins']\n",
    "\n",
    "street_names = ['Main','High','Pearl']\n",
    "\n",
    "fake_cities = ['Metropolis','Eerie',\"King's Landing\"]\n",
    "\n",
    "states = ['AL','NE','MO']\n",
    "\n",
    "for num in range(5):\n",
    "    first = random.choice(first_names)\n",
    "    last = random.choice(last_names)\n",
    "    \n",
    "    phone = f'{random.randint(100,999)}-555-{random.randint(1000,9999)}'\n",
    "    \n",
    "    street_num = random.randint(100,999)\n",
    "    street = random.choice(street_names)\n",
    "    city = random.choice(fake_cities)\n",
    "    state = random.choice(states)\n",
    "    zip_code = random.randint(10000, 99999)\n",
    "    address = f'{street_num} {street} St., {city} {state} {zip_code}'\n",
    "    \n",
    "    email = first.lower() +'.'+ last.lower() + '@bogusemail.com'\n",
    "    \n",
    "    print (f'{first} {last}\\n{phone}\\n{address}\\n{email}\\n')"
   ]
  },
  {
   "cell_type": "code",
   "execution_count": null,
   "metadata": {
    "collapsed": true
   },
   "outputs": [],
   "source": []
  }
 ],
 "metadata": {
  "kernelspec": {
   "display_name": "Python 3",
   "language": "python",
   "name": "python3"
  },
  "language_info": {
   "codemirror_mode": {
    "name": "ipython",
    "version": 3
   },
   "file_extension": ".py",
   "mimetype": "text/x-python",
   "name": "python",
   "nbconvert_exporter": "python",
   "pygments_lexer": "ipython3",
   "version": "3.6.1"
  }
 },
 "nbformat": 4,
 "nbformat_minor": 2
}
