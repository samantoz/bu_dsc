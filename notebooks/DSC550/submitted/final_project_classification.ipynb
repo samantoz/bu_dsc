{
 "metadata": {
  "language_info": {
   "codemirror_mode": {
    "name": "ipython",
    "version": 3
   },
   "file_extension": ".py",
   "mimetype": "text/x-python",
   "name": "python",
   "nbconvert_exporter": "python",
   "pygments_lexer": "ipython3",
   "version": "3.8.5-final"
  },
  "orig_nbformat": 2,
  "kernelspec": {
   "name": "python38564bitdd2052ddce364b29b70b9ef2f4771a5e",
   "display_name": "Python 3.8.5 64-bit"
  }
 },
 "nbformat": 4,
 "nbformat_minor": 2,
 "cells": [
  {
   "cell_type": "code",
   "execution_count": null,
   "metadata": {},
   "outputs": [],
   "source": [
    "# Importing the relevant packages\n",
    "import pandas as pd\n",
    "from sklearn.preprocessing import LabelEncoder"
   ]
  },
  {
   "cell_type": "code",
   "execution_count": 9,
   "metadata": {},
   "outputs": [
    {
     "output_type": "execute_result",
     "data": {
      "text/plain": [
       "        category                                           headline  \\\n",
       "0          CRIME  There Were 2 Mass Shootings In Texas Last Week...   \n",
       "1  ENTERTAINMENT  Will Smith Joins Diplo And Nicky Jam For The 2...   \n",
       "2  ENTERTAINMENT    Hugh Grant Marries For The First Time At Age 57   \n",
       "3  ENTERTAINMENT  Jim Carrey Blasts 'Castrato' Adam Schiff And D...   \n",
       "4  ENTERTAINMENT  Julianna Margulies Uses Donald Trump Poop Bags...   \n",
       "\n",
       "           authors                                               link  \\\n",
       "0  Melissa Jeltsen  https://www.huffingtonpost.com/entry/texas-ama...   \n",
       "1    Andy McDonald  https://www.huffingtonpost.com/entry/will-smit...   \n",
       "2       Ron Dicker  https://www.huffingtonpost.com/entry/hugh-gran...   \n",
       "3       Ron Dicker  https://www.huffingtonpost.com/entry/jim-carre...   \n",
       "4       Ron Dicker  https://www.huffingtonpost.com/entry/julianna-...   \n",
       "\n",
       "                                   short_description       date  \n",
       "0  She left her husband. He killed their children... 2018-05-26  \n",
       "1                           Of course it has a song. 2018-05-26  \n",
       "2  The actor and his longtime girlfriend Anna Ebe... 2018-05-26  \n",
       "3  The actor gives Dems an ass-kicking for not fi... 2018-05-26  \n",
       "4  The \"Dietland\" actress said using the bags is ... 2018-05-26  "
      ],
      "text/html": "<div>\n<style scoped>\n    .dataframe tbody tr th:only-of-type {\n        vertical-align: middle;\n    }\n\n    .dataframe tbody tr th {\n        vertical-align: top;\n    }\n\n    .dataframe thead th {\n        text-align: right;\n    }\n</style>\n<table border=\"1\" class=\"dataframe\">\n  <thead>\n    <tr style=\"text-align: right;\">\n      <th></th>\n      <th>category</th>\n      <th>headline</th>\n      <th>authors</th>\n      <th>link</th>\n      <th>short_description</th>\n      <th>date</th>\n    </tr>\n  </thead>\n  <tbody>\n    <tr>\n      <th>0</th>\n      <td>CRIME</td>\n      <td>There Were 2 Mass Shootings In Texas Last Week...</td>\n      <td>Melissa Jeltsen</td>\n      <td>https://www.huffingtonpost.com/entry/texas-ama...</td>\n      <td>She left her husband. He killed their children...</td>\n      <td>2018-05-26</td>\n    </tr>\n    <tr>\n      <th>1</th>\n      <td>ENTERTAINMENT</td>\n      <td>Will Smith Joins Diplo And Nicky Jam For The 2...</td>\n      <td>Andy McDonald</td>\n      <td>https://www.huffingtonpost.com/entry/will-smit...</td>\n      <td>Of course it has a song.</td>\n      <td>2018-05-26</td>\n    </tr>\n    <tr>\n      <th>2</th>\n      <td>ENTERTAINMENT</td>\n      <td>Hugh Grant Marries For The First Time At Age 57</td>\n      <td>Ron Dicker</td>\n      <td>https://www.huffingtonpost.com/entry/hugh-gran...</td>\n      <td>The actor and his longtime girlfriend Anna Ebe...</td>\n      <td>2018-05-26</td>\n    </tr>\n    <tr>\n      <th>3</th>\n      <td>ENTERTAINMENT</td>\n      <td>Jim Carrey Blasts 'Castrato' Adam Schiff And D...</td>\n      <td>Ron Dicker</td>\n      <td>https://www.huffingtonpost.com/entry/jim-carre...</td>\n      <td>The actor gives Dems an ass-kicking for not fi...</td>\n      <td>2018-05-26</td>\n    </tr>\n    <tr>\n      <th>4</th>\n      <td>ENTERTAINMENT</td>\n      <td>Julianna Margulies Uses Donald Trump Poop Bags...</td>\n      <td>Ron Dicker</td>\n      <td>https://www.huffingtonpost.com/entry/julianna-...</td>\n      <td>The \"Dietland\" actress said using the bags is ...</td>\n      <td>2018-05-26</td>\n    </tr>\n  </tbody>\n</table>\n</div>"
     },
     "metadata": {},
     "execution_count": 9
    }
   ],
   "source": [
    "# This dataset contains the topics already marked and so I would like to use this as training set for my model.\n",
    "\n",
    "\n",
    "filename = \"~/Documents/mygithub/bu_dsc/data/external/News_Category_Dataset_v2.json\"\n",
    "test_file = \"~/Documents/mygithub/bu_dsc/data/external/global-issues.csv\"\n",
    "\n",
    "data = pd.read_json(filename, lines = True)\n",
    "#display the first few rows of data\n",
    "data.head()"
   ]
  },
  {
   "source": [
    "'''\n",
    "Data Description\n",
    "The data consists of a collection of news where each news entry is represented by the following columns:\n",
    "\n",
    "category: Category of the news (string)\n",
    "headline: Headline of the news (string)\n",
    "author: Authors and Contributors or Associations (string)\n",
    "short_description: Short description of the news' content (string)\n",
    "date: Date of the published news. (date)\n",
    "The goal is to classify the news category given only the headline. An accuracy of 90% on the test set is aimed.\n",
    "'''"
   ],
   "cell_type": "code",
   "metadata": {},
   "execution_count": null,
   "outputs": []
  },
  {
   "cell_type": "code",
   "execution_count": 12,
   "metadata": {},
   "outputs": [
    {
     "output_type": "stream",
     "name": "stdout",
     "text": [
      "<class 'pandas.core.frame.DataFrame'>\nRangeIndex: 200853 entries, 0 to 200852\nData columns (total 6 columns):\n #   Column             Non-Null Count   Dtype         \n---  ------             --------------   -----         \n 0   category           200853 non-null  object        \n 1   headline           200853 non-null  object        \n 2   authors            200853 non-null  object        \n 3   link               200853 non-null  object        \n 4   short_description  200853 non-null  object        \n 5   date               200853 non-null  datetime64[ns]\ndtypes: datetime64[ns](1), object(5)\nmemory usage: 9.2+ MB\n"
     ]
    }
   ],
   "source": [
    "# Inspecting the data\n",
    "data.info()"
   ]
  },
  {
   "cell_type": "code",
   "execution_count": 13,
   "metadata": {},
   "outputs": [
    {
     "output_type": "execute_result",
     "data": {
      "text/plain": [
       "category                 41\n",
       "headline             199344\n",
       "authors               27993\n",
       "link                 200812\n",
       "short_description    178353\n",
       "date                   2309\n",
       "dtype: int64"
      ]
     },
     "metadata": {},
     "execution_count": 13
    }
   ],
   "source": [
    "# Checking the unique elements\n",
    "data.nunique()"
   ]
  },
  {
   "cell_type": "code",
   "execution_count": 15,
   "metadata": {},
   "outputs": [
    {
     "output_type": "stream",
     "name": "stdout",
     "text": [
      "Unique category:  ['CRIME' 'ENTERTAINMENT' 'WORLD NEWS' 'IMPACT' 'POLITICS' 'WEIRD NEWS'\n 'BLACK VOICES' 'WOMEN' 'COMEDY' 'QUEER VOICES' 'SPORTS' 'BUSINESS'\n 'TRAVEL' 'MEDIA' 'TECH' 'RELIGION' 'SCIENCE' 'LATINO VOICES' 'EDUCATION'\n 'COLLEGE' 'PARENTS' 'ARTS & CULTURE' 'STYLE' 'GREEN' 'TASTE'\n 'HEALTHY LIVING' 'THE WORLDPOST' 'GOOD NEWS' 'WORLDPOST' 'FIFTY' 'ARTS'\n 'WELLNESS' 'PARENTING' 'HOME & LIVING' 'STYLE & BEAUTY' 'DIVORCE'\n 'WEDDINGS' 'FOOD & DRINK' 'MONEY' 'ENVIRONMENT' 'CULTURE & ARTS']\n"
     ]
    }
   ],
   "source": [
    "print('Unique category: ', data.category.unique())"
   ]
  },
  {
   "cell_type": "code",
   "execution_count": 16,
   "metadata": {},
   "outputs": [],
   "source": [
    "# Note thate there is the category THE WORLDPOST and WORLDPOST. It is the same category, so it needs to be substituted.\n",
    "data.category = data.category.map(lambda x: \"WORLDPOST\" if x == \"THE WORLDPOST\" else x)"
   ]
  },
  {
   "cell_type": "code",
   "execution_count": 18,
   "metadata": {},
   "outputs": [
    {
     "output_type": "stream",
     "name": "stdout",
     "text": [
      "Unique category:  ['CRIME' 'ENTERTAINMENT' 'WORLD NEWS' 'IMPACT' 'POLITICS' 'WEIRD NEWS'\n 'BLACK VOICES' 'WOMEN' 'COMEDY' 'QUEER VOICES' 'SPORTS' 'BUSINESS'\n 'TRAVEL' 'MEDIA' 'TECH' 'RELIGION' 'SCIENCE' 'LATINO VOICES' 'EDUCATION'\n 'COLLEGE' 'PARENTS' 'ARTS & CULTURE' 'STYLE' 'GREEN' 'TASTE'\n 'HEALTHY LIVING' 'WORLDPOST' 'GOOD NEWS' 'FIFTY' 'ARTS' 'WELLNESS'\n 'PARENTING' 'HOME & LIVING' 'STYLE & BEAUTY' 'DIVORCE' 'WEDDINGS'\n 'FOOD & DRINK' 'MONEY' 'ENVIRONMENT' 'CULTURE & ARTS']\n"
     ]
    },
    {
     "output_type": "execute_result",
     "data": {
      "text/plain": [
       "category                 40\n",
       "headline             199344\n",
       "authors               27993\n",
       "link                 200812\n",
       "short_description    178353\n",
       "date                   2309\n",
       "dtype: int64"
      ]
     },
     "metadata": {},
     "execution_count": 18
    }
   ],
   "source": [
    "# Printing out the new categories\n",
    "# The category count is now showing 40\n",
    "print('Unique category: ', data.category.unique())\n",
    "data.nunique()"
   ]
  },
  {
   "cell_type": "code",
   "execution_count": 19,
   "metadata": {},
   "outputs": [
    {
     "output_type": "execute_result",
     "data": {
      "text/plain": [
       "             category                                            authors\n",
       "0               CRIME                                    Melissa Jeltsen\n",
       "1       ENTERTAINMENT                                      Andy McDonald\n",
       "2       ENTERTAINMENT                                         Ron Dicker\n",
       "3       ENTERTAINMENT                                         Ron Dicker\n",
       "4       ENTERTAINMENT                                         Ron Dicker\n",
       "...               ...                                                ...\n",
       "200836       BUSINESS  Peter S. Goodman, Contributor\\nExecutive Busin...\n",
       "200837       BUSINESS                Ernan Roman, Contributor\\nPresident\n",
       "200838  ENTERTAINMENT  Courtney Garcia, Contributor\\nI tell stories a...\n",
       "200843           TECH               Mateo Gutierrez, Contributor\\nArtist\n",
       "200845           TECH  John Giacobbi, Contributor\\nTales from the Int...\n",
       "\n",
       "[55673 rows x 2 columns]"
      ],
      "text/html": "<div>\n<style scoped>\n    .dataframe tbody tr th:only-of-type {\n        vertical-align: middle;\n    }\n\n    .dataframe tbody tr th {\n        vertical-align: top;\n    }\n\n    .dataframe thead th {\n        text-align: right;\n    }\n</style>\n<table border=\"1\" class=\"dataframe\">\n  <thead>\n    <tr style=\"text-align: right;\">\n      <th></th>\n      <th>category</th>\n      <th>authors</th>\n    </tr>\n  </thead>\n  <tbody>\n    <tr>\n      <th>0</th>\n      <td>CRIME</td>\n      <td>Melissa Jeltsen</td>\n    </tr>\n    <tr>\n      <th>1</th>\n      <td>ENTERTAINMENT</td>\n      <td>Andy McDonald</td>\n    </tr>\n    <tr>\n      <th>2</th>\n      <td>ENTERTAINMENT</td>\n      <td>Ron Dicker</td>\n    </tr>\n    <tr>\n      <th>3</th>\n      <td>ENTERTAINMENT</td>\n      <td>Ron Dicker</td>\n    </tr>\n    <tr>\n      <th>4</th>\n      <td>ENTERTAINMENT</td>\n      <td>Ron Dicker</td>\n    </tr>\n    <tr>\n      <th>...</th>\n      <td>...</td>\n      <td>...</td>\n    </tr>\n    <tr>\n      <th>200836</th>\n      <td>BUSINESS</td>\n      <td>Peter S. Goodman, Contributor\\nExecutive Busin...</td>\n    </tr>\n    <tr>\n      <th>200837</th>\n      <td>BUSINESS</td>\n      <td>Ernan Roman, Contributor\\nPresident</td>\n    </tr>\n    <tr>\n      <th>200838</th>\n      <td>ENTERTAINMENT</td>\n      <td>Courtney Garcia, Contributor\\nI tell stories a...</td>\n    </tr>\n    <tr>\n      <th>200843</th>\n      <td>TECH</td>\n      <td>Mateo Gutierrez, Contributor\\nArtist</td>\n    </tr>\n    <tr>\n      <th>200845</th>\n      <td>TECH</td>\n      <td>John Giacobbi, Contributor\\nTales from the Int...</td>\n    </tr>\n  </tbody>\n</table>\n<p>55673 rows × 2 columns</p>\n</div>"
     },
     "metadata": {},
     "execution_count": 19
    }
   ],
   "source": [
    "# do specific authors write for a specific categories?\n",
    "t = data[['category', 'authors']].groupby(['authors'])\n",
    "t.head()"
   ]
  },
  {
   "cell_type": "code",
   "execution_count": 20,
   "metadata": {},
   "outputs": [
    {
     "output_type": "execute_result",
     "data": {
      "text/plain": [
       "                                                text          label\n",
       "0  There Were 2 Mass Shootings In Texas Last Week...          CRIME\n",
       "1  Will Smith Joins Diplo And Nicky Jam For The 2...  ENTERTAINMENT\n",
       "2  Hugh Grant Marries For The First Time At Age 5...  ENTERTAINMENT\n",
       "3  Jim Carrey Blasts 'Castrato' Adam Schiff And D...  ENTERTAINMENT\n",
       "4  Julianna Margulies Uses Donald Trump Poop Bags...  ENTERTAINMENT"
      ],
      "text/html": "<div>\n<style scoped>\n    .dataframe tbody tr th:only-of-type {\n        vertical-align: middle;\n    }\n\n    .dataframe tbody tr th {\n        vertical-align: top;\n    }\n\n    .dataframe thead th {\n        text-align: right;\n    }\n</style>\n<table border=\"1\" class=\"dataframe\">\n  <thead>\n    <tr style=\"text-align: right;\">\n      <th></th>\n      <th>text</th>\n      <th>label</th>\n    </tr>\n  </thead>\n  <tbody>\n    <tr>\n      <th>0</th>\n      <td>There Were 2 Mass Shootings In Texas Last Week...</td>\n      <td>CRIME</td>\n    </tr>\n    <tr>\n      <th>1</th>\n      <td>Will Smith Joins Diplo And Nicky Jam For The 2...</td>\n      <td>ENTERTAINMENT</td>\n    </tr>\n    <tr>\n      <th>2</th>\n      <td>Hugh Grant Marries For The First Time At Age 5...</td>\n      <td>ENTERTAINMENT</td>\n    </tr>\n    <tr>\n      <th>3</th>\n      <td>Jim Carrey Blasts 'Castrato' Adam Schiff And D...</td>\n      <td>ENTERTAINMENT</td>\n    </tr>\n    <tr>\n      <th>4</th>\n      <td>Julianna Margulies Uses Donald Trump Poop Bags...</td>\n      <td>ENTERTAINMENT</td>\n    </tr>\n  </tbody>\n</table>\n</div>"
     },
     "metadata": {},
     "execution_count": 20
    }
   ],
   "source": [
    "# Make text corpus\n",
    "# Getting the data for analysis\n",
    "# combining the headline with the short description\n",
    "text_corpus = pd.DataFrame({\n",
    "    'text':data.headline + data.short_description,\n",
    "    'label':data.category\n",
    "})\n",
    "\n",
    "text_corpus.head()"
   ]
  },
  {
   "cell_type": "code",
   "execution_count": 24,
   "metadata": {},
   "outputs": [
    {
     "output_type": "stream",
     "name": "stdout",
     "text": [
      "3        2\n4        4\n5        6\n6        7\n7       13\n        ..\n1300     1\n1362     1\n1375     1\n1424     1\n1486     1\nName: text, Length: 714, dtype: int64\n"
     ]
    }
   ],
   "source": [
    "# check for empty strings\n",
    "print(text_corpus.text.apply(len).value_counts().sort_index())\n",
    "# There are 5 rows with an empty string (length = 0). They can be removed."
   ]
  },
  {
   "cell_type": "code",
   "execution_count": 23,
   "metadata": {},
   "outputs": [],
   "source": [
    "# remove rows with empty text corpus\n",
    "text_corpus = text_corpus[text_corpus.text.apply(len) > 0]"
   ]
  },
  {
   "cell_type": "code",
   "execution_count": 25,
   "metadata": {},
   "outputs": [
    {
     "output_type": "execute_result",
     "data": {
      "text/plain": [
       "                                                text          label\n",
       "0  There Were 2 Mass Shootings In Texas Last Week...          CRIME\n",
       "1  Will Smith Joins Diplo And Nicky Jam For The 2...  ENTERTAINMENT\n",
       "2  Hugh Grant Marries For The First Time At Age 5...  ENTERTAINMENT\n",
       "3  Jim Carrey Blasts 'Castrato' Adam Schiff And D...  ENTERTAINMENT\n",
       "4  Julianna Margulies Uses Donald Trump Poop Bags...  ENTERTAINMENT"
      ],
      "text/html": "<div>\n<style scoped>\n    .dataframe tbody tr th:only-of-type {\n        vertical-align: middle;\n    }\n\n    .dataframe tbody tr th {\n        vertical-align: top;\n    }\n\n    .dataframe thead th {\n        text-align: right;\n    }\n</style>\n<table border=\"1\" class=\"dataframe\">\n  <thead>\n    <tr style=\"text-align: right;\">\n      <th></th>\n      <th>text</th>\n      <th>label</th>\n    </tr>\n  </thead>\n  <tbody>\n    <tr>\n      <th>0</th>\n      <td>There Were 2 Mass Shootings In Texas Last Week...</td>\n      <td>CRIME</td>\n    </tr>\n    <tr>\n      <th>1</th>\n      <td>Will Smith Joins Diplo And Nicky Jam For The 2...</td>\n      <td>ENTERTAINMENT</td>\n    </tr>\n    <tr>\n      <th>2</th>\n      <td>Hugh Grant Marries For The First Time At Age 5...</td>\n      <td>ENTERTAINMENT</td>\n    </tr>\n    <tr>\n      <th>3</th>\n      <td>Jim Carrey Blasts 'Castrato' Adam Schiff And D...</td>\n      <td>ENTERTAINMENT</td>\n    </tr>\n    <tr>\n      <th>4</th>\n      <td>Julianna Margulies Uses Donald Trump Poop Bags...</td>\n      <td>ENTERTAINMENT</td>\n    </tr>\n  </tbody>\n</table>\n</div>"
     },
     "metadata": {},
     "execution_count": 25
    }
   ],
   "source": [
    "text_corpus.head()"
   ]
  },
  {
   "cell_type": "code",
   "execution_count": 27,
   "metadata": {},
   "outputs": [
    {
     "output_type": "execute_result",
     "data": {
      "text/plain": [
       "                                                text  label\n",
       "0  There Were 2 Mass Shootings In Texas Last Week...      6\n",
       "1  Will Smith Joins Diplo And Nicky Jam For The 2...     10\n",
       "2  Hugh Grant Marries For The First Time At Age 5...     10\n",
       "3  Jim Carrey Blasts 'Castrato' Adam Schiff And D...     10\n",
       "4  Julianna Margulies Uses Donald Trump Poop Bags...     10"
      ],
      "text/html": "<div>\n<style scoped>\n    .dataframe tbody tr th:only-of-type {\n        vertical-align: middle;\n    }\n\n    .dataframe tbody tr th {\n        vertical-align: top;\n    }\n\n    .dataframe thead th {\n        text-align: right;\n    }\n</style>\n<table border=\"1\" class=\"dataframe\">\n  <thead>\n    <tr style=\"text-align: right;\">\n      <th></th>\n      <th>text</th>\n      <th>label</th>\n    </tr>\n  </thead>\n  <tbody>\n    <tr>\n      <th>0</th>\n      <td>There Were 2 Mass Shootings In Texas Last Week...</td>\n      <td>6</td>\n    </tr>\n    <tr>\n      <th>1</th>\n      <td>Will Smith Joins Diplo And Nicky Jam For The 2...</td>\n      <td>10</td>\n    </tr>\n    <tr>\n      <th>2</th>\n      <td>Hugh Grant Marries For The First Time At Age 5...</td>\n      <td>10</td>\n    </tr>\n    <tr>\n      <th>3</th>\n      <td>Jim Carrey Blasts 'Castrato' Adam Schiff And D...</td>\n      <td>10</td>\n    </tr>\n    <tr>\n      <th>4</th>\n      <td>Julianna Margulies Uses Donald Trump Poop Bags...</td>\n      <td>10</td>\n    </tr>\n  </tbody>\n</table>\n</div>"
     },
     "metadata": {},
     "execution_count": 27
    }
   ],
   "source": [
    "# Encoding the label\n",
    "encoder = LabelEncoder()\n",
    "text_corpus.label = encoder.fit_transform(text_corpus.label)\n",
    "\n",
    "text_corpus.head()"
   ]
  },
  {
   "cell_type": "code",
   "execution_count": 28,
   "metadata": {},
   "outputs": [],
   "source": [
    "#Convert text to lowercase and romove punctuation\n",
    "#define a function to clean the text\n",
    "#import regular expressions library\n",
    "import re\n",
    "\n",
    "def clean_text(text):\n",
    "    \"\"\"\n",
    "    Remove punctuations and special characters, makes lower case\n",
    "    Args: text\n",
    "    Output: text\n",
    "    \"\"\"\n",
    "    text=text.lower() #makes text lowercase\n",
    "    text=re.sub('\\\\d|\\\\W+|_',' ',text) #removes extra white space\n",
    "    text=re.sub('[^a-zA-Z]',\" \", text) #removes any non-alphabetic characters\n",
    "    return text"
   ]
  },
  {
   "cell_type": "code",
   "execution_count": 29,
   "metadata": {},
   "outputs": [],
   "source": [
    "#import word tokenizer from NLTK\n",
    "from nltk.tokenize import word_tokenize\n",
    "from nltk.corpus import stopwords\n",
    "\n",
    "def tokenize_and_remove_stop_words(txt):\n",
    "    \"\"\"\n",
    "    takes in a sentence, tokenizes the words into a list,\n",
    "    and then removes stop words from the tokenized list\n",
    "    \"\"\"\n",
    "    stop_words = stopwords.words('english')\n",
    "    txt_token = word_tokenize(txt)\n",
    "    txt_no_stopwords = [word for word in txt_token if word not in stop_words]\n",
    "    return txt_no_stopwords"
   ]
  },
  {
   "cell_type": "code",
   "execution_count": 30,
   "metadata": {},
   "outputs": [],
   "source": [
    "#Apply NLTK's PorterStemmer\n",
    "#define a function to stem the words\n",
    "from nltk.stem.porter import PorterStemmer\n",
    "\n",
    "def stem_text(word_list):\n",
    "\n",
    "    porter = PorterStemmer()\n",
    "    return [porter.stem(word) for word in word_list]"
   ]
  },
  {
   "cell_type": "code",
   "execution_count": 31,
   "metadata": {},
   "outputs": [
    {
     "output_type": "stream",
     "name": "stdout",
     "text": [
      "Show the dimension of the new dataframe:  (200848, 6)\n"
     ]
    },
    {
     "output_type": "execute_result",
     "data": {
      "text/plain": [
       "                                                text  label  \\\n",
       "0  There Were 2 Mass Shootings In Texas Last Week...      6   \n",
       "1  Will Smith Joins Diplo And Nicky Jam For The 2...     10   \n",
       "2  Hugh Grant Marries For The First Time At Age 5...     10   \n",
       "3  Jim Carrey Blasts 'Castrato' Adam Schiff And D...     10   \n",
       "4  Julianna Margulies Uses Donald Trump Poop Bags...     10   \n",
       "\n",
       "                                          clean_desc  \\\n",
       "0  there were   mass shootings in texas last week...   \n",
       "1  will smith joins diplo and nicky jam for the  ...   \n",
       "2  hugh grant marries for the first time at age  ...   \n",
       "3  jim carrey blasts castrato adam schiff and dem...   \n",
       "4  julianna margulies uses donald trump poop bags...   \n",
       "\n",
       "                                      tokenized_desc  \\\n",
       "0  [mass, shootings, texas, last, week, tvshe, le...   \n",
       "1  [smith, joins, diplo, nicky, jam, world, cup, ...   \n",
       "2  [hugh, grant, marries, first, time, age, actor...   \n",
       "3  [jim, carrey, blasts, castrato, adam, schiff, ...   \n",
       "4  [julianna, margulies, uses, donald, trump, poo...   \n",
       "\n",
       "                                    txt_stemmed_desc  \\\n",
       "0  [mass, shoot, texa, last, week, tvshe, left, h...   \n",
       "1  [smith, join, diplo, nicki, jam, world, cup, o...   \n",
       "2  [hugh, grant, marri, first, time, age, actor, ...   \n",
       "3  [jim, carrey, blast, castrato, adam, schiff, d...   \n",
       "4  [julianna, marguli, use, donald, trump, poop, ...   \n",
       "\n",
       "                                          final_desc  \n",
       "0  mass shoot texa last week tvshe left husband k...  \n",
       "1  smith join diplo nicki jam world cup offici so...  \n",
       "2  hugh grant marri first time age actor longtim ...  \n",
       "3  jim carrey blast castrato adam schiff democrat...  \n",
       "4  julianna marguli use donald trump poop bag pic...  "
      ],
      "text/html": "<div>\n<style scoped>\n    .dataframe tbody tr th:only-of-type {\n        vertical-align: middle;\n    }\n\n    .dataframe tbody tr th {\n        vertical-align: top;\n    }\n\n    .dataframe thead th {\n        text-align: right;\n    }\n</style>\n<table border=\"1\" class=\"dataframe\">\n  <thead>\n    <tr style=\"text-align: right;\">\n      <th></th>\n      <th>text</th>\n      <th>label</th>\n      <th>clean_desc</th>\n      <th>tokenized_desc</th>\n      <th>txt_stemmed_desc</th>\n      <th>final_desc</th>\n    </tr>\n  </thead>\n  <tbody>\n    <tr>\n      <th>0</th>\n      <td>There Were 2 Mass Shootings In Texas Last Week...</td>\n      <td>6</td>\n      <td>there were   mass shootings in texas last week...</td>\n      <td>[mass, shootings, texas, last, week, tvshe, le...</td>\n      <td>[mass, shoot, texa, last, week, tvshe, left, h...</td>\n      <td>mass shoot texa last week tvshe left husband k...</td>\n    </tr>\n    <tr>\n      <th>1</th>\n      <td>Will Smith Joins Diplo And Nicky Jam For The 2...</td>\n      <td>10</td>\n      <td>will smith joins diplo and nicky jam for the  ...</td>\n      <td>[smith, joins, diplo, nicky, jam, world, cup, ...</td>\n      <td>[smith, join, diplo, nicki, jam, world, cup, o...</td>\n      <td>smith join diplo nicki jam world cup offici so...</td>\n    </tr>\n    <tr>\n      <th>2</th>\n      <td>Hugh Grant Marries For The First Time At Age 5...</td>\n      <td>10</td>\n      <td>hugh grant marries for the first time at age  ...</td>\n      <td>[hugh, grant, marries, first, time, age, actor...</td>\n      <td>[hugh, grant, marri, first, time, age, actor, ...</td>\n      <td>hugh grant marri first time age actor longtim ...</td>\n    </tr>\n    <tr>\n      <th>3</th>\n      <td>Jim Carrey Blasts 'Castrato' Adam Schiff And D...</td>\n      <td>10</td>\n      <td>jim carrey blasts castrato adam schiff and dem...</td>\n      <td>[jim, carrey, blasts, castrato, adam, schiff, ...</td>\n      <td>[jim, carrey, blast, castrato, adam, schiff, d...</td>\n      <td>jim carrey blast castrato adam schiff democrat...</td>\n    </tr>\n    <tr>\n      <th>4</th>\n      <td>Julianna Margulies Uses Donald Trump Poop Bags...</td>\n      <td>10</td>\n      <td>julianna margulies uses donald trump poop bags...</td>\n      <td>[julianna, margulies, uses, donald, trump, poo...</td>\n      <td>[julianna, marguli, use, donald, trump, poop, ...</td>\n      <td>julianna marguli use donald trump poop bag pic...</td>\n    </tr>\n  </tbody>\n</table>\n</div>"
     },
     "metadata": {},
     "execution_count": 31
    }
   ],
   "source": [
    "## Applying the cleaning function for the text corpus\n",
    "\n",
    "#apply text cleaning function\n",
    "text_corpus['clean_desc'] = text_corpus['text'].apply(clean_text)\n",
    "#apply tokenizing\n",
    "text_corpus['tokenized_desc'] = text_corpus['clean_desc'].apply(tokenize_and_remove_stop_words)\n",
    "#apply PorterStemmer function\n",
    "text_corpus['txt_stemmed_desc'] = text_corpus['tokenized_desc'].apply(stem_text)\n",
    "#put the text back together (untokenize)\n",
    "text_corpus['final_desc'] = text_corpus['txt_stemmed_desc'].apply(lambda text: ' '.join(text))\n",
    "#view the pre-processed text\n",
    "print('Show the dimension of the new dataframe: ', text_corpus.shape)\n",
    "text_corpus.info()"
   ]
  },
  {
   "cell_type": "code",
   "execution_count": 32,
   "metadata": {},
   "outputs": [],
   "source": [
    "# make sure that after cleaning the text there are no empty strings\n",
    "text_corpus = text_corpus[text_corpus.final_desc.apply(len) > 0]"
   ]
  },
  {
   "cell_type": "code",
   "execution_count": 34,
   "metadata": {},
   "outputs": [
    {
     "output_type": "stream",
     "name": "stdout",
     "text": [
      "<class 'pandas.core.frame.DataFrame'>\nInt64Index: 200837 entries, 0 to 200852\nData columns (total 6 columns):\n #   Column            Non-Null Count   Dtype \n---  ------            --------------   ----- \n 0   text              200837 non-null  object\n 1   label             200837 non-null  int64 \n 2   clean_desc        200837 non-null  object\n 3   tokenized_desc    200837 non-null  object\n 4   txt_stemmed_desc  200837 non-null  object\n 5   final_desc        200837 non-null  object\ndtypes: int64(1), object(5)\nmemory usage: 10.7+ MB\n"
     ]
    }
   ],
   "source": [
    "text_corpus.info()"
   ]
  },
  {
   "cell_type": "code",
   "execution_count": 36,
   "metadata": {},
   "outputs": [
    {
     "output_type": "stream",
     "name": "stdout",
     "text": [
      "Features-Training Set:  160669\nFeatures-Test Set:  40168\nTarget: Training Set:  160669\nTarget: Test Set:  40168\n"
     ]
    }
   ],
   "source": [
    "# Applying the Neural Network using SCikit Learn\n",
    "# Using sample data set for the model creation\n",
    "# Get the target name\n",
    "from sklearn.model_selection import train_test_split\n",
    "# Creating the features from the data set\n",
    "features, category = text_corpus.final_desc, text_corpus.label\n",
    "# Make test and training split (20:80)\n",
    "features_train,features_test,target_train, target_test = train_test_split(features,category, random_state=1000, test_size = 0.2)\n",
    "\n",
    "print('Features-Training Set: ',len(features_train))\n",
    "print('Features-Test Set: ',len(features_test))\n",
    "print('Target: Training Set: ',len(target_train))\n",
    "print('Target: Test Set: ',len(target_test))"
   ]
  },
  {
   "cell_type": "code",
   "execution_count": 38,
   "metadata": {},
   "outputs": [],
   "source": [
    "# Train the model\n",
    "from sklearn.feature_extraction.text import CountVectorizer\n",
    "from sklearn.pipeline import Pipeline\n",
    "from sklearn.feature_extraction.text import TfidfTransformer\n",
    "\n",
    "\n",
    "from sklearn.naive_bayes import MultinomialNB\n",
    "\n",
    "classifier = Pipeline([('vect', CountVectorizer()),\n",
    "                       ('tfidf', TfidfTransformer()),\n",
    "                       ('clf', MultinomialNB())\n",
    "])\n",
    "\n",
    "text_clf = classifier.fit(features_train, target_train)"
   ]
  },
  {
   "cell_type": "code",
   "execution_count": 39,
   "metadata": {},
   "outputs": [
    {
     "output_type": "execute_result",
     "data": {
      "text/plain": [
       "0.3690748854809799"
      ]
     },
     "metadata": {},
     "execution_count": 39
    }
   ],
   "source": [
    "# Performance of NB Classifier\n",
    "# Using the Test Set\n",
    "import numpy as np\n",
    "predicted = text_clf.predict(features_test)\n",
    "np.mean(predicted == target_test)"
   ]
  },
  {
   "cell_type": "code",
   "execution_count": 40,
   "metadata": {},
   "outputs": [
    {
     "output_type": "execute_result",
     "data": {
      "text/plain": [
       "['/home/arindam/Documents/mygithub/bu_dsc/models/news_classify_NN_sklearn.pkl']"
      ]
     },
     "metadata": {},
     "execution_count": 40
    }
   ],
   "source": [
    "# Saving the Model\n",
    "\n",
    "import joblib\n",
    "from joblib import dump, load\n",
    "\n",
    "model_path=\"/home/arindam/Documents/mygithub/bu_dsc/models\"\n",
    "model_name=\"news_classify_NN_sklearn.pkl\"\n",
    "filename = model_path + \"/\" + model_name \n",
    "# print(filename)\n",
    "joblib.dump(text_clf, filename)"
   ]
  },
  {
   "cell_type": "code",
   "execution_count": null,
   "metadata": {},
   "outputs": [],
   "source": []
  }
 ]
}