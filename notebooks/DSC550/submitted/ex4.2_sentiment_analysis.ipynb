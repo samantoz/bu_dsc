{
 "metadata": {
  "language_info": {
   "codemirror_mode": {
    "name": "ipython",
    "version": 3
   },
   "file_extension": ".py",
   "mimetype": "text/x-python",
   "name": "python",
   "nbconvert_exporter": "python",
   "pygments_lexer": "ipython3",
   "version": "3.8.5-final"
  },
  "orig_nbformat": 2,
  "kernelspec": {
   "name": "python38564bitbaseconda9c4f9ef913ec46fba5f8aa62969238f5",
   "display_name": "Python 3.8.5 64-bit ('base': conda)"
  }
 },
 "nbformat": 4,
 "nbformat_minor": 2,
 "cells": [
  {
   "source": [
    "In this exercise, you will do a sentiment analysis of text comments.\n",
    "\n",
    "1) Load the data file DailyComments.csv from the Week 4 Data Files into a data frame.\n",
    "\n",
    "2) Identify a scheme to categorize each comment as positive or negative. You can devise your      own scheme or find a commonly used scheme to perform this sentiment analysis. However you     decide to do this, make sure to explain the scheme you decide to use.\n",
    "\n",
    "3) Implement your sentiment analysis with code and display the results. Note:   DailyComments.csv is a purposely small file, so you will be able to clearly see why the     results are what they are.\n",
    "\n",
    "4) For up to 5% extra credit, find another set of comments, e.g., some tweets, and perform the same sentiment analysis."
   ],
   "cell_type": "markdown",
   "metadata": {}
  },
  {
   "cell_type": "code",
   "execution_count": 59,
   "metadata": {},
   "outputs": [],
   "source": [
    "# importing the pandas library for making the dataframe\n",
    "import pandas as pd"
   ]
  },
  {
   "cell_type": "code",
   "execution_count": 60,
   "metadata": {},
   "outputs": [],
   "source": [
    "# preparing the array of stop words from the nltk package\n",
    "from nltk.corpus import stopwords\n",
    "\n",
    "# Load the stop words\n",
    "stop_words = stopwords.words('english')"
   ]
  },
  {
   "cell_type": "code",
   "execution_count": 61,
   "metadata": {},
   "outputs": [],
   "source": [
    "# Using string from the conversion and remove all punctuations \n",
    "import unicodedata\n",
    "import sys\n",
    "\n",
    "# Create a dictionary of punctuation characters\n",
    "punctuation = dict.fromkeys(i for i in range(sys.maxunicode)\n",
    "                           if unicodedata.category(chr(i)).startswith('P'))"
   ]
  },
  {
   "cell_type": "code",
   "execution_count": 62,
   "metadata": {},
   "outputs": [],
   "source": [
    "# using NLTK’s PorterStemmer\n",
    "\n",
    "from nltk.stem.porter import PorterStemmer\n",
    "# Create stemmer\n",
    "porter = PorterStemmer()"
   ]
  },
  {
   "cell_type": "code",
   "execution_count": 63,
   "metadata": {},
   "outputs": [
    {
     "output_type": "execute_result",
     "data": {
      "text/plain": [
       "  Day of Week                                        comments\n",
       "0      Monday                             Hello, how are you?\n",
       "1     Tuesday                            Today is a good day!\n",
       "2   Wednesday  It's my birthday so it's a really special day!\n",
       "3    Thursday       Today is neither a good day or a bad day!\n",
       "4      Friday                           I'm having a bad day.\n",
       "5    Saturday       There' s nothing special happening today.\n",
       "6      Sunday                      Today is a SUPER good day!"
      ],
      "text/html": "<div>\n<style scoped>\n    .dataframe tbody tr th:only-of-type {\n        vertical-align: middle;\n    }\n\n    .dataframe tbody tr th {\n        vertical-align: top;\n    }\n\n    .dataframe thead th {\n        text-align: right;\n    }\n</style>\n<table border=\"1\" class=\"dataframe\">\n  <thead>\n    <tr style=\"text-align: right;\">\n      <th></th>\n      <th>Day of Week</th>\n      <th>comments</th>\n    </tr>\n  </thead>\n  <tbody>\n    <tr>\n      <th>0</th>\n      <td>Monday</td>\n      <td>Hello, how are you?</td>\n    </tr>\n    <tr>\n      <th>1</th>\n      <td>Tuesday</td>\n      <td>Today is a good day!</td>\n    </tr>\n    <tr>\n      <th>2</th>\n      <td>Wednesday</td>\n      <td>It's my birthday so it's a really special day!</td>\n    </tr>\n    <tr>\n      <th>3</th>\n      <td>Thursday</td>\n      <td>Today is neither a good day or a bad day!</td>\n    </tr>\n    <tr>\n      <th>4</th>\n      <td>Friday</td>\n      <td>I'm having a bad day.</td>\n    </tr>\n    <tr>\n      <th>5</th>\n      <td>Saturday</td>\n      <td>There' s nothing special happening today.</td>\n    </tr>\n    <tr>\n      <th>6</th>\n      <td>Sunday</td>\n      <td>Today is a SUPER good day!</td>\n    </tr>\n  </tbody>\n</table>\n</div>"
     },
     "metadata": {},
     "execution_count": 63
    }
   ],
   "source": [
    "# Loading the supplied file into a dataframe\n",
    "\n",
    "filename=\"DailyComments.csv\"\n",
    "dataframe_comments = pd.read_csv(filename)\n",
    "dataframe_comments"
   ]
  },
  {
   "cell_type": "code",
   "execution_count": 64,
   "metadata": {},
   "outputs": [
    {
     "output_type": "stream",
     "name": "stdout",
     "text": [
      "<class 'pandas.core.frame.DataFrame'>\nRangeIndex: 7 entries, 0 to 6\nData columns (total 2 columns):\n #   Column       Non-Null Count  Dtype \n---  ------       --------------  ----- \n 0   Day of Week  7 non-null      object\n 1   comments     7 non-null      object\ndtypes: object(2)\nmemory usage: 240.0+ bytes\n"
     ]
    }
   ],
   "source": [
    "# displaying the dataframe information\n",
    "\n",
    "dataframe_comments.info()"
   ]
  },
  {
   "cell_type": "code",
   "execution_count": 65,
   "metadata": {},
   "outputs": [],
   "source": [
    "# Created a function in order to perform preprocessing on the text value passed as a series\n",
    "\n",
    "def preprocess_txt(input_txt):\n",
    "    preprocessed_text = input_txt\n",
    "    # A. Convert all text to lowercase letters.\n",
    "    preprocessed_text = \" \".join(word.lower() for word in preprocessed_text.split())\n",
    "    # B. Remove all punctuation from the text.\n",
    "    preprocessed_text = \" \".join(word.translate(punctuation) for word in preprocessed_text.split())\n",
    "    # C. Remove stop words.\n",
    "    preprocessed_text = \" \".join(word for word in preprocessed_text.split() if word not in stop_words)\n",
    "    # D. Apply NLTK’s PorterStemmer.\n",
    "    preprocessed_text = \" \".join(porter.stem(word) for word in preprocessed_text.split())\n",
    "    return(preprocessed_text)"
   ]
  },
  {
   "cell_type": "code",
   "execution_count": 66,
   "metadata": {},
   "outputs": [],
   "source": [
    "# Adding a new column to the dataframe for storing the processed texts\n",
    "# Tokenize the sentences using the preprocess function\n",
    "dataframe_comments['processed_txt'] = dataframe_comments['comments'].apply(lambda x: preprocess_txt(x))"
   ]
  },
  {
   "cell_type": "code",
   "execution_count": 67,
   "metadata": {},
   "outputs": [
    {
     "output_type": "execute_result",
     "data": {
      "text/plain": [
       "  Day of Week                                        comments  \\\n",
       "0      Monday                             Hello, how are you?   \n",
       "1     Tuesday                            Today is a good day!   \n",
       "2   Wednesday  It's my birthday so it's a really special day!   \n",
       "3    Thursday       Today is neither a good day or a bad day!   \n",
       "4      Friday                           I'm having a bad day.   \n",
       "5    Saturday       There' s nothing special happening today.   \n",
       "6      Sunday                      Today is a SUPER good day!   \n",
       "\n",
       "                    processed_txt  \n",
       "0                           hello  \n",
       "1                  today good day  \n",
       "2     birthday realli special day  \n",
       "3  today neither good day bad day  \n",
       "4                      im bad day  \n",
       "5       noth special happen today  \n",
       "6            today super good day  "
      ],
      "text/html": "<div>\n<style scoped>\n    .dataframe tbody tr th:only-of-type {\n        vertical-align: middle;\n    }\n\n    .dataframe tbody tr th {\n        vertical-align: top;\n    }\n\n    .dataframe thead th {\n        text-align: right;\n    }\n</style>\n<table border=\"1\" class=\"dataframe\">\n  <thead>\n    <tr style=\"text-align: right;\">\n      <th></th>\n      <th>Day of Week</th>\n      <th>comments</th>\n      <th>processed_txt</th>\n    </tr>\n  </thead>\n  <tbody>\n    <tr>\n      <th>0</th>\n      <td>Monday</td>\n      <td>Hello, how are you?</td>\n      <td>hello</td>\n    </tr>\n    <tr>\n      <th>1</th>\n      <td>Tuesday</td>\n      <td>Today is a good day!</td>\n      <td>today good day</td>\n    </tr>\n    <tr>\n      <th>2</th>\n      <td>Wednesday</td>\n      <td>It's my birthday so it's a really special day!</td>\n      <td>birthday realli special day</td>\n    </tr>\n    <tr>\n      <th>3</th>\n      <td>Thursday</td>\n      <td>Today is neither a good day or a bad day!</td>\n      <td>today neither good day bad day</td>\n    </tr>\n    <tr>\n      <th>4</th>\n      <td>Friday</td>\n      <td>I'm having a bad day.</td>\n      <td>im bad day</td>\n    </tr>\n    <tr>\n      <th>5</th>\n      <td>Saturday</td>\n      <td>There' s nothing special happening today.</td>\n      <td>noth special happen today</td>\n    </tr>\n    <tr>\n      <th>6</th>\n      <td>Sunday</td>\n      <td>Today is a SUPER good day!</td>\n      <td>today super good day</td>\n    </tr>\n  </tbody>\n</table>\n</div>"
     },
     "metadata": {},
     "execution_count": 67
    }
   ],
   "source": [
    "dataframe_comments"
   ]
  },
  {
   "source": [
    "In order to do machine learning on text, we need to transform our texts into vector representation so that we can apply numeric machine learning. This process is called feature extraction or vectorization.\n",
    "The CountVectorizer transformer from the sklearn.feature_extraction model does its own tokenization and normalization methods.\n",
    "\n",
    "But for this exercise I have used an out of the box package to do the sentiment analysis. The polarity column in the dataframe shows the positivity value.\n",
    "I have provided the polarity in the added column and any value >0.5 could be positive.\n"
   ],
   "cell_type": "markdown",
   "metadata": {}
  },
  {
   "cell_type": "code",
   "execution_count": 68,
   "metadata": {},
   "outputs": [],
   "source": [
    "from textblob import TextBlob"
   ]
  },
  {
   "cell_type": "code",
   "execution_count": 69,
   "metadata": {},
   "outputs": [],
   "source": [
    "# I have used here the Textblob default classifier to calculate the polarity considering each word from the texts\n",
    "\n",
    "dataframe_comments['polarity'] = round(dataframe_comments['processed_txt'].apply(lambda x: TextBlob(x).sentiment.polarity),2)"
   ]
  },
  {
   "cell_type": "code",
   "execution_count": 83,
   "metadata": {},
   "outputs": [],
   "source": [
    "# The scheme used here is to deduce the Sentiment based on the polarity value.\n",
    "# The sentiment is positive if the polarity > 0 and negative otherwise. But if the polarity is 0 then the statement is neutral.\n",
    "dataframe_comments['senti'] = dataframe_comments['polarity'].apply(lambda x: 'positive' if x > 0 else ('negative' if x < 0  else 'neutral'))\n"
   ]
  },
  {
   "cell_type": "code",
   "execution_count": 84,
   "metadata": {},
   "outputs": [
    {
     "output_type": "execute_result",
     "data": {
      "text/plain": [
       "  Day of Week                                        comments  \\\n",
       "0      Monday                             Hello, how are you?   \n",
       "1     Tuesday                            Today is a good day!   \n",
       "2   Wednesday  It's my birthday so it's a really special day!   \n",
       "3    Thursday       Today is neither a good day or a bad day!   \n",
       "4      Friday                           I'm having a bad day.   \n",
       "5    Saturday       There' s nothing special happening today.   \n",
       "6      Sunday                      Today is a SUPER good day!   \n",
       "\n",
       "                    processed_txt  polarity     senti  \n",
       "0                           hello      0.00   neutral  \n",
       "1                  today good day      0.70  positive  \n",
       "2     birthday realli special day      0.36  positive  \n",
       "3  today neither good day bad day      0.00   neutral  \n",
       "4                      im bad day     -0.70  negative  \n",
       "5       noth special happen today      0.36  positive  \n",
       "6            today super good day      0.52  positive  "
      ],
      "text/html": "<div>\n<style scoped>\n    .dataframe tbody tr th:only-of-type {\n        vertical-align: middle;\n    }\n\n    .dataframe tbody tr th {\n        vertical-align: top;\n    }\n\n    .dataframe thead th {\n        text-align: right;\n    }\n</style>\n<table border=\"1\" class=\"dataframe\">\n  <thead>\n    <tr style=\"text-align: right;\">\n      <th></th>\n      <th>Day of Week</th>\n      <th>comments</th>\n      <th>processed_txt</th>\n      <th>polarity</th>\n      <th>senti</th>\n    </tr>\n  </thead>\n  <tbody>\n    <tr>\n      <th>0</th>\n      <td>Monday</td>\n      <td>Hello, how are you?</td>\n      <td>hello</td>\n      <td>0.00</td>\n      <td>neutral</td>\n    </tr>\n    <tr>\n      <th>1</th>\n      <td>Tuesday</td>\n      <td>Today is a good day!</td>\n      <td>today good day</td>\n      <td>0.70</td>\n      <td>positive</td>\n    </tr>\n    <tr>\n      <th>2</th>\n      <td>Wednesday</td>\n      <td>It's my birthday so it's a really special day!</td>\n      <td>birthday realli special day</td>\n      <td>0.36</td>\n      <td>positive</td>\n    </tr>\n    <tr>\n      <th>3</th>\n      <td>Thursday</td>\n      <td>Today is neither a good day or a bad day!</td>\n      <td>today neither good day bad day</td>\n      <td>0.00</td>\n      <td>neutral</td>\n    </tr>\n    <tr>\n      <th>4</th>\n      <td>Friday</td>\n      <td>I'm having a bad day.</td>\n      <td>im bad day</td>\n      <td>-0.70</td>\n      <td>negative</td>\n    </tr>\n    <tr>\n      <th>5</th>\n      <td>Saturday</td>\n      <td>There' s nothing special happening today.</td>\n      <td>noth special happen today</td>\n      <td>0.36</td>\n      <td>positive</td>\n    </tr>\n    <tr>\n      <th>6</th>\n      <td>Sunday</td>\n      <td>Today is a SUPER good day!</td>\n      <td>today super good day</td>\n      <td>0.52</td>\n      <td>positive</td>\n    </tr>\n  </tbody>\n</table>\n</div>"
     },
     "metadata": {},
     "execution_count": 84
    }
   ],
   "source": [
    "dataframe_comments"
   ]
  },
  {
   "cell_type": "code",
   "execution_count": 72,
   "metadata": {},
   "outputs": [
    {
     "output_type": "stream",
     "name": "stdout",
     "text": [
      "<class 'pandas.core.frame.DataFrame'>\nRangeIndex: 120 entries, 0 to 119\nData columns (total 3 columns):\n #   Column     Non-Null Count  Dtype \n---  ------     --------------  ----- \n 0   sentiment  120 non-null    int64 \n 1   message    120 non-null    object\n 2   tweetid    120 non-null    int64 \ndtypes: int64(2), object(1)\nmemory usage: 2.9+ KB\n"
     ]
    }
   ],
   "source": [
    "# This is the sample (120 rows) of twitter sentiment data from kaggle related to global warming and climate change\n",
    "# The dataset already has the sentiment defined for each row based on the twitter analysis\n",
    "# I am using the same dataset but did not train my model on it\n",
    "\n",
    "filename=\"twitter_sentiment_data.csv\"\n",
    "dataframe_twt = pd.read_csv(filename)\n",
    "dataframe_twt.info()"
   ]
  },
  {
   "cell_type": "code",
   "execution_count": 73,
   "metadata": {},
   "outputs": [],
   "source": [
    "# Determining the polarity of each tweet\n",
    "\n",
    "dataframe_twt['polarity'] = round(dataframe_twt['message'].apply(lambda x: TextBlob(x).sentiment.polarity),3)"
   ]
  },
  {
   "cell_type": "code",
   "execution_count": 80,
   "metadata": {},
   "outputs": [],
   "source": [
    "# Calculating the sentiment for each tweet\n",
    "\n",
    "dataframe_twt['senti'] = dataframe_twt['polarity'].apply(lambda x: 'positive' if x > 0.0 else ('negative' if x < 0  else 'neutral'))"
   ]
  },
  {
   "cell_type": "code",
   "execution_count": 85,
   "metadata": {},
   "outputs": [
    {
     "output_type": "execute_result",
     "data": {
      "text/plain": [
       "     sentiment                                            message  \\\n",
       "0            0  RT @PlessCatherine: Team energy/climate change...   \n",
       "1            1  RT @retroJACE: global warming real as hell. al...   \n",
       "2            1  A web of truths: This is how climate change af...   \n",
       "3            1  RT @NatGeoChannel: Watch #BeforeTheFlood right...   \n",
       "4            1  RT @NatGeoChannel: Watch #BeforeTheFlood right...   \n",
       "..         ...                                                ...   \n",
       "115          1  RT @MikeBloomberg: .@LeoDiCaprio's #BeforetheF...   \n",
       "116          0  @RepDonBeyer Be sure to personally invite me t...   \n",
       "117          1  RT @RisingSign: @MolonLabeNews Will do further...   \n",
       "118          1  RT @ClimateCentral: This is what it's like to ...   \n",
       "119          1  Join LeoDiCaprio as he searches for answers on...   \n",
       "\n",
       "                tweetid  polarity     senti  \n",
       "0    793140748812226565      0.00   neutral  \n",
       "1    793141154657239040      0.10  positive  \n",
       "2    793141253852594177      0.50  positive  \n",
       "3    793142226599698432      0.29  positive  \n",
       "4    793142726560583680      0.29  positive  \n",
       "..                  ...       ...       ...  \n",
       "115  793253307531735040      0.10  positive  \n",
       "116  793253637309038592      0.25  positive  \n",
       "117  793253805035032576      0.07  positive  \n",
       "118  793253844188880900      0.10  positive  \n",
       "119  793256613419311104      0.00   neutral  \n",
       "\n",
       "[120 rows x 5 columns]"
      ],
      "text/html": "<div>\n<style scoped>\n    .dataframe tbody tr th:only-of-type {\n        vertical-align: middle;\n    }\n\n    .dataframe tbody tr th {\n        vertical-align: top;\n    }\n\n    .dataframe thead th {\n        text-align: right;\n    }\n</style>\n<table border=\"1\" class=\"dataframe\">\n  <thead>\n    <tr style=\"text-align: right;\">\n      <th></th>\n      <th>sentiment</th>\n      <th>message</th>\n      <th>tweetid</th>\n      <th>polarity</th>\n      <th>senti</th>\n    </tr>\n  </thead>\n  <tbody>\n    <tr>\n      <th>0</th>\n      <td>0</td>\n      <td>RT @PlessCatherine: Team energy/climate change...</td>\n      <td>793140748812226565</td>\n      <td>0.00</td>\n      <td>neutral</td>\n    </tr>\n    <tr>\n      <th>1</th>\n      <td>1</td>\n      <td>RT @retroJACE: global warming real as hell. al...</td>\n      <td>793141154657239040</td>\n      <td>0.10</td>\n      <td>positive</td>\n    </tr>\n    <tr>\n      <th>2</th>\n      <td>1</td>\n      <td>A web of truths: This is how climate change af...</td>\n      <td>793141253852594177</td>\n      <td>0.50</td>\n      <td>positive</td>\n    </tr>\n    <tr>\n      <th>3</th>\n      <td>1</td>\n      <td>RT @NatGeoChannel: Watch #BeforeTheFlood right...</td>\n      <td>793142226599698432</td>\n      <td>0.29</td>\n      <td>positive</td>\n    </tr>\n    <tr>\n      <th>4</th>\n      <td>1</td>\n      <td>RT @NatGeoChannel: Watch #BeforeTheFlood right...</td>\n      <td>793142726560583680</td>\n      <td>0.29</td>\n      <td>positive</td>\n    </tr>\n    <tr>\n      <th>...</th>\n      <td>...</td>\n      <td>...</td>\n      <td>...</td>\n      <td>...</td>\n      <td>...</td>\n    </tr>\n    <tr>\n      <th>115</th>\n      <td>1</td>\n      <td>RT @MikeBloomberg: .@LeoDiCaprio's #BeforetheF...</td>\n      <td>793253307531735040</td>\n      <td>0.10</td>\n      <td>positive</td>\n    </tr>\n    <tr>\n      <th>116</th>\n      <td>0</td>\n      <td>@RepDonBeyer Be sure to personally invite me t...</td>\n      <td>793253637309038592</td>\n      <td>0.25</td>\n      <td>positive</td>\n    </tr>\n    <tr>\n      <th>117</th>\n      <td>1</td>\n      <td>RT @RisingSign: @MolonLabeNews Will do further...</td>\n      <td>793253805035032576</td>\n      <td>0.07</td>\n      <td>positive</td>\n    </tr>\n    <tr>\n      <th>118</th>\n      <td>1</td>\n      <td>RT @ClimateCentral: This is what it's like to ...</td>\n      <td>793253844188880900</td>\n      <td>0.10</td>\n      <td>positive</td>\n    </tr>\n    <tr>\n      <th>119</th>\n      <td>1</td>\n      <td>Join LeoDiCaprio as he searches for answers on...</td>\n      <td>793256613419311104</td>\n      <td>0.00</td>\n      <td>neutral</td>\n    </tr>\n  </tbody>\n</table>\n<p>120 rows × 5 columns</p>\n</div>"
     },
     "metadata": {},
     "execution_count": 85
    }
   ],
   "source": [
    "# The below dataframe shows the calculated sentiment in the senti column\n",
    "# The supplied sentiment is showing as 0,1 or -1 in the sentiment column\n",
    "# Our prediction from the textblob is most of the time accurate\n",
    "\n",
    "dataframe_twt.head(120)"
   ]
  }
 ]
}