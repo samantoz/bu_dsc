{
 "cells": [
  {
   "cell_type": "markdown",
   "metadata": {},
   "source": [
    "# Introduction"
   ]
  },
  {
   "cell_type": "markdown",
   "metadata": {},
   "source": [
    "## CRISP - DM Method\n",
    "### [Business Understanding](#business_understanding)\n",
    "### [Data Understanding](#data_understanding)\n",
    "   #### [Step 1: Load data into a dataframe](#load_data_df)\n",
    "   #### [Step 2: Display the dimensions of the file](#display_data)\n",
    "   #### [Step 3: what type of variables are in the table](#variable_types)\n",
    "### Data Prep\n",
    "   #### [Adding new columns from datetime](#adding_yr_mnth)\n",
    "   #### [Milestone 2](#milestone_2)\n",
    "   #### [Test data preparation](#test_data)\n",
    "### Modeling\n",
    "### Evaluation\n",
    "### Deployment"
   ]
  },
  {
   "cell_type": "markdown",
   "metadata": {},
   "source": [
    "<a id='business_understanding'></a>\n",
    "## 1. Business Understanding"
   ]
  },
  {
   "cell_type": "markdown",
   "metadata": {},
   "source": [
    "- This dataset contains around 200k news headlines from the year 2012 to 2018 obtained from HuffPost. The model trained on this dataset could be used to identify tags for untracked news articles or to identify the type of language used in different news articles.\n",
    "- Can you categorize news articles based on their headlines and short descriptions?\n",
    "- Do news articles from different categories have different writing styles?\n",
    "- A classifier trained on this dataset could be used on a free text to identify the type of language being used."
   ]
  },
  {
   "cell_type": "markdown",
   "metadata": {},
   "source": [
    "<a id='data_understanding'></a>\n",
    "## 2. Data Understanding"
   ]
  },
  {
   "cell_type": "code",
   "execution_count": 1,
   "metadata": {},
   "outputs": [],
   "source": [
    "# Grouping / Classification of documents based on Text Analysis - Part 1 \n",
    "## Graphics Analysis\n",
    "\n",
    "import pandas as pd \n",
    "import numpy as np\n",
    "import matplotlib.pyplot as plt"
   ]
  },
  {
   "cell_type": "code",
   "execution_count": 2,
   "metadata": {},
   "outputs": [
    {
     "name": "stdout",
     "output_type": "stream",
     "text": [
      "Python version:\n",
      "Python 3.8.5\n",
      "pandas version: 1.2.4\n",
      "numpy version: 1.19.2\n"
     ]
    }
   ],
   "source": [
    "#check versions of packages\n",
    "print('Python version:')  \n",
    "!python --version\n",
    "print('pandas version:', pd.__version__)\n",
    "print('numpy version:', np.__version__)\n",
    "# print('scikit-learn version:', sklearn.__version__)\n",
    "# print('NLTK version:', nltk.__version__)"
   ]
  },
  {
   "cell_type": "code",
   "execution_count": 3,
   "metadata": {},
   "outputs": [],
   "source": [
    "# Setting the parameters for the pandas dataframe\n",
    "\n",
    "output_width = 1000\n",
    "#output_width = 80 #//*** Normal Output width\n",
    "pd.set_option(\"display.width\", output_width)\n",
    "pd.set_option('display.max_rows', 100)\n",
    "pd.set_option('display.max_columns', None)\n",
    "pd.set_option('display.max_colwidth', None)"
   ]
  },
  {
   "cell_type": "markdown",
   "metadata": {},
   "source": [
    "<a id='load_data_df'></a>\n",
    "### Step 1: Load data into a dataframe"
   ]
  },
  {
   "cell_type": "code",
   "execution_count": 4,
   "metadata": {},
   "outputs": [
    {
     "data": {
      "text/html": [
       "<div>\n",
       "<style scoped>\n",
       "    .dataframe tbody tr th:only-of-type {\n",
       "        vertical-align: middle;\n",
       "    }\n",
       "\n",
       "    .dataframe tbody tr th {\n",
       "        vertical-align: top;\n",
       "    }\n",
       "\n",
       "    .dataframe thead th {\n",
       "        text-align: right;\n",
       "    }\n",
       "</style>\n",
       "<table border=\"1\" class=\"dataframe\">\n",
       "  <thead>\n",
       "    <tr style=\"text-align: right;\">\n",
       "      <th></th>\n",
       "      <th>category</th>\n",
       "      <th>headline</th>\n",
       "      <th>authors</th>\n",
       "      <th>link</th>\n",
       "      <th>short_description</th>\n",
       "      <th>date</th>\n",
       "    </tr>\n",
       "  </thead>\n",
       "  <tbody>\n",
       "    <tr>\n",
       "      <th>0</th>\n",
       "      <td>CRIME</td>\n",
       "      <td>There Were 2 Mass Shootings In Texas Last Week, But Only 1 On TV</td>\n",
       "      <td>Melissa Jeltsen</td>\n",
       "      <td>https://www.huffingtonpost.com/entry/texas-amanda-painter-mass-shooting_us_5b081ab4e4b0802d69caad89</td>\n",
       "      <td>She left her husband. He killed their children. Just another day in America.</td>\n",
       "      <td>2018-05-26</td>\n",
       "    </tr>\n",
       "    <tr>\n",
       "      <th>1</th>\n",
       "      <td>ENTERTAINMENT</td>\n",
       "      <td>Will Smith Joins Diplo And Nicky Jam For The 2018 World Cup's Official Song</td>\n",
       "      <td>Andy McDonald</td>\n",
       "      <td>https://www.huffingtonpost.com/entry/will-smith-joins-diplo-and-nicky-jam-for-the-official-2018-world-cup-song_us_5b09726fe4b0fdb2aa541201</td>\n",
       "      <td>Of course it has a song.</td>\n",
       "      <td>2018-05-26</td>\n",
       "    </tr>\n",
       "    <tr>\n",
       "      <th>2</th>\n",
       "      <td>ENTERTAINMENT</td>\n",
       "      <td>Hugh Grant Marries For The First Time At Age 57</td>\n",
       "      <td>Ron Dicker</td>\n",
       "      <td>https://www.huffingtonpost.com/entry/hugh-grant-marries_us_5b09212ce4b0568a880b9a8c</td>\n",
       "      <td>The actor and his longtime girlfriend Anna Eberstein tied the knot in a civil ceremony.</td>\n",
       "      <td>2018-05-26</td>\n",
       "    </tr>\n",
       "    <tr>\n",
       "      <th>3</th>\n",
       "      <td>ENTERTAINMENT</td>\n",
       "      <td>Jim Carrey Blasts 'Castrato' Adam Schiff And Democrats In New Artwork</td>\n",
       "      <td>Ron Dicker</td>\n",
       "      <td>https://www.huffingtonpost.com/entry/jim-carrey-adam-schiff-democrats_us_5b0950e8e4b0fdb2aa53e675</td>\n",
       "      <td>The actor gives Dems an ass-kicking for not fighting hard enough against Donald Trump.</td>\n",
       "      <td>2018-05-26</td>\n",
       "    </tr>\n",
       "    <tr>\n",
       "      <th>4</th>\n",
       "      <td>ENTERTAINMENT</td>\n",
       "      <td>Julianna Margulies Uses Donald Trump Poop Bags To Pick Up After Her Dog</td>\n",
       "      <td>Ron Dicker</td>\n",
       "      <td>https://www.huffingtonpost.com/entry/julianna-margulies-trump-poop-bag_us_5b093ec2e4b0fdb2aa53df70</td>\n",
       "      <td>The \"Dietland\" actress said using the bags is a \"really cathartic, therapeutic moment.\"</td>\n",
       "      <td>2018-05-26</td>\n",
       "    </tr>\n",
       "  </tbody>\n",
       "</table>\n",
       "</div>"
      ],
      "text/plain": [
       "        category                                                                     headline          authors                                                                                                                                        link                                                                        short_description       date\n",
       "0          CRIME             There Were 2 Mass Shootings In Texas Last Week, But Only 1 On TV  Melissa Jeltsen                                         https://www.huffingtonpost.com/entry/texas-amanda-painter-mass-shooting_us_5b081ab4e4b0802d69caad89             She left her husband. He killed their children. Just another day in America. 2018-05-26\n",
       "1  ENTERTAINMENT  Will Smith Joins Diplo And Nicky Jam For The 2018 World Cup's Official Song    Andy McDonald  https://www.huffingtonpost.com/entry/will-smith-joins-diplo-and-nicky-jam-for-the-official-2018-world-cup-song_us_5b09726fe4b0fdb2aa541201                                                                 Of course it has a song. 2018-05-26\n",
       "2  ENTERTAINMENT                              Hugh Grant Marries For The First Time At Age 57       Ron Dicker                                                         https://www.huffingtonpost.com/entry/hugh-grant-marries_us_5b09212ce4b0568a880b9a8c  The actor and his longtime girlfriend Anna Eberstein tied the knot in a civil ceremony. 2018-05-26\n",
       "3  ENTERTAINMENT        Jim Carrey Blasts 'Castrato' Adam Schiff And Democrats In New Artwork       Ron Dicker                                           https://www.huffingtonpost.com/entry/jim-carrey-adam-schiff-democrats_us_5b0950e8e4b0fdb2aa53e675   The actor gives Dems an ass-kicking for not fighting hard enough against Donald Trump. 2018-05-26\n",
       "4  ENTERTAINMENT      Julianna Margulies Uses Donald Trump Poop Bags To Pick Up After Her Dog       Ron Dicker                                          https://www.huffingtonpost.com/entry/julianna-margulies-trump-poop-bag_us_5b093ec2e4b0fdb2aa53df70  The \"Dietland\" actress said using the bags is a \"really cathartic, therapeutic moment.\" 2018-05-26"
      ]
     },
     "execution_count": 4,
     "metadata": {},
     "output_type": "execute_result"
    }
   ],
   "source": [
    "# This dataset contains the topics already marked and so I would like to use this \n",
    "# as training set for my model.\n",
    "# I have a separate test data set for testing.\n",
    "\n",
    "filename = \"~/Documents/mygithub/bu_dsc/data/external/News_Category_Dataset_v2.json\"\n",
    "test_file = \"~/Documents/mygithub/bu_dsc/data/external/global-issues.csv\"\n",
    "\n",
    "df_all = pd.read_json(filename, lines = True)\n",
    "#display the first few rows of data\n",
    "df_all.head()"
   ]
  },
  {
   "cell_type": "markdown",
   "metadata": {},
   "source": [
    "<a id='display_data'></a>\n",
    "### Step 2: Display the dimensions of the file"
   ]
  },
  {
   "cell_type": "code",
   "execution_count": 5,
   "metadata": {},
   "outputs": [
    {
     "name": "stdout",
     "output_type": "stream",
     "text": [
      "The dimension of the table is:  (200853, 6)\n",
      "Checking to see if there are any missing data: \n",
      "<class 'pandas.core.frame.DataFrame'>\n",
      "RangeIndex: 200853 entries, 0 to 200852\n",
      "Data columns (total 6 columns):\n",
      " #   Column             Non-Null Count   Dtype         \n",
      "---  ------             --------------   -----         \n",
      " 0   category           200853 non-null  object        \n",
      " 1   headline           200853 non-null  object        \n",
      " 2   authors            200853 non-null  object        \n",
      " 3   link               200853 non-null  object        \n",
      " 4   short_description  200853 non-null  object        \n",
      " 5   date               200853 non-null  datetime64[ns]\n",
      "dtypes: datetime64[ns](1), object(5)\n",
      "memory usage: 9.2+ MB\n"
     ]
    }
   ],
   "source": [
    "## so you’ll have a good idea the amount of data you are working with.\n",
    "print(\"The dimension of the table is: \", df_all.shape)\n",
    "print(\"Checking to see if there are any missing data: \")\n",
    "df_all.info()"
   ]
  },
  {
   "cell_type": "markdown",
   "metadata": {},
   "source": [
    "<a id='variable_types'></a>\n",
    "### Step 3: what type of variables are in the table "
   ]
  },
  {
   "cell_type": "code",
   "execution_count": 6,
   "metadata": {},
   "outputs": [
    {
     "name": "stdout",
     "output_type": "stream",
     "text": [
      "Describe Data\n"
     ]
    },
    {
     "name": "stderr",
     "output_type": "stream",
     "text": [
      "<ipython-input-6-a1fc3608d985>:6: FutureWarning: Treating datetime data as categorical rather than numeric in `.describe` is deprecated and will be removed in a future version of pandas. Specify `datetime_is_numeric=True` to silence this warning and adopt the future behavior now.\n",
      "  print(df_all.describe())\n"
     ]
    },
    {
     "name": "stdout",
     "output_type": "stream",
     "text": [
      "        category        headline authors                                                                                     link short_description                 date\n",
      "count     200853          200853  200853                                                                                   200853            200853               200853\n",
      "unique        41          199344   27993                                                                                   200812            178353                 2309\n",
      "top     POLITICS  Sunday Roundup          https://www.huffingtonpost.comhttp://www.newrepublic.com/article/123223/plan-save-world                    2012-12-21 00:00:00\n",
      "freq       32739              90   36620                                                                                        2             19712                  100\n",
      "first        NaN             NaN     NaN                                                                                      NaN               NaN  2012-01-28 00:00:00\n",
      "last         NaN             NaN     NaN                                                                                      NaN               NaN  2018-05-26 00:00:00\n",
      "Summarized Data\n",
      "        category        headline authors                                                                                     link short_description\n",
      "count     200853          200853  200853                                                                                   200853            200853\n",
      "unique        41          199344   27993                                                                                   200812            178353\n",
      "top     POLITICS  Sunday Roundup          https://www.huffingtonpost.comhttp://www.newrepublic.com/article/123223/plan-save-world                  \n",
      "freq       32739              90   36620                                                                                        2             19712\n"
     ]
    }
   ],
   "source": [
    "# Look at summary information about your data (total, mean, min, max, freq, unique, etc.) \n",
    "# Does this present any more questions for you? \n",
    "# Does it lead you to a conclusion yet?\n",
    "\n",
    "print(\"Describe Data\") \n",
    "print(df_all.describe()) \n",
    "print(\"Summarized Data\") \n",
    "print(df_all.describe(include='O'))"
   ]
  },
  {
   "cell_type": "markdown",
   "metadata": {},
   "source": [
    "<a id='adding_yr_mnth'></a>\n",
    "### Breaking down the datetime column into year month for visualization  "
   ]
  },
  {
   "cell_type": "code",
   "execution_count": 7,
   "metadata": {},
   "outputs": [
    {
     "data": {
      "text/html": [
       "<div>\n",
       "<style scoped>\n",
       "    .dataframe tbody tr th:only-of-type {\n",
       "        vertical-align: middle;\n",
       "    }\n",
       "\n",
       "    .dataframe tbody tr th {\n",
       "        vertical-align: top;\n",
       "    }\n",
       "\n",
       "    .dataframe thead th {\n",
       "        text-align: right;\n",
       "    }\n",
       "</style>\n",
       "<table border=\"1\" class=\"dataframe\">\n",
       "  <thead>\n",
       "    <tr style=\"text-align: right;\">\n",
       "      <th></th>\n",
       "      <th>category</th>\n",
       "      <th>headline</th>\n",
       "      <th>authors</th>\n",
       "      <th>link</th>\n",
       "      <th>short_description</th>\n",
       "      <th>date</th>\n",
       "      <th>year</th>\n",
       "      <th>month</th>\n",
       "    </tr>\n",
       "  </thead>\n",
       "  <tbody>\n",
       "    <tr>\n",
       "      <th>0</th>\n",
       "      <td>CRIME</td>\n",
       "      <td>There Were 2 Mass Shootings In Texas Last Week, But Only 1 On TV</td>\n",
       "      <td>Melissa Jeltsen</td>\n",
       "      <td>https://www.huffingtonpost.com/entry/texas-amanda-painter-mass-shooting_us_5b081ab4e4b0802d69caad89</td>\n",
       "      <td>She left her husband. He killed their children. Just another day in America.</td>\n",
       "      <td>2018-05-26</td>\n",
       "      <td>2018</td>\n",
       "      <td>5</td>\n",
       "    </tr>\n",
       "    <tr>\n",
       "      <th>1</th>\n",
       "      <td>ENTERTAINMENT</td>\n",
       "      <td>Will Smith Joins Diplo And Nicky Jam For The 2018 World Cup's Official Song</td>\n",
       "      <td>Andy McDonald</td>\n",
       "      <td>https://www.huffingtonpost.com/entry/will-smith-joins-diplo-and-nicky-jam-for-the-official-2018-world-cup-song_us_5b09726fe4b0fdb2aa541201</td>\n",
       "      <td>Of course it has a song.</td>\n",
       "      <td>2018-05-26</td>\n",
       "      <td>2018</td>\n",
       "      <td>5</td>\n",
       "    </tr>\n",
       "    <tr>\n",
       "      <th>2</th>\n",
       "      <td>ENTERTAINMENT</td>\n",
       "      <td>Hugh Grant Marries For The First Time At Age 57</td>\n",
       "      <td>Ron Dicker</td>\n",
       "      <td>https://www.huffingtonpost.com/entry/hugh-grant-marries_us_5b09212ce4b0568a880b9a8c</td>\n",
       "      <td>The actor and his longtime girlfriend Anna Eberstein tied the knot in a civil ceremony.</td>\n",
       "      <td>2018-05-26</td>\n",
       "      <td>2018</td>\n",
       "      <td>5</td>\n",
       "    </tr>\n",
       "    <tr>\n",
       "      <th>3</th>\n",
       "      <td>ENTERTAINMENT</td>\n",
       "      <td>Jim Carrey Blasts 'Castrato' Adam Schiff And Democrats In New Artwork</td>\n",
       "      <td>Ron Dicker</td>\n",
       "      <td>https://www.huffingtonpost.com/entry/jim-carrey-adam-schiff-democrats_us_5b0950e8e4b0fdb2aa53e675</td>\n",
       "      <td>The actor gives Dems an ass-kicking for not fighting hard enough against Donald Trump.</td>\n",
       "      <td>2018-05-26</td>\n",
       "      <td>2018</td>\n",
       "      <td>5</td>\n",
       "    </tr>\n",
       "    <tr>\n",
       "      <th>4</th>\n",
       "      <td>ENTERTAINMENT</td>\n",
       "      <td>Julianna Margulies Uses Donald Trump Poop Bags To Pick Up After Her Dog</td>\n",
       "      <td>Ron Dicker</td>\n",
       "      <td>https://www.huffingtonpost.com/entry/julianna-margulies-trump-poop-bag_us_5b093ec2e4b0fdb2aa53df70</td>\n",
       "      <td>The \"Dietland\" actress said using the bags is a \"really cathartic, therapeutic moment.\"</td>\n",
       "      <td>2018-05-26</td>\n",
       "      <td>2018</td>\n",
       "      <td>5</td>\n",
       "    </tr>\n",
       "  </tbody>\n",
       "</table>\n",
       "</div>"
      ],
      "text/plain": [
       "        category                                                                     headline          authors                                                                                                                                        link                                                                        short_description       date  year  month\n",
       "0          CRIME             There Were 2 Mass Shootings In Texas Last Week, But Only 1 On TV  Melissa Jeltsen                                         https://www.huffingtonpost.com/entry/texas-amanda-painter-mass-shooting_us_5b081ab4e4b0802d69caad89             She left her husband. He killed their children. Just another day in America. 2018-05-26  2018      5\n",
       "1  ENTERTAINMENT  Will Smith Joins Diplo And Nicky Jam For The 2018 World Cup's Official Song    Andy McDonald  https://www.huffingtonpost.com/entry/will-smith-joins-diplo-and-nicky-jam-for-the-official-2018-world-cup-song_us_5b09726fe4b0fdb2aa541201                                                                 Of course it has a song. 2018-05-26  2018      5\n",
       "2  ENTERTAINMENT                              Hugh Grant Marries For The First Time At Age 57       Ron Dicker                                                         https://www.huffingtonpost.com/entry/hugh-grant-marries_us_5b09212ce4b0568a880b9a8c  The actor and his longtime girlfriend Anna Eberstein tied the knot in a civil ceremony. 2018-05-26  2018      5\n",
       "3  ENTERTAINMENT        Jim Carrey Blasts 'Castrato' Adam Schiff And Democrats In New Artwork       Ron Dicker                                           https://www.huffingtonpost.com/entry/jim-carrey-adam-schiff-democrats_us_5b0950e8e4b0fdb2aa53e675   The actor gives Dems an ass-kicking for not fighting hard enough against Donald Trump. 2018-05-26  2018      5\n",
       "4  ENTERTAINMENT      Julianna Margulies Uses Donald Trump Poop Bags To Pick Up After Her Dog       Ron Dicker                                          https://www.huffingtonpost.com/entry/julianna-margulies-trump-poop-bag_us_5b093ec2e4b0fdb2aa53df70  The \"Dietland\" actress said using the bags is a \"really cathartic, therapeutic moment.\" 2018-05-26  2018      5"
      ]
     },
     "execution_count": 7,
     "metadata": {},
     "output_type": "execute_result"
    }
   ],
   "source": [
    "# Breaking down the date column to Year and month separate columns for easy analysis\n",
    "# the date column is having the data in the datetime format\n",
    "\n",
    "df_all['year'] = df_all['date'].apply(lambda x: x.year)\n",
    "df_all['month'] = df_all['date'].apply(lambda x: x.month)\n",
    "\n",
    "df_all.head()"
   ]
  },
  {
   "cell_type": "code",
   "execution_count": 8,
   "metadata": {},
   "outputs": [
    {
     "name": "stdout",
     "output_type": "stream",
     "text": [
      "category 41 ['CRIME' 'ENTERTAINMENT' 'WORLD NEWS' 'IMPACT' 'POLITICS' 'WEIRD NEWS'\n",
      " 'BLACK VOICES' 'WOMEN' 'COMEDY' 'QUEER VOICES' 'SPORTS' 'BUSINESS'\n",
      " 'TRAVEL' 'MEDIA' 'TECH' 'RELIGION' 'SCIENCE' 'LATINO VOICES' 'EDUCATION'\n",
      " 'COLLEGE' 'PARENTS' 'ARTS & CULTURE' 'STYLE' 'GREEN' 'TASTE'\n",
      " 'HEALTHY LIVING' 'THE WORLDPOST' 'GOOD NEWS' 'WORLDPOST' 'FIFTY' 'ARTS'\n",
      " 'WELLNESS' 'PARENTING' 'HOME & LIVING' 'STYLE & BEAUTY' 'DIVORCE'\n",
      " 'WEDDINGS' 'FOOD & DRINK' 'MONEY' 'ENVIRONMENT' 'CULTURE & ARTS']\n",
      "year 7 [2018 2017 2016 2015 2014 2013 2012]\n",
      "month 12 [ 5  4  3  2  1 12 11 10  9  8  7  6]\n"
     ]
    }
   ],
   "source": [
    "# df_all.columns\n",
    "for col in df_all.columns[[0,6,7]]:\n",
    "    print(col,len(df_all[col].unique()),df_all[col].unique())"
   ]
  },
  {
   "cell_type": "code",
   "execution_count": 9,
   "metadata": {},
   "outputs": [
    {
     "name": "stdout",
     "output_type": "stream",
     "text": [
      "The dimension of the table is:  (200853, 8)\n",
      "Checking to see if there are any missing data: \n",
      "<class 'pandas.core.frame.DataFrame'>\n",
      "RangeIndex: 200853 entries, 0 to 200852\n",
      "Data columns (total 8 columns):\n",
      " #   Column             Non-Null Count   Dtype         \n",
      "---  ------             --------------   -----         \n",
      " 0   category           200853 non-null  object        \n",
      " 1   headline           200853 non-null  object        \n",
      " 2   authors            200853 non-null  object        \n",
      " 3   link               200853 non-null  object        \n",
      " 4   short_description  200853 non-null  object        \n",
      " 5   date               200853 non-null  datetime64[ns]\n",
      " 6   year               200853 non-null  int64         \n",
      " 7   month              200853 non-null  int64         \n",
      "dtypes: datetime64[ns](1), int64(2), object(5)\n",
      "memory usage: 12.3+ MB\n"
     ]
    }
   ],
   "source": [
    "# Display the dimensions of the dataframe post addition of the new columns\n",
    "# We now see that it has 2 more columns added towards the end as year and month of type integer\n",
    "\n",
    "print(\"The dimension of the table is: \", df_all.shape)\n",
    "print(\"Checking to see if there are any missing data: \")\n",
    "df_all.info()"
   ]
  },
  {
   "cell_type": "code",
   "execution_count": 10,
   "metadata": {},
   "outputs": [
    {
     "data": {
      "image/png": "[encoded data removed]",
      "text/plain": [
       "<Figure size 1440x720 with 1 Axes>"
      ]
     },
     "metadata": {
      "needs_background": "light"
     },
     "output_type": "display_data"
    }
   ],
   "source": [
    "# Barcharts: set up the figure size \n",
    "# This barchart shows the count of topics for each category.\n",
    "# Creating a separate dataframe for the categories in the training set\n",
    "# We can see that the Top 3 categories include Politics,Wellness and Entertainment and those are by far more than the rest.\n",
    "# %matplotlib inline \n",
    "\n",
    "# In the X axis we are showing article categories\n",
    "# The Y axis shows the corresponding counts \n",
    "width = 0.75 # the width of the bars\n",
    "\n",
    "df_catg = df_all.groupby(['category'])['category'].count()\n",
    "\n",
    "ax = df_catg.plot(kind='bar', figsize=(20,10), color=\"indigo\",width = width)\n",
    "\n",
    "plt.xticks(rotation=90)\n",
    "ax.set_title('Category Count', fontsize=25) \n",
    "ax.set_xlabel('Category', fontsize=20)\n",
    "ax.set_ylabel('Counts', fontsize=20)\n",
    "ax.tick_params(axis='both', labelsize=15)\n",
    "\n",
    "plt.show()\n"
   ]
  },
  {
   "cell_type": "code",
   "execution_count": 11,
   "metadata": {},
   "outputs": [
    {
     "data": {
      "text/plain": [
       "array([2018, 2017, 2016, 2015, 2014, 2013, 2012])"
      ]
     },
     "execution_count": 11,
     "metadata": {},
     "output_type": "execute_result"
    }
   ],
   "source": [
    "# Now subsetting the actual dataset\n",
    "# Subsetting the dataset by category and year\n",
    "\n",
    "subset_bycatgyear = df_all[['category','year']]\n",
    "# This is an array of the years in the dataset\n",
    "years = subset_bycatgyear['year'].unique()\n",
    "years\n",
    "# This shows an array of categories that is present in our dataset\n",
    "# categories = subset_bycatgyear['category'].unique()\n",
    "# categories\n"
   ]
  },
  {
   "cell_type": "code",
   "execution_count": 12,
   "metadata": {},
   "outputs": [],
   "source": [
    "# Creating a grouping subset to be used in my analysis later\n",
    "\n",
    "year_grp = subset_bycatgyear.groupby(['year'])"
   ]
  },
  {
   "cell_type": "code",
   "execution_count": 13,
   "metadata": {},
   "outputs": [
    {
     "name": "stdout",
     "output_type": "stream",
     "text": [
      "showing all the categories for a particular year:\n"
     ]
    },
    {
     "data": {
      "text/plain": [
       "category\n",
       "POLITICS          3067\n",
       "ENTERTAINMENT     1720\n",
       "WORLD NEWS         565\n",
       "QUEER VOICES       451\n",
       "COMEDY             443\n",
       "BLACK VOICES       408\n",
       "SPORTS             364\n",
       "MEDIA              293\n",
       "WOMEN              245\n",
       "WEIRD NEWS         206\n",
       "CRIME              174\n",
       "BUSINESS            86\n",
       "LATINO VOICES       83\n",
       "IMPACT              77\n",
       "TRAVEL              72\n",
       "RELIGION            65\n",
       "TECH                55\n",
       "SCIENCE             40\n",
       "PARENTS             36\n",
       "STYLE               34\n",
       "EDUCATION           32\n",
       "GREEN               29\n",
       "HEALTHY LIVING      15\n",
       "ARTS & CULTURE      13\n",
       "TASTE                9\n",
       "COLLEGE              1\n",
       "Name: category, dtype: int64"
      ]
     },
     "execution_count": 13,
     "metadata": {},
     "output_type": "execute_result"
    }
   ],
   "source": [
    "# displaying the data\n",
    "# print('showing all the categories for a particular year:')\n",
    "# year_grp.get_group(2012)\n",
    "print('showing all the categories for a particular year:')\n",
    "year_grp['category'].value_counts().loc[2018]"
   ]
  },
  {
   "cell_type": "code",
   "execution_count": 14,
   "metadata": {},
   "outputs": [
    {
     "data": {
      "text/html": [
       "<div>\n",
       "<style scoped>\n",
       "    .dataframe tbody tr th:only-of-type {\n",
       "        vertical-align: middle;\n",
       "    }\n",
       "\n",
       "    .dataframe tbody tr th {\n",
       "        vertical-align: top;\n",
       "    }\n",
       "\n",
       "    .dataframe thead tr th {\n",
       "        text-align: left;\n",
       "    }\n",
       "\n",
       "    .dataframe thead tr:last-of-type th {\n",
       "        text-align: right;\n",
       "    }\n",
       "</style>\n",
       "<table border=\"1\" class=\"dataframe\">\n",
       "  <thead>\n",
       "    <tr>\n",
       "      <th></th>\n",
       "      <th colspan=\"41\" halign=\"left\">category</th>\n",
       "    </tr>\n",
       "    <tr>\n",
       "      <th>category</th>\n",
       "      <th>ARTS</th>\n",
       "      <th>ARTS &amp; CULTURE</th>\n",
       "      <th>BLACK VOICES</th>\n",
       "      <th>BUSINESS</th>\n",
       "      <th>COLLEGE</th>\n",
       "      <th>COMEDY</th>\n",
       "      <th>CRIME</th>\n",
       "      <th>CULTURE &amp; ARTS</th>\n",
       "      <th>DIVORCE</th>\n",
       "      <th>EDUCATION</th>\n",
       "      <th>ENTERTAINMENT</th>\n",
       "      <th>ENVIRONMENT</th>\n",
       "      <th>FIFTY</th>\n",
       "      <th>FOOD &amp; DRINK</th>\n",
       "      <th>GOOD NEWS</th>\n",
       "      <th>GREEN</th>\n",
       "      <th>HEALTHY LIVING</th>\n",
       "      <th>HOME &amp; LIVING</th>\n",
       "      <th>IMPACT</th>\n",
       "      <th>LATINO VOICES</th>\n",
       "      <th>MEDIA</th>\n",
       "      <th>MONEY</th>\n",
       "      <th>PARENTING</th>\n",
       "      <th>PARENTS</th>\n",
       "      <th>POLITICS</th>\n",
       "      <th>QUEER VOICES</th>\n",
       "      <th>RELIGION</th>\n",
       "      <th>SCIENCE</th>\n",
       "      <th>SPORTS</th>\n",
       "      <th>STYLE</th>\n",
       "      <th>STYLE &amp; BEAUTY</th>\n",
       "      <th>TASTE</th>\n",
       "      <th>TECH</th>\n",
       "      <th>THE WORLDPOST</th>\n",
       "      <th>TRAVEL</th>\n",
       "      <th>WEDDINGS</th>\n",
       "      <th>WEIRD NEWS</th>\n",
       "      <th>WELLNESS</th>\n",
       "      <th>WOMEN</th>\n",
       "      <th>WORLD NEWS</th>\n",
       "      <th>WORLDPOST</th>\n",
       "    </tr>\n",
       "    <tr>\n",
       "      <th>year</th>\n",
       "      <th></th>\n",
       "      <th></th>\n",
       "      <th></th>\n",
       "      <th></th>\n",
       "      <th></th>\n",
       "      <th></th>\n",
       "      <th></th>\n",
       "      <th></th>\n",
       "      <th></th>\n",
       "      <th></th>\n",
       "      <th></th>\n",
       "      <th></th>\n",
       "      <th></th>\n",
       "      <th></th>\n",
       "      <th></th>\n",
       "      <th></th>\n",
       "      <th></th>\n",
       "      <th></th>\n",
       "      <th></th>\n",
       "      <th></th>\n",
       "      <th></th>\n",
       "      <th></th>\n",
       "      <th></th>\n",
       "      <th></th>\n",
       "      <th></th>\n",
       "      <th></th>\n",
       "      <th></th>\n",
       "      <th></th>\n",
       "      <th></th>\n",
       "      <th></th>\n",
       "      <th></th>\n",
       "      <th></th>\n",
       "      <th></th>\n",
       "      <th></th>\n",
       "      <th></th>\n",
       "      <th></th>\n",
       "      <th></th>\n",
       "      <th></th>\n",
       "      <th></th>\n",
       "      <th></th>\n",
       "      <th></th>\n",
       "    </tr>\n",
       "  </thead>\n",
       "  <tbody>\n",
       "    <tr>\n",
       "      <th>2012</th>\n",
       "      <td>NaN</td>\n",
       "      <td>NaN</td>\n",
       "      <td>307.0</td>\n",
       "      <td>679.0</td>\n",
       "      <td>NaN</td>\n",
       "      <td>604.0</td>\n",
       "      <td>199.0</td>\n",
       "      <td>343.0</td>\n",
       "      <td>1256.0</td>\n",
       "      <td>NaN</td>\n",
       "      <td>562.0</td>\n",
       "      <td>482.0</td>\n",
       "      <td>NaN</td>\n",
       "      <td>1823.0</td>\n",
       "      <td>NaN</td>\n",
       "      <td>NaN</td>\n",
       "      <td>NaN</td>\n",
       "      <td>1620.0</td>\n",
       "      <td>332.0</td>\n",
       "      <td>NaN</td>\n",
       "      <td>NaN</td>\n",
       "      <td>1434.0</td>\n",
       "      <td>3127.0</td>\n",
       "      <td>NaN</td>\n",
       "      <td>NaN</td>\n",
       "      <td>474.0</td>\n",
       "      <td>NaN</td>\n",
       "      <td>347.0</td>\n",
       "      <td>271.0</td>\n",
       "      <td>NaN</td>\n",
       "      <td>5193.0</td>\n",
       "      <td>NaN</td>\n",
       "      <td>442.0</td>\n",
       "      <td>NaN</td>\n",
       "      <td>3229.0</td>\n",
       "      <td>1493.0</td>\n",
       "      <td>NaN</td>\n",
       "      <td>7138.0</td>\n",
       "      <td>NaN</td>\n",
       "      <td>NaN</td>\n",
       "      <td>NaN</td>\n",
       "    </tr>\n",
       "    <tr>\n",
       "      <th>2013</th>\n",
       "      <td>NaN</td>\n",
       "      <td>NaN</td>\n",
       "      <td>320.0</td>\n",
       "      <td>846.0</td>\n",
       "      <td>NaN</td>\n",
       "      <td>487.0</td>\n",
       "      <td>236.0</td>\n",
       "      <td>558.0</td>\n",
       "      <td>1772.0</td>\n",
       "      <td>NaN</td>\n",
       "      <td>1015.0</td>\n",
       "      <td>655.0</td>\n",
       "      <td>NaN</td>\n",
       "      <td>3420.0</td>\n",
       "      <td>NaN</td>\n",
       "      <td>NaN</td>\n",
       "      <td>NaN</td>\n",
       "      <td>2306.0</td>\n",
       "      <td>394.0</td>\n",
       "      <td>NaN</td>\n",
       "      <td>NaN</td>\n",
       "      <td>81.0</td>\n",
       "      <td>4200.0</td>\n",
       "      <td>NaN</td>\n",
       "      <td>NaN</td>\n",
       "      <td>681.0</td>\n",
       "      <td>NaN</td>\n",
       "      <td>360.0</td>\n",
       "      <td>269.0</td>\n",
       "      <td>NaN</td>\n",
       "      <td>3482.0</td>\n",
       "      <td>NaN</td>\n",
       "      <td>333.0</td>\n",
       "      <td>NaN</td>\n",
       "      <td>3384.0</td>\n",
       "      <td>1755.0</td>\n",
       "      <td>NaN</td>\n",
       "      <td>8029.0</td>\n",
       "      <td>NaN</td>\n",
       "      <td>NaN</td>\n",
       "      <td>NaN</td>\n",
       "    </tr>\n",
       "    <tr>\n",
       "      <th>2014</th>\n",
       "      <td>801.0</td>\n",
       "      <td>NaN</td>\n",
       "      <td>424.0</td>\n",
       "      <td>1448.0</td>\n",
       "      <td>380.0</td>\n",
       "      <td>690.0</td>\n",
       "      <td>548.0</td>\n",
       "      <td>129.0</td>\n",
       "      <td>398.0</td>\n",
       "      <td>323.0</td>\n",
       "      <td>2122.0</td>\n",
       "      <td>186.0</td>\n",
       "      <td>667.0</td>\n",
       "      <td>983.0</td>\n",
       "      <td>315.0</td>\n",
       "      <td>806.0</td>\n",
       "      <td>2008.0</td>\n",
       "      <td>269.0</td>\n",
       "      <td>1103.0</td>\n",
       "      <td>121.0</td>\n",
       "      <td>486.0</td>\n",
       "      <td>192.0</td>\n",
       "      <td>1350.0</td>\n",
       "      <td>969.0</td>\n",
       "      <td>3182.0</td>\n",
       "      <td>971.0</td>\n",
       "      <td>789.0</td>\n",
       "      <td>447.0</td>\n",
       "      <td>909.0</td>\n",
       "      <td>531.0</td>\n",
       "      <td>974.0</td>\n",
       "      <td>521.0</td>\n",
       "      <td>76.0</td>\n",
       "      <td>NaN</td>\n",
       "      <td>1861.0</td>\n",
       "      <td>403.0</td>\n",
       "      <td>313.0</td>\n",
       "      <td>2660.0</td>\n",
       "      <td>780.0</td>\n",
       "      <td>NaN</td>\n",
       "      <td>1204.0</td>\n",
       "    </tr>\n",
       "    <tr>\n",
       "      <th>2015</th>\n",
       "      <td>618.0</td>\n",
       "      <td>207.0</td>\n",
       "      <td>958.0</td>\n",
       "      <td>1536.0</td>\n",
       "      <td>524.0</td>\n",
       "      <td>811.0</td>\n",
       "      <td>997.0</td>\n",
       "      <td>NaN</td>\n",
       "      <td>NaN</td>\n",
       "      <td>320.0</td>\n",
       "      <td>3923.0</td>\n",
       "      <td>NaN</td>\n",
       "      <td>577.0</td>\n",
       "      <td>NaN</td>\n",
       "      <td>461.0</td>\n",
       "      <td>738.0</td>\n",
       "      <td>1994.0</td>\n",
       "      <td>NaN</td>\n",
       "      <td>801.0</td>\n",
       "      <td>269.0</td>\n",
       "      <td>865.0</td>\n",
       "      <td>NaN</td>\n",
       "      <td>NaN</td>\n",
       "      <td>947.0</td>\n",
       "      <td>5887.0</td>\n",
       "      <td>1138.0</td>\n",
       "      <td>948.0</td>\n",
       "      <td>506.0</td>\n",
       "      <td>1337.0</td>\n",
       "      <td>678.0</td>\n",
       "      <td>NaN</td>\n",
       "      <td>625.0</td>\n",
       "      <td>471.0</td>\n",
       "      <td>512.0</td>\n",
       "      <td>662.0</td>\n",
       "      <td>NaN</td>\n",
       "      <td>801.0</td>\n",
       "      <td>NaN</td>\n",
       "      <td>764.0</td>\n",
       "      <td>NaN</td>\n",
       "      <td>1131.0</td>\n",
       "    </tr>\n",
       "    <tr>\n",
       "      <th>2016</th>\n",
       "      <td>87.0</td>\n",
       "      <td>596.0</td>\n",
       "      <td>1150.0</td>\n",
       "      <td>936.0</td>\n",
       "      <td>182.0</td>\n",
       "      <td>989.0</td>\n",
       "      <td>802.0</td>\n",
       "      <td>NaN</td>\n",
       "      <td>NaN</td>\n",
       "      <td>98.0</td>\n",
       "      <td>3526.0</td>\n",
       "      <td>NaN</td>\n",
       "      <td>155.0</td>\n",
       "      <td>NaN</td>\n",
       "      <td>597.0</td>\n",
       "      <td>505.0</td>\n",
       "      <td>1241.0</td>\n",
       "      <td>NaN</td>\n",
       "      <td>435.0</td>\n",
       "      <td>354.0</td>\n",
       "      <td>538.0</td>\n",
       "      <td>NaN</td>\n",
       "      <td>NaN</td>\n",
       "      <td>774.0</td>\n",
       "      <td>9990.0</td>\n",
       "      <td>1165.0</td>\n",
       "      <td>424.0</td>\n",
       "      <td>383.0</td>\n",
       "      <td>1324.0</td>\n",
       "      <td>481.0</td>\n",
       "      <td>NaN</td>\n",
       "      <td>409.0</td>\n",
       "      <td>578.0</td>\n",
       "      <td>2071.0</td>\n",
       "      <td>433.0</td>\n",
       "      <td>NaN</td>\n",
       "      <td>870.0</td>\n",
       "      <td>NaN</td>\n",
       "      <td>779.0</td>\n",
       "      <td>NaN</td>\n",
       "      <td>226.0</td>\n",
       "    </tr>\n",
       "    <tr>\n",
       "      <th>2017</th>\n",
       "      <td>3.0</td>\n",
       "      <td>523.0</td>\n",
       "      <td>961.0</td>\n",
       "      <td>406.0</td>\n",
       "      <td>57.0</td>\n",
       "      <td>1151.0</td>\n",
       "      <td>449.0</td>\n",
       "      <td>NaN</td>\n",
       "      <td>NaN</td>\n",
       "      <td>231.0</td>\n",
       "      <td>3190.0</td>\n",
       "      <td>NaN</td>\n",
       "      <td>2.0</td>\n",
       "      <td>NaN</td>\n",
       "      <td>25.0</td>\n",
       "      <td>544.0</td>\n",
       "      <td>1436.0</td>\n",
       "      <td>NaN</td>\n",
       "      <td>317.0</td>\n",
       "      <td>302.0</td>\n",
       "      <td>633.0</td>\n",
       "      <td>NaN</td>\n",
       "      <td>NaN</td>\n",
       "      <td>1229.0</td>\n",
       "      <td>10613.0</td>\n",
       "      <td>1434.0</td>\n",
       "      <td>330.0</td>\n",
       "      <td>95.0</td>\n",
       "      <td>410.0</td>\n",
       "      <td>530.0</td>\n",
       "      <td>NaN</td>\n",
       "      <td>532.0</td>\n",
       "      <td>127.0</td>\n",
       "      <td>1081.0</td>\n",
       "      <td>246.0</td>\n",
       "      <td>NaN</td>\n",
       "      <td>480.0</td>\n",
       "      <td>NaN</td>\n",
       "      <td>922.0</td>\n",
       "      <td>1612.0</td>\n",
       "      <td>18.0</td>\n",
       "    </tr>\n",
       "    <tr>\n",
       "      <th>2018</th>\n",
       "      <td>NaN</td>\n",
       "      <td>13.0</td>\n",
       "      <td>408.0</td>\n",
       "      <td>86.0</td>\n",
       "      <td>1.0</td>\n",
       "      <td>443.0</td>\n",
       "      <td>174.0</td>\n",
       "      <td>NaN</td>\n",
       "      <td>NaN</td>\n",
       "      <td>32.0</td>\n",
       "      <td>1720.0</td>\n",
       "      <td>NaN</td>\n",
       "      <td>NaN</td>\n",
       "      <td>NaN</td>\n",
       "      <td>NaN</td>\n",
       "      <td>29.0</td>\n",
       "      <td>15.0</td>\n",
       "      <td>NaN</td>\n",
       "      <td>77.0</td>\n",
       "      <td>83.0</td>\n",
       "      <td>293.0</td>\n",
       "      <td>NaN</td>\n",
       "      <td>NaN</td>\n",
       "      <td>36.0</td>\n",
       "      <td>3067.0</td>\n",
       "      <td>451.0</td>\n",
       "      <td>65.0</td>\n",
       "      <td>40.0</td>\n",
       "      <td>364.0</td>\n",
       "      <td>34.0</td>\n",
       "      <td>NaN</td>\n",
       "      <td>9.0</td>\n",
       "      <td>55.0</td>\n",
       "      <td>NaN</td>\n",
       "      <td>72.0</td>\n",
       "      <td>NaN</td>\n",
       "      <td>206.0</td>\n",
       "      <td>NaN</td>\n",
       "      <td>245.0</td>\n",
       "      <td>565.0</td>\n",
       "      <td>NaN</td>\n",
       "    </tr>\n",
       "  </tbody>\n",
       "</table>\n",
       "</div>"
      ],
      "text/plain": [
       "         category                                                                                                                                                                                                                                                                                                                                                                                                                  \n",
       "category     ARTS ARTS & CULTURE BLACK VOICES BUSINESS COLLEGE  COMEDY  CRIME CULTURE & ARTS DIVORCE EDUCATION ENTERTAINMENT ENVIRONMENT  FIFTY FOOD & DRINK GOOD NEWS  GREEN HEALTHY LIVING HOME & LIVING  IMPACT LATINO VOICES  MEDIA   MONEY PARENTING PARENTS POLITICS QUEER VOICES RELIGION SCIENCE  SPORTS  STYLE STYLE & BEAUTY  TASTE   TECH THE WORLDPOST  TRAVEL WEDDINGS WEIRD NEWS WELLNESS  WOMEN WORLD NEWS WORLDPOST\n",
       "year                                                                                                                                                                                                                                                                                                                                                                                                                               \n",
       "2012          NaN            NaN        307.0    679.0     NaN   604.0  199.0          343.0  1256.0       NaN         562.0       482.0    NaN       1823.0       NaN    NaN            NaN        1620.0   332.0           NaN    NaN  1434.0    3127.0     NaN      NaN        474.0      NaN   347.0   271.0    NaN         5193.0    NaN  442.0           NaN  3229.0   1493.0        NaN   7138.0    NaN        NaN       NaN\n",
       "2013          NaN            NaN        320.0    846.0     NaN   487.0  236.0          558.0  1772.0       NaN        1015.0       655.0    NaN       3420.0       NaN    NaN            NaN        2306.0   394.0           NaN    NaN    81.0    4200.0     NaN      NaN        681.0      NaN   360.0   269.0    NaN         3482.0    NaN  333.0           NaN  3384.0   1755.0        NaN   8029.0    NaN        NaN       NaN\n",
       "2014        801.0            NaN        424.0   1448.0   380.0   690.0  548.0          129.0   398.0     323.0        2122.0       186.0  667.0        983.0     315.0  806.0         2008.0         269.0  1103.0         121.0  486.0   192.0    1350.0   969.0   3182.0        971.0    789.0   447.0   909.0  531.0          974.0  521.0   76.0           NaN  1861.0    403.0      313.0   2660.0  780.0        NaN    1204.0\n",
       "2015        618.0          207.0        958.0   1536.0   524.0   811.0  997.0            NaN     NaN     320.0        3923.0         NaN  577.0          NaN     461.0  738.0         1994.0           NaN   801.0         269.0  865.0     NaN       NaN   947.0   5887.0       1138.0    948.0   506.0  1337.0  678.0            NaN  625.0  471.0         512.0   662.0      NaN      801.0      NaN  764.0        NaN    1131.0\n",
       "2016         87.0          596.0       1150.0    936.0   182.0   989.0  802.0            NaN     NaN      98.0        3526.0         NaN  155.0          NaN     597.0  505.0         1241.0           NaN   435.0         354.0  538.0     NaN       NaN   774.0   9990.0       1165.0    424.0   383.0  1324.0  481.0            NaN  409.0  578.0        2071.0   433.0      NaN      870.0      NaN  779.0        NaN     226.0\n",
       "2017          3.0          523.0        961.0    406.0    57.0  1151.0  449.0            NaN     NaN     231.0        3190.0         NaN    2.0          NaN      25.0  544.0         1436.0           NaN   317.0         302.0  633.0     NaN       NaN  1229.0  10613.0       1434.0    330.0    95.0   410.0  530.0            NaN  532.0  127.0        1081.0   246.0      NaN      480.0      NaN  922.0     1612.0      18.0\n",
       "2018          NaN           13.0        408.0     86.0     1.0   443.0  174.0            NaN     NaN      32.0        1720.0         NaN    NaN          NaN       NaN   29.0           15.0           NaN    77.0          83.0  293.0     NaN       NaN    36.0   3067.0        451.0     65.0    40.0   364.0   34.0            NaN    9.0   55.0           NaN    72.0      NaN      206.0      NaN  245.0      565.0       NaN"
      ]
     },
     "execution_count": 14,
     "metadata": {},
     "output_type": "execute_result"
    }
   ],
   "source": [
    "# Creating a dataframe out of the grouping set\n",
    "\n",
    "df = pd.DataFrame(year_grp['category'].value_counts())\n",
    "df.unstack(level=1)"
   ]
  },
  {
   "cell_type": "code",
   "execution_count": 15,
   "metadata": {},
   "outputs": [],
   "source": [
    "# getting the top 3 categories for each year\n",
    "\n"
   ]
  },
  {
   "cell_type": "code",
   "execution_count": 16,
   "metadata": {},
   "outputs": [
    {
     "data": {
      "text/plain": [
       "Text(0, 0.5, 'Counts')"
      ]
     },
     "execution_count": 16,
     "metadata": {},
     "output_type": "execute_result"
    },
    {
     "data": {
      "image/png": "[encoded data removed]",
      "text/plain": [
       "<Figure size 1440x720 with 1 Axes>"
      ]
     },
     "metadata": {
      "needs_background": "light"
     },
     "output_type": "display_data"
    }
   ],
   "source": [
    "# Grouped barcharts: set up the figure size \n",
    "# This barchart shows the count of topics for each category.\n",
    "# We can see that the Top 3 categories include Politics,Wellness and Entertainment and those are by far more than the rest.\n",
    "# %matplotlib inline \n",
    "\n",
    "# In the X axis we are showing article categories\n",
    "# The Y axis shows the corresponding counts \n",
    "width = 0.50 # the width of the bars\n",
    "plt.rcParams['figure.figsize'] = (20, 10)\n",
    "\n",
    "# Get the data\n",
    "# df = subset_bycatgyear.groupby(['year','category'])['category'].count()\n",
    "df1 = df.unstack(level=1)\n",
    "\n",
    "ax = df1.plot(kind='bar', width = width)\n",
    "\n",
    "# Define the bar\n",
    "\n",
    "\n",
    "# make the bar plot\n",
    "plt.xticks(rotation=0)\n",
    "ax.set_title('Category Count', fontsize=25) \n",
    "ax.set_xlabel('Year', fontsize=20)\n",
    "ax.set_ylabel('Counts', fontsize=20)\n",
    "# ax.tick_params(axis='both', labelsize=15)\n",
    "\n",
    "# plt.show()"
   ]
  },
  {
   "cell_type": "markdown",
   "metadata": {},
   "source": [
    "<a id='milestone_2'></a>\n",
    "## Milestone 2"
   ]
  },
  {
   "cell_type": "code",
   "execution_count": 18,
   "metadata": {},
   "outputs": [
    {
     "data": {
      "text/html": [
       "<div>\n",
       "<style scoped>\n",
       "    .dataframe tbody tr th:only-of-type {\n",
       "        vertical-align: middle;\n",
       "    }\n",
       "\n",
       "    .dataframe tbody tr th {\n",
       "        vertical-align: top;\n",
       "    }\n",
       "\n",
       "    .dataframe thead th {\n",
       "        text-align: right;\n",
       "    }\n",
       "</style>\n",
       "<table border=\"1\" class=\"dataframe\">\n",
       "  <thead>\n",
       "    <tr style=\"text-align: right;\">\n",
       "      <th></th>\n",
       "      <th>category</th>\n",
       "      <th>headline</th>\n",
       "      <th>authors</th>\n",
       "      <th>link</th>\n",
       "      <th>short_description</th>\n",
       "      <th>date</th>\n",
       "      <th>year</th>\n",
       "      <th>month</th>\n",
       "    </tr>\n",
       "  </thead>\n",
       "  <tbody>\n",
       "    <tr>\n",
       "      <th>0</th>\n",
       "      <td>CRIME</td>\n",
       "      <td>There Were 2 Mass Shootings In Texas Last Week, But Only 1 On TV</td>\n",
       "      <td>Melissa Jeltsen</td>\n",
       "      <td>https://www.huffingtonpost.com/entry/texas-amanda-painter-mass-shooting_us_5b081ab4e4b0802d69caad89</td>\n",
       "      <td>She left her husband. He killed their children. Just another day in America.</td>\n",
       "      <td>2018-05-26</td>\n",
       "      <td>2018</td>\n",
       "      <td>5</td>\n",
       "    </tr>\n",
       "    <tr>\n",
       "      <th>1</th>\n",
       "      <td>ENTERTAINMENT</td>\n",
       "      <td>Will Smith Joins Diplo And Nicky Jam For The 2018 World Cup's Official Song</td>\n",
       "      <td>Andy McDonald</td>\n",
       "      <td>https://www.huffingtonpost.com/entry/will-smith-joins-diplo-and-nicky-jam-for-the-official-2018-world-cup-song_us_5b09726fe4b0fdb2aa541201</td>\n",
       "      <td>Of course it has a song.</td>\n",
       "      <td>2018-05-26</td>\n",
       "      <td>2018</td>\n",
       "      <td>5</td>\n",
       "    </tr>\n",
       "    <tr>\n",
       "      <th>2</th>\n",
       "      <td>ENTERTAINMENT</td>\n",
       "      <td>Hugh Grant Marries For The First Time At Age 57</td>\n",
       "      <td>Ron Dicker</td>\n",
       "      <td>https://www.huffingtonpost.com/entry/hugh-grant-marries_us_5b09212ce4b0568a880b9a8c</td>\n",
       "      <td>The actor and his longtime girlfriend Anna Eberstein tied the knot in a civil ceremony.</td>\n",
       "      <td>2018-05-26</td>\n",
       "      <td>2018</td>\n",
       "      <td>5</td>\n",
       "    </tr>\n",
       "    <tr>\n",
       "      <th>3</th>\n",
       "      <td>ENTERTAINMENT</td>\n",
       "      <td>Jim Carrey Blasts 'Castrato' Adam Schiff And Democrats In New Artwork</td>\n",
       "      <td>Ron Dicker</td>\n",
       "      <td>https://www.huffingtonpost.com/entry/jim-carrey-adam-schiff-democrats_us_5b0950e8e4b0fdb2aa53e675</td>\n",
       "      <td>The actor gives Dems an ass-kicking for not fighting hard enough against Donald Trump.</td>\n",
       "      <td>2018-05-26</td>\n",
       "      <td>2018</td>\n",
       "      <td>5</td>\n",
       "    </tr>\n",
       "    <tr>\n",
       "      <th>4</th>\n",
       "      <td>ENTERTAINMENT</td>\n",
       "      <td>Julianna Margulies Uses Donald Trump Poop Bags To Pick Up After Her Dog</td>\n",
       "      <td>Ron Dicker</td>\n",
       "      <td>https://www.huffingtonpost.com/entry/julianna-margulies-trump-poop-bag_us_5b093ec2e4b0fdb2aa53df70</td>\n",
       "      <td>The \"Dietland\" actress said using the bags is a \"really cathartic, therapeutic moment.\"</td>\n",
       "      <td>2018-05-26</td>\n",
       "      <td>2018</td>\n",
       "      <td>5</td>\n",
       "    </tr>\n",
       "  </tbody>\n",
       "</table>\n",
       "</div>"
      ],
      "text/plain": [
       "        category                                                                     headline          authors                                                                                                                                        link                                                                        short_description       date  year  month\n",
       "0          CRIME             There Were 2 Mass Shootings In Texas Last Week, But Only 1 On TV  Melissa Jeltsen                                         https://www.huffingtonpost.com/entry/texas-amanda-painter-mass-shooting_us_5b081ab4e4b0802d69caad89             She left her husband. He killed their children. Just another day in America. 2018-05-26  2018      5\n",
       "1  ENTERTAINMENT  Will Smith Joins Diplo And Nicky Jam For The 2018 World Cup's Official Song    Andy McDonald  https://www.huffingtonpost.com/entry/will-smith-joins-diplo-and-nicky-jam-for-the-official-2018-world-cup-song_us_5b09726fe4b0fdb2aa541201                                                                 Of course it has a song. 2018-05-26  2018      5\n",
       "2  ENTERTAINMENT                              Hugh Grant Marries For The First Time At Age 57       Ron Dicker                                                         https://www.huffingtonpost.com/entry/hugh-grant-marries_us_5b09212ce4b0568a880b9a8c  The actor and his longtime girlfriend Anna Eberstein tied the knot in a civil ceremony. 2018-05-26  2018      5\n",
       "3  ENTERTAINMENT        Jim Carrey Blasts 'Castrato' Adam Schiff And Democrats In New Artwork       Ron Dicker                                           https://www.huffingtonpost.com/entry/jim-carrey-adam-schiff-democrats_us_5b0950e8e4b0fdb2aa53e675   The actor gives Dems an ass-kicking for not fighting hard enough against Donald Trump. 2018-05-26  2018      5\n",
       "4  ENTERTAINMENT      Julianna Margulies Uses Donald Trump Poop Bags To Pick Up After Her Dog       Ron Dicker                                          https://www.huffingtonpost.com/entry/julianna-margulies-trump-poop-bag_us_5b093ec2e4b0fdb2aa53df70  The \"Dietland\" actress said using the bags is a \"really cathartic, therapeutic moment.\" 2018-05-26  2018      5"
      ]
     },
     "execution_count": 18,
     "metadata": {},
     "output_type": "execute_result"
    }
   ],
   "source": [
    "#display the first few rows of data\n",
    "df_all.head()\n"
   ]
  },
  {
   "cell_type": "code",
   "execution_count": 19,
   "metadata": {},
   "outputs": [
    {
     "name": "stdout",
     "output_type": "stream",
     "text": [
      "The dimension of the table is:  (200853, 8)\n",
      "Checking to see if there are any missing data: \n",
      "<class 'pandas.core.frame.DataFrame'>\n",
      "RangeIndex: 200853 entries, 0 to 200852\n",
      "Data columns (total 8 columns):\n",
      " #   Column             Non-Null Count   Dtype         \n",
      "---  ------             --------------   -----         \n",
      " 0   category           200853 non-null  object        \n",
      " 1   headline           200853 non-null  object        \n",
      " 2   authors            200853 non-null  object        \n",
      " 3   link               200853 non-null  object        \n",
      " 4   short_description  200853 non-null  object        \n",
      " 5   date               200853 non-null  datetime64[ns]\n",
      " 6   year               200853 non-null  int64         \n",
      " 7   month              200853 non-null  int64         \n",
      "dtypes: datetime64[ns](1), int64(2), object(5)\n",
      "memory usage: 12.3+ MB\n"
     ]
    }
   ],
   "source": [
    "# Display the dimensions of the dataframe post addition of the new columns\n",
    "# We now see that it has 2 more columns added towards the end as year and month of type integer\n",
    "\n",
    "print(\"The dimension of the table is: \", df_all.shape)\n",
    "print(\"Checking to see if there are any missing data: \")\n",
    "df_all.info()"
   ]
  },
  {
   "cell_type": "markdown",
   "metadata": {},
   "source": [
    "### Description of the data set\n",
    "The training data set contains 200,853 rows and they represent the articles from huffington post on different topics.\n",
    "\n",
    "It has 8 columns with 7 features as the \"category\" column represents the target vector. We would be using this as a supervised learning algorithm.\n",
    "\n",
    "The model would be using the headline and the short description feature to categorize the headlines. \n",
    "\n",
    "The year and month features were added later and is a modified feature. So these 2 features could be dropped from the data set for model purpose. These 2 features would not add any additional information. So as part of the Feature selection process I am dropping them.\n",
    "\n",
    "The link feature shows the internet link of the headline. It shows a weblink to the news item and hence would not add any additional information for the categorization.\n",
    "\n",
    "As this project relates to text analysis so I am for the time being not considering any other features from the dataset other than the text values.\n"
   ]
  },
  {
   "cell_type": "code",
   "execution_count": 20,
   "metadata": {},
   "outputs": [
    {
     "name": "stdout",
     "output_type": "stream",
     "text": [
      "<class 'pandas.core.frame.DataFrame'>\n",
      "RangeIndex: 200853 entries, 0 to 200852\n",
      "Data columns (total 2 columns):\n",
      " #   Column             Non-Null Count   Dtype \n",
      "---  ------             --------------   ----- \n",
      " 0   headline           200853 non-null  object\n",
      " 1   short_description  200853 non-null  object\n",
      "dtypes: object(2)\n",
      "memory usage: 3.1+ MB\n"
     ]
    }
   ],
   "source": [
    "# In the next step I am creating a new training dataframe df_train and the target vector as y\n",
    "# \n",
    "df_train = df_all[['headline','short_description']]\n",
    "df_train.info() "
   ]
  },
  {
   "cell_type": "code",
   "execution_count": 21,
   "metadata": {},
   "outputs": [
    {
     "name": "stdout",
     "output_type": "stream",
     "text": [
      "Length of the target vector:  200853\n",
      "Size of the vector:  200853\n"
     ]
    }
   ],
   "source": [
    "# The target vector \n",
    "y = df_all['category']\n",
    "print ('Length of the target vector: ' , len(y))\n",
    "print ('Size of the vector: ',y.size)"
   ]
  },
  {
   "cell_type": "code",
   "execution_count": 22,
   "metadata": {},
   "outputs": [],
   "source": [
    "## In the next section I am working on cleaning the dataset and word tokenization."
   ]
  },
  {
   "cell_type": "code",
   "execution_count": 23,
   "metadata": {},
   "outputs": [],
   "source": [
    "#Convert text to lowercase and romove punctuation\n",
    "#define a function to clean the text\n",
    "\n",
    "# import the required libraries here\n",
    "\n",
    "#import regular expressions library\n",
    "import re\n",
    "\n",
    "def clean_text(text):\n",
    "    \"\"\"\n",
    "    Remove punctuations and special characters, makes lower case\n",
    "    Args: text\n",
    "    Output: text\n",
    "    \"\"\"\n",
    "    text=text.lower() #makes text lowercase\n",
    "    text=re.sub('\\\\d|\\\\W+|_',' ',text) #removes extra white space\n",
    "    text=re.sub('[^a-zA-Z]',\" \", text) #removes any non-alphabetic characters\n",
    "    return text"
   ]
  },
  {
   "cell_type": "code",
   "execution_count": 24,
   "metadata": {},
   "outputs": [],
   "source": [
    "#import word tokenizer from NLTK\n",
    "from nltk.tokenize import word_tokenize\n",
    "\n",
    "def tokenize_text(text):\n",
    "    return word_tokenize(text)"
   ]
  },
  {
   "cell_type": "code",
   "execution_count": 25,
   "metadata": {},
   "outputs": [
    {
     "data": {
      "text/plain": [
       "'there were   mass shootings in texas last week but only   on tv'"
      ]
     },
     "execution_count": 25,
     "metadata": {},
     "output_type": "execute_result"
    }
   ],
   "source": [
    "# Testing the functions\n",
    "input_txt = \"There Were 2 Mass Shootings In Texas Last Week, But Only 1 On TV\"\n",
    "output_txt = clean_text(input_txt)\n",
    "output_txt"
   ]
  },
  {
   "cell_type": "code",
   "execution_count": 37,
   "metadata": {},
   "outputs": [
    {
     "data": {
      "text/html": [
       "<div>\n",
       "<style scoped>\n",
       "    .dataframe tbody tr th:only-of-type {\n",
       "        vertical-align: middle;\n",
       "    }\n",
       "\n",
       "    .dataframe tbody tr th {\n",
       "        vertical-align: top;\n",
       "    }\n",
       "\n",
       "    .dataframe thead th {\n",
       "        text-align: right;\n",
       "    }\n",
       "</style>\n",
       "<table border=\"1\" class=\"dataframe\">\n",
       "  <thead>\n",
       "    <tr style=\"text-align: right;\">\n",
       "      <th></th>\n",
       "      <th>headline</th>\n",
       "      <th>short_description</th>\n",
       "    </tr>\n",
       "  </thead>\n",
       "  <tbody>\n",
       "    <tr>\n",
       "      <th>0</th>\n",
       "      <td>Get A Great Smoky Eye In No Time</td>\n",
       "      <td>Smoky eyes -- infinitely sexy, alluringly mysterious, and a total pain in the you-know-what to create. Read more on Refinery29</td>\n",
       "    </tr>\n",
       "    <tr>\n",
       "      <th>1</th>\n",
       "      <td>Donald Trump's Border Wall Proves How Little He Knows About Mexican Immigration</td>\n",
       "      <td>Immigration from Mexico is actually on the decline.</td>\n",
       "    </tr>\n",
       "    <tr>\n",
       "      <th>2</th>\n",
       "      <td>10 Valuable Lessons I Learned After Two Weeks With My Grandchild</td>\n",
       "      <td>Two weeks with a two-year-old and I've learned lessons that I never learned in school or from the 20 years I've spent working with families. It's easy to give advice until you find yourself in the trenches with a determined, impulsive two-year-old.</td>\n",
       "    </tr>\n",
       "    <tr>\n",
       "      <th>3</th>\n",
       "      <td>This Election Year's Darwin Award Goes to the Folks Behind This Political Mailer</td>\n",
       "      <td>Did you hear the one about the Kentucky GOP candidate who asked his attorney general to investigate the state Democratic Party for allegedly sending out his Social Security number to thousands of constituents? Sorry to say, there's no punch line here, because according to recent reports, it actually happened.</td>\n",
       "    </tr>\n",
       "    <tr>\n",
       "      <th>4</th>\n",
       "      <td>On Rebirth</td>\n",
       "      <td>Each pregnancy is different. For me this one in particular has been about unweaving and sweeping out some of the most nagging and difficult thought patterns and threads of my early life.</td>\n",
       "    </tr>\n",
       "  </tbody>\n",
       "</table>\n",
       "</div>"
      ],
      "text/plain": [
       "                                                                           headline                                                                                                                                                                                                                                                                                                       short_description\n",
       "0                                                  Get A Great Smoky Eye In No Time                                                                                                                                                                                          Smoky eyes -- infinitely sexy, alluringly mysterious, and a total pain in the you-know-what to create. Read more on Refinery29\n",
       "1   Donald Trump's Border Wall Proves How Little He Knows About Mexican Immigration                                                                                                                                                                                                                                                                     Immigration from Mexico is actually on the decline.\n",
       "2                  10 Valuable Lessons I Learned After Two Weeks With My Grandchild                                                                Two weeks with a two-year-old and I've learned lessons that I never learned in school or from the 20 years I've spent working with families. It's easy to give advice until you find yourself in the trenches with a determined, impulsive two-year-old.\n",
       "3  This Election Year's Darwin Award Goes to the Folks Behind This Political Mailer  Did you hear the one about the Kentucky GOP candidate who asked his attorney general to investigate the state Democratic Party for allegedly sending out his Social Security number to thousands of constituents? Sorry to say, there's no punch line here, because according to recent reports, it actually happened.\n",
       "4                                                                        On Rebirth                                                                                                                              Each pregnancy is different. For me this one in particular has been about unweaving and sweeping out some of the most nagging and difficult thought patterns and threads of my early life."
      ]
     },
     "execution_count": 37,
     "metadata": {},
     "output_type": "execute_result"
    }
   ],
   "source": [
    "#create a new data frame for the column for each pre-processing step\n",
    "#take a random sample of the dataframe to cut down on processing time\n",
    "#number of comments to keep\n",
    "num_comments = 50000\n",
    "df_sample_headline = df_train.sample(n = num_comments).reset_index(drop = True )\n",
    "df_sample_headline.head()"
   ]
  },
  {
   "cell_type": "code",
   "execution_count": 38,
   "metadata": {},
   "outputs": [
    {
     "name": "stdout",
     "output_type": "stream",
     "text": [
      "Show the dimension of the new dataframe:  (50000, 5)\n"
     ]
    },
    {
     "data": {
      "text/html": [
       "<div>\n",
       "<style scoped>\n",
       "    .dataframe tbody tr th:only-of-type {\n",
       "        vertical-align: middle;\n",
       "    }\n",
       "\n",
       "    .dataframe tbody tr th {\n",
       "        vertical-align: top;\n",
       "    }\n",
       "\n",
       "    .dataframe thead th {\n",
       "        text-align: right;\n",
       "    }\n",
       "</style>\n",
       "<table border=\"1\" class=\"dataframe\">\n",
       "  <thead>\n",
       "    <tr style=\"text-align: right;\">\n",
       "      <th></th>\n",
       "      <th>headline</th>\n",
       "      <th>short_description</th>\n",
       "      <th>hdln_clean</th>\n",
       "      <th>hdln_tokenized</th>\n",
       "      <th>hdln_final</th>\n",
       "    </tr>\n",
       "  </thead>\n",
       "  <tbody>\n",
       "    <tr>\n",
       "      <th>0</th>\n",
       "      <td>Get A Great Smoky Eye In No Time</td>\n",
       "      <td>Smoky eyes -- infinitely sexy, alluringly mysterious, and a total pain in the you-know-what to create. Read more on Refinery29</td>\n",
       "      <td>get a great smoky eye in no time</td>\n",
       "      <td>[get, a, great, smoky, eye, in, no, time]</td>\n",
       "      <td>get a great smoky eye in no time</td>\n",
       "    </tr>\n",
       "    <tr>\n",
       "      <th>1</th>\n",
       "      <td>Donald Trump's Border Wall Proves How Little He Knows About Mexican Immigration</td>\n",
       "      <td>Immigration from Mexico is actually on the decline.</td>\n",
       "      <td>donald trump s border wall proves how little he knows about mexican immigration</td>\n",
       "      <td>[donald, trump, s, border, wall, proves, how, little, he, knows, about, mexican, immigration]</td>\n",
       "      <td>donald trump s border wall proves how little he knows about mexican immigration</td>\n",
       "    </tr>\n",
       "    <tr>\n",
       "      <th>2</th>\n",
       "      <td>10 Valuable Lessons I Learned After Two Weeks With My Grandchild</td>\n",
       "      <td>Two weeks with a two-year-old and I've learned lessons that I never learned in school or from the 20 years I've spent working with families. It's easy to give advice until you find yourself in the trenches with a determined, impulsive two-year-old.</td>\n",
       "      <td>valuable lessons i learned after two weeks with my grandchild</td>\n",
       "      <td>[valuable, lessons, i, learned, after, two, weeks, with, my, grandchild]</td>\n",
       "      <td>valuable lessons i learned after two weeks with my grandchild</td>\n",
       "    </tr>\n",
       "    <tr>\n",
       "      <th>3</th>\n",
       "      <td>This Election Year's Darwin Award Goes to the Folks Behind This Political Mailer</td>\n",
       "      <td>Did you hear the one about the Kentucky GOP candidate who asked his attorney general to investigate the state Democratic Party for allegedly sending out his Social Security number to thousands of constituents? Sorry to say, there's no punch line here, because according to recent reports, it actually happened.</td>\n",
       "      <td>this election year s darwin award goes to the folks behind this political mailer</td>\n",
       "      <td>[this, election, year, s, darwin, award, goes, to, the, folks, behind, this, political, mailer]</td>\n",
       "      <td>this election year s darwin award goes to the folks behind this political mailer</td>\n",
       "    </tr>\n",
       "    <tr>\n",
       "      <th>4</th>\n",
       "      <td>On Rebirth</td>\n",
       "      <td>Each pregnancy is different. For me this one in particular has been about unweaving and sweeping out some of the most nagging and difficult thought patterns and threads of my early life.</td>\n",
       "      <td>on rebirth</td>\n",
       "      <td>[on, rebirth]</td>\n",
       "      <td>on rebirth</td>\n",
       "    </tr>\n",
       "  </tbody>\n",
       "</table>\n",
       "</div>"
      ],
      "text/plain": [
       "                                                                           headline                                                                                                                                                                                                                                                                                                       short_description                                                                        hdln_clean                                                                                   hdln_tokenized                                                                        hdln_final\n",
       "0                                                  Get A Great Smoky Eye In No Time                                                                                                                                                                                          Smoky eyes -- infinitely sexy, alluringly mysterious, and a total pain in the you-know-what to create. Read more on Refinery29                                                  get a great smoky eye in no time                                                        [get, a, great, smoky, eye, in, no, time]                                                  get a great smoky eye in no time\n",
       "1   Donald Trump's Border Wall Proves How Little He Knows About Mexican Immigration                                                                                                                                                                                                                                                                     Immigration from Mexico is actually on the decline.   donald trump s border wall proves how little he knows about mexican immigration    [donald, trump, s, border, wall, proves, how, little, he, knows, about, mexican, immigration]   donald trump s border wall proves how little he knows about mexican immigration\n",
       "2                  10 Valuable Lessons I Learned After Two Weeks With My Grandchild                                                                Two weeks with a two-year-old and I've learned lessons that I never learned in school or from the 20 years I've spent working with families. It's easy to give advice until you find yourself in the trenches with a determined, impulsive two-year-old.                     valuable lessons i learned after two weeks with my grandchild                         [valuable, lessons, i, learned, after, two, weeks, with, my, grandchild]                     valuable lessons i learned after two weeks with my grandchild\n",
       "3  This Election Year's Darwin Award Goes to the Folks Behind This Political Mailer  Did you hear the one about the Kentucky GOP candidate who asked his attorney general to investigate the state Democratic Party for allegedly sending out his Social Security number to thousands of constituents? Sorry to say, there's no punch line here, because according to recent reports, it actually happened.  this election year s darwin award goes to the folks behind this political mailer  [this, election, year, s, darwin, award, goes, to, the, folks, behind, this, political, mailer]  this election year s darwin award goes to the folks behind this political mailer\n",
       "4                                                                        On Rebirth                                                                                                                              Each pregnancy is different. For me this one in particular has been about unweaving and sweeping out some of the most nagging and difficult thought patterns and threads of my early life.                                                                        on rebirth                                                                                    [on, rebirth]                                                                        on rebirth"
      ]
     },
     "execution_count": 38,
     "metadata": {},
     "output_type": "execute_result"
    }
   ],
   "source": [
    "## Applying the cleaning function for the headline part\n",
    "\n",
    "#apply text cleaning function\n",
    "df_sample_headline['hdln_clean'] = df_sample_headline['headline'].apply(clean_text)\n",
    "#apply tokenizing\n",
    "df_sample_headline['hdln_tokenized'] = df_sample_headline['hdln_clean'].apply(tokenize_text)\n",
    "#apply PorterStemmer function\n",
    "# df_sample['txt_stemmed'] = df_sample['txt_tokenized'].apply(stem_text)\n",
    "#put the text back together (untokenize)\n",
    "df_sample_headline['hdln_final'] = df_sample_headline['hdln_tokenized'].apply(lambda text: ' '.join(text))\n",
    "#view the pre-processed text\n",
    "print('Show the dimension of the new dataframe: ', df_sample_headline.shape)\n",
    "df_sample_headline.head()"
   ]
  },
  {
   "cell_type": "code",
   "execution_count": 39,
   "metadata": {},
   "outputs": [],
   "source": [
    "# Using the word count vectorizer as feature engineering work.\n",
    "# As part of this exercise I am using only the headline text\n",
    "#create the bag of words feature matrix\n",
    "\n",
    "from sklearn.feature_extraction.text import CountVectorizer\n",
    "\n",
    "count = CountVectorizer()\n",
    "bag_of_words = count.fit_transform(df_sample_headline['hdln_final'])"
   ]
  },
  {
   "cell_type": "code",
   "execution_count": 40,
   "metadata": {},
   "outputs": [
    {
     "data": {
      "text/plain": [
       "(50000, 30810)"
      ]
     },
     "execution_count": 40,
     "metadata": {},
     "output_type": "execute_result"
    }
   ],
   "source": [
    "#check the shape of the output\n",
    "bag_of_words.shape"
   ]
  },
  {
   "cell_type": "code",
   "execution_count": null,
   "metadata": {},
   "outputs": [],
   "source": [
    "# Note that there for this sample data there are 50000 rows as expected, and the 30810 columns correspond to the unique words in the headlines."
   ]
  },
  {
   "cell_type": "code",
   "execution_count": 41,
   "metadata": {},
   "outputs": [],
   "source": [
    "#define a function to get the tf-idf vectorization\n",
    "#import tf-idf vectorizer from sklearn\n",
    "from sklearn.feature_extraction.text import TfidfVectorizer\n",
    "\n",
    "tfidf = TfidfVectorizer()\n",
    "tfidf_matrix = tfidf.fit_transform(df_sample_headline['hdln_final'])"
   ]
  },
  {
   "cell_type": "code",
   "execution_count": 42,
   "metadata": {},
   "outputs": [
    {
     "data": {
      "text/plain": [
       "(50000, 30810)"
      ]
     },
     "execution_count": 42,
     "metadata": {},
     "output_type": "execute_result"
    }
   ],
   "source": [
    "#check the shape of the output\n",
    "tfidf_matrix.shape"
   ]
  },
  {
   "cell_type": "code",
   "execution_count": 36,
   "metadata": {},
   "outputs": [],
   "source": [
    "# Note that the TFIDF matrix has the same shape as the word count vector. \n",
    "# This makes sense as the number of columns in both matrices corresponds to the number of unique words. \n",
    "# Whereas the word count vectorizer is only counting the number of times the word appears the TFIDF vectorization weighs how important each word is in each comment."
   ]
  },
  {
   "cell_type": "markdown",
   "metadata": {},
   "source": [
    "<a id='test_data'></a>"
   ]
  },
  {
   "cell_type": "markdown",
   "metadata": {},
   "source": [
    "### I am loading the below dataset as the test dataset\n",
    "### Although this dataset as I downloaded from kaggle site did have some classification data but I will tend to avoid it and use it to predict the cluster\n"
   ]
  },
  {
   "cell_type": "code",
   "execution_count": 28,
   "metadata": {},
   "outputs": [
    {
     "name": "stdout",
     "output_type": "stream",
     "text": [
      "<class 'pandas.core.frame.DataFrame'>\n",
      "RangeIndex: 15532 entries, 0 to 15531\n",
      "Data columns (total 3 columns):\n",
      " #   Column   Non-Null Count  Dtype  \n",
      "---  ------   --------------  -----  \n",
      " 0   Article  15532 non-null  object \n",
      " 1   Class    15532 non-null  object \n",
      " 2   url      0 non-null      float64\n",
      "dtypes: float64(1), object(2)\n",
      "memory usage: 364.2+ KB\n"
     ]
    }
   ],
   "source": [
    "df_test = pd.read_csv(test_file)\n",
    "df_test.info()"
   ]
  },
  {
   "cell_type": "code",
   "execution_count": 29,
   "metadata": {},
   "outputs": [
    {
     "data": {
      "text/html": [
       "<div>\n",
       "<style scoped>\n",
       "    .dataframe tbody tr th:only-of-type {\n",
       "        vertical-align: middle;\n",
       "    }\n",
       "\n",
       "    .dataframe tbody tr th {\n",
       "        vertical-align: top;\n",
       "    }\n",
       "\n",
       "    .dataframe thead th {\n",
       "        text-align: right;\n",
       "    }\n",
       "</style>\n",
       "<table border=\"1\" class=\"dataframe\">\n",
       "  <thead>\n",
       "    <tr style=\"text-align: right;\">\n",
       "      <th></th>\n",
       "      <th>Article</th>\n",
       "      <th>Class</th>\n",
       "      <th>url</th>\n",
       "    </tr>\n",
       "  </thead>\n",
       "  <tbody>\n",
       "    <tr>\n",
       "      <th>0</th>\n",
       "      <td>That is according to the Prosecutor of the International Criminal Court (ICC), Fatou Bensouda, who said she had a “clear message to convey: now is the time to act. Now is the time for the people of Sudan to choose law, over impunity, and ensure that the ICC suspects in the Darfur situation, finally face justice in a court of law.” She said the Council now had a “unique opportunity to decisively and effectively” address the wrongs committed by the security forces aligned with former President Omar al-Bashir in the Darfur region between 2003-2008, when around 300,000 were killed and 2.7 million civilians driven from their homes, according to UN figures.  She called for the immediate cessation of violence against civilians in the capital Khartoum and elsewhere, since the 3 June wave of attacks against protesters calling for a return to civilian rule, in opposition to the ruling Transitional Military Council (TMC).  All arrest warrants for the five suspects charged with the grave crimes within the ICC’s remit – genocide, war crimes and crimes against humanity – remain outstanding, she told members. Both deposed president Bashir, and two others, are now said to be in custody she said and are legally obliged to be transferred by the TMC. Only if they could show willing to prosecute them for the same crimes, could they remain in Sudan, she said. “I am ready to engage in dialogue with the authorities in Sudan to ensure that the Darfur suspects face independent and impartial justice, either in a courtroom in The Hague, or in Sudan\", said the Prosecutor. “Continued impunity is not an option. The victims of the Darfur situation deserve to finally have their day in court.\"“My expectation is that Sudan, with the support of this Council, will engage in dialogue with my Office to discuss the feasibility of a mission by my Office to Sudan in the very near future to resolve these issues.” She said in the face of a resurgence of further alleged grave crimes by former ‘Janjaweed’ militia fighters who are now part of the TMC-sanctioned Rapid Support Forces (RSF), who led many of the alleged atrocities in Darfur over a decade ago, it was “simply intolerable” that reported attacks today were continuing. Attacks against civilian populations in Darfur have continued during the reporting period and appear to be increasing in severity. The approximately 1.64 million internally displaced persons in Darfur remain especially vulnerable and sexual and gender-based violence continues to restrict the freedom of movement of women and girls, in IDP camps and areas of return”, she told the Council Ms. Bensouda noted with concern “the reports that the RSF have allegedly seized facilities and assets previously held by the Africa Union-United Nations Hybrid Operation in Darfur. In this context, I support the AU Peace and Security Council's resolve to extend UNAMID's mandate for a period of 12 months...as well as its rejection of the TMC's call for UNAMID to hand over assets to the RSF, and its request that these assets are handed to civilian authorities.” She said she would not hesitate to investigate any further crimes within the ICC mandate in Darfur “and where appropriate, prosecute”.  “With this Council's support, and the cooperation of the authorities in Sudan”, she concluded, “there is an opportunity, now, to make real progress in the pursuit of accountability and justice for the victims in the Darfur situation. The current reported violence against civilians in Darfur must stop and all the ICC Darfur suspects must stand trial. We must not squander this opportunity.”</td>\n",
       "      <td>international_security</td>\n",
       "      <td>NaN</td>\n",
       "    </tr>\n",
       "    <tr>\n",
       "      <th>1</th>\n",
       "      <td>Some 5,000 people have settled in several villages along the border near the town of Ingbokolo in Ituri province in north-eastern DRC, the United Nations Refugee agency (UNHCR) said on Tuesday.“Most are women, children and the elderly” said UNHCR spokesperson Babar Baloch, explaining that they have been arriving by foot “exhausted, hungry and thirsty”.“Among them are people suffering malaria or other illnesses” he continued, noting that many of those traumatized have “witnessed violent incidents, including armed men reportedly murdering and raping civilians and looting villages”.According to reports, the violence has displaced another 8,000 people inside South Sudan, near the town of Yei.The clashes started on 19 January between the army and a rebel group known as the National Salvation Front, UNHCR says, blocking humanitarian access to affected areas. The conflict in South Sudan has created over 2.2 million refugees since 2013. Meanwhile, the UN Children’s Fund, UNICEF, reported that an armed group in South Sudan released 119 children on Tuesday in the south-west town of Yambio, who had been held captive by the militia group known as the South Sudan National Liberation Movement (SSLM), which signed a peace agreement with the Government in 2016.Of the newly-released, 48 were girls, with the youngest child being 10-years-old. More than 3,100 children being held by armed groups have now been freed.“Every child no longer with an armed group represents a childhood restored and a future regained,” said UNICEF Executive Director Henrietta Fore.During the process, each child was registered and provided with a certificate stating they were no longer affiliated with the group. They then met social workers, health workers and education specialists, so their immediate needs could be assessed.UNICEF said that for each released child given help, one vulnerable child and their family from the host community receiving them, is also being supported to foster acceptance and promote a boost the chances of successful reintegration. “More and more children are being freed from armed groups and armed forces in South Sudan, and while this is an encouraging development, there is a long way to go before all of the more than 19,000 children still in their ranks are returned to their families,” asserted Ms. Fore.This year marks the 30th anniversary of the UN Convention on the Rights of the Child which requires governments to meet the basic needs of children and to help them reach their full potential, according to the UNICEF chief.“Five months after the signing of a peace agreement, UNICEF calls on all parties to South Sudan’s conflict to recommit themselves to upholding these rights and to ensuring that children are never soldiers”, concluded Ms. Fore.</td>\n",
       "      <td>international_security</td>\n",
       "      <td>NaN</td>\n",
       "    </tr>\n",
       "    <tr>\n",
       "      <th>2</th>\n",
       "      <td>The husband-and-wife owners of DC Solar, a California solar company that caused Warren Buffett’s Berkshire Hathaway Inc BRKa.N to take a $377 million charge last year, pleaded guilty on Friday to involvement in an estimated $912 million Ponzi scheme.Jeff Carpoff, 49, pleaded guilty to money laundering and conspiracy to commit wire fraud, while Paulette Carpoff, 46, pleaded guilty to money laundering and conspiracy to commit an offense against the United States.They entered their pleas in federal court in Sacramento, California. Jeff Carpoff faces up to 30 years in prison and Paulette Carpoff up to 15 years at their May 19 sentencing.Prosecutors called the criminal fraud scheme the largest in the Eastern District of California, which includes Sacramento.They said that from 2011 to 2018, DC Solar entered $2.5 billion of transactions to sell mobile solar generators meant to provide emergency power to cellphone towers and lighting at sports events, attracting investors with associated federal tax credits.But according to prosecutors, about half of the 17,000 generators did not exist, and the Benicia, California-based company used false financial statements and lease contracts to conceal the fraud.Authorities said the Carpoffs siphoned money to fund a lavish lifestyle including dozens of properties and vacation homes, a Nascar sponsorship, a stake in a private jet service, a holiday party featuring the rapper Pitbull, and at least 150 cars.Malcolm Segal, a lawyer for Jeff Carpoff, said in an interview that his client “feels terrible that this business started out intending to provide clean energy and tax benefits to many large corporations, but unfortunately failed and resulted in his committing a number of illegal acts.”Paulette Carpoff’s lawyer Bill Portanova said in an interview “She regrets absolutely what she did, and is looking forward to the difficult job of making amends.”The U.S. Securities and Exchange Commission filed related civil charges against the couple.Authorities said more than $120 million has already been forfeited from the scheme, including a 1978 Pontiac Firebird once owned by the actor Burt Reynolds.Last May, Berkshire said it had taken the $377 million charge in the prior quarter, after concluding that tax benefits it had accepted concerning investments in tax equity investment funds from 2015 to 2018 were “not valid.”Buffett’s assistant confirmed at the time that the charge related to DC Solar.Last February, DC Solar filed for Chapter 11 bankruptcy protection in Reno, Nevada.</td>\n",
       "      <td>global_energy_politics</td>\n",
       "      <td>NaN</td>\n",
       "    </tr>\n",
       "    <tr>\n",
       "      <th>3</th>\n",
       "      <td>Iraqs new prime minister, Mustafa al-Kadhimi, ordered the release of demonstrators last week to ease tensions with protesters. According to the Human Rights Commission, at least 98 protesters have been detained in Iraqs state prisons and dozens more are missing. But courts have so far not acted and this is being seen as the first test of al-Kadhimis power to carry out reforms.Al Jazeeras Simona Foltyn reports from Baghdad.</td>\n",
       "      <td>middle_east_crisis</td>\n",
       "      <td>NaN</td>\n",
       "    </tr>\n",
       "    <tr>\n",
       "      <th>4</th>\n",
       "      <td>A drop in the number of new German wind power projects coming onstream in 2019 and the early 2020s could make it harder to achieve economies of scale and hit investment, according to the country’s VDMA mechanical engineering group.That in turn could jeopardize Germany’s target of producing 65 percent of power from renewable sources by 2030, which is expected to require 20 gigawatts GW of total offshore wind capacity, four times the current number, VDMA said.Policymakers have recently shifted the industry away from fixed feed-in tariffs towards auctions for new building permits, hitting the profitability of wind power companies.VDMA believes the transition may have been too drastic, leading to a slowdown in new projects already this year.“The build-out will have a serious dent in 2019 for onshore and a complete stalling of offshore projects in 2020 and 2021, while other European countries have a steady order pipeline,” said Matthias Zelinger, head of VDMA’s Power Systems unit, naming the Netherlands, Denmark and Britain as more supportive of their wind industries.“This could erode the competitiveness of Germany as a reference market for component manufacturers,” he said in an interview, adding competition was shaping up in China and the United States.The unit groups a few dozen companies involved in supplying power-generating industries, including leading names in wind Siemens Gamesa, Nordex and Senvion, MHI Vestas and General Electric.While two thirds of the unit’s turnover comes from exports, Zelinger said it was important - as for the car industry - for the technology to thrive near where the equipment is produced.Industry figures show 5.6 GW of capacity were added in the onshore German wind industry last year, while that figure could fall to 3-4 GW in 2018 and 2.8 GW in 2019. Offshore wind construction in Germany’s North and Baltic Seas last year came in at 1.25 GW while, from this year, only 2.3 GW are under construction up to 2020.Permits after that are optional, and for more capacity to emerge policymakers must build grids and phase out old thermal plants, VDMA said.In the short term, Zelinger said the government should award 500-600 megawatts MW more onshore wind capacity in 2018/19 and add 1 GW to offshore auction volumes, and consider a price floor for carbon pollution rights.</td>\n",
       "      <td>global_energy_politics</td>\n",
       "      <td>NaN</td>\n",
       "    </tr>\n",
       "  </tbody>\n",
       "</table>\n",
       "</div>"
      ],
      "text/plain": [
       "                                                                                                                                                                                                                                                                                                                                                                                                                                                                                                                                                                                                                                                                                                                                                                                                                                                                                                                                                                                                                                                                                                                                                                                                                                                                                                                                                                                                                                                                                                                                                                                                                                                                                                                                                                                                                                                                                                                                                                                                                                                                                                                                                                                                                                                                                                                                                                                                                                                                                                                                                                                                                                                                                                                                                                                                                                                                                                                                                                                                                                                                                                                                                                                                                                                                                                                                                                                                                                                                                                                                                                                                                                                                                                                                              Article  \\\n",
       "0  That is according to the Prosecutor of the International Criminal Court (ICC), Fatou Bensouda, who said she had a “clear message to convey: now is the time to act. Now is the time for the people of Sudan to choose law, over impunity, and ensure that the ICC suspects in the Darfur situation, finally face justice in a court of law.” She said the Council now had a “unique opportunity to decisively and effectively” address the wrongs committed by the security forces aligned with former President Omar al-Bashir in the Darfur region between 2003-2008, when around 300,000 were killed and 2.7 million civilians driven from their homes, according to UN figures.  She called for the immediate cessation of violence against civilians in the capital Khartoum and elsewhere, since the 3 June wave of attacks against protesters calling for a return to civilian rule, in opposition to the ruling Transitional Military Council (TMC).  All arrest warrants for the five suspects charged with the grave crimes within the ICC’s remit – genocide, war crimes and crimes against humanity – remain outstanding, she told members. Both deposed president Bashir, and two others, are now said to be in custody she said and are legally obliged to be transferred by the TMC. Only if they could show willing to prosecute them for the same crimes, could they remain in Sudan, she said. “I am ready to engage in dialogue with the authorities in Sudan to ensure that the Darfur suspects face independent and impartial justice, either in a courtroom in The Hague, or in Sudan\", said the Prosecutor. “Continued impunity is not an option. The victims of the Darfur situation deserve to finally have their day in court.\"“My expectation is that Sudan, with the support of this Council, will engage in dialogue with my Office to discuss the feasibility of a mission by my Office to Sudan in the very near future to resolve these issues.” She said in the face of a resurgence of further alleged grave crimes by former ‘Janjaweed’ militia fighters who are now part of the TMC-sanctioned Rapid Support Forces (RSF), who led many of the alleged atrocities in Darfur over a decade ago, it was “simply intolerable” that reported attacks today were continuing. Attacks against civilian populations in Darfur have continued during the reporting period and appear to be increasing in severity. The approximately 1.64 million internally displaced persons in Darfur remain especially vulnerable and sexual and gender-based violence continues to restrict the freedom of movement of women and girls, in IDP camps and areas of return”, she told the Council Ms. Bensouda noted with concern “the reports that the RSF have allegedly seized facilities and assets previously held by the Africa Union-United Nations Hybrid Operation in Darfur. In this context, I support the AU Peace and Security Council's resolve to extend UNAMID's mandate for a period of 12 months...as well as its rejection of the TMC's call for UNAMID to hand over assets to the RSF, and its request that these assets are handed to civilian authorities.” She said she would not hesitate to investigate any further crimes within the ICC mandate in Darfur “and where appropriate, prosecute”.  “With this Council's support, and the cooperation of the authorities in Sudan”, she concluded, “there is an opportunity, now, to make real progress in the pursuit of accountability and justice for the victims in the Darfur situation. The current reported violence against civilians in Darfur must stop and all the ICC Darfur suspects must stand trial. We must not squander this opportunity.”    \n",
       "1                                                                                                                                                                                                                                                                                                                                                                                                                                                                                                                                                                                                                                                                                                                                                                                                                                                           Some 5,000 people have settled in several villages along the border near the town of Ingbokolo in Ituri province in north-eastern DRC, the United Nations Refugee agency (UNHCR) said on Tuesday.“Most are women, children and the elderly” said UNHCR spokesperson Babar Baloch, explaining that they have been arriving by foot “exhausted, hungry and thirsty”.“Among them are people suffering malaria or other illnesses” he continued, noting that many of those traumatized have “witnessed violent incidents, including armed men reportedly murdering and raping civilians and looting villages”.According to reports, the violence has displaced another 8,000 people inside South Sudan, near the town of Yei.The clashes started on 19 January between the army and a rebel group known as the National Salvation Front, UNHCR says, blocking humanitarian access to affected areas. The conflict in South Sudan has created over 2.2 million refugees since 2013. Meanwhile, the UN Children’s Fund, UNICEF, reported that an armed group in South Sudan released 119 children on Tuesday in the south-west town of Yambio, who had been held captive by the militia group known as the South Sudan National Liberation Movement (SSLM), which signed a peace agreement with the Government in 2016.Of the newly-released, 48 were girls, with the youngest child being 10-years-old. More than 3,100 children being held by armed groups have now been freed.“Every child no longer with an armed group represents a childhood restored and a future regained,” said UNICEF Executive Director Henrietta Fore.During the process, each child was registered and provided with a certificate stating they were no longer affiliated with the group. They then met social workers, health workers and education specialists, so their immediate needs could be assessed.UNICEF said that for each released child given help, one vulnerable child and their family from the host community receiving them, is also being supported to foster acceptance and promote a boost the chances of successful reintegration. “More and more children are being freed from armed groups and armed forces in South Sudan, and while this is an encouraging development, there is a long way to go before all of the more than 19,000 children still in their ranks are returned to their families,” asserted Ms. Fore.This year marks the 30th anniversary of the UN Convention on the Rights of the Child which requires governments to meet the basic needs of children and to help them reach their full potential, according to the UNICEF chief.“Five months after the signing of a peace agreement, UNICEF calls on all parties to South Sudan’s conflict to recommit themselves to upholding these rights and to ensuring that children are never soldiers”, concluded Ms. Fore.   \n",
       "2                                                                                                                                                                                                                                                                                                                                                                                                                                                                                                                                                                                                                                                                                                                                                                                                                                                                                                                                                                                                                                                                                                        The husband-and-wife owners of DC Solar, a California solar company that caused Warren Buffett’s Berkshire Hathaway Inc BRKa.N to take a $377 million charge last year, pleaded guilty on Friday to involvement in an estimated $912 million Ponzi scheme.Jeff Carpoff, 49, pleaded guilty to money laundering and conspiracy to commit wire fraud, while Paulette Carpoff, 46, pleaded guilty to money laundering and conspiracy to commit an offense against the United States.They entered their pleas in federal court in Sacramento, California. Jeff Carpoff faces up to 30 years in prison and Paulette Carpoff up to 15 years at their May 19 sentencing.Prosecutors called the criminal fraud scheme the largest in the Eastern District of California, which includes Sacramento.They said that from 2011 to 2018, DC Solar entered $2.5 billion of transactions to sell mobile solar generators meant to provide emergency power to cellphone towers and lighting at sports events, attracting investors with associated federal tax credits.But according to prosecutors, about half of the 17,000 generators did not exist, and the Benicia, California-based company used false financial statements and lease contracts to conceal the fraud.Authorities said the Carpoffs siphoned money to fund a lavish lifestyle including dozens of properties and vacation homes, a Nascar sponsorship, a stake in a private jet service, a holiday party featuring the rapper Pitbull, and at least 150 cars.Malcolm Segal, a lawyer for Jeff Carpoff, said in an interview that his client “feels terrible that this business started out intending to provide clean energy and tax benefits to many large corporations, but unfortunately failed and resulted in his committing a number of illegal acts.”Paulette Carpoff’s lawyer Bill Portanova said in an interview “She regrets absolutely what she did, and is looking forward to the difficult job of making amends.”The U.S. Securities and Exchange Commission filed related civil charges against the couple.Authorities said more than $120 million has already been forfeited from the scheme, including a 1978 Pontiac Firebird once owned by the actor Burt Reynolds.Last May, Berkshire said it had taken the $377 million charge in the prior quarter, after concluding that tax benefits it had accepted concerning investments in tax equity investment funds from 2015 to 2018 were “not valid.”Buffett’s assistant confirmed at the time that the charge related to DC Solar.Last February, DC Solar filed for Chapter 11 bankruptcy protection in Reno, Nevada.   \n",
       "3                                                                                                                                                                                                                                                                                                                                                                                                                                                                                                                                                                                                                                                                                                                                                                                                                                                                                                                                                                                                                                                                                                                                                                                                                                                                                                                                                                                                                                                                                                                                                                                                                                                                                                                                                                                                                                                                                                                                                                                                                                                                                                                                                                                                                                                                                                                                                                                                                                                                                                                                                                                                                                                                                                                                                                                                                                                                                                                                                                                                                                                                                                                                                                                                                                                                                                          Iraqs new prime minister, Mustafa al-Kadhimi, ordered the release of demonstrators last week to ease tensions with protesters. According to the Human Rights Commission, at least 98 protesters have been detained in Iraqs state prisons and dozens more are missing. But courts have so far not acted and this is being seen as the first test of al-Kadhimis power to carry out reforms.Al Jazeeras Simona Foltyn reports from Baghdad.   \n",
       "4                                                                                                                                                                                                                                                                                                                                                                                                                                                                                                                                                                                                                                                                                                                                                                                                                                                                                                                                                                                                                                                                                                                                                                                                                                                                                                                              A drop in the number of new German wind power projects coming onstream in 2019 and the early 2020s could make it harder to achieve economies of scale and hit investment, according to the country’s VDMA mechanical engineering group.That in turn could jeopardize Germany’s target of producing 65 percent of power from renewable sources by 2030, which is expected to require 20 gigawatts GW of total offshore wind capacity, four times the current number, VDMA said.Policymakers have recently shifted the industry away from fixed feed-in tariffs towards auctions for new building permits, hitting the profitability of wind power companies.VDMA believes the transition may have been too drastic, leading to a slowdown in new projects already this year.“The build-out will have a serious dent in 2019 for onshore and a complete stalling of offshore projects in 2020 and 2021, while other European countries have a steady order pipeline,” said Matthias Zelinger, head of VDMA’s Power Systems unit, naming the Netherlands, Denmark and Britain as more supportive of their wind industries.“This could erode the competitiveness of Germany as a reference market for component manufacturers,” he said in an interview, adding competition was shaping up in China and the United States.The unit groups a few dozen companies involved in supplying power-generating industries, including leading names in wind Siemens Gamesa, Nordex and Senvion, MHI Vestas and General Electric.While two thirds of the unit’s turnover comes from exports, Zelinger said it was important - as for the car industry - for the technology to thrive near where the equipment is produced.Industry figures show 5.6 GW of capacity were added in the onshore German wind industry last year, while that figure could fall to 3-4 GW in 2018 and 2.8 GW in 2019. Offshore wind construction in Germany’s North and Baltic Seas last year came in at 1.25 GW while, from this year, only 2.3 GW are under construction up to 2020.Permits after that are optional, and for more capacity to emerge policymakers must build grids and phase out old thermal plants, VDMA said.In the short term, Zelinger said the government should award 500-600 megawatts MW more onshore wind capacity in 2018/19 and add 1 GW to offshore auction volumes, and consider a price floor for carbon pollution rights.   \n",
       "\n",
       "                    Class  url  \n",
       "0  international_security  NaN  \n",
       "1  international_security  NaN  \n",
       "2  global_energy_politics  NaN  \n",
       "3      middle_east_crisis  NaN  \n",
       "4  global_energy_politics  NaN  "
      ]
     },
     "execution_count": 29,
     "metadata": {},
     "output_type": "execute_result"
    }
   ],
   "source": [
    "df_test.head()"
   ]
  }
 ],
 "metadata": {
  "kernelspec": {
   "display_name": "Python 3.8.5 64-bit ('base': conda)",
   "language": "python",
   "name": "python38564bitbaseconda9c4f9ef913ec46fba5f8aa62969238f5"
  },
  "language_info": {
   "codemirror_mode": {
    "name": "ipython",
    "version": 3
   },
   "file_extension": ".py",
   "mimetype": "text/x-python",
   "name": "python",
   "nbconvert_exporter": "python",
   "pygments_lexer": "ipython3",
   "version": "3.8.5"
  }
 },
 "nbformat": 4,
 "nbformat_minor": 4
}
