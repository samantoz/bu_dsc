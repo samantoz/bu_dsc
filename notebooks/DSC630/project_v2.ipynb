{
 "cells": [
  {
   "cell_type": "code",
   "execution_count": 2,
   "metadata": {},
   "outputs": [],
   "source": [
    "# load the libraries\n",
    "import pandas as pd\n",
    "import numpy as np\n",
    "import seaborn as sns\n",
    "import matplotlib.pyplot as plt"
   ]
  },
  {
   "cell_type": "code",
   "execution_count": 3,
   "metadata": {},
   "outputs": [],
   "source": [
    "# Using the folllowing for references\n",
    "# https://machinelearningmastery.com/quick-and-dirty-data-analysis-with-pandas/\n"
   ]
  },
  {
   "cell_type": "code",
   "execution_count": 4,
   "metadata": {},
   "outputs": [],
   "source": [
    "output_width = 1000\n",
    "#output_width = 80 #//*** Normal Output width\n",
    "pd.set_option(\"display.width\", output_width)\n",
    "pd.set_option('display.max_rows', 100)\n",
    "pd.set_option('display.max_columns', None)\n",
    "pd.set_option('display.max_colwidth', None)"
   ]
  },
  {
   "cell_type": "code",
   "execution_count": 5,
   "metadata": {},
   "outputs": [],
   "source": [
    "# Load the data into a dataframe\n",
    "housing_train = pd.read_csv(\"../../data/raw/dsc630_project/train.csv\",sep=\",\")\n",
    "housing_test = pd.read_csv(\"../../data/raw/dsc630_project/test.csv\",sep=\",\")\n",
    "housing_shared = pd.read_csv(\"../../data/processed/House_Prediction_upd.csv\",sep=\",\")\n",
    "# housing_data_0801 = pd.read_csv(\"../../data/processed/House_Prediction_08012021.csv\",sep=\",\")"
   ]
  },
  {
   "cell_type": "code",
   "execution_count": 6,
   "metadata": {},
   "outputs": [
    {
     "name": "stdout",
     "output_type": "stream",
     "text": [
      "Training set dimension : (1460, 81)\n",
      "Test set dimension : (1459, 80)\n"
     ]
    }
   ],
   "source": [
    "print(\"Training set dimension :\", housing_train.shape)\n",
    "print(\"Test set dimension :\", housing_test.shape)"
   ]
  },
  {
   "cell_type": "code",
   "execution_count": null,
   "metadata": {},
   "outputs": [],
   "source": [
    "# Viewing the top 5 and the bottom 5 rows in the dataframe\n",
    "housing_train"
   ]
  },
  {
   "cell_type": "code",
   "execution_count": null,
   "metadata": {},
   "outputs": [],
   "source": [
    "# Checking the info on the dataframe for the training set\n",
    "# This shows the number of columns with the data types \n",
    "# float64(3), int64(35), object(43)\n",
    "housing_train.info()"
   ]
  },
  {
   "cell_type": "code",
   "execution_count": null,
   "metadata": {},
   "outputs": [],
   "source": [
    "# Creating a subset of the data with selected columns\n",
    "housing_train_sub = housing_train[['Id','MSSubClass','LotArea','LotShape','LotConfig','Condition1','HouseStyle','YearBuilt','RoofMatl','MasVnrType','ExterCond','BsmtCond','BsmtFinSF1','BsmtUnfSF','HeatingQC','1stFlrSF','GrLivArea','FullBath','KitchenAbvGr','Functional','GarageType','GarageCars','GarageCond','OpenPorchSF','ScreenPorch','Fence','MoSold','SalePrice']]\n",
    "\n",
    "housing_train_sub"
   ]
  },
  {
   "cell_type": "code",
   "execution_count": null,
   "metadata": {},
   "outputs": [],
   "source": [
    "# store columns with specific data type\n",
    "integer_columns = housing_train.select_dtypes(include=['int64']).columns\n",
    "float_columns = housing_train.select_dtypes(include=['float64']).columns\n",
    "object_columns = housing_train.select_dtypes(include=['object']).columns\n",
    "  \n",
    "# display columns\n",
    "print('\\nint64 columns:\\n',integer_columns)\n",
    "print('\\nfloat64 columns:\\n',float_columns)\n",
    "print('\\nobject columns:\\n',object_columns)"
   ]
  },
  {
   "cell_type": "code",
   "execution_count": null,
   "metadata": {},
   "outputs": [],
   "source": [
    "# Getting the integer columns into a separate dataframe\n",
    "\n",
    "print(\"Number of integer columns: \",len(integer_columns))\n",
    "df_int = housing_train[integer_columns]\n",
    "# df_int.shape\n",
    "# This displays a table of detailed distribution information for each of the 35 attributes(integer) in our dataframe\n",
    "# We can start reviewing the statistics and collect interesting facts about the feature set\n",
    "# df_int.describe()\n",
    "df_int.info()"
   ]
  },
  {
   "cell_type": "code",
   "execution_count": null,
   "metadata": {},
   "outputs": [],
   "source": [
    "# To find the correlation among\n",
    "# the columns using pearson method\n",
    "df_int.corr(method ='pearson')"
   ]
  },
  {
   "cell_type": "code",
   "execution_count": null,
   "metadata": {},
   "outputs": [],
   "source": [
    "corr = df_int.corr(method ='pearson')\n",
    "ax = sns.heatmap(\n",
    "    corr, \n",
    "    vmin=-1, vmax=1, center=0,\n",
    "    cmap=sns.diverging_palette(20, 220, n=200),\n",
    "    square=True\n",
    ")\n",
    "ax.set_xticklabels(\n",
    "    ax.get_xticklabels(),\n",
    "    rotation=45,\n",
    "    horizontalalignment='right'\n",
    ");"
   ]
  },
  {
   "cell_type": "code",
   "execution_count": null,
   "metadata": {},
   "outputs": [],
   "source": [
    "from pandas_profiling import ProfileReport\n",
    "profile = ProfileReport(housing_train_sub, title=\"Pandas Profiling Report\")\n",
    "profile.to_file(output_file='Pandas_profile_Report.html')"
   ]
  },
  {
   "cell_type": "code",
   "execution_count": null,
   "metadata": {},
   "outputs": [],
   "source": [
    "# Feature distributions\n",
    "# Reviewing the distribution of some attributes\n",
    "# We can also look at the distribution of each attribute by discretization the values into buckets and review the frequency in each bucket as histograms.\n",
    "df_int[['LotArea','YearBuilt']].hist();"
   ]
  },
  {
   "cell_type": "code",
   "execution_count": null,
   "metadata": {},
   "outputs": [],
   "source": [
    "df_int[['BsmtFinSF1','BsmtUnfSF']].hist();"
   ]
  },
  {
   "cell_type": "code",
   "execution_count": null,
   "metadata": {},
   "outputs": [],
   "source": [
    "# Feature - Feature Relationships\n",
    "# explore the relationships between the attributes\n",
    "# distribution of the interactions of each pair of attributes\n",
    "df1 = df_int[['BsmtFinSF1','BsmtUnfSF']]\n",
    "from pandas.plotting import scatter_matrix\n",
    "scatter_matrix(df1, alpha=0.2, figsize=(6, 6), diagonal='kde')\n"
   ]
  },
  {
   "cell_type": "code",
   "execution_count": null,
   "metadata": {},
   "outputs": [],
   "source": [
    "for col in ['BsmtFinSF1','BsmtUnfSF']:\n",
    "    df1[col] = df1[col].astype('category')\n",
    "\n",
    "df1.info()"
   ]
  },
  {
   "cell_type": "code",
   "execution_count": null,
   "metadata": {},
   "outputs": [],
   "source": [
    "df_int[['BsmtFinType1','OverallCond']].hist();"
   ]
  },
  {
   "cell_type": "code",
   "execution_count": null,
   "metadata": {},
   "outputs": [],
   "source": [
    "# explore the relationships between the attributes\n",
    "# distribution of the interactions of each pair of attributes\n",
    "from pandas.plotting import scatter_matrix\n",
    "scatter_matrix(df_int, alpha=0.2, figsize=(6, 6), diagonal='kde')\n"
   ]
  },
  {
   "cell_type": "code",
   "execution_count": null,
   "metadata": {},
   "outputs": [],
   "source": [
    "## See the values of the object data types\n",
    "housing_train['LotFrontage'].value_counts()"
   ]
  },
  {
   "cell_type": "code",
   "execution_count": null,
   "metadata": {},
   "outputs": [],
   "source": [
    "# + housing_train[\"LowQualFinSF\"])\n",
    "\n",
    "assert not (\n",
    "    housing_train[\"GrLivArea\"] != (housing_train[\"1stFlrSF\"] + housing_train[\"2ndFlrSF\"]  + housing_train[\"LowQualFinSF\"]) \n",
    "        ).any()"
   ]
  },
  {
   "cell_type": "code",
   "execution_count": null,
   "metadata": {},
   "outputs": [],
   "source": [
    "housing_train[['LotFrontage']].hist();"
   ]
  },
  {
   "cell_type": "code",
   "execution_count": null,
   "metadata": {},
   "outputs": [],
   "source": [
    "sns.histplot(housing_train.LotFrontage, kde=True)\n",
    "plt.title(\"Distribution of the Lot Frontage length of the houses\")\n",
    "plt.show() "
   ]
  },
  {
   "cell_type": "code",
   "execution_count": null,
   "metadata": {},
   "outputs": [],
   "source": [
    "# Number of missing data per column\n",
    "# List of columns with missing values\n",
    "\n",
    "column_with_nan = housing_train.columns[housing_train.isnull().any()]\n",
    "for column in column_with_nan:\n",
    "    print(column, housing_train[column].isnull().sum())"
   ]
  },
  {
   "cell_type": "code",
   "execution_count": null,
   "metadata": {},
   "outputs": [],
   "source": [
    "# Top 5 columns with largest number of missing data\n",
    "housing_train.isnull().sum().nlargest(5)"
   ]
  },
  {
   "cell_type": "code",
   "execution_count": null,
   "metadata": {},
   "outputs": [],
   "source": [
    "### Planning to drop the following columns\n",
    "### One of the major reason for that is as more than 50% of the rows are Null for those columns\n",
    "\n",
    "# PoolQC\n",
    "# MiscFeature\n",
    "# Alley\n",
    "# Fence\n",
    "# Below is the list of columns to be dropped\n",
    "cols_to_drop=['PoolQC','MiscFeature','Alley','Fence']\n",
    "# Making a copy of the training dataframe to be worked on\n",
    "housing_train_drop = housing_train\n",
    "print(\"Dimension before drop:\", housing_train_drop.shape)\n",
    "housing_train_drop = housing_train_drop.drop(cols_to_drop,axis=1)\n",
    "print(\"Dimension after drop:\", housing_train_drop.shape)\n",
    "print(\"Dimension of original dataframe:\", housing_train.shape)\n"
   ]
  },
  {
   "cell_type": "code",
   "execution_count": null,
   "metadata": {},
   "outputs": [],
   "source": [
    "housing_train_drop.shape"
   ]
  },
  {
   "cell_type": "code",
   "execution_count": null,
   "metadata": {},
   "outputs": [],
   "source": [
    "# Draw vertical boxplot with the LotFrontage values\n",
    "sns.set_theme(style=\"whitegrid\")\n",
    "ax = sns.boxplot(y=\"LotFrontage\", data=housing_train)"
   ]
  },
  {
   "cell_type": "code",
   "execution_count": null,
   "metadata": {},
   "outputs": [],
   "source": [
    "housing_train.groupby(['LotFrontage'])['Id'].count()"
   ]
  },
  {
   "cell_type": "code",
   "execution_count": null,
   "metadata": {},
   "outputs": [],
   "source": [
    "#### Fill up the missing values for the below with mean values\n",
    "# LotFrontage\n",
    "housing_train['LotFrontage'] = housing_train['LotFrontage'].fillna(df['LotFrontage'].mean())"
   ]
  },
  {
   "cell_type": "code",
   "execution_count": null,
   "metadata": {},
   "outputs": [],
   "source": [
    "#### Fill up the missing values for the below with mode\n",
    "#### These are categorical values so taking the mode is because I want to replace with the \n",
    "#### most number of occurance of that value\n",
    "# BsmtExposure\n",
    "housing_train['BsmtExposure'].value_counts()"
   ]
  },
  {
   "cell_type": "code",
   "execution_count": null,
   "metadata": {},
   "outputs": [],
   "source": [
    "housing_train['BsmtExposure']=housing_train['BsmtExposure'].fillna(housing_train['BsmtExposure'].mode()[0])"
   ]
  },
  {
   "cell_type": "code",
   "execution_count": null,
   "metadata": {},
   "outputs": [],
   "source": [
    "housing_train['BsmtExposure'].value_counts()"
   ]
  },
  {
   "cell_type": "code",
   "execution_count": null,
   "metadata": {},
   "outputs": [],
   "source": [
    "housing_train['BsmtExposure'].isnull().sum()"
   ]
  },
  {
   "cell_type": "code",
   "execution_count": null,
   "metadata": {},
   "outputs": [],
   "source": [
    "housing_train['LotArea'].value_counts(sort=True)"
   ]
  },
  {
   "cell_type": "code",
   "execution_count": null,
   "metadata": {},
   "outputs": [],
   "source": [
    "# Draw vertical boxplot with the LotFrontage values\n",
    "sns.set_theme(style=\"whitegrid\")\n",
    "ax = sns.boxplot(y=\"LotArea\", data=housing_train)"
   ]
  },
  {
   "cell_type": "code",
   "execution_count": null,
   "metadata": {},
   "outputs": [],
   "source": [
    "# SHowing the distribution of the variable Year Built\n",
    "sns.histplot(housing_train.LotArea, kde=True)\n",
    "plt.title(\"Distribution of the Lot Area of the houses\")\n",
    "plt.show() "
   ]
  },
  {
   "cell_type": "code",
   "execution_count": null,
   "metadata": {},
   "outputs": [],
   "source": [
    "# Scatter Plot showing # of Bedrooms and saleprice\n",
    "\n",
    "plt.scatter(housing_train['BedroomAbvGr'],housing_train['SalePrice'])\n",
    "plt.xlabel('BedroomAbvGr', color='red')\n",
    "plt.ylabel('SalePrice', color='red')\n",
    "plt.title('# of Bedrooms Vs Sale Price', color='red')\n",
    "plt.show()"
   ]
  },
  {
   "cell_type": "code",
   "execution_count": null,
   "metadata": {},
   "outputs": [],
   "source": [
    "# SHowing the distribution of the variable Year Built\n",
    "sns.histplot(housing_train.BedroomAbvGr, kde=True)\n",
    "plt.title(\"Distribution of the Bedroom counts of the houses\")\n",
    "plt.show() "
   ]
  },
  {
   "cell_type": "code",
   "execution_count": null,
   "metadata": {},
   "outputs": [],
   "source": [
    "# Scatter Plot showing lot Area and saleprice\n",
    "\n",
    "plt.scatter(housing_train['LotArea'],housing_train['SalePrice'])\n",
    "plt.xlabel('LotArea', color='red')\n",
    "plt.ylabel('SalePrice', color='red')\n",
    "plt.title('Lot Area Vs Sale Price', color='red')\n",
    "plt.show()"
   ]
  },
  {
   "cell_type": "code",
   "execution_count": null,
   "metadata": {},
   "outputs": [],
   "source": [
    "# Scatter Plot showing OverallCond: Rates the overall condition of the house and saleprice\n",
    "\n",
    "plt.scatter(housing_train['OverallCond'],housing_train['SalePrice'])\n",
    "plt.xlabel('OverallCond', color='red')\n",
    "plt.ylabel('SalePrice', color='red')\n",
    "plt.title('Rates the overall condition Vs Sale Price', color='red')\n",
    "plt.show()"
   ]
  },
  {
   "cell_type": "code",
   "execution_count": null,
   "metadata": {},
   "outputs": [],
   "source": [
    "# subset of the dataframe \n",
    "\n",
    "housing_train_saleyr = housing_train[['Neighborhood','YearBuilt','MoSold','YrSold','SalePrice']]\n",
    "print(\"Dimension of the dataframe:\",housing_train_saleyr.shape)\n",
    "\n"
   ]
  },
  {
   "cell_type": "code",
   "execution_count": null,
   "metadata": {},
   "outputs": [],
   "source": [
    "housing_train[['Neighborhood','YearBuilt','MoSold','YrSold','SalePrice']].value_counts()"
   ]
  },
  {
   "cell_type": "code",
   "execution_count": null,
   "metadata": {},
   "outputs": [],
   "source": [
    "housing_train_saleyr[(housing_train.YearBuilt == 2004)]\n"
   ]
  },
  {
   "cell_type": "code",
   "execution_count": null,
   "metadata": {},
   "outputs": [],
   "source": [
    "# SHowing the distribution of the variable Year Built\n",
    "sns.histplot(housing_train_saleyr.YearBuilt, kde=True)\n",
    "plt.title(\"Distribution of the Year Built of the houses\")\n",
    "plt.show() "
   ]
  },
  {
   "cell_type": "code",
   "execution_count": null,
   "metadata": {},
   "outputs": [],
   "source": [
    "# Showing the distribution of the variable OverallCond\n",
    "sns.histplot(housing_train.OverallCond, kde=True)\n",
    "plt.title(\"Distribution of the overall condition of the houses\")\n",
    "plt.show() "
   ]
  },
  {
   "cell_type": "code",
   "execution_count": null,
   "metadata": {},
   "outputs": [],
   "source": [
    "\n",
    "assert ( housing_train['GrLivArea']\n",
    "    != (housing_train['1stFlrSF'] + housing_train['2ndFlrSF'] + housing_train['LowQualFinSF'])\n",
    ")"
   ]
  },
  {
   "cell_type": "code",
   "execution_count": null,
   "metadata": {},
   "outputs": [],
   "source": [
    "# housing_train[['GrLivArea','1stFlrSF','2ndFlrSF','LowQualFinSF']]\n",
    "\n",
    "housing_train['LowQualFinSF'].value_counts()"
   ]
  },
  {
   "cell_type": "code",
   "execution_count": null,
   "metadata": {},
   "outputs": [],
   "source": [
    "# Final List of columns\n",
    "col_list =['MSSubClass','MSZoning','LotArea','Street','LotShape','LandContour','LotConfig','LandSlope','Neighborhood','Condition1','Condition2','BldgType','HouseStyle','OverallQual','OverallCond','YearBuilt','YearRemodAdd','RoofStyle','RoofMatl','Exterior1st','Exterior2nd','MasVnrType','MasVnrArea','ExterQual','ExterCond','Foundation','BsmtQual','BsmtCond','BsmtExposure','BsmtFinType1','BsmtFinType2','HeatingQC','CentralAir','BedroomAbvGr','KitchenAbvGr','KitchenQual','TotRmsAbvGrd','Functional','Fireplaces','FireplaceQu','GarageType','GarageFinish','GarageCars','GarageArea','GarageCond','PavedDrive','PoolArea','PoolQC','MiscFeature','MoSold','YrSold','SaleCondition']\n",
    "len(col_list)"
   ]
  },
  {
   "cell_type": "code",
   "execution_count": null,
   "metadata": {},
   "outputs": [],
   "source": [
    "# housing_final = housing_train[col_list]\n",
    "housing_final.shape"
   ]
  },
  {
   "cell_type": "code",
   "execution_count": null,
   "metadata": {},
   "outputs": [],
   "source": [
    "# Derived variables\n",
    "# TotalSF   [GrLivArea = 1stFlrSF,2ndFlrSF,LowQualFinSF] [TotalBsmtSF=BsmtFinSF1, BsmtFinSF2, BsmtUnfSF]\n",
    "# TotalBath [BsmtFullBath, BsmtHalfBath, FullBath, HalfBath]\n",
    "# TotalPorchSF [OpenPorchSF, EnclosedPorch, 3SsnPorch, ScreenPorch, WoodDeckSF]"
   ]
  },
  {
   "cell_type": "code",
   "execution_count": null,
   "metadata": {},
   "outputs": [],
   "source": [
    "# Calculate a variable for the total living area Total SF as this is the number communicated most often in housing ads\n",
    "\n",
    "housing_final[\"TotalSF\"] = housing_train[\"GrLivArea\"] + housing_train[\"TotalBsmtSF\"]\n",
    "\n",
    "# housing_train[\"GrLivArea\"]\n",
    "# housing_train.info()"
   ]
  },
  {
   "cell_type": "code",
   "execution_count": null,
   "metadata": {},
   "outputs": [],
   "source": [
    "housing_final[\"TotalBath\"] = (\n",
    "    housing_train[\"FullBath\"] + 0.5 * housing_train[\"HalfBath\"] + housing_train[\"BsmtFullBath\"] + 0.5 * housing_train[\"BsmtHalfBath\"]\n",
    ")"
   ]
  },
  {
   "cell_type": "code",
   "execution_count": null,
   "metadata": {},
   "outputs": [],
   "source": [
    "housing_final[\"TotalPorchSF\"] = (\n",
    "    housing_train[\"OpenPorchSF\"] + housing_train[\"EnclosedPorch\"] + housing_train[\"3SsnPorch\"] + housing_train[\"ScreenPorch\"] + housing_train[\"WoodDeckSF\"]\n",
    ")"
   ]
  },
  {
   "cell_type": "code",
   "execution_count": null,
   "metadata": {},
   "outputs": [],
   "source": [
    "# Target Variable\n",
    "target_var = pd.DataFrame(housing_train['SalePrice'])\n",
    "print(\"Shape of the traget variable:\", target_var.shape)\n",
    "# showing the first 5 rows\n",
    "target_var.head()"
   ]
  },
  {
   "cell_type": "code",
   "execution_count": null,
   "metadata": {},
   "outputs": [],
   "source": [
    "# Saving the feature set till now\n",
    "housing_final.to_csv(\"housing_final_feat.csv\")"
   ]
  },
  {
   "cell_type": "code",
   "execution_count": null,
   "metadata": {},
   "outputs": [],
   "source": [
    "# Saving the target set till now\n",
    "target_var.to_csv(\"housing_final_tgt.csv\")"
   ]
  },
  {
   "cell_type": "code",
   "execution_count": null,
   "metadata": {},
   "outputs": [],
   "source": [
    "# Filtering out some features based on lot area size\n",
    "\n",
    "# housing_train.head()\n",
    "# lotareagr50 = housing_train[housing_train['LotArea']> 50000]  \n",
    "housing_train[housing_train['LotArea']== 115149][['Id','LotArea','GrLivArea','TotalBsmtSF','SalePrice']]"
   ]
  },
  {
   "cell_type": "code",
   "execution_count": null,
   "metadata": {},
   "outputs": [],
   "source": [
    "# Verifying the same data from the final data set\n",
    "housing_final[housing_final['LotArea']== 115149][['TotalSF','TotalBath','TotalPorchSF']]"
   ]
  },
  {
   "cell_type": "code",
   "execution_count": null,
   "metadata": {},
   "outputs": [],
   "source": [
    "# Verifying the target variable in the target data set\n",
    "target_var.loc[706]"
   ]
  },
  {
   "cell_type": "code",
   "execution_count": null,
   "metadata": {},
   "outputs": [],
   "source": [
    "# Getting the columns from the final feature list\n",
    "housing_final.info()"
   ]
  },
  {
   "cell_type": "code",
   "execution_count": null,
   "metadata": {},
   "outputs": [],
   "source": [
    "# PoolQC and MiscFeature have lots of Null values so it is better to drop those cols from the final feature list\n",
    "# housing_final['PoolQC'].value_counts()\n",
    "# housing_final['PoolQC'].isnull().count()\n",
    "# housing_final['PoolQC'].value_counts(sort=True)\n",
    "housing_final['PoolQC'].fillna('NULL').value_counts()"
   ]
  },
  {
   "cell_type": "code",
   "execution_count": null,
   "metadata": {},
   "outputs": [],
   "source": [
    "# housing_final['PoolQC'].value_counts()\n",
    "# housing_final['PoolQC'].isnull().count()\n",
    "# housing_final['PoolQC'].value_counts(sort=True)\n",
    "housing_final['MiscFeature'].fillna('NULL').value_counts()"
   ]
  },
  {
   "cell_type": "code",
   "execution_count": null,
   "metadata": {},
   "outputs": [],
   "source": [
    "housing_final = housing_final.drop(columns=['PoolQC','MiscFeature'])"
   ]
  },
  {
   "cell_type": "code",
   "execution_count": null,
   "metadata": {},
   "outputs": [],
   "source": [
    "# Saving the new feature sets\n",
    "housing_final.to_csv(\"housing_final_feat.csv\")"
   ]
  },
  {
   "cell_type": "markdown",
   "metadata": {},
   "source": [
    "### Preparing data for modeling"
   ]
  },
  {
   "cell_type": "code",
   "execution_count": null,
   "metadata": {},
   "outputs": [],
   "source": [
    "# Checking to see if any of the columns has null values\n",
    "# There are no columns with null values\n",
    "\n",
    "housing_shared.isnull().sum()"
   ]
  },
  {
   "cell_type": "code",
   "execution_count": 4,
   "metadata": {},
   "outputs": [
    {
     "data": {
      "text/plain": [
       "RL         1151\n",
       "RM          218\n",
       "FV           65\n",
       "RH           16\n",
       "C (all)      10\n",
       "Name: MSZoning, dtype: int64"
      ]
     },
     "execution_count": 4,
     "metadata": {},
     "output_type": "execute_result"
    }
   ],
   "source": [
    "# Encoding categorical labels\n",
    "# dat2[\"Sex\"] = dat2[\"Sex\"].map({\"M\": 0, \"F\": 1})\n",
    "# dat2['Sex'].value_counts()\n",
    "\n",
    "housing_shared['MSZoning'].value_counts()"
   ]
  },
  {
   "cell_type": "code",
   "execution_count": 6,
   "metadata": {},
   "outputs": [
    {
     "data": {
      "text/plain": [
       "Reg    925\n",
       "IR1    484\n",
       "IR2     41\n",
       "IR3     10\n",
       "Name: LotShape, dtype: int64"
      ]
     },
     "execution_count": 6,
     "metadata": {},
     "output_type": "execute_result"
    }
   ],
   "source": [
    "housing_shared['LotShape'].value_counts()"
   ]
  },
  {
   "cell_type": "code",
   "execution_count": null,
   "metadata": {},
   "outputs": [],
   "source": [
    "housing_shared['ExterCond'].value_counts()"
   ]
  },
  {
   "cell_type": "code",
   "execution_count": 8,
   "metadata": {},
   "outputs": [
    {
     "name": "stdout",
     "output_type": "stream",
     "text": [
      "<class 'pandas.core.frame.DataFrame'>\n",
      "RangeIndex: 1460 entries, 0 to 1459\n",
      "Data columns (total 54 columns):\n",
      " #   Column         Non-Null Count  Dtype  \n",
      "---  ------         --------------  -----  \n",
      " 0   MSSubClass     1460 non-null   int64  \n",
      " 1   MSZoning       1460 non-null   object \n",
      " 2   LotFrontage    1460 non-null   float64\n",
      " 3   LotArea        1460 non-null   int64  \n",
      " 4   Street         1460 non-null   object \n",
      " 5   LotShape       1460 non-null   object \n",
      " 6   LandContour    1460 non-null   object \n",
      " 7   LotConfig      1460 non-null   object \n",
      " 8   LandSlope      1460 non-null   object \n",
      " 9   Neighborhood   1460 non-null   object \n",
      " 10  Condition1     1460 non-null   object \n",
      " 11  Condition2     1460 non-null   object \n",
      " 12  BldgType       1460 non-null   object \n",
      " 13  HouseStyle     1460 non-null   object \n",
      " 14  OverallQual    1460 non-null   int64  \n",
      " 15  OverallCond    1460 non-null   int64  \n",
      " 16  YearBuilt      1460 non-null   int64  \n",
      " 17  YearRemodAdd   1460 non-null   int64  \n",
      " 18  RoofStyle      1460 non-null   object \n",
      " 19  RoofMatl       1460 non-null   object \n",
      " 20  Exterior1st    1460 non-null   object \n",
      " 21  Exterior2nd    1460 non-null   object \n",
      " 22  MasVnrType     1460 non-null   object \n",
      " 23  MasVnrArea     1460 non-null   object \n",
      " 24  ExterQual      1460 non-null   object \n",
      " 25  ExterCond      1460 non-null   object \n",
      " 26  Foundation     1460 non-null   object \n",
      " 27  BsmtQual       1460 non-null   object \n",
      " 28  BsmtCond       1460 non-null   object \n",
      " 29  BsmtExposure   1460 non-null   object \n",
      " 30  BsmtFinType1   1460 non-null   object \n",
      " 31  BsmtFinType2   1460 non-null   object \n",
      " 32  HeatingQC      1460 non-null   object \n",
      " 33  CentralAir     1460 non-null   object \n",
      " 34  BedroomAbvGr   1460 non-null   int64  \n",
      " 35  KitchenAbvGr   1460 non-null   int64  \n",
      " 36  KitchenQual    1460 non-null   object \n",
      " 37  TotRmsAbvGrd   1460 non-null   int64  \n",
      " 38  Functional     1460 non-null   object \n",
      " 39  Fireplaces     1460 non-null   int64  \n",
      " 40  FireplaceQu    1460 non-null   object \n",
      " 41  GarageType     1460 non-null   object \n",
      " 42  GarageFinish   1460 non-null   object \n",
      " 43  GarageCars     1460 non-null   int64  \n",
      " 44  GarageArea     1460 non-null   int64  \n",
      " 45  GarageCond     1460 non-null   object \n",
      " 46  PavedDrive     1460 non-null   object \n",
      " 47  PoolArea       1460 non-null   int64  \n",
      " 48  MoSold         1460 non-null   int64  \n",
      " 49  YrSold         1460 non-null   int64  \n",
      " 50  SaleCondition  1460 non-null   object \n",
      " 51  TotalSF        1460 non-null   int64  \n",
      " 52  TotalBath      1460 non-null   int64  \n",
      " 53  TotalPorchSF   1460 non-null   int64  \n",
      "dtypes: float64(1), int64(18), object(35)\n",
      "memory usage: 616.1+ KB\n"
     ]
    }
   ],
   "source": [
    "housing_shared.info()"
   ]
  },
  {
   "cell_type": "code",
   "execution_count": 23,
   "metadata": {},
   "outputs": [],
   "source": [
    "# housing_shared_sub=housing_shared[['MSSubClass','MSZoning','LotShape','ExterCond']]\n",
    "housing_shared_sub=housing_shared.loc[:, ('MSSubClass','MSZoning','LotShape','ExterCond')]"
   ]
  },
  {
   "cell_type": "code",
   "execution_count": 24,
   "metadata": {},
   "outputs": [
    {
     "name": "stdout",
     "output_type": "stream",
     "text": [
      "<class 'pandas.core.frame.DataFrame'>\n",
      "RangeIndex: 1460 entries, 0 to 1459\n",
      "Data columns (total 4 columns):\n",
      " #   Column      Non-Null Count  Dtype \n",
      "---  ------      --------------  ----- \n",
      " 0   MSSubClass  1460 non-null   int64 \n",
      " 1   MSZoning    1460 non-null   object\n",
      " 2   LotShape    1460 non-null   object\n",
      " 3   ExterCond   1460 non-null   object\n",
      "dtypes: int64(1), object(3)\n",
      "memory usage: 45.8+ KB\n"
     ]
    }
   ],
   "source": [
    "housing_shared_sub.info()"
   ]
  },
  {
   "cell_type": "code",
   "execution_count": 27,
   "metadata": {},
   "outputs": [],
   "source": [
    "from sklearn.preprocessing import LabelEncoder\n",
    "\n",
    "le = LabelEncoder()\n",
    "lotshape_encoded = le.fit_transform(housing_shared_sub['LotShape'])\n",
    "ExterCond_encoded = le.fit_transform(housing_shared_sub['ExterCond'])\n",
    "# type(lotshape_encoded)\n",
    "\n",
    "housing_shared_sub['lotshape_encoded'] = lotshape_encoded\n",
    "housing_shared_sub['ExterCond_encoded'] = ExterCond_encoded"
   ]
  },
  {
   "cell_type": "code",
   "execution_count": 1,
   "metadata": {},
   "outputs": [
    {
     "ename": "NameError",
     "evalue": "name 'housing_shared_sub' is not defined",
     "output_type": "error",
     "traceback": [
      "\u001b[0;31m---------------------------------------------------------------------------\u001b[0m",
      "\u001b[0;31mNameError\u001b[0m                                 Traceback (most recent call last)",
      "\u001b[0;32m<ipython-input-1-bee730d6b550>\u001b[0m in \u001b[0;36m<module>\u001b[0;34m\u001b[0m\n\u001b[0;32m----> 1\u001b[0;31m \u001b[0mhousing_shared_sub\u001b[0m\u001b[0;34m.\u001b[0m\u001b[0mhead\u001b[0m\u001b[0;34m(\u001b[0m\u001b[0;34m)\u001b[0m\u001b[0;34m\u001b[0m\u001b[0;34m\u001b[0m\u001b[0m\n\u001b[0m",
      "\u001b[0;31mNameError\u001b[0m: name 'housing_shared_sub' is not defined"
     ]
    }
   ],
   "source": [
    "housing_shared_sub.head()"
   ]
  },
  {
   "cell_type": "markdown",
   "metadata": {},
   "source": [
    "https://www.pluralsight.com/guides/preparing-data-modeling-scikit-learn\n",
    "\n",
    "https://codefires.com/how-convert-categorical-data-numerical-data-python/"
   ]
  },
  {
   "cell_type": "code",
   "execution_count": null,
   "metadata": {},
   "outputs": [],
   "source": []
  }
 ],
 "metadata": {
  "kernelspec": {
   "display_name": "Python 3.9.2 64-bit",
   "language": "python",
   "name": "python39264bitd216e622b326483891aaf876a0dc1378"
  },
  "language_info": {
   "codemirror_mode": {
    "name": "ipython",
    "version": 3
   },
   "file_extension": ".py",
   "mimetype": "text/x-python",
   "name": "python",
   "nbconvert_exporter": "python",
   "pygments_lexer": "ipython3",
   "version": "3.9.5"
  }
 },
 "nbformat": 4,
 "nbformat_minor": 4
}
