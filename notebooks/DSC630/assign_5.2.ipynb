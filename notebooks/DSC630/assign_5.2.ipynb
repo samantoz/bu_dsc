{
 "cells": [
  {
   "cell_type": "markdown",
   "metadata": {},
   "source": [
    "Online travel agencies are scrambling to meet the artificial intelligence driven personalization standard set by companies like Amazon and Netflix. In addition, the world of online travel has become a highly competitive space where brands try to capture our attention (and wallet) with recommending, comparing, matching, and sharing. For this assignment, we would like to create the optimal hotel recommendations for Expedia’s users that are searching for a hotel to book. For this assignment, you need to predict which “hotel cluster” the user is likely to book, given his (or her) search details.\n",
    "The data set can be found at Kaggle: Expedia Hotel Recommendations. To get started, I would suggest exploring the file train.csv, which contains the logs of user behavior.  There is another file named destinations.csv, which contains information related to hotel reviews made by users. There is a lot of data here, and making an accurate prediction is rather difficult, e.g., simply running a standard prediction algorithm will probably yield below 10% accuracy. Stary by doing some exploratory analysis of this data to help understand how to make a prediction on the hotel cluster the user is likely to select. Then, split train.csv into a training and test set (feel free to select a smaller random subset of train.csv). Then, build at least two prediction models from the training set, and report the accuracies on the test set. As I mentioned, this is a difficult problem, so be creative with your solutions. You might want to try building your own predictor rather than a standard predictor model, e.g., a random forest.  The purpose of this project is not necessarily to get great results but to understand the nuances and challenges of such problems."
   ]
  },
  {
   "source": [
    "### For this assignment, create the optimal hotel recommendations for Expedia’s users that are searching for a hotel to book. You need to predict which “hotel cluster” the user is likely to book, given his (or her) search details."
   ],
   "cell_type": "markdown",
   "metadata": {}
  },
  {
   "cell_type": "code",
   "execution_count": 2,
   "metadata": {},
   "outputs": [],
   "source": [
    "# load the libraries\n",
    "import pandas as pd\n",
    "import numpy as np\n",
    "import matplotlib.pyplot as plt "
   ]
  },
  {
   "cell_type": "code",
   "execution_count": 3,
   "metadata": {},
   "outputs": [],
   "source": [
    "output_width = 1000\n",
    "#output_width = 80 #//*** Normal Output width\n",
    "pd.set_option(\"display.width\", output_width)\n",
    "pd.set_option('display.max_rows', 100)\n",
    "pd.set_option('display.max_columns', None)\n",
    "pd.set_option('display.max_colwidth', None)"
   ]
  },
  {
   "cell_type": "code",
   "execution_count": 4,
   "metadata": {},
   "outputs": [
    {
     "output_type": "stream",
     "name": "stdout",
     "text": [
      "# of rows in the train.csv:  ['37670294 ../../data/processed/expedia/expedia-hotel-recommendations/train.csv']\n",
      "# of rows in the test.csv:  ['2528244 ../../data/processed/expedia/expedia-hotel-recommendations/test.csv']\n"
     ]
    }
   ],
   "source": [
    "# Before trying to load the full dataset into a pandas dataframe trying to look at the file contents from the unix command line\n",
    "train= !wc -l \"../../data/processed/expedia/expedia-hotel-recommendations/train.csv\"\n",
    "print(\"# of rows in the train.csv: \", train)\n",
    "test= !wc -l \"../../data/processed/expedia/expedia-hotel-recommendations/test.csv\"\n",
    "print(\"# of rows in the test.csv: \", test)"
   ]
  },
  {
   "cell_type": "code",
   "execution_count": 5,
   "metadata": {},
   "outputs": [
    {
     "output_type": "stream",
     "name": "stdout",
     "text": [
      "date_time,site_name,posa_continent,user_location_country,user_location_region,user_location_city,orig_destination_distance,user_id,is_mobile,is_package,channel,srch_ci,srch_co,srch_adults_cnt,srch_children_cnt,srch_rm_cnt,srch_destination_id,srch_destination_type_id,is_booking,cnt,hotel_continent,hotel_country,hotel_market,hotel_cluster\n2014-08-11 07:46:59,2,3,66,348,48862,2234.2641,12,0,1,9,2014-08-27,2014-08-31,2,0,1,8250,1,0,3,2,50,628,1\n2014-08-11 08:22:12,2,3,66,348,48862,2234.2641,12,0,1,9,2014-08-29,2014-09-02,2,0,1,8250,1,1,1,2,50,628,1\n2014-08-11 08:24:33,2,3,66,348,48862,2234.2641,12,0,0,9,2014-08-29,2014-09-02,2,0,1,8250,1,0,1,2,50,628,1\n2014-08-09 18:05:16,2,3,66,442,35390,913.1932,93,0,0,3,2014-11-23,2014-11-28,2,0,1,14984,1,0,1,2,50,1457,80\n"
     ]
    }
   ],
   "source": [
    "# The first 5 rows from the top of the file\n",
    "!head -5 \"../../data/processed/expedia/expedia-hotel-recommendations/train.csv\""
   ]
  },
  {
   "cell_type": "code",
   "execution_count": 6,
   "metadata": {},
   "outputs": [
    {
     "output_type": "stream",
     "name": "stdout",
     "text": [
      "2014-09-02 08:08:28,2,3,66,174,26232,2348.4075,1198182,0,1,2,2014-11-16,2014-11-22,2,0,1,8855,1,0,1,2,50,213,26\n2014-09-08 14:52:52,2,3,66,174,26232,679.6104,1198182,0,0,0,2014-10-20,2014-10-25,1,0,1,8281,1,0,1,2,50,663,9\n2014-09-15 06:56:51,2,3,66,174,26232,668.1768,1198182,0,0,0,2014-09-15,2014-09-16,1,0,1,5620,3,0,1,2,50,663,94\n2014-09-18 08:49:33,2,3,66,462,12565,106.4274,1198182,0,0,0,2014-09-18,2014-09-19,1,0,1,18811,1,0,1,2,50,592,42\n2014-09-18 08:52:42,2,3,66,462,12565,106.4274,1198182,0,0,0,2014-09-18,2014-09-19,1,0,1,18811,1,1,1,2,50,592,42\n"
     ]
    }
   ],
   "source": [
    "# The last 5 rows of the file\n",
    "!tail -5 \"../../data/processed/expedia/expedia-hotel-recommendations/train.csv\""
   ]
  },
  {
   "cell_type": "code",
   "execution_count": 7,
   "metadata": {},
   "outputs": [],
   "source": [
    "# Load the data into a dataframe \n",
    "# init_df = pd.read_csv(\"../../data/processed/expedia/expedia-hotel-recommendations/train.csv\")"
   ]
  },
  {
   "cell_type": "code",
   "execution_count": 8,
   "metadata": {},
   "outputs": [],
   "source": [
    "# Display the info and the shape of the dataframe\n",
    "# init_df.info()\n",
    "# print('The dimension of the dataframe is ', init_df.shape)"
   ]
  },
  {
   "cell_type": "code",
   "execution_count": 9,
   "metadata": {},
   "outputs": [],
   "source": [
    "# Show the first 5 rows\n",
    "# init_df.head()"
   ]
  },
  {
   "cell_type": "code",
   "execution_count": 10,
   "metadata": {},
   "outputs": [],
   "source": [
    "# Using dask.dataframe \n",
    "# import dask.dataframe as dd\n",
    "\n",
    "# init_dd = dd.read_csv(\"../../data/processed/expedia/expedia-hotel-recommendations/train.csv\", parse_dates=[\"date_time\"])\n",
    "# init_dd\n",
    "# init_dd.head()"
   ]
  },
  {
   "cell_type": "code",
   "execution_count": 11,
   "metadata": {},
   "outputs": [],
   "source": [
    "# init_dd.groupby(\"user_id\").hotel_cluster.count().compute()"
   ]
  },
  {
   "cell_type": "code",
   "execution_count": 7,
   "metadata": {},
   "outputs": [
    {
     "output_type": "execute_result",
     "data": {
      "text/plain": [
       "            date_time  site_name  posa_continent  user_location_country  user_location_region  user_location_city  orig_destination_distance  user_id  is_mobile  is_package  channel     srch_ci     srch_co  srch_adults_cnt  srch_children_cnt  srch_rm_cnt  srch_destination_id  srch_destination_type_id  is_booking  cnt  hotel_continent  hotel_country  hotel_market  hotel_cluster\n",
       "0 2014-08-11 07:46:59          2               3                     66                   348               48862                  2234.2641       12          0           1        9  2014-08-27  2014-08-31                2                  0            1                 8250                         1           0    3                2             50           628              1\n",
       "1 2014-08-11 08:22:12          2               3                     66                   348               48862                  2234.2641       12          0           1        9  2014-08-29  2014-09-02                2                  0            1                 8250                         1           1    1                2             50           628              1\n",
       "2 2014-08-11 08:24:33          2               3                     66                   348               48862                  2234.2641       12          0           0        9  2014-08-29  2014-09-02                2                  0            1                 8250                         1           0    1                2             50           628              1\n",
       "3 2014-08-09 18:05:16          2               3                     66                   442               35390                   913.1932       93          0           0        3  2014-11-23  2014-11-28                2                  0            1                14984                         1           0    1                2             50          1457             80\n",
       "4 2014-08-09 18:08:18          2               3                     66                   442               35390                   913.6259       93          0           0        3  2014-11-23  2014-11-28                2                  0            1                14984                         1           0    1                2             50          1457             21"
      ],
      "text/html": "<div>\n<style scoped>\n    .dataframe tbody tr th:only-of-type {\n        vertical-align: middle;\n    }\n\n    .dataframe tbody tr th {\n        vertical-align: top;\n    }\n\n    .dataframe thead th {\n        text-align: right;\n    }\n</style>\n<table border=\"1\" class=\"dataframe\">\n  <thead>\n    <tr style=\"text-align: right;\">\n      <th></th>\n      <th>date_time</th>\n      <th>site_name</th>\n      <th>posa_continent</th>\n      <th>user_location_country</th>\n      <th>user_location_region</th>\n      <th>user_location_city</th>\n      <th>orig_destination_distance</th>\n      <th>user_id</th>\n      <th>is_mobile</th>\n      <th>is_package</th>\n      <th>channel</th>\n      <th>srch_ci</th>\n      <th>srch_co</th>\n      <th>srch_adults_cnt</th>\n      <th>srch_children_cnt</th>\n      <th>srch_rm_cnt</th>\n      <th>srch_destination_id</th>\n      <th>srch_destination_type_id</th>\n      <th>is_booking</th>\n      <th>cnt</th>\n      <th>hotel_continent</th>\n      <th>hotel_country</th>\n      <th>hotel_market</th>\n      <th>hotel_cluster</th>\n    </tr>\n  </thead>\n  <tbody>\n    <tr>\n      <th>0</th>\n      <td>2014-08-11 07:46:59</td>\n      <td>2</td>\n      <td>3</td>\n      <td>66</td>\n      <td>348</td>\n      <td>48862</td>\n      <td>2234.2641</td>\n      <td>12</td>\n      <td>0</td>\n      <td>1</td>\n      <td>9</td>\n      <td>2014-08-27</td>\n      <td>2014-08-31</td>\n      <td>2</td>\n      <td>0</td>\n      <td>1</td>\n      <td>8250</td>\n      <td>1</td>\n      <td>0</td>\n      <td>3</td>\n      <td>2</td>\n      <td>50</td>\n      <td>628</td>\n      <td>1</td>\n    </tr>\n    <tr>\n      <th>1</th>\n      <td>2014-08-11 08:22:12</td>\n      <td>2</td>\n      <td>3</td>\n      <td>66</td>\n      <td>348</td>\n      <td>48862</td>\n      <td>2234.2641</td>\n      <td>12</td>\n      <td>0</td>\n      <td>1</td>\n      <td>9</td>\n      <td>2014-08-29</td>\n      <td>2014-09-02</td>\n      <td>2</td>\n      <td>0</td>\n      <td>1</td>\n      <td>8250</td>\n      <td>1</td>\n      <td>1</td>\n      <td>1</td>\n      <td>2</td>\n      <td>50</td>\n      <td>628</td>\n      <td>1</td>\n    </tr>\n    <tr>\n      <th>2</th>\n      <td>2014-08-11 08:24:33</td>\n      <td>2</td>\n      <td>3</td>\n      <td>66</td>\n      <td>348</td>\n      <td>48862</td>\n      <td>2234.2641</td>\n      <td>12</td>\n      <td>0</td>\n      <td>0</td>\n      <td>9</td>\n      <td>2014-08-29</td>\n      <td>2014-09-02</td>\n      <td>2</td>\n      <td>0</td>\n      <td>1</td>\n      <td>8250</td>\n      <td>1</td>\n      <td>0</td>\n      <td>1</td>\n      <td>2</td>\n      <td>50</td>\n      <td>628</td>\n      <td>1</td>\n    </tr>\n    <tr>\n      <th>3</th>\n      <td>2014-08-09 18:05:16</td>\n      <td>2</td>\n      <td>3</td>\n      <td>66</td>\n      <td>442</td>\n      <td>35390</td>\n      <td>913.1932</td>\n      <td>93</td>\n      <td>0</td>\n      <td>0</td>\n      <td>3</td>\n      <td>2014-11-23</td>\n      <td>2014-11-28</td>\n      <td>2</td>\n      <td>0</td>\n      <td>1</td>\n      <td>14984</td>\n      <td>1</td>\n      <td>0</td>\n      <td>1</td>\n      <td>2</td>\n      <td>50</td>\n      <td>1457</td>\n      <td>80</td>\n    </tr>\n    <tr>\n      <th>4</th>\n      <td>2014-08-09 18:08:18</td>\n      <td>2</td>\n      <td>3</td>\n      <td>66</td>\n      <td>442</td>\n      <td>35390</td>\n      <td>913.6259</td>\n      <td>93</td>\n      <td>0</td>\n      <td>0</td>\n      <td>3</td>\n      <td>2014-11-23</td>\n      <td>2014-11-28</td>\n      <td>2</td>\n      <td>0</td>\n      <td>1</td>\n      <td>14984</td>\n      <td>1</td>\n      <td>0</td>\n      <td>1</td>\n      <td>2</td>\n      <td>50</td>\n      <td>1457</td>\n      <td>21</td>\n    </tr>\n  </tbody>\n</table>\n</div>"
     },
     "metadata": {},
     "execution_count": 7
    }
   ],
   "source": [
    "# Now loading the first 100,000 rows from the training set\n",
    "n_rows = 100_000\n",
    "train_df = pd.read_csv(\"../../data/processed/expedia/expedia-hotel-recommendations/train.csv\", parse_dates=[\"date_time\"], nrows=n_rows)\n",
    "train_df.head()"
   ]
  },
  {
   "cell_type": "code",
   "execution_count": 8,
   "metadata": {},
   "outputs": [
    {
     "output_type": "stream",
     "name": "stdout",
     "text": [
      "<class 'pandas.core.frame.DataFrame'>\nRangeIndex: 100000 entries, 0 to 99999\nData columns (total 24 columns):\n #   Column                     Non-Null Count   Dtype         \n---  ------                     --------------   -----         \n 0   date_time                  100000 non-null  datetime64[ns]\n 1   site_name                  100000 non-null  int64         \n 2   posa_continent             100000 non-null  int64         \n 3   user_location_country      100000 non-null  int64         \n 4   user_location_region       100000 non-null  int64         \n 5   user_location_city         100000 non-null  int64         \n 6   orig_destination_distance  63078 non-null   float64       \n 7   user_id                    100000 non-null  int64         \n 8   is_mobile                  100000 non-null  int64         \n 9   is_package                 100000 non-null  int64         \n 10  channel                    100000 non-null  int64         \n 11  srch_ci                    99929 non-null   object        \n 12  srch_co                    99929 non-null   object        \n 13  srch_adults_cnt            100000 non-null  int64         \n 14  srch_children_cnt          100000 non-null  int64         \n 15  srch_rm_cnt                100000 non-null  int64         \n 16  srch_destination_id        100000 non-null  int64         \n 17  srch_destination_type_id   100000 non-null  int64         \n 18  is_booking                 100000 non-null  int64         \n 19  cnt                        100000 non-null  int64         \n 20  hotel_continent            100000 non-null  int64         \n 21  hotel_country              100000 non-null  int64         \n 22  hotel_market               100000 non-null  int64         \n 23  hotel_cluster              100000 non-null  int64         \ndtypes: datetime64[ns](1), float64(1), int64(20), object(2)\nmemory usage: 18.3+ MB\n"
     ]
    }
   ],
   "source": [
    "train_df.info()"
   ]
  },
  {
   "cell_type": "code",
   "execution_count": 9,
   "metadata": {},
   "outputs": [
    {
     "output_type": "stream",
     "name": "stdout",
     "text": [
      "Dimesion of the dataset: (100000, 24)\n"
     ]
    }
   ],
   "source": [
    "# Now let us look at the dataset\n",
    "print(\"Dimesion of the dataset:\", train_df.shape)"
   ]
  },
  {
   "source": [
    "### Feature\t                    Description\n",
    "### ===========                 ======================\n",
    "date_time\t                Timestamp\n",
    "\n",
    "site_name\t                ID of Expedia point of sale\n",
    "\n",
    "posa_continent\t            ID of site’s continent\n",
    "\n",
    "user_location_country\t    ID of customer’s country\n",
    "\n",
    "user_location_region\t    ID of customer’s region\n",
    "\n",
    "user_location_city\t        ID of customer’s city\n",
    "\n",
    "orig_destination_distance\tPhysical distance between a hotel and a customer\n",
    "\n",
    "user_id\t                    ID of user\n",
    "\n",
    "is_mobile\t                1 for mobile device, 0 otherwise\n",
    "\n",
    "is_package\t                1 if booking/click was part of package, 0 otherwise\n",
    "\n",
    "channel\t                    ID of a marketing channel\n",
    "\n",
    "srch_ci\t                    Check-in date\n",
    "\n",
    "srch_co\t                    Check-out date\n",
    "\n",
    "srch_adults_cnt\t            Number of adults\n",
    "\n",
    "srch_children_cnt\t        Number of children\n",
    "\n",
    "srch_rm_cnt\t                Number of rooms\n",
    "\n",
    "srch_destination_id\t        ID of the destination\n",
    "\n",
    "srch_destination_type_id\tType of destination\n",
    "\n",
    "is_booking\t                1 if a booking, 0 if a click\n",
    "\n",
    "cnt\t                        Number of similar events in the context of the same user sessiont\n",
    "\n",
    "hotel_continent\t            Hotel continent\n",
    "\n",
    "hotel_country\t            Hotel country\n",
    "\n",
    "hotel_market\t            Hotel market\n",
    "\n",
    "hotel_cluster\t            ID of hotel cluster"
   ],
   "cell_type": "markdown",
   "metadata": {}
  },
  {
   "cell_type": "code",
   "execution_count": 10,
   "metadata": {},
   "outputs": [
    {
     "output_type": "stream",
     "name": "stdout",
     "text": [
      "Describe Data\n          site_name  posa_continent  user_location_country  user_location_region  user_location_city  orig_destination_distance        user_id      is_mobile     is_package        channel  srch_adults_cnt  srch_children_cnt    srch_rm_cnt  srch_destination_id  srch_destination_type_id    is_booking            cnt  hotel_continent  hotel_country   hotel_market  hotel_cluster\ncount  100000.00000   100000.000000          100000.000000         100000.000000       100000.000000               63078.000000  100000.000000  100000.000000  100000.000000  100000.000000    100000.000000      100000.000000  100000.000000        100000.000000             100000.000000  100000.00000  100000.000000    100000.000000  100000.000000  100000.000000   100000.00000\nmean        9.10014        2.637850              84.531040            311.630930        28465.223540                1897.609161  195700.878390       0.138030       0.260470       5.760540         2.029830           0.325160       1.112700         14511.034340                  2.590540       0.08270       1.477770         3.206530      80.972620     597.559610       49.74576\nstd        12.09091        0.751001              54.320574            209.399151        16822.922817                2123.885180  110173.879786       0.344933       0.438893       3.771156         0.889903           0.722341       0.441928         11043.082364                  2.160456       0.27543       1.197163         1.624119      55.679861     507.624672       28.95063\nmin         2.00000        0.000000               0.000000              0.000000            3.000000                   0.005600      12.000000       0.000000       0.000000       0.000000         0.000000           0.000000       0.000000             8.000000                  1.000000       0.00000       1.000000         0.000000       0.000000       0.000000        0.00000\n25%         2.00000        3.000000              66.000000            174.000000        13914.000000                 290.528875  107548.000000       0.000000       0.000000       2.000000         2.000000           0.000000       1.000000          8267.000000                  1.000000       0.00000       1.000000         2.000000      50.000000     160.000000       25.00000\n50%         2.00000        3.000000              66.000000            311.000000        27733.000000                1093.888450  181983.000000       0.000000       0.000000       9.000000         2.000000           0.000000       1.000000         11271.000000                  1.000000       0.00000       1.000000         2.000000      50.000000     585.000000       49.00000\n75%        11.00000        3.000000              69.000000            385.000000        43113.000000                2518.177400  301357.000000       0.000000       1.000000       9.000000         2.000000           0.000000       1.000000         18881.000000                  5.000000       0.00000       2.000000         4.000000     106.000000     701.000000       73.00000\nmax        53.00000        4.000000             239.000000           1025.000000        56495.000000               11641.224200  391007.000000       1.000000       1.000000      10.000000         9.000000           9.000000       8.000000         65035.000000                  9.000000       1.00000      59.000000         6.000000     212.000000    2117.000000       99.00000\nSummarized Data\n           srch_ci     srch_co\ncount        99929       99929\nunique        1029        1034\ntop     2014-12-26  2015-01-02\nfreq           714         659\n"
     ]
    }
   ],
   "source": [
    "# what type of variables are in the table \n",
    "# Look at summary information about your data (total, mean, min, max, freq, unique, etc.) \n",
    "# It looks like there are lots of features to look at here\n",
    "\n",
    "print(\"Describe Data\") \n",
    "print(train_df.describe()) \n",
    "print(\"Summarized Data\") \n",
    "print(train_df.describe(include='O'))"
   ]
  },
  {
   "cell_type": "code",
   "execution_count": 11,
   "metadata": {},
   "outputs": [
    {
     "output_type": "execute_result",
     "data": {
      "text/plain": [
       "date_time                    False\n",
       "site_name                    False\n",
       "posa_continent               False\n",
       "user_location_country        False\n",
       "user_location_region         False\n",
       "user_location_city           False\n",
       "orig_destination_distance     True\n",
       "user_id                      False\n",
       "is_mobile                    False\n",
       "is_package                   False\n",
       "channel                      False\n",
       "srch_ci                       True\n",
       "srch_co                       True\n",
       "srch_adults_cnt              False\n",
       "srch_children_cnt            False\n",
       "srch_rm_cnt                  False\n",
       "srch_destination_id          False\n",
       "srch_destination_type_id     False\n",
       "is_booking                   False\n",
       "cnt                          False\n",
       "hotel_continent              False\n",
       "hotel_country                False\n",
       "hotel_market                 False\n",
       "hotel_cluster                False\n",
       "dtype: bool"
      ]
     },
     "metadata": {},
     "execution_count": 11
    }
   ],
   "source": [
    "# Checking for null values in columns\n",
    "# There are some columns that have null values as per the below output\n",
    "# Next we will look into the count\n",
    "train_df.isnull().any()"
   ]
  },
  {
   "cell_type": "code",
   "execution_count": 12,
   "metadata": {},
   "outputs": [
    {
     "output_type": "execute_result",
     "data": {
      "text/plain": [
       "date_time                    99840\n",
       "site_name                       38\n",
       "posa_continent                   5\n",
       "user_location_country          123\n",
       "user_location_region           510\n",
       "user_location_city            3751\n",
       "orig_destination_distance    43021\n",
       "user_id                       3478\n",
       "is_mobile                        2\n",
       "is_package                       2\n",
       "channel                         11\n",
       "srch_ci                       1029\n",
       "srch_co                       1034\n",
       "srch_adults_cnt                 10\n",
       "srch_children_cnt               10\n",
       "srch_rm_cnt                      9\n",
       "srch_destination_id           5296\n",
       "srch_destination_type_id         8\n",
       "is_booking                       2\n",
       "cnt                             30\n",
       "hotel_continent                  6\n",
       "hotel_country                  152\n",
       "hotel_market                  1531\n",
       "hotel_cluster                  100\n",
       "dtype: int64"
      ]
     },
     "metadata": {},
     "execution_count": 12
    }
   ],
   "source": [
    "# Unique entries for each of the columns\n",
    "train_df.nunique()"
   ]
  },
  {
   "source": [
    "### By looking at the data\n",
    "\n",
    "### Some basic Observations:\n",
    "\n",
    "##### The target variable hotel_cluster is represented by 100 values \n",
    "\n",
    "##### There are no missing data for the target variable in the sample \n",
    "\n",
    "##### The Survived variable will be the “target” and the other variables will be the “features”\n",
    "\n",
    "### Steps for cleaning the data\n",
    "\n",
    "### Clean and pre-process the data and perform exploratory analysis to get some interesting insights into the process of choosing a hotel.\n",
    "\n",
    "#### Step1: Remove the users who did not booked the hotel\n",
    "\n",
    "#### Step2: Identify the searches by each user belonging to a specific type of destination\n",
    "\n",
    "#### Step3: orig_destination_distance contains Nan values\n",
    "\n",
    "#### Step4: The check-in and check-out dates to find the duration of the stay for each of the entries in the training set."
   ],
   "cell_type": "markdown",
   "metadata": {}
  },
  {
   "cell_type": "code",
   "execution_count": 18,
   "metadata": {},
   "outputs": [],
   "source": [
    "# Function to change the column data types to date time\n",
    "# Adding some additional attributes\n",
    "# stay_dur: number of duration of stay\n",
    "# no_of_days_betw_booking: number of days between the booking\n",
    "def convert_to_datetime(df):\n",
    "    df['checkin'] = pd.to_datetime(df['srch_ci'])\n",
    "    df['checkout'] = pd.to_datetime(df['srch_co'])\n",
    "    \n",
    "    df['stay_dur'] = (df['checkout'] - df['checkin']).astype('timedelta64[D]')\n",
    "    df['no_of_days_betw_booking'] = (df['checkin'] - df['date_time']).astype('timedelta64[D]')"
   ]
  },
  {
   "cell_type": "code",
   "execution_count": 19,
   "metadata": {},
   "outputs": [],
   "source": [
    "# Calling the function and passing the dataframe\n",
    "\n",
    "convert_to_dasrch_cotetime(train_df)"
   ]
  },
  {
   "cell_type": "code",
   "execution_count": 21,
   "metadata": {},
   "outputs": [
    {
     "output_type": "execute_result",
     "data": {
      "text/plain": [
       "            date_time  site_name  posa_continent  user_location_country  user_location_region  user_location_city  orig_destination_distance  user_id  is_mobile  is_package  channel     srch_ci     srch_co  srch_adults_cnt  srch_children_cnt  srch_rm_cnt  srch_destination_id  srch_destination_type_id  is_booking  cnt  hotel_continent  hotel_country  hotel_market  hotel_cluster    checkin   checkout  stay_dur  no_of_days_betw_booking\n",
       "0 2014-08-11 07:46:59          2               3                     66                   348               48862                  2234.2641       12          0           1        9  2014-08-27  2014-08-31                2                  0            1                 8250                         1           0    3                2             50           628              1 2014-08-27 2014-08-31       4.0                     15.0\n",
       "1 2014-08-11 08:22:12          2               3                     66                   348               48862                  2234.2641       12          0           1        9  2014-08-29  2014-09-02                2                  0            1                 8250                         1           1    1                2             50           628              1 2014-08-29 2014-09-02       4.0                     17.0\n",
       "2 2014-08-11 08:24:33          2               3                     66                   348               48862                  2234.2641       12          0           0        9  2014-08-29  2014-09-02                2                  0            1                 8250                         1           0    1                2             50           628              1 2014-08-29 2014-09-02       4.0                     17.0\n",
       "3 2014-08-09 18:05:16          2               3                     66                   442               35390                   913.1932       93          0           0        3  2014-11-23  2014-11-28                2                  0            1                14984                         1           0    1                2             50          1457             80 2014-11-23 2014-11-28       5.0                    105.0\n",
       "4 2014-08-09 18:08:18          2               3                     66                   442               35390                   913.6259       93          0           0        3  2014-11-23  2014-11-28                2                  0            1                14984                         1           0    1                2             50          1457             21 2014-11-23 2014-11-28       5.0                    105.0"
      ],
      "text/html": "<div>\n<style scoped>\n    .dataframe tbody tr th:only-of-type {\n        vertical-align: middle;\n    }\n\n    .dataframe tbody tr th {\n        vertical-align: top;\n    }\n\n    .dataframe thead th {\n        text-align: right;\n    }\n</style>\n<table border=\"1\" class=\"dataframe\">\n  <thead>\n    <tr style=\"text-align: right;\">\n      <th></th>\n      <th>date_time</th>\n      <th>site_name</th>\n      <th>posa_continent</th>\n      <th>user_location_country</th>\n      <th>user_location_region</th>\n      <th>user_location_city</th>\n      <th>orig_destination_distance</th>\n      <th>user_id</th>\n      <th>is_mobile</th>\n      <th>is_package</th>\n      <th>channel</th>\n      <th>srch_ci</th>\n      <th>srch_co</th>\n      <th>srch_adults_cnt</th>\n      <th>srch_children_cnt</th>\n      <th>srch_rm_cnt</th>\n      <th>srch_destination_id</th>\n      <th>srch_destination_type_id</th>\n      <th>is_booking</th>\n      <th>cnt</th>\n      <th>hotel_continent</th>\n      <th>hotel_country</th>\n      <th>hotel_market</th>\n      <th>hotel_cluster</th>\n      <th>checkin</th>\n      <th>checkout</th>\n      <th>stay_dur</th>\n      <th>no_of_days_betw_booking</th>\n    </tr>\n  </thead>\n  <tbody>\n    <tr>\n      <th>0</th>\n      <td>2014-08-11 07:46:59</td>\n      <td>2</td>\n      <td>3</td>\n      <td>66</td>\n      <td>348</td>\n      <td>48862</td>\n      <td>2234.2641</td>\n      <td>12</td>\n      <td>0</td>\n      <td>1</td>\n      <td>9</td>\n      <td>2014-08-27</td>\n      <td>2014-08-31</td>\n      <td>2</td>\n      <td>0</td>\n      <td>1</td>\n      <td>8250</td>\n      <td>1</td>\n      <td>0</td>\n      <td>3</td>\n      <td>2</td>\n      <td>50</td>\n      <td>628</td>\n      <td>1</td>\n      <td>2014-08-27</td>\n      <td>2014-08-31</td>\n      <td>4.0</td>\n      <td>15.0</td>\n    </tr>\n    <tr>\n      <th>1</th>\n      <td>2014-08-11 08:22:12</td>\n      <td>2</td>\n      <td>3</td>\n      <td>66</td>\n      <td>348</td>\n      <td>48862</td>\n      <td>2234.2641</td>\n      <td>12</td>\n      <td>0</td>\n      <td>1</td>\n      <td>9</td>\n      <td>2014-08-29</td>\n      <td>2014-09-02</td>\n      <td>2</td>\n      <td>0</td>\n      <td>1</td>\n      <td>8250</td>\n      <td>1</td>\n      <td>1</td>\n      <td>1</td>\n      <td>2</td>\n      <td>50</td>\n      <td>628</td>\n      <td>1</td>\n      <td>2014-08-29</td>\n      <td>2014-09-02</td>\n      <td>4.0</td>\n      <td>17.0</td>\n    </tr>\n    <tr>\n      <th>2</th>\n      <td>2014-08-11 08:24:33</td>\n      <td>2</td>\n      <td>3</td>\n      <td>66</td>\n      <td>348</td>\n      <td>48862</td>\n      <td>2234.2641</td>\n      <td>12</td>\n      <td>0</td>\n      <td>0</td>\n      <td>9</td>\n      <td>2014-08-29</td>\n      <td>2014-09-02</td>\n      <td>2</td>\n      <td>0</td>\n      <td>1</td>\n      <td>8250</td>\n      <td>1</td>\n      <td>0</td>\n      <td>1</td>\n      <td>2</td>\n      <td>50</td>\n      <td>628</td>\n      <td>1</td>\n      <td>2014-08-29</td>\n      <td>2014-09-02</td>\n      <td>4.0</td>\n      <td>17.0</td>\n    </tr>\n    <tr>\n      <th>3</th>\n      <td>2014-08-09 18:05:16</td>\n      <td>2</td>\n      <td>3</td>\n      <td>66</td>\n      <td>442</td>\n      <td>35390</td>\n      <td>913.1932</td>\n      <td>93</td>\n      <td>0</td>\n      <td>0</td>\n      <td>3</td>\n      <td>2014-11-23</td>\n      <td>2014-11-28</td>\n      <td>2</td>\n      <td>0</td>\n      <td>1</td>\n      <td>14984</td>\n      <td>1</td>\n      <td>0</td>\n      <td>1</td>\n      <td>2</td>\n      <td>50</td>\n      <td>1457</td>\n      <td>80</td>\n      <td>2014-11-23</td>\n      <td>2014-11-28</td>\n      <td>5.0</td>\n      <td>105.0</td>\n    </tr>\n    <tr>\n      <th>4</th>\n      <td>2014-08-09 18:08:18</td>\n      <td>2</td>\n      <td>3</td>\n      <td>66</td>\n      <td>442</td>\n      <td>35390</td>\n      <td>913.6259</td>\n      <td>93</td>\n      <td>0</td>\n      <td>0</td>\n      <td>3</td>\n      <td>2014-11-23</td>\n      <td>2014-11-28</td>\n      <td>2</td>\n      <td>0</td>\n      <td>1</td>\n      <td>14984</td>\n      <td>1</td>\n      <td>0</td>\n      <td>1</td>\n      <td>2</td>\n      <td>50</td>\n      <td>1457</td>\n      <td>21</td>\n      <td>2014-11-23</td>\n      <td>2014-11-28</td>\n      <td>5.0</td>\n      <td>105.0</td>\n    </tr>\n  </tbody>\n</table>\n</div>"
     },
     "metadata": {},
     "execution_count": 21
    }
   ],
   "source": [
    "train_df.head()"
   ]
  },
  {
   "cell_type": "code",
   "execution_count": 20,
   "metadata": {},
   "outputs": [
    {
     "output_type": "stream",
     "name": "stdout",
     "text": [
      "<class 'pandas.core.frame.DataFrame'>\nRangeIndex: 100000 entries, 0 to 99999\nData columns (total 28 columns):\n #   Column                     Non-Null Count   Dtype         \n---  ------                     --------------   -----         \n 0   date_time                  100000 non-null  datetime64[ns]\n 1   site_name                  100000 non-null  int64         \n 2   posa_continent             100000 non-null  int64         \n 3   user_location_country      100000 non-null  int64         \n 4   user_location_region       100000 non-null  int64         \n 5   user_location_city         100000 non-null  int64         \n 6   orig_destination_distance  63078 non-null   float64       \n 7   user_id                    100000 non-null  int64         \n 8   is_mobile                  100000 non-null  int64         \n 9   is_package                 100000 non-null  int64         \n 10  channel                    100000 non-null  int64         \n 11  srch_ci                    99929 non-null   object        \n 12  srch_co                    99929 non-null   object        \n 13  srch_adults_cnt            100000 non-null  int64         \n 14  srch_children_cnt          100000 non-null  int64         \n 15  srch_rm_cnt                100000 non-null  int64         \n 16  srch_destination_id        100000 non-null  int64         \n 17  srch_destination_type_id   100000 non-null  int64         \n 18  is_booking                 100000 non-null  int64         \n 19  cnt                        100000 non-null  int64         \n 20  hotel_continent            100000 non-null  int64         \n 21  hotel_country              100000 non-null  int64         \n 22  hotel_market               100000 non-null  int64         \n 23  hotel_cluster              100000 non-null  int64         \n 24  checkin                    99929 non-null   datetime64[ns]\n 25  checkout                   99929 non-null   datetime64[ns]\n 26  stay_dur                   99929 non-null   float64       \n 27  no_of_days_betw_booking    99929 non-null   float64       \ndtypes: datetime64[ns](3), float64(3), int64(20), object(2)\nmemory usage: 21.4+ MB\n"
     ]
    }
   ],
   "source": [
    "# Inspecting the dataframe post conversion\n",
    "# 3 new columns are added now\n",
    "train_df.info()"
   ]
  },
  {
   "cell_type": "code",
   "execution_count": null,
   "metadata": {},
   "outputs": [],
   "source": []
  }
 ],
 "metadata": {
  "kernelspec": {
   "display_name": "Python 3.9.5 64-bit",
   "language": "python",
   "name": "python39564bit12fe09221e084f56822c88d3f5a87bd6"
  },
  "language_info": {
   "codemirror_mode": {
    "name": "ipython",
    "version": 3
   },
   "file_extension": ".py",
   "mimetype": "text/x-python",
   "name": "python",
   "nbconvert_exporter": "python",
   "pygments_lexer": "ipython3",
   "version": "3.9.5-final"
  }
 },
 "nbformat": 4,
 "nbformat_minor": 4
}