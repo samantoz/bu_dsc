{
 "cells": [
  {
   "cell_type": "markdown",
   "metadata": {},
   "source": [
    "Online travel agencies are scrambling to meet the artificial intelligence driven personalization standard set by companies like Amazon and Netflix. In addition, the world of online travel has become a highly competitive space where brands try to capture our attention (and wallet) with recommending, comparing, matching, and sharing. For this assignment, we would like to create the optimal hotel recommendations for Expedia’s users that are searching for a hotel to book. For this assignment, you need to predict which “hotel cluster” the user is likely to book, given his (or her) search details.\n",
    "The data set can be found at Kaggle: Expedia Hotel Recommendations. To get started, I would suggest exploring the file train.csv, which contains the logs of user behavior.  There is another file named destinations.csv, which contains information related to hotel reviews made by users. There is a lot of data here, and making an accurate prediction is rather difficult, e.g., simply running a standard prediction algorithm will probably yield below 10% accuracy. Stary by doing some exploratory analysis of this data to help understand how to make a prediction on the hotel cluster the user is likely to select. Then, split train.csv into a training and test set (feel free to select a smaller random subset of train.csv). Then, build at least two prediction models from the training set, and report the accuracies on the test set. As I mentioned, this is a difficult problem, so be creative with your solutions. You might want to try building your own predictor rather than a standard predictor model, e.g., a random forest.  The purpose of this project is not necessarily to get great results but to understand the nuances and challenges of such problems."
   ]
  },
  {
   "cell_type": "markdown",
   "metadata": {},
   "source": [
    "### For this assignment, create the optimal hotel recommendations for Expedia’s users that are searching for a hotel to book. You need to predict which “hotel cluster” the user is likely to book, given his (or her) search details.\n",
    "\n",
    "Using the dataset by Expedia on Kaggle, I will attempt to build a machine learning model to predict the group of hotels that a customer will make a reservation. The dataset contains a log of customer behaviour including what they searched for, if any reservation were made, and if the search was a travel package. All features in the dataset were encoded for privacy purposes."
   ]
  },
  {
   "cell_type": "code",
   "execution_count": 2,
   "metadata": {},
   "outputs": [],
   "source": [
    "# load the libraries\n",
    "import pandas as pd\n",
    "import numpy as np\n",
    "import matplotlib.pyplot as plt \n",
    "import seaborn as sns"
   ]
  },
  {
   "cell_type": "code",
   "execution_count": 3,
   "metadata": {},
   "outputs": [],
   "source": [
    "output_width = 1000\n",
    "#output_width = 80 #//*** Normal Output width\n",
    "pd.set_option(\"display.width\", output_width)\n",
    "pd.set_option('display.max_rows', 100)\n",
    "pd.set_option('display.max_columns', None)\n",
    "pd.set_option('display.max_colwidth', None)"
   ]
  },
  {
   "cell_type": "code",
   "execution_count": 4,
   "metadata": {},
   "outputs": [
    {
     "name": "stdout",
     "output_type": "stream",
     "text": [
      "# of rows in the train.csv:  ['37670294 ../../data/processed/expedia/expedia-hotel-recommendations/train.csv']\n"
     ]
    }
   ],
   "source": [
    "# Before trying to load the full dataset into a pandas dataframe trying to look at the file contents from the unix command line\n",
    "train= !wc -l \"../../data/processed/expedia/expedia-hotel-recommendations/train.csv\"\n",
    "print(\"# of rows in the train.csv: \", train)\n",
    "# test= !wc -l \"../../data/processed/expedia/expedia-hotel-recommendations/test.csv\"\n",
    "# print(\"# of rows in the test.csv: \", test)"
   ]
  },
  {
   "cell_type": "code",
   "execution_count": 5,
   "metadata": {},
   "outputs": [
    {
     "name": "stdout",
     "output_type": "stream",
     "text": [
      "date_time,site_name,posa_continent,user_location_country,user_location_region,user_location_city,orig_destination_distance,user_id,is_mobile,is_package,channel,srch_ci,srch_co,srch_adults_cnt,srch_children_cnt,srch_rm_cnt,srch_destination_id,srch_destination_type_id,is_booking,cnt,hotel_continent,hotel_country,hotel_market,hotel_cluster\n",
      "2014-08-11 07:46:59,2,3,66,348,48862,2234.2641,12,0,1,9,2014-08-27,2014-08-31,2,0,1,8250,1,0,3,2,50,628,1\n",
      "2014-08-11 08:22:12,2,3,66,348,48862,2234.2641,12,0,1,9,2014-08-29,2014-09-02,2,0,1,8250,1,1,1,2,50,628,1\n",
      "2014-08-11 08:24:33,2,3,66,348,48862,2234.2641,12,0,0,9,2014-08-29,2014-09-02,2,0,1,8250,1,0,1,2,50,628,1\n",
      "2014-08-09 18:05:16,2,3,66,442,35390,913.1932,93,0,0,3,2014-11-23,2014-11-28,2,0,1,14984,1,0,1,2,50,1457,80\n"
     ]
    }
   ],
   "source": [
    "# The first 5 rows from the top of the file\n",
    "!head -5 \"../../data/processed/expedia/expedia-hotel-recommendations/train.csv\""
   ]
  },
  {
   "cell_type": "code",
   "execution_count": 6,
   "metadata": {},
   "outputs": [
    {
     "name": "stdout",
     "output_type": "stream",
     "text": [
      "2014-09-02 08:08:28,2,3,66,174,26232,2348.4075,1198182,0,1,2,2014-11-16,2014-11-22,2,0,1,8855,1,0,1,2,50,213,26\n",
      "2014-09-08 14:52:52,2,3,66,174,26232,679.6104,1198182,0,0,0,2014-10-20,2014-10-25,1,0,1,8281,1,0,1,2,50,663,9\n",
      "2014-09-15 06:56:51,2,3,66,174,26232,668.1768,1198182,0,0,0,2014-09-15,2014-09-16,1,0,1,5620,3,0,1,2,50,663,94\n",
      "2014-09-18 08:49:33,2,3,66,462,12565,106.4274,1198182,0,0,0,2014-09-18,2014-09-19,1,0,1,18811,1,0,1,2,50,592,42\n",
      "2014-09-18 08:52:42,2,3,66,462,12565,106.4274,1198182,0,0,0,2014-09-18,2014-09-19,1,0,1,18811,1,1,1,2,50,592,42\n"
     ]
    }
   ],
   "source": [
    "# The last 5 rows of the file\n",
    "!tail -5 \"../../data/processed/expedia/expedia-hotel-recommendations/train.csv\""
   ]
  },
  {
   "cell_type": "code",
   "execution_count": null,
   "metadata": {},
   "outputs": [],
   "source": [
    "# Load the data into a dataframe \n",
    "# init_df = pd.read_csv(\"../../data/processed/expedia/expedia-hotel-recommendations/train.csv\")"
   ]
  },
  {
   "cell_type": "code",
   "execution_count": null,
   "metadata": {},
   "outputs": [],
   "source": [
    "# Display the info and the shape of the dataframe\n",
    "# init_df.info()\n",
    "# print('The dimension of the dataframe is ', init_df.shape)"
   ]
  },
  {
   "cell_type": "code",
   "execution_count": null,
   "metadata": {},
   "outputs": [],
   "source": [
    "# Show the first 5 rows\n",
    "# init_df.head()"
   ]
  },
  {
   "cell_type": "code",
   "execution_count": null,
   "metadata": {},
   "outputs": [],
   "source": [
    "# Using dask.dataframe \n",
    "# import dask.dataframe as dd\n",
    "\n",
    "# init_dd = dd.read_csv(\"../../data/processed/expedia/expedia-hotel-recommendations/train.csv\", parse_dates=[\"date_time\"])\n",
    "# init_dd\n",
    "# init_dd.head()"
   ]
  },
  {
   "cell_type": "code",
   "execution_count": null,
   "metadata": {},
   "outputs": [],
   "source": [
    "# init_dd.groupby(\"user_id\").hotel_cluster.count().compute()"
   ]
  },
  {
   "cell_type": "code",
   "execution_count": 7,
   "metadata": {},
   "outputs": [
    {
     "data": {
      "text/html": [
       "<div>\n",
       "<style scoped>\n",
       "    .dataframe tbody tr th:only-of-type {\n",
       "        vertical-align: middle;\n",
       "    }\n",
       "\n",
       "    .dataframe tbody tr th {\n",
       "        vertical-align: top;\n",
       "    }\n",
       "\n",
       "    .dataframe thead th {\n",
       "        text-align: right;\n",
       "    }\n",
       "</style>\n",
       "<table border=\"1\" class=\"dataframe\">\n",
       "  <thead>\n",
       "    <tr style=\"text-align: right;\">\n",
       "      <th></th>\n",
       "      <th>date_time</th>\n",
       "      <th>site_name</th>\n",
       "      <th>posa_continent</th>\n",
       "      <th>user_location_country</th>\n",
       "      <th>user_location_region</th>\n",
       "      <th>user_location_city</th>\n",
       "      <th>orig_destination_distance</th>\n",
       "      <th>user_id</th>\n",
       "      <th>is_mobile</th>\n",
       "      <th>is_package</th>\n",
       "      <th>channel</th>\n",
       "      <th>srch_ci</th>\n",
       "      <th>srch_co</th>\n",
       "      <th>srch_adults_cnt</th>\n",
       "      <th>srch_children_cnt</th>\n",
       "      <th>srch_rm_cnt</th>\n",
       "      <th>srch_destination_id</th>\n",
       "      <th>srch_destination_type_id</th>\n",
       "      <th>is_booking</th>\n",
       "      <th>cnt</th>\n",
       "      <th>hotel_continent</th>\n",
       "      <th>hotel_country</th>\n",
       "      <th>hotel_market</th>\n",
       "      <th>hotel_cluster</th>\n",
       "    </tr>\n",
       "  </thead>\n",
       "  <tbody>\n",
       "    <tr>\n",
       "      <th>0</th>\n",
       "      <td>2014-08-11 07:46:59</td>\n",
       "      <td>2</td>\n",
       "      <td>3</td>\n",
       "      <td>66</td>\n",
       "      <td>348</td>\n",
       "      <td>48862</td>\n",
       "      <td>2234.2641</td>\n",
       "      <td>12</td>\n",
       "      <td>0</td>\n",
       "      <td>1</td>\n",
       "      <td>9</td>\n",
       "      <td>2014-08-27</td>\n",
       "      <td>2014-08-31</td>\n",
       "      <td>2</td>\n",
       "      <td>0</td>\n",
       "      <td>1</td>\n",
       "      <td>8250</td>\n",
       "      <td>1</td>\n",
       "      <td>0</td>\n",
       "      <td>3</td>\n",
       "      <td>2</td>\n",
       "      <td>50</td>\n",
       "      <td>628</td>\n",
       "      <td>1</td>\n",
       "    </tr>\n",
       "    <tr>\n",
       "      <th>1</th>\n",
       "      <td>2014-08-11 08:22:12</td>\n",
       "      <td>2</td>\n",
       "      <td>3</td>\n",
       "      <td>66</td>\n",
       "      <td>348</td>\n",
       "      <td>48862</td>\n",
       "      <td>2234.2641</td>\n",
       "      <td>12</td>\n",
       "      <td>0</td>\n",
       "      <td>1</td>\n",
       "      <td>9</td>\n",
       "      <td>2014-08-29</td>\n",
       "      <td>2014-09-02</td>\n",
       "      <td>2</td>\n",
       "      <td>0</td>\n",
       "      <td>1</td>\n",
       "      <td>8250</td>\n",
       "      <td>1</td>\n",
       "      <td>1</td>\n",
       "      <td>1</td>\n",
       "      <td>2</td>\n",
       "      <td>50</td>\n",
       "      <td>628</td>\n",
       "      <td>1</td>\n",
       "    </tr>\n",
       "    <tr>\n",
       "      <th>2</th>\n",
       "      <td>2014-08-11 08:24:33</td>\n",
       "      <td>2</td>\n",
       "      <td>3</td>\n",
       "      <td>66</td>\n",
       "      <td>348</td>\n",
       "      <td>48862</td>\n",
       "      <td>2234.2641</td>\n",
       "      <td>12</td>\n",
       "      <td>0</td>\n",
       "      <td>0</td>\n",
       "      <td>9</td>\n",
       "      <td>2014-08-29</td>\n",
       "      <td>2014-09-02</td>\n",
       "      <td>2</td>\n",
       "      <td>0</td>\n",
       "      <td>1</td>\n",
       "      <td>8250</td>\n",
       "      <td>1</td>\n",
       "      <td>0</td>\n",
       "      <td>1</td>\n",
       "      <td>2</td>\n",
       "      <td>50</td>\n",
       "      <td>628</td>\n",
       "      <td>1</td>\n",
       "    </tr>\n",
       "    <tr>\n",
       "      <th>3</th>\n",
       "      <td>2014-08-09 18:05:16</td>\n",
       "      <td>2</td>\n",
       "      <td>3</td>\n",
       "      <td>66</td>\n",
       "      <td>442</td>\n",
       "      <td>35390</td>\n",
       "      <td>913.1932</td>\n",
       "      <td>93</td>\n",
       "      <td>0</td>\n",
       "      <td>0</td>\n",
       "      <td>3</td>\n",
       "      <td>2014-11-23</td>\n",
       "      <td>2014-11-28</td>\n",
       "      <td>2</td>\n",
       "      <td>0</td>\n",
       "      <td>1</td>\n",
       "      <td>14984</td>\n",
       "      <td>1</td>\n",
       "      <td>0</td>\n",
       "      <td>1</td>\n",
       "      <td>2</td>\n",
       "      <td>50</td>\n",
       "      <td>1457</td>\n",
       "      <td>80</td>\n",
       "    </tr>\n",
       "    <tr>\n",
       "      <th>4</th>\n",
       "      <td>2014-08-09 18:08:18</td>\n",
       "      <td>2</td>\n",
       "      <td>3</td>\n",
       "      <td>66</td>\n",
       "      <td>442</td>\n",
       "      <td>35390</td>\n",
       "      <td>913.6259</td>\n",
       "      <td>93</td>\n",
       "      <td>0</td>\n",
       "      <td>0</td>\n",
       "      <td>3</td>\n",
       "      <td>2014-11-23</td>\n",
       "      <td>2014-11-28</td>\n",
       "      <td>2</td>\n",
       "      <td>0</td>\n",
       "      <td>1</td>\n",
       "      <td>14984</td>\n",
       "      <td>1</td>\n",
       "      <td>0</td>\n",
       "      <td>1</td>\n",
       "      <td>2</td>\n",
       "      <td>50</td>\n",
       "      <td>1457</td>\n",
       "      <td>21</td>\n",
       "    </tr>\n",
       "  </tbody>\n",
       "</table>\n",
       "</div>"
      ],
      "text/plain": [
       "            date_time  site_name  posa_continent  user_location_country  user_location_region  user_location_city  orig_destination_distance  user_id  is_mobile  is_package  channel     srch_ci     srch_co  srch_adults_cnt  srch_children_cnt  srch_rm_cnt  srch_destination_id  srch_destination_type_id  is_booking  cnt  hotel_continent  hotel_country  hotel_market  hotel_cluster\n",
       "0 2014-08-11 07:46:59          2               3                     66                   348               48862                  2234.2641       12          0           1        9  2014-08-27  2014-08-31                2                  0            1                 8250                         1           0    3                2             50           628              1\n",
       "1 2014-08-11 08:22:12          2               3                     66                   348               48862                  2234.2641       12          0           1        9  2014-08-29  2014-09-02                2                  0            1                 8250                         1           1    1                2             50           628              1\n",
       "2 2014-08-11 08:24:33          2               3                     66                   348               48862                  2234.2641       12          0           0        9  2014-08-29  2014-09-02                2                  0            1                 8250                         1           0    1                2             50           628              1\n",
       "3 2014-08-09 18:05:16          2               3                     66                   442               35390                   913.1932       93          0           0        3  2014-11-23  2014-11-28                2                  0            1                14984                         1           0    1                2             50          1457             80\n",
       "4 2014-08-09 18:08:18          2               3                     66                   442               35390                   913.6259       93          0           0        3  2014-11-23  2014-11-28                2                  0            1                14984                         1           0    1                2             50          1457             21"
      ]
     },
     "execution_count": 7,
     "metadata": {},
     "output_type": "execute_result"
    }
   ],
   "source": [
    "# Now loading the first 100,000 rows from the training set\n",
    "n_rows = 100_000\n",
    "train_df = pd.read_csv(\"../../data/processed/expedia/expedia-hotel-recommendations/train.csv\", parse_dates=[\"date_time\"], nrows=n_rows)\n",
    "train_df.head()"
   ]
  },
  {
   "cell_type": "code",
   "execution_count": 8,
   "metadata": {},
   "outputs": [
    {
     "name": "stdout",
     "output_type": "stream",
     "text": [
      "<class 'pandas.core.frame.DataFrame'>\n",
      "RangeIndex: 100000 entries, 0 to 99999\n",
      "Data columns (total 24 columns):\n",
      " #   Column                     Non-Null Count   Dtype         \n",
      "---  ------                     --------------   -----         \n",
      " 0   date_time                  100000 non-null  datetime64[ns]\n",
      " 1   site_name                  100000 non-null  int64         \n",
      " 2   posa_continent             100000 non-null  int64         \n",
      " 3   user_location_country      100000 non-null  int64         \n",
      " 4   user_location_region       100000 non-null  int64         \n",
      " 5   user_location_city         100000 non-null  int64         \n",
      " 6   orig_destination_distance  63078 non-null   float64       \n",
      " 7   user_id                    100000 non-null  int64         \n",
      " 8   is_mobile                  100000 non-null  int64         \n",
      " 9   is_package                 100000 non-null  int64         \n",
      " 10  channel                    100000 non-null  int64         \n",
      " 11  srch_ci                    99929 non-null   object        \n",
      " 12  srch_co                    99929 non-null   object        \n",
      " 13  srch_adults_cnt            100000 non-null  int64         \n",
      " 14  srch_children_cnt          100000 non-null  int64         \n",
      " 15  srch_rm_cnt                100000 non-null  int64         \n",
      " 16  srch_destination_id        100000 non-null  int64         \n",
      " 17  srch_destination_type_id   100000 non-null  int64         \n",
      " 18  is_booking                 100000 non-null  int64         \n",
      " 19  cnt                        100000 non-null  int64         \n",
      " 20  hotel_continent            100000 non-null  int64         \n",
      " 21  hotel_country              100000 non-null  int64         \n",
      " 22  hotel_market               100000 non-null  int64         \n",
      " 23  hotel_cluster              100000 non-null  int64         \n",
      "dtypes: datetime64[ns](1), float64(1), int64(20), object(2)\n",
      "memory usage: 18.3+ MB\n"
     ]
    }
   ],
   "source": [
    "train_df.info()"
   ]
  },
  {
   "cell_type": "code",
   "execution_count": 9,
   "metadata": {},
   "outputs": [
    {
     "name": "stdout",
     "output_type": "stream",
     "text": [
      "Dimesion of the dataset: (100000, 24)\n"
     ]
    }
   ],
   "source": [
    "# Now let us look at the dataset\n",
    "print(\"Dimesion of the dataset:\", train_df.shape)"
   ]
  },
  {
   "cell_type": "markdown",
   "metadata": {},
   "source": [
    "### Feature\t                    Description\n",
    "### ===========                 ======================\n",
    "date_time\t                    Timestamp\n",
    "\n",
    "site_name\t                    ID of Expedia point of sale\n",
    "\n",
    "posa_continent\t            ID of site’s continent\n",
    "\n",
    "user_location_country\t    ID of customer’s country\n",
    "\n",
    "user_location_region\t    ID of customer’s region\n",
    "\n",
    "user_location_city\t        ID of customer’s city\n",
    "\n",
    "orig_destination_distance\tPhysical distance between a hotel and a customer\n",
    "\n",
    "user_id\t                    ID of user\n",
    "\n",
    "is_mobile\t                1 for mobile device, 0 otherwise\n",
    "\n",
    "is_package\t                1 if booking/click was part of package, 0 otherwise\n",
    "\n",
    "channel\t                    ID of a marketing channel\n",
    "\n",
    "srch_ci\t                    Check-in date\n",
    "\n",
    "srch_co\t                    Check-out date\n",
    "\n",
    "srch_adults_cnt\t            Number of adults\n",
    "\n",
    "srch_children_cnt\t        Number of children\n",
    "\n",
    "srch_rm_cnt\t                Number of rooms\n",
    "\n",
    "srch_destination_id\t        ID of the destination\n",
    "\n",
    "srch_destination_type_id\tType of destination\n",
    "\n",
    "is_booking\t                1 if a booking, 0 if a click\n",
    "\n",
    "cnt\t                        Number of similar events in the context of the same user sessiont\n",
    "\n",
    "hotel_continent\t            Hotel continent\n",
    "\n",
    "hotel_country\t            Hotel country\n",
    "\n",
    "hotel_market\t            Hotel market\n",
    "\n",
    "hotel_cluster\t            ID of hotel cluster"
   ]
  },
  {
   "cell_type": "markdown",
   "metadata": {},
   "source": [
    "### Steps taken to complete the Exploratory Data Analysis\n",
    "#### first step was to clean and pre-process the data and perform exploratory analysis to get some interesting insights into the process of choosing a hotel."
   ]
  },
  {
   "cell_type": "code",
   "execution_count": 10,
   "metadata": {},
   "outputs": [
    {
     "name": "stdout",
     "output_type": "stream",
     "text": [
      "Describe Data\n",
      "          site_name  posa_continent  user_location_country  user_location_region  user_location_city  orig_destination_distance        user_id      is_mobile     is_package        channel  srch_adults_cnt  srch_children_cnt    srch_rm_cnt  srch_destination_id  srch_destination_type_id    is_booking            cnt  hotel_continent  hotel_country   hotel_market  hotel_cluster\n",
      "count  100000.00000   100000.000000          100000.000000         100000.000000       100000.000000               63078.000000  100000.000000  100000.000000  100000.000000  100000.000000    100000.000000      100000.000000  100000.000000        100000.000000             100000.000000  100000.00000  100000.000000    100000.000000  100000.000000  100000.000000   100000.00000\n",
      "mean        9.10014        2.637850              84.531040            311.630930        28465.223540                1897.609161  195700.878390       0.138030       0.260470       5.760540         2.029830           0.325160       1.112700         14511.034340                  2.590540       0.08270       1.477770         3.206530      80.972620     597.559610       49.74576\n",
      "std        12.09091        0.751001              54.320574            209.399151        16822.922817                2123.885180  110173.879786       0.344933       0.438893       3.771156         0.889903           0.722341       0.441928         11043.082364                  2.160456       0.27543       1.197163         1.624119      55.679861     507.624672       28.95063\n",
      "min         2.00000        0.000000               0.000000              0.000000            3.000000                   0.005600      12.000000       0.000000       0.000000       0.000000         0.000000           0.000000       0.000000             8.000000                  1.000000       0.00000       1.000000         0.000000       0.000000       0.000000        0.00000\n",
      "25%         2.00000        3.000000              66.000000            174.000000        13914.000000                 290.528875  107548.000000       0.000000       0.000000       2.000000         2.000000           0.000000       1.000000          8267.000000                  1.000000       0.00000       1.000000         2.000000      50.000000     160.000000       25.00000\n",
      "50%         2.00000        3.000000              66.000000            311.000000        27733.000000                1093.888450  181983.000000       0.000000       0.000000       9.000000         2.000000           0.000000       1.000000         11271.000000                  1.000000       0.00000       1.000000         2.000000      50.000000     585.000000       49.00000\n",
      "75%        11.00000        3.000000              69.000000            385.000000        43113.000000                2518.177400  301357.000000       0.000000       1.000000       9.000000         2.000000           0.000000       1.000000         18881.000000                  5.000000       0.00000       2.000000         4.000000     106.000000     701.000000       73.00000\n",
      "max        53.00000        4.000000             239.000000           1025.000000        56495.000000               11641.224200  391007.000000       1.000000       1.000000      10.000000         9.000000           9.000000       8.000000         65035.000000                  9.000000       1.00000      59.000000         6.000000     212.000000    2117.000000       99.00000\n",
      "Summarized Data\n",
      "           srch_ci     srch_co\n",
      "count        99929       99929\n",
      "unique        1029        1034\n",
      "top     2014-12-26  2015-01-02\n",
      "freq           714         659\n"
     ]
    }
   ],
   "source": [
    "# what type of variables are in the table \n",
    "# Look at summary information about your data (total, mean, min, max, freq, unique, etc.) \n",
    "# It looks like there are lots of features to look at here\n",
    "\n",
    "print(\"Describe Data\") \n",
    "print(train_df.describe()) \n",
    "print(\"Summarized Data\") \n",
    "print(train_df.describe(include='O'))"
   ]
  },
  {
   "cell_type": "code",
   "execution_count": 11,
   "metadata": {},
   "outputs": [
    {
     "data": {
      "text/plain": [
       "date_time                    False\n",
       "site_name                    False\n",
       "posa_continent               False\n",
       "user_location_country        False\n",
       "user_location_region         False\n",
       "user_location_city           False\n",
       "orig_destination_distance     True\n",
       "user_id                      False\n",
       "is_mobile                    False\n",
       "is_package                   False\n",
       "channel                      False\n",
       "srch_ci                       True\n",
       "srch_co                       True\n",
       "srch_adults_cnt              False\n",
       "srch_children_cnt            False\n",
       "srch_rm_cnt                  False\n",
       "srch_destination_id          False\n",
       "srch_destination_type_id     False\n",
       "is_booking                   False\n",
       "cnt                          False\n",
       "hotel_continent              False\n",
       "hotel_country                False\n",
       "hotel_market                 False\n",
       "hotel_cluster                False\n",
       "dtype: bool"
      ]
     },
     "execution_count": 11,
     "metadata": {},
     "output_type": "execute_result"
    }
   ],
   "source": [
    "# Checking for null values in columns\n",
    "# There are some columns that have null values as per the below output\n",
    "# Next we will look into the count\n",
    "train_df.isnull().any()"
   ]
  },
  {
   "cell_type": "code",
   "execution_count": 73,
   "metadata": {},
   "outputs": [],
   "source": [
    "# As per the above information, the orig_destination_distance column has NULL values\n",
    "# This variable shows Physical distance between a hotel and a customer. \n",
    "# This value could also be imputed using a mean value of the distance but I am not following this process and would instead drop this \n",
    "# column from the model building data set."
   ]
  },
  {
   "cell_type": "code",
   "execution_count": 12,
   "metadata": {},
   "outputs": [
    {
     "data": {
      "text/plain": [
       "date_time                    99840\n",
       "site_name                       38\n",
       "posa_continent                   5\n",
       "user_location_country          123\n",
       "user_location_region           510\n",
       "user_location_city            3751\n",
       "orig_destination_distance    43021\n",
       "user_id                       3478\n",
       "is_mobile                        2\n",
       "is_package                       2\n",
       "channel                         11\n",
       "srch_ci                       1029\n",
       "srch_co                       1034\n",
       "srch_adults_cnt                 10\n",
       "srch_children_cnt               10\n",
       "srch_rm_cnt                      9\n",
       "srch_destination_id           5296\n",
       "srch_destination_type_id         8\n",
       "is_booking                       2\n",
       "cnt                             30\n",
       "hotel_continent                  6\n",
       "hotel_country                  152\n",
       "hotel_market                  1531\n",
       "hotel_cluster                  100\n",
       "dtype: int64"
      ]
     },
     "execution_count": 12,
     "metadata": {},
     "output_type": "execute_result"
    }
   ],
   "source": [
    "# Unique entries for each of the columns\n",
    "train_df.nunique()"
   ]
  },
  {
   "cell_type": "code",
   "execution_count": 13,
   "metadata": {},
   "outputs": [
    {
     "data": {
      "text/plain": [
       "3478"
      ]
     },
     "execution_count": 13,
     "metadata": {},
     "output_type": "execute_result"
    }
   ],
   "source": [
    "# Get all unique user ids\n",
    "unique_users = train_df.user_id.unique()\n",
    "len(unique_users)\n",
    "\n",
    "# This shows that each user has multiple bookings.\n",
    "# I have commented out the below steps for this initial analysis\n",
    "\n",
    "# Remove all non-bookings to make counting easier\n",
    "## t1 = train[train.is_booking != 0]\n",
    "## for user in unique_users:\n",
    "  \n",
    "  # Count the number of rows under a single user\n",
    "  ## bookings = len(t1.loc[t1['user_id'] == user])\n",
    "  ## if bookings >= 20:\n",
    "    \n",
    "    # Remove the travel agent from dataset\n",
    "    ## train = train[train.user_id != user]"
   ]
  },
  {
   "cell_type": "markdown",
   "metadata": {},
   "source": [
    "### Some basic Observations by looking at the data\n",
    "\n",
    "##### The target variable hotel_cluster is represented by 100 unique values \n",
    "\n",
    "##### There are no missing data for the target variable in the sample \n",
    "\n",
    "##### Other than the hotel_cluster variable which will be the “target” and the other variables will be the “features”\n",
    "\n",
    "### Steps for cleaning the data\n",
    "\n",
    "### Clean and pre-process the data and perform exploratory analysis to get some interesting insights into the process of choosing a hotel.\n",
    "\n",
    "#### Remove the users who did not booked the hotel\n",
    "\n",
    "#### Identify the searches by each user belonging to a specific type of destination\n",
    "\n",
    "#### orig_destination_distance contains Nan values so ignore it in the model\n",
    "\n",
    "#### Using the check-in and check-out dates to find the duration of the stay for each of the entries in the training set.\n",
    "\n",
    "#### checkin_day: Check-in day\n",
    "\n",
    "#### checkin_month: Check-in month\n",
    "\n",
    "#### checkin_year: Check-out year"
   ]
  },
  {
   "cell_type": "code",
   "execution_count": 14,
   "metadata": {},
   "outputs": [
    {
     "data": {
      "image/png": "[encoded data removed]",
      "text/plain": [
       "<Figure size 936x576 with 1 Axes>"
      ]
     },
     "metadata": {
      "needs_background": "light"
     },
     "output_type": "display_data"
    }
   ],
   "source": [
    "# Frequency of posa continent\n",
    "# The below bar chart shows that continent 3 has by far the highest count of IDs for the website \n",
    "fig, ax = plt.subplots()\n",
    "fig.set_size_inches(13, 8)\n",
    "sns.countplot('posa_continent', data=train_df,order=[0,1,2,3,4],ax=ax);"
   ]
  },
  {
   "cell_type": "code",
   "execution_count": 15,
   "metadata": {},
   "outputs": [
    {
     "data": {
      "image/png": "[encoded data removed]",
      "text/plain": [
       "<Figure size 936x576 with 1 Axes>"
      ]
     },
     "metadata": {
      "needs_background": "light"
     },
     "output_type": "display_data"
    }
   ],
   "source": [
    "# frequency of hotel continent\n",
    "# The below bar chart shows that continent 2 has by far the highest count of hotels concentration \n",
    "fig, ax = plt.subplots()\n",
    "fig.set_size_inches(13, 8)\n",
    "sns.countplot('hotel_continent', data=train_df,order=[0,2,3,4,5,6],ax=ax);"
   ]
  },
  {
   "cell_type": "code",
   "execution_count": 16,
   "metadata": {},
   "outputs": [
    {
     "data": {
      "image/png": "[encoded data removed]",
      "text/plain": [
       "<Figure size 936x576 with 1 Axes>"
      ]
     },
     "metadata": {
      "needs_background": "light"
     },
     "output_type": "display_data"
    }
   ],
   "source": [
    "# Frequency of booking through mobile\n",
    "# The below graph shows that most of the bookings were done from non mobile devices\n",
    "fig, ax = plt.subplots()\n",
    "fig.set_size_inches(13, 8)\n",
    "sns.countplot(x='is_mobile',data=train_df, order=[0,1],ax=ax);"
   ]
  },
  {
   "cell_type": "code",
   "execution_count": 17,
   "metadata": {},
   "outputs": [
    {
     "data": {
      "text/plain": [
       "is_mobile\n",
       "0    86197\n",
       "1    13803\n",
       "Name: user_id, dtype: int64"
      ]
     },
     "execution_count": 17,
     "metadata": {},
     "output_type": "execute_result"
    }
   ],
   "source": [
    "# Here is the numerical output based on the is_mobile data\n",
    "train_df.groupby('is_mobile')['user_id'].count()"
   ]
  },
  {
   "cell_type": "code",
   "execution_count": 18,
   "metadata": {},
   "outputs": [],
   "source": [
    "# Function to change the column data types to date time\n",
    "# Adding some additional attributes\n",
    "# stay_dur: number of duration of stay\n",
    "# no_of_days_betw_booking: number of days between the booking\n",
    "def convert_to_datetime(df):\n",
    "    df['checkin'] = pd.to_datetime(df['srch_ci'])\n",
    "    df['checkout'] = pd.to_datetime(df['srch_co'])\n",
    "    \n",
    "    df['stay_dur'] = (df['checkout'] - df['checkin']).astype('timedelta64[D]')\n",
    "    df['no_of_days_betw_booking'] = (df['checkin'] - df['date_time']).astype('timedelta64[D]')\n",
    "\n",
    "    # From the hotel check-in date extracting\n",
    "    # Month, Year, Day\n",
    "    df['checkin_day'] = df[\"checkin\"].apply(lambda x: x.day)\n",
    "    df['checkin_month'] = df[\"checkin\"].apply(lambda x: x.month)\n",
    "    df['checkin_year'] = df[\"checkin\"].apply(lambda x: x.year)"
   ]
  },
  {
   "cell_type": "code",
   "execution_count": 19,
   "metadata": {},
   "outputs": [],
   "source": [
    "# Calling the function and passing the dataframe\n",
    "\n",
    "convert_to_datetime(train_df)"
   ]
  },
  {
   "cell_type": "code",
   "execution_count": 20,
   "metadata": {},
   "outputs": [
    {
     "data": {
      "image/png": "[encoded data removed]",
      "text/plain": [
       "<Figure size 936x576 with 1 Axes>"
      ]
     },
     "metadata": {
      "needs_background": "light"
     },
     "output_type": "display_data"
    }
   ],
   "source": [
    "# The below graphs are built using the additional attributes created above\n",
    "# Count the bookings in each month\n",
    "fig, ax = plt.subplots()\n",
    "fig.set_size_inches(13, 8)\n",
    "sns.countplot('checkin_month',data=train_df[train_df[\"is_booking\"] == 1],order=list(range(1,13)),ax=ax);"
   ]
  },
  {
   "cell_type": "code",
   "execution_count": 21,
   "metadata": {},
   "outputs": [
    {
     "data": {
      "image/png": "[encoded data removed]",
      "text/plain": [
       "<Figure size 936x576 with 1 Axes>"
      ]
     },
     "metadata": {
      "needs_background": "light"
     },
     "output_type": "display_data"
    }
   ],
   "source": [
    "# Count the bookings as per the day\n",
    "fig, ax = plt.subplots()\n",
    "fig.set_size_inches(13, 8)\n",
    "sns.countplot('checkin_day',data=train_df[train_df[\"is_booking\"] == 1],order=list(range(1,32)),ax=ax);"
   ]
  },
  {
   "cell_type": "code",
   "execution_count": 22,
   "metadata": {},
   "outputs": [
    {
     "data": {
      "image/png": "[encoded data removed]",
      "text/plain": [
       "<Figure size 936x576 with 1 Axes>"
      ]
     },
     "metadata": {
      "needs_background": "light"
     },
     "output_type": "display_data"
    }
   ],
   "source": [
    "# Count the bookings as per the stay_duration\n",
    "fig, ax = plt.subplots()\n",
    "fig.set_size_inches(13, 8)\n",
    "sns.countplot('stay_dur',data=train_df[train_df[\"is_booking\"] == 1],ax=ax);"
   ]
  },
  {
   "cell_type": "code",
   "execution_count": 23,
   "metadata": {},
   "outputs": [
    {
     "data": {
      "text/html": [
       "<div>\n",
       "<style scoped>\n",
       "    .dataframe tbody tr th:only-of-type {\n",
       "        vertical-align: middle;\n",
       "    }\n",
       "\n",
       "    .dataframe tbody tr th {\n",
       "        vertical-align: top;\n",
       "    }\n",
       "\n",
       "    .dataframe thead th {\n",
       "        text-align: right;\n",
       "    }\n",
       "</style>\n",
       "<table border=\"1\" class=\"dataframe\">\n",
       "  <thead>\n",
       "    <tr style=\"text-align: right;\">\n",
       "      <th></th>\n",
       "      <th>date_time</th>\n",
       "      <th>site_name</th>\n",
       "      <th>posa_continent</th>\n",
       "      <th>user_location_country</th>\n",
       "      <th>user_location_region</th>\n",
       "      <th>user_location_city</th>\n",
       "      <th>orig_destination_distance</th>\n",
       "      <th>user_id</th>\n",
       "      <th>is_mobile</th>\n",
       "      <th>is_package</th>\n",
       "      <th>channel</th>\n",
       "      <th>srch_ci</th>\n",
       "      <th>srch_co</th>\n",
       "      <th>srch_adults_cnt</th>\n",
       "      <th>srch_children_cnt</th>\n",
       "      <th>srch_rm_cnt</th>\n",
       "      <th>srch_destination_id</th>\n",
       "      <th>srch_destination_type_id</th>\n",
       "      <th>is_booking</th>\n",
       "      <th>cnt</th>\n",
       "      <th>hotel_continent</th>\n",
       "      <th>hotel_country</th>\n",
       "      <th>hotel_market</th>\n",
       "      <th>hotel_cluster</th>\n",
       "      <th>checkin</th>\n",
       "      <th>checkout</th>\n",
       "      <th>stay_dur</th>\n",
       "      <th>no_of_days_betw_booking</th>\n",
       "      <th>checkin_day</th>\n",
       "      <th>checkin_month</th>\n",
       "      <th>checkin_year</th>\n",
       "    </tr>\n",
       "  </thead>\n",
       "  <tbody>\n",
       "    <tr>\n",
       "      <th>0</th>\n",
       "      <td>2014-08-11 07:46:59</td>\n",
       "      <td>2</td>\n",
       "      <td>3</td>\n",
       "      <td>66</td>\n",
       "      <td>348</td>\n",
       "      <td>48862</td>\n",
       "      <td>2234.2641</td>\n",
       "      <td>12</td>\n",
       "      <td>0</td>\n",
       "      <td>1</td>\n",
       "      <td>9</td>\n",
       "      <td>2014-08-27</td>\n",
       "      <td>2014-08-31</td>\n",
       "      <td>2</td>\n",
       "      <td>0</td>\n",
       "      <td>1</td>\n",
       "      <td>8250</td>\n",
       "      <td>1</td>\n",
       "      <td>0</td>\n",
       "      <td>3</td>\n",
       "      <td>2</td>\n",
       "      <td>50</td>\n",
       "      <td>628</td>\n",
       "      <td>1</td>\n",
       "      <td>2014-08-27</td>\n",
       "      <td>2014-08-31</td>\n",
       "      <td>4.0</td>\n",
       "      <td>15.0</td>\n",
       "      <td>27.0</td>\n",
       "      <td>8.0</td>\n",
       "      <td>2014.0</td>\n",
       "    </tr>\n",
       "    <tr>\n",
       "      <th>1</th>\n",
       "      <td>2014-08-11 08:22:12</td>\n",
       "      <td>2</td>\n",
       "      <td>3</td>\n",
       "      <td>66</td>\n",
       "      <td>348</td>\n",
       "      <td>48862</td>\n",
       "      <td>2234.2641</td>\n",
       "      <td>12</td>\n",
       "      <td>0</td>\n",
       "      <td>1</td>\n",
       "      <td>9</td>\n",
       "      <td>2014-08-29</td>\n",
       "      <td>2014-09-02</td>\n",
       "      <td>2</td>\n",
       "      <td>0</td>\n",
       "      <td>1</td>\n",
       "      <td>8250</td>\n",
       "      <td>1</td>\n",
       "      <td>1</td>\n",
       "      <td>1</td>\n",
       "      <td>2</td>\n",
       "      <td>50</td>\n",
       "      <td>628</td>\n",
       "      <td>1</td>\n",
       "      <td>2014-08-29</td>\n",
       "      <td>2014-09-02</td>\n",
       "      <td>4.0</td>\n",
       "      <td>17.0</td>\n",
       "      <td>29.0</td>\n",
       "      <td>8.0</td>\n",
       "      <td>2014.0</td>\n",
       "    </tr>\n",
       "    <tr>\n",
       "      <th>2</th>\n",
       "      <td>2014-08-11 08:24:33</td>\n",
       "      <td>2</td>\n",
       "      <td>3</td>\n",
       "      <td>66</td>\n",
       "      <td>348</td>\n",
       "      <td>48862</td>\n",
       "      <td>2234.2641</td>\n",
       "      <td>12</td>\n",
       "      <td>0</td>\n",
       "      <td>0</td>\n",
       "      <td>9</td>\n",
       "      <td>2014-08-29</td>\n",
       "      <td>2014-09-02</td>\n",
       "      <td>2</td>\n",
       "      <td>0</td>\n",
       "      <td>1</td>\n",
       "      <td>8250</td>\n",
       "      <td>1</td>\n",
       "      <td>0</td>\n",
       "      <td>1</td>\n",
       "      <td>2</td>\n",
       "      <td>50</td>\n",
       "      <td>628</td>\n",
       "      <td>1</td>\n",
       "      <td>2014-08-29</td>\n",
       "      <td>2014-09-02</td>\n",
       "      <td>4.0</td>\n",
       "      <td>17.0</td>\n",
       "      <td>29.0</td>\n",
       "      <td>8.0</td>\n",
       "      <td>2014.0</td>\n",
       "    </tr>\n",
       "    <tr>\n",
       "      <th>3</th>\n",
       "      <td>2014-08-09 18:05:16</td>\n",
       "      <td>2</td>\n",
       "      <td>3</td>\n",
       "      <td>66</td>\n",
       "      <td>442</td>\n",
       "      <td>35390</td>\n",
       "      <td>913.1932</td>\n",
       "      <td>93</td>\n",
       "      <td>0</td>\n",
       "      <td>0</td>\n",
       "      <td>3</td>\n",
       "      <td>2014-11-23</td>\n",
       "      <td>2014-11-28</td>\n",
       "      <td>2</td>\n",
       "      <td>0</td>\n",
       "      <td>1</td>\n",
       "      <td>14984</td>\n",
       "      <td>1</td>\n",
       "      <td>0</td>\n",
       "      <td>1</td>\n",
       "      <td>2</td>\n",
       "      <td>50</td>\n",
       "      <td>1457</td>\n",
       "      <td>80</td>\n",
       "      <td>2014-11-23</td>\n",
       "      <td>2014-11-28</td>\n",
       "      <td>5.0</td>\n",
       "      <td>105.0</td>\n",
       "      <td>23.0</td>\n",
       "      <td>11.0</td>\n",
       "      <td>2014.0</td>\n",
       "    </tr>\n",
       "    <tr>\n",
       "      <th>4</th>\n",
       "      <td>2014-08-09 18:08:18</td>\n",
       "      <td>2</td>\n",
       "      <td>3</td>\n",
       "      <td>66</td>\n",
       "      <td>442</td>\n",
       "      <td>35390</td>\n",
       "      <td>913.6259</td>\n",
       "      <td>93</td>\n",
       "      <td>0</td>\n",
       "      <td>0</td>\n",
       "      <td>3</td>\n",
       "      <td>2014-11-23</td>\n",
       "      <td>2014-11-28</td>\n",
       "      <td>2</td>\n",
       "      <td>0</td>\n",
       "      <td>1</td>\n",
       "      <td>14984</td>\n",
       "      <td>1</td>\n",
       "      <td>0</td>\n",
       "      <td>1</td>\n",
       "      <td>2</td>\n",
       "      <td>50</td>\n",
       "      <td>1457</td>\n",
       "      <td>21</td>\n",
       "      <td>2014-11-23</td>\n",
       "      <td>2014-11-28</td>\n",
       "      <td>5.0</td>\n",
       "      <td>105.0</td>\n",
       "      <td>23.0</td>\n",
       "      <td>11.0</td>\n",
       "      <td>2014.0</td>\n",
       "    </tr>\n",
       "  </tbody>\n",
       "</table>\n",
       "</div>"
      ],
      "text/plain": [
       "            date_time  site_name  posa_continent  user_location_country  user_location_region  user_location_city  orig_destination_distance  user_id  is_mobile  is_package  channel     srch_ci     srch_co  srch_adults_cnt  srch_children_cnt  srch_rm_cnt  srch_destination_id  srch_destination_type_id  is_booking  cnt  hotel_continent  hotel_country  hotel_market  hotel_cluster    checkin   checkout  stay_dur  no_of_days_betw_booking  checkin_day  checkin_month  checkin_year\n",
       "0 2014-08-11 07:46:59          2               3                     66                   348               48862                  2234.2641       12          0           1        9  2014-08-27  2014-08-31                2                  0            1                 8250                         1           0    3                2             50           628              1 2014-08-27 2014-08-31       4.0                     15.0         27.0            8.0        2014.0\n",
       "1 2014-08-11 08:22:12          2               3                     66                   348               48862                  2234.2641       12          0           1        9  2014-08-29  2014-09-02                2                  0            1                 8250                         1           1    1                2             50           628              1 2014-08-29 2014-09-02       4.0                     17.0         29.0            8.0        2014.0\n",
       "2 2014-08-11 08:24:33          2               3                     66                   348               48862                  2234.2641       12          0           0        9  2014-08-29  2014-09-02                2                  0            1                 8250                         1           0    1                2             50           628              1 2014-08-29 2014-09-02       4.0                     17.0         29.0            8.0        2014.0\n",
       "3 2014-08-09 18:05:16          2               3                     66                   442               35390                   913.1932       93          0           0        3  2014-11-23  2014-11-28                2                  0            1                14984                         1           0    1                2             50          1457             80 2014-11-23 2014-11-28       5.0                    105.0         23.0           11.0        2014.0\n",
       "4 2014-08-09 18:08:18          2               3                     66                   442               35390                   913.6259       93          0           0        3  2014-11-23  2014-11-28                2                  0            1                14984                         1           0    1                2             50          1457             21 2014-11-23 2014-11-28       5.0                    105.0         23.0           11.0        2014.0"
      ]
     },
     "execution_count": 23,
     "metadata": {},
     "output_type": "execute_result"
    }
   ],
   "source": [
    "# From the above charts we see some interesting data about the booking patterns\n",
    "# One interesting thing to look for is that most of the stay duration was 1 day\n",
    "# This could imply this training set has more business travels\n",
    "# Showing the top 5 rows of the dataframe\n",
    "train_df.head()"
   ]
  },
  {
   "cell_type": "code",
   "execution_count": 24,
   "metadata": {},
   "outputs": [
    {
     "name": "stdout",
     "output_type": "stream",
     "text": [
      "<class 'pandas.core.frame.DataFrame'>\n",
      "RangeIndex: 100000 entries, 0 to 99999\n",
      "Data columns (total 31 columns):\n",
      " #   Column                     Non-Null Count   Dtype         \n",
      "---  ------                     --------------   -----         \n",
      " 0   date_time                  100000 non-null  datetime64[ns]\n",
      " 1   site_name                  100000 non-null  int64         \n",
      " 2   posa_continent             100000 non-null  int64         \n",
      " 3   user_location_country      100000 non-null  int64         \n",
      " 4   user_location_region       100000 non-null  int64         \n",
      " 5   user_location_city         100000 non-null  int64         \n",
      " 6   orig_destination_distance  63078 non-null   float64       \n",
      " 7   user_id                    100000 non-null  int64         \n",
      " 8   is_mobile                  100000 non-null  int64         \n",
      " 9   is_package                 100000 non-null  int64         \n",
      " 10  channel                    100000 non-null  int64         \n",
      " 11  srch_ci                    99929 non-null   object        \n",
      " 12  srch_co                    99929 non-null   object        \n",
      " 13  srch_adults_cnt            100000 non-null  int64         \n",
      " 14  srch_children_cnt          100000 non-null  int64         \n",
      " 15  srch_rm_cnt                100000 non-null  int64         \n",
      " 16  srch_destination_id        100000 non-null  int64         \n",
      " 17  srch_destination_type_id   100000 non-null  int64         \n",
      " 18  is_booking                 100000 non-null  int64         \n",
      " 19  cnt                        100000 non-null  int64         \n",
      " 20  hotel_continent            100000 non-null  int64         \n",
      " 21  hotel_country              100000 non-null  int64         \n",
      " 22  hotel_market               100000 non-null  int64         \n",
      " 23  hotel_cluster              100000 non-null  int64         \n",
      " 24  checkin                    99929 non-null   datetime64[ns]\n",
      " 25  checkout                   99929 non-null   datetime64[ns]\n",
      " 26  stay_dur                   99929 non-null   float64       \n",
      " 27  no_of_days_betw_booking    99929 non-null   float64       \n",
      " 28  checkin_day                99929 non-null   float64       \n",
      " 29  checkin_month              99929 non-null   float64       \n",
      " 30  checkin_year               99929 non-null   float64       \n",
      "dtypes: datetime64[ns](3), float64(6), int64(20), object(2)\n",
      "memory usage: 23.7+ MB\n"
     ]
    }
   ],
   "source": [
    "# Inspecting the dataframe post conversion\n",
    "# 3 new columns are added now\n",
    "train_df.info()"
   ]
  },
  {
   "cell_type": "markdown",
   "metadata": {},
   "source": [
    "### Model Generation steps"
   ]
  },
  {
   "cell_type": "code",
   "execution_count": 25,
   "metadata": {},
   "outputs": [
    {
     "name": "stdout",
     "output_type": "stream",
     "text": [
      "Feature Matrix dimension:  (8270, 18)\n",
      "Target Vector dimension:  (8270, 1)\n"
     ]
    }
   ],
   "source": [
    "# choosing all the columns that we want as the feature matrix \n",
    "# Filtering the dataframe to keep those observations that were booked\n",
    "# train_df.columns\n",
    "\n",
    "train_df = train_df[train_df[\"is_booking\"] == 1]\n",
    "X = train_df[['site_name', 'posa_continent', 'user_location_country', 'user_location_region', 'user_location_city','user_id', 'is_mobile', 'is_package', 'channel', 'srch_adults_cnt', 'srch_children_cnt', 'srch_rm_cnt', 'srch_destination_id', 'srch_destination_type_id', 'cnt', 'hotel_continent', 'hotel_country', 'hotel_market']]\n",
    "\n",
    "\n",
    "y = train_df[['hotel_cluster']]\n",
    "print(\"Feature Matrix dimension: \", X.shape)\n",
    "print(\"Target Vector dimension: \", y.shape)"
   ]
  },
  {
   "cell_type": "code",
   "execution_count": 26,
   "metadata": {},
   "outputs": [
    {
     "name": "stdout",
     "output_type": "stream",
     "text": [
      "5789\n",
      "2481\n"
     ]
    }
   ],
   "source": [
    "# Test Train Split\n",
    "# Splitting the dataset into train and test sets\n",
    "from sklearn.model_selection import train_test_split\n",
    "\n",
    "X_train, X_test, y_train, y_test = train_test_split(X, y, test_size = 0.3, random_state = 1)\n",
    "\n",
    "print(len(X_train))\n",
    "print(len(X_test))"
   ]
  },
  {
   "cell_type": "code",
   "execution_count": 27,
   "metadata": {},
   "outputs": [
    {
     "name": "stderr",
     "output_type": "stream",
     "text": [
      "/opt/anaconda3/lib/python3.7/site-packages/sklearn/utils/validation.py:760: DataConversionWarning: A column-vector y was passed when a 1d array was expected. Please change the shape of y to (n_samples, ), for example using ravel().\n",
      "  y = column_or_1d(y, warn=True)\n"
     ]
    },
    {
     "name": "stdout",
     "output_type": "stream",
     "text": [
      "Accuracy: 0.03909713825070536\n",
      "confusion_matrix\n",
      "[[0 0 0 ... 0 0 0]\n",
      " [0 0 0 ... 0 0 0]\n",
      " [0 0 0 ... 0 0 0]\n",
      " ...\n",
      " [0 0 0 ... 0 0 0]\n",
      " [0 0 0 ... 0 0 0]\n",
      " [0 0 0 ... 0 0 0]]\n",
      "              precision    recall  f1-score   support\n",
      "\n",
      "           0       0.00      0.00      0.00        18\n",
      "           1       0.00      0.00      0.00        31\n",
      "           2       0.00      0.00      0.00        42\n",
      "           3       0.00      0.00      0.00        12\n",
      "           4       0.00      0.00      0.00        31\n",
      "           5       0.00      0.00      0.00        38\n",
      "           6       0.00      0.00      0.00        44\n",
      "           7       0.00      0.00      0.00        33\n",
      "           8       0.00      0.00      0.00        21\n",
      "           9       0.00      0.00      0.00        28\n",
      "          10       0.00      0.00      0.00        31\n",
      "          11       0.00      0.00      0.00        25\n",
      "          12       0.00      0.00      0.00        22\n",
      "          13       0.00      0.00      0.00        34\n",
      "          14       0.00      0.00      0.00        10\n",
      "          15       0.00      0.00      0.00        39\n",
      "          16       0.00      0.00      0.00        43\n",
      "          17       0.00      0.00      0.00        20\n",
      "          18       0.00      0.00      0.00        41\n",
      "          19       0.00      0.00      0.00        18\n",
      "          20       0.00      0.00      0.00         7\n",
      "          21       0.00      0.00      0.00        37\n",
      "          22       0.00      0.00      0.00        22\n",
      "          23       0.00      0.00      0.00        13\n",
      "          24       0.00      0.00      0.00        13\n",
      "          25       0.00      0.00      0.00        35\n",
      "          26       0.00      0.00      0.00        18\n",
      "          27       0.00      0.00      0.00         2\n",
      "          28       0.00      0.00      0.00        47\n",
      "          29       0.00      0.00      0.00        22\n",
      "          30       0.00      0.00      0.00        27\n",
      "          31       0.00      0.00      0.00         7\n",
      "          32       0.00      0.00      0.00        34\n",
      "          33       0.00      0.00      0.00        39\n",
      "          34       0.00      0.00      0.00        21\n",
      "          35       0.00      0.00      0.00         6\n",
      "          36       0.00      0.00      0.00        38\n",
      "          37       0.00      0.00      0.00        31\n",
      "          38       0.00      0.00      0.00        12\n",
      "          39       0.00      0.00      0.00        30\n",
      "          40       0.00      0.00      0.00        19\n",
      "          41       0.00      0.00      0.00        39\n",
      "          42       0.00      0.00      0.00        68\n",
      "          43       0.00      0.00      0.00        20\n",
      "          44       0.00      0.00      0.00        13\n",
      "          45       0.00      0.00      0.00        14\n",
      "          46       0.00      0.00      0.00        36\n",
      "          47       0.00      0.00      0.00        45\n",
      "          48       0.00      0.00      0.00        77\n",
      "          49       0.00      0.00      0.00        24\n",
      "          50       0.00      0.00      0.00        40\n",
      "          51       0.00      0.00      0.00        30\n",
      "          52       0.00      0.00      0.00         5\n",
      "          53       0.00      0.00      0.00         9\n",
      "          54       0.00      0.00      0.00        16\n",
      "          55       0.00      0.00      0.00        29\n",
      "          56       0.00      0.00      0.00        14\n",
      "          57       0.00      0.00      0.00        15\n",
      "          58       0.00      0.00      0.00        15\n",
      "          59       0.00      0.00      0.00        56\n",
      "          60       0.00      0.00      0.00         5\n",
      "          61       0.00      0.00      0.00        19\n",
      "          62       0.00      0.00      0.00        34\n",
      "          63       0.00      0.00      0.00        18\n",
      "          64       0.00      0.00      0.00        39\n",
      "          65       0.00      0.00      0.00        13\n",
      "          66       0.00      0.00      0.00         8\n",
      "          67       0.00      0.00      0.00        16\n",
      "          68       0.00      0.00      0.00        31\n",
      "          69       0.00      0.00      0.00        27\n",
      "          70       0.00      0.00      0.00        25\n",
      "          71       0.00      0.00      0.00         5\n",
      "          72       0.00      0.00      0.00        41\n",
      "          73       0.00      0.00      0.00        18\n",
      "          74       0.00      0.00      0.00         3\n",
      "          75       0.00      0.00      0.00        10\n",
      "          76       0.00      0.00      0.00        20\n",
      "          77       0.00      0.00      0.00        26\n",
      "          78       0.00      0.00      0.00        16\n",
      "          79       0.00      0.00      0.00        14\n",
      "          80       0.00      0.00      0.00         6\n",
      "          81       0.00      0.00      0.00        23\n",
      "          82       0.00      0.00      0.00        52\n",
      "          83       0.00      0.00      0.00        23\n",
      "          84       0.00      0.00      0.00         4\n",
      "          85       0.00      0.00      0.00        19\n",
      "          86       0.00      0.00      0.00         7\n",
      "          87       0.00      0.00      0.00         4\n",
      "          88       0.00      0.00      0.00        10\n",
      "          89       0.00      0.00      0.00         6\n",
      "          90       0.00      0.00      0.00        15\n",
      "          91       0.04      0.97      0.08       100\n",
      "          92       0.00      0.00      0.00         8\n",
      "          93       0.00      0.00      0.00         5\n",
      "          94       0.00      0.00      0.00        28\n",
      "          95       0.00      0.00      0.00        51\n",
      "          96       0.00      0.00      0.00        10\n",
      "          97       0.00      0.00      0.00        30\n",
      "          98       0.00      0.00      0.00        43\n",
      "          99       0.00      0.00      0.00        23\n",
      "\n",
      "    accuracy                           0.04      2481\n",
      "   macro avg       0.00      0.01      0.00      2481\n",
      "weighted avg       0.00      0.04      0.00      2481\n",
      "\n"
     ]
    },
    {
     "name": "stderr",
     "output_type": "stream",
     "text": [
      "/opt/anaconda3/lib/python3.7/site-packages/sklearn/linear_model/_logistic.py:940: ConvergenceWarning: lbfgs failed to converge (status=1):\n",
      "STOP: TOTAL NO. of ITERATIONS REACHED LIMIT.\n",
      "\n",
      "Increase the number of iterations (max_iter) or scale the data as shown in:\n",
      "    https://scikit-learn.org/stable/modules/preprocessing.html\n",
      "Please also refer to the documentation for alternative solver options:\n",
      "    https://scikit-learn.org/stable/modules/linear_model.html#logistic-regression\n",
      "  extra_warning_msg=_LOGISTIC_SOLVER_CONVERGENCE_MSG)\n",
      "/opt/anaconda3/lib/python3.7/site-packages/sklearn/metrics/_classification.py:1272: UndefinedMetricWarning: Precision and F-score are ill-defined and being set to 0.0 in labels with no predicted samples. Use `zero_division` parameter to control this behavior.\n",
      "  _warn_prf(average, modifier, msg_start, len(result))\n"
     ]
    }
   ],
   "source": [
    "#ML Algorithm : Logistic Regression Model\n",
    "from sklearn.linear_model import LogisticRegression\n",
    "from sklearn.metrics import classification_report\n",
    "from sklearn.metrics import accuracy_score,precision_score,recall_score,f1_score,confusion_matrix\n",
    "\n",
    "regressor = LogisticRegression()\n",
    "# Fitting the training data to our model\n",
    "regressor.fit(X_train, y_train)\n",
    "y_predict = regressor.predict(X_test)\n",
    "acc=accuracy_score(y_test,y_predict)\n",
    "\n",
    "# Accuracy and Confusion matrix\n",
    "\n",
    "print(\"Accuracy:\" ,acc)\n",
    "print( \"confusion_matrix\")\n",
    "print( confusion_matrix(y_test, y_predict))\n",
    "\n",
    "# Printing the Classification report\n",
    "print(classification_report(y_test, y_predict))\n",
    "\n",
    "# The overall accuracy of the Logistic regression model is only 4%\n",
    "# This shows that we have to do a lot of feature engineering tasks here and remove some of the unwanted features also."
   ]
  },
  {
   "cell_type": "code",
   "execution_count": 29,
   "metadata": {},
   "outputs": [
    {
     "name": "stderr",
     "output_type": "stream",
     "text": [
      "/opt/anaconda3/lib/python3.7/site-packages/ipykernel_launcher.py:8: DataConversionWarning: A column-vector y was passed when a 1d array was expected. Please change the shape of y to (n_samples,), for example using ravel().\n",
      "  \n"
     ]
    },
    {
     "name": "stdout",
     "output_type": "stream",
     "text": [
      "Accuracy: 0.19064893188230553\n",
      "confusion_matrix\n",
      "[[ 2  0  0 ...  0  0  0]\n",
      " [ 0 12  0 ...  0  0  0]\n",
      " [ 0  0  7 ...  1  4  0]\n",
      " ...\n",
      " [ 1  0  1 ...  9  3  0]\n",
      " [ 0  0  0 ...  0  6  0]\n",
      " [ 0  0  2 ...  0  0  1]]\n",
      "              precision    recall  f1-score   support\n",
      "\n",
      "           0       0.17      0.11      0.13        18\n",
      "           1       0.26      0.39      0.31        31\n",
      "           2       0.18      0.17      0.17        42\n",
      "           3       0.07      0.08      0.08        12\n",
      "           4       0.16      0.16      0.16        31\n",
      "           5       0.17      0.11      0.13        38\n",
      "           6       0.18      0.14      0.16        44\n",
      "           7       0.16      0.15      0.15        33\n",
      "           8       0.38      0.29      0.32        21\n",
      "           9       0.07      0.11      0.09        28\n",
      "          10       0.32      0.35      0.34        31\n",
      "          11       0.27      0.16      0.20        25\n",
      "          12       0.12      0.05      0.07        22\n",
      "          13       0.27      0.38      0.31        34\n",
      "          14       0.10      0.10      0.10        10\n",
      "          15       0.26      0.13      0.17        39\n",
      "          16       0.09      0.14      0.11        43\n",
      "          17       0.30      0.15      0.20        20\n",
      "          18       0.10      0.15      0.12        41\n",
      "          19       0.04      0.06      0.05        18\n",
      "          20       0.22      0.29      0.25         7\n",
      "          21       0.24      0.22      0.23        37\n",
      "          22       0.14      0.09      0.11        22\n",
      "          23       0.38      0.23      0.29        13\n",
      "          24       0.19      0.23      0.21        13\n",
      "          25       0.14      0.17      0.15        35\n",
      "          26       0.18      0.22      0.20        18\n",
      "          27       0.67      1.00      0.80         2\n",
      "          28       0.11      0.13      0.12        47\n",
      "          29       0.26      0.23      0.24        22\n",
      "          30       0.25      0.19      0.21        27\n",
      "          31       0.25      0.14      0.18         7\n",
      "          32       0.21      0.18      0.19        34\n",
      "          33       0.19      0.18      0.19        39\n",
      "          34       0.07      0.05      0.06        21\n",
      "          35       0.11      0.17      0.13         6\n",
      "          36       0.22      0.32      0.26        38\n",
      "          37       0.08      0.06      0.07        31\n",
      "          38       0.36      0.33      0.35        12\n",
      "          39       0.15      0.23      0.18        30\n",
      "          40       0.13      0.16      0.14        19\n",
      "          41       0.15      0.13      0.14        39\n",
      "          42       0.13      0.16      0.14        68\n",
      "          43       0.13      0.15      0.14        20\n",
      "          44       0.43      0.23      0.30        13\n",
      "          45       0.21      0.21      0.21        14\n",
      "          46       0.25      0.36      0.30        36\n",
      "          47       0.28      0.20      0.23        45\n",
      "          48       0.24      0.26      0.25        77\n",
      "          49       0.22      0.08      0.12        24\n",
      "          50       0.18      0.20      0.19        40\n",
      "          51       0.18      0.13      0.15        30\n",
      "          52       0.17      0.40      0.24         5\n",
      "          53       0.67      0.22      0.33         9\n",
      "          54       0.43      0.19      0.26        16\n",
      "          55       0.14      0.10      0.12        29\n",
      "          56       0.18      0.21      0.19        14\n",
      "          57       0.15      0.13      0.14        15\n",
      "          58       0.11      0.13      0.12        15\n",
      "          59       0.33      0.30      0.31        56\n",
      "          60       0.09      0.20      0.13         5\n",
      "          61       0.11      0.11      0.11        19\n",
      "          62       0.23      0.26      0.25        34\n",
      "          63       0.21      0.17      0.19        18\n",
      "          64       0.16      0.18      0.17        39\n",
      "          65       0.18      0.15      0.17        13\n",
      "          66       0.44      0.50      0.47         8\n",
      "          67       0.25      0.19      0.21        16\n",
      "          68       0.06      0.06      0.06        31\n",
      "          69       0.33      0.15      0.21        27\n",
      "          70       0.21      0.16      0.18        25\n",
      "          71       0.25      0.20      0.22         5\n",
      "          72       0.07      0.05      0.06        41\n",
      "          73       0.14      0.11      0.12        18\n",
      "          74       0.00      0.00      0.00         3\n",
      "          75       0.44      0.40      0.42        10\n",
      "          76       0.12      0.05      0.07        20\n",
      "          77       0.22      0.27      0.24        26\n",
      "          78       0.14      0.19      0.16        16\n",
      "          79       0.08      0.07      0.08        14\n",
      "          80       0.00      0.00      0.00         6\n",
      "          81       0.19      0.22      0.20        23\n",
      "          82       0.37      0.44      0.40        52\n",
      "          83       0.21      0.17      0.19        23\n",
      "          84       0.12      0.25      0.17         4\n",
      "          85       0.30      0.32      0.31        19\n",
      "          86       0.33      0.29      0.31         7\n",
      "          87       0.25      0.25      0.25         4\n",
      "          88       0.33      0.10      0.15        10\n",
      "          89       0.00      0.00      0.00         6\n",
      "          90       0.00      0.00      0.00        15\n",
      "          91       0.16      0.27      0.20       100\n",
      "          92       0.00      0.00      0.00         8\n",
      "          93       0.00      0.00      0.00         5\n",
      "          94       0.27      0.14      0.19        28\n",
      "          95       0.22      0.27      0.24        51\n",
      "          96       0.00      0.00      0.00        10\n",
      "          97       0.29      0.30      0.30        30\n",
      "          98       0.13      0.14      0.13        43\n",
      "          99       0.17      0.04      0.07        23\n",
      "\n",
      "    accuracy                           0.19      2481\n",
      "   macro avg       0.20      0.19      0.18      2481\n",
      "weighted avg       0.20      0.19      0.19      2481\n",
      "\n",
      "[0.02392914 0.01110977 0.03564082 0.10940867 0.13314858 0.13437866\n",
      " 0.0169733  0.01398006 0.05868    0.04792972 0.03339913 0.01745436\n",
      " 0.13488708 0.04111155 0.00422856 0.01652333 0.0382401  0.12897717]\n"
     ]
    },
    {
     "name": "stderr",
     "output_type": "stream",
     "text": [
      "/opt/anaconda3/lib/python3.7/site-packages/sklearn/metrics/_classification.py:1272: UndefinedMetricWarning: Precision and F-score are ill-defined and being set to 0.0 in labels with no predicted samples. Use `zero_division` parameter to control this behavior.\n",
      "  _warn_prf(average, modifier, msg_start, len(result))\n"
     ]
    }
   ],
   "source": [
    "# ML algorithm: RandomForestClassifier\n",
    "\n",
    "from sklearn.ensemble import RandomForestClassifier\n",
    "\n",
    "\n",
    "clf = RandomForestClassifier(n_estimators=80)\n",
    "\n",
    "clf.fit(X_train, y_train)\n",
    "\n",
    "y_pred=clf.predict(X_test)\n",
    "\n",
    "acc=accuracy_score(y_test,y_pred)\n",
    "\n",
    "print(\"Accuracy:\" ,acc)\n",
    "print( \"confusion_matrix\")\n",
    "print( confusion_matrix(y_test, y_pred))\n",
    "\n",
    "# classification_report\n",
    "\n",
    "print(classification_report(y_test, y_pred))\n",
    "print(clf.feature_importances_)\n",
    "\n",
    "# The overall accuracy of the Random Forect model is better than the Logistic regression model and is only 18.7%"
   ]
  },
  {
   "cell_type": "code",
   "execution_count": 43,
   "metadata": {},
   "outputs": [
    {
     "name": "stdout",
     "output_type": "stream",
     "text": [
      "Feature Matrix dimension:  (8270, 15)\n",
      "Target Vector dimension:  (8270, 1)\n"
     ]
    }
   ],
   "source": [
    "# reducing some of the features from the feature matrix \n",
    "# This did not improve the score very much\n",
    "# train_df.columns\n",
    "\n",
    "# X = train_df[['site_name', 'posa_continent', 'user_location_country', 'user_location_region', 'user_location_city','user_id', 'is_mobile', 'is_package', 'channel', 'srch_adults_cnt', 'srch_children_cnt', 'srch_rm_cnt', 'srch_destination_id', 'srch_destination_type_id', 'cnt', 'hotel_continent', 'hotel_country', 'hotel_market']]\n",
    "X = train_df[['posa_continent', 'user_location_country', 'user_location_region', 'user_location_city','user_id', 'channel', 'srch_adults_cnt', 'srch_children_cnt', 'srch_rm_cnt', 'srch_destination_id', 'srch_destination_type_id', 'cnt', 'hotel_continent', 'hotel_country', 'hotel_market']]\n",
    "\n",
    "y = train_df[['hotel_cluster']]\n",
    "print(\"Feature Matrix dimension: \", X.shape)\n",
    "print(\"Target Vector dimension: \", y.shape)"
   ]
  },
  {
   "cell_type": "code",
   "execution_count": 44,
   "metadata": {},
   "outputs": [
    {
     "name": "stdout",
     "output_type": "stream",
     "text": [
      "5789\n",
      "2481\n"
     ]
    }
   ],
   "source": [
    "# Test Train Split\n",
    "# Splitting the dataset into train and test sets\n",
    "from sklearn.model_selection import train_test_split\n",
    "\n",
    "X_train, X_test, y_train, y_test = train_test_split(X, y, test_size = 0.3, random_state = 1)\n",
    "\n",
    "print(len(X_train))\n",
    "print(len(X_test))"
   ]
  },
  {
   "cell_type": "code",
   "execution_count": 45,
   "metadata": {},
   "outputs": [
    {
     "name": "stderr",
     "output_type": "stream",
     "text": [
      "/opt/anaconda3/lib/python3.7/site-packages/sklearn/utils/validation.py:760: DataConversionWarning: A column-vector y was passed when a 1d array was expected. Please change the shape of y to (n_samples, ), for example using ravel().\n",
      "  y = column_or_1d(y, warn=True)\n"
     ]
    },
    {
     "name": "stdout",
     "output_type": "stream",
     "text": [
      "Accuracy: 0.03909713825070536\n",
      "confusion_matrix\n",
      "[[0 0 0 ... 0 0 0]\n",
      " [0 0 0 ... 0 0 0]\n",
      " [0 0 0 ... 0 0 0]\n",
      " ...\n",
      " [0 0 0 ... 0 0 0]\n",
      " [0 0 0 ... 0 0 0]\n",
      " [0 0 0 ... 0 0 0]]\n",
      "              precision    recall  f1-score   support\n",
      "\n",
      "           0       0.00      0.00      0.00        18\n",
      "           1       0.00      0.00      0.00        31\n",
      "           2       0.00      0.00      0.00        42\n",
      "           3       0.00      0.00      0.00        12\n",
      "           4       0.00      0.00      0.00        31\n",
      "           5       0.00      0.00      0.00        38\n",
      "           6       0.00      0.00      0.00        44\n",
      "           7       0.00      0.00      0.00        33\n",
      "           8       0.00      0.00      0.00        21\n",
      "           9       0.00      0.00      0.00        28\n",
      "          10       0.00      0.00      0.00        31\n",
      "          11       0.00      0.00      0.00        25\n",
      "          12       0.00      0.00      0.00        22\n",
      "          13       0.00      0.00      0.00        34\n",
      "          14       0.00      0.00      0.00        10\n",
      "          15       0.00      0.00      0.00        39\n",
      "          16       0.00      0.00      0.00        43\n",
      "          17       0.00      0.00      0.00        20\n",
      "          18       0.00      0.00      0.00        41\n",
      "          19       0.00      0.00      0.00        18\n",
      "          20       0.00      0.00      0.00         7\n",
      "          21       0.00      0.00      0.00        37\n",
      "          22       0.00      0.00      0.00        22\n",
      "          23       0.00      0.00      0.00        13\n",
      "          24       0.00      0.00      0.00        13\n",
      "          25       0.00      0.00      0.00        35\n",
      "          26       0.00      0.00      0.00        18\n",
      "          27       0.00      0.00      0.00         2\n",
      "          28       0.00      0.00      0.00        47\n",
      "          29       0.00      0.00      0.00        22\n",
      "          30       0.00      0.00      0.00        27\n",
      "          31       0.00      0.00      0.00         7\n",
      "          32       0.00      0.00      0.00        34\n",
      "          33       0.00      0.00      0.00        39\n",
      "          34       0.00      0.00      0.00        21\n",
      "          35       0.00      0.00      0.00         6\n",
      "          36       0.00      0.00      0.00        38\n",
      "          37       0.00      0.00      0.00        31\n",
      "          38       0.00      0.00      0.00        12\n",
      "          39       0.00      0.00      0.00        30\n",
      "          40       0.00      0.00      0.00        19\n",
      "          41       0.00      0.00      0.00        39\n",
      "          42       0.00      0.00      0.00        68\n",
      "          43       0.00      0.00      0.00        20\n",
      "          44       0.00      0.00      0.00        13\n",
      "          45       0.00      0.00      0.00        14\n",
      "          46       0.00      0.00      0.00        36\n",
      "          47       0.00      0.00      0.00        45\n",
      "          48       0.00      0.00      0.00        77\n",
      "          49       0.00      0.00      0.00        24\n",
      "          50       0.00      0.00      0.00        40\n",
      "          51       0.00      0.00      0.00        30\n",
      "          52       0.00      0.00      0.00         5\n",
      "          53       0.00      0.00      0.00         9\n",
      "          54       0.00      0.00      0.00        16\n",
      "          55       0.00      0.00      0.00        29\n",
      "          56       0.00      0.00      0.00        14\n",
      "          57       0.00      0.00      0.00        15\n",
      "          58       0.00      0.00      0.00        15\n",
      "          59       0.00      0.00      0.00        56\n",
      "          60       0.00      0.00      0.00         5\n",
      "          61       0.00      0.00      0.00        19\n",
      "          62       0.00      0.00      0.00        34\n",
      "          63       0.00      0.00      0.00        18\n",
      "          64       0.00      0.00      0.00        39\n",
      "          65       0.00      0.00      0.00        13\n",
      "          66       0.00      0.00      0.00         8\n",
      "          67       0.00      0.00      0.00        16\n",
      "          68       0.00      0.00      0.00        31\n",
      "          69       0.00      0.00      0.00        27\n",
      "          70       0.00      0.00      0.00        25\n",
      "          71       0.00      0.00      0.00         5\n",
      "          72       0.00      0.00      0.00        41\n",
      "          73       0.00      0.00      0.00        18\n",
      "          74       0.00      0.00      0.00         3\n",
      "          75       0.00      0.00      0.00        10\n",
      "          76       0.00      0.00      0.00        20\n",
      "          77       0.00      0.00      0.00        26\n",
      "          78       0.00      0.00      0.00        16\n",
      "          79       0.00      0.00      0.00        14\n",
      "          80       0.00      0.00      0.00         6\n",
      "          81       0.00      0.00      0.00        23\n",
      "          82       0.00      0.00      0.00        52\n",
      "          83       0.00      0.00      0.00        23\n",
      "          84       0.00      0.00      0.00         4\n",
      "          85       0.00      0.00      0.00        19\n",
      "          86       0.00      0.00      0.00         7\n",
      "          87       0.00      0.00      0.00         4\n",
      "          88       0.00      0.00      0.00        10\n",
      "          89       0.00      0.00      0.00         6\n",
      "          90       0.00      0.00      0.00        15\n",
      "          91       0.04      0.97      0.08       100\n",
      "          92       0.00      0.00      0.00         8\n",
      "          93       0.00      0.00      0.00         5\n",
      "          94       0.00      0.00      0.00        28\n",
      "          95       0.00      0.00      0.00        51\n",
      "          96       0.00      0.00      0.00        10\n",
      "          97       0.00      0.00      0.00        30\n",
      "          98       0.00      0.00      0.00        43\n",
      "          99       0.00      0.00      0.00        23\n",
      "\n",
      "    accuracy                           0.04      2481\n",
      "   macro avg       0.00      0.01      0.00      2481\n",
      "weighted avg       0.00      0.04      0.00      2481\n",
      "\n"
     ]
    },
    {
     "name": "stderr",
     "output_type": "stream",
     "text": [
      "/opt/anaconda3/lib/python3.7/site-packages/sklearn/linear_model/_logistic.py:940: ConvergenceWarning: lbfgs failed to converge (status=1):\n",
      "STOP: TOTAL NO. of ITERATIONS REACHED LIMIT.\n",
      "\n",
      "Increase the number of iterations (max_iter) or scale the data as shown in:\n",
      "    https://scikit-learn.org/stable/modules/preprocessing.html\n",
      "Please also refer to the documentation for alternative solver options:\n",
      "    https://scikit-learn.org/stable/modules/linear_model.html#logistic-regression\n",
      "  extra_warning_msg=_LOGISTIC_SOLVER_CONVERGENCE_MSG)\n",
      "/opt/anaconda3/lib/python3.7/site-packages/sklearn/metrics/_classification.py:1272: UndefinedMetricWarning: Precision and F-score are ill-defined and being set to 0.0 in labels with no predicted samples. Use `zero_division` parameter to control this behavior.\n",
      "  _warn_prf(average, modifier, msg_start, len(result))\n"
     ]
    }
   ],
   "source": [
    "#ML Algorithm : Logistic Regression Model\n",
    "from sklearn.linear_model import LogisticRegression\n",
    "from sklearn.metrics import classification_report\n",
    "from sklearn.metrics import accuracy_score,precision_score,recall_score,f1_score,confusion_matrix\n",
    "\n",
    "regressor = LogisticRegression()\n",
    "# Fitting the training data to our model\n",
    "regressor.fit(X_train, y_train)\n",
    "y_predict = regressor.predict(X_test)\n",
    "acc=accuracy_score(y_test,y_predict)\n",
    "\n",
    "# Accuracy and Confusion matrix\n",
    "\n",
    "print(\"Accuracy:\" ,acc)\n",
    "print( \"confusion_matrix\")\n",
    "print( confusion_matrix(y_test, y_predict))\n",
    "\n",
    "# Printing the Classification report\n",
    "print(classification_report(y_test, y_predict))"
   ]
  },
  {
   "cell_type": "code",
   "execution_count": 46,
   "metadata": {},
   "outputs": [
    {
     "name": "stderr",
     "output_type": "stream",
     "text": [
      "/opt/anaconda3/lib/python3.7/site-packages/ipykernel_launcher.py:8: DataConversionWarning: A column-vector y was passed when a 1d array was expected. Please change the shape of y to (n_samples,), for example using ravel().\n",
      "  \n"
     ]
    },
    {
     "name": "stdout",
     "output_type": "stream",
     "text": [
      "Accuracy: 0.18460298266827893\n",
      "confusion_matrix\n",
      "[[ 2  0  0 ...  0  0  0]\n",
      " [ 0 11  0 ...  0  0  0]\n",
      " [ 0  0  8 ...  2  4  0]\n",
      " ...\n",
      " [ 1  0  1 ...  8  3  0]\n",
      " [ 1  0  0 ...  0  6  0]\n",
      " [ 0  0  1 ...  0  0  1]]\n",
      "              precision    recall  f1-score   support\n",
      "\n",
      "           0       0.13      0.11      0.12        18\n",
      "           1       0.22      0.35      0.27        31\n",
      "           2       0.20      0.19      0.20        42\n",
      "           3       0.06      0.08      0.07        12\n",
      "           4       0.17      0.16      0.16        31\n",
      "           5       0.17      0.11      0.13        38\n",
      "           6       0.17      0.14      0.15        44\n",
      "           7       0.18      0.18      0.18        33\n",
      "           8       0.58      0.33      0.42        21\n",
      "           9       0.07      0.11      0.09        28\n",
      "          10       0.28      0.32      0.30        31\n",
      "          11       0.20      0.12      0.15        25\n",
      "          12       0.09      0.05      0.06        22\n",
      "          13       0.28      0.35      0.31        34\n",
      "          14       0.09      0.10      0.10        10\n",
      "          15       0.22      0.10      0.14        39\n",
      "          16       0.11      0.14      0.12        43\n",
      "          17       0.30      0.15      0.20        20\n",
      "          18       0.11      0.15      0.13        41\n",
      "          19       0.12      0.17      0.14        18\n",
      "          20       0.25      0.29      0.27         7\n",
      "          21       0.17      0.19      0.18        37\n",
      "          22       0.14      0.14      0.14        22\n",
      "          23       0.38      0.23      0.29        13\n",
      "          24       0.33      0.38      0.36        13\n",
      "          25       0.13      0.11      0.12        35\n",
      "          26       0.21      0.17      0.19        18\n",
      "          27       0.40      1.00      0.57         2\n",
      "          28       0.09      0.11      0.10        47\n",
      "          29       0.32      0.27      0.29        22\n",
      "          30       0.18      0.11      0.14        27\n",
      "          31       0.00      0.00      0.00         7\n",
      "          32       0.29      0.18      0.22        34\n",
      "          33       0.21      0.18      0.19        39\n",
      "          34       0.25      0.05      0.08        21\n",
      "          35       0.11      0.17      0.13         6\n",
      "          36       0.27      0.32      0.29        38\n",
      "          37       0.05      0.06      0.06        31\n",
      "          38       0.27      0.25      0.26        12\n",
      "          39       0.15      0.23      0.18        30\n",
      "          40       0.13      0.16      0.14        19\n",
      "          41       0.17      0.18      0.17        39\n",
      "          42       0.11      0.13      0.12        68\n",
      "          43       0.14      0.15      0.14        20\n",
      "          44       0.43      0.23      0.30        13\n",
      "          45       0.12      0.14      0.13        14\n",
      "          46       0.21      0.31      0.25        36\n",
      "          47       0.21      0.20      0.21        45\n",
      "          48       0.22      0.25      0.23        77\n",
      "          49       0.20      0.08      0.12        24\n",
      "          50       0.18      0.20      0.19        40\n",
      "          51       0.16      0.10      0.12        30\n",
      "          52       0.20      0.40      0.27         5\n",
      "          53       0.67      0.22      0.33         9\n",
      "          54       0.12      0.06      0.08        16\n",
      "          55       0.00      0.00      0.00        29\n",
      "          56       0.18      0.21      0.19        14\n",
      "          57       0.22      0.13      0.17        15\n",
      "          58       0.05      0.07      0.06        15\n",
      "          59       0.35      0.30      0.33        56\n",
      "          60       0.14      0.20      0.17         5\n",
      "          61       0.20      0.21      0.21        19\n",
      "          62       0.15      0.24      0.19        34\n",
      "          63       0.18      0.11      0.14        18\n",
      "          64       0.15      0.15      0.15        39\n",
      "          65       0.25      0.31      0.28        13\n",
      "          66       0.36      0.50      0.42         8\n",
      "          67       0.25      0.19      0.21        16\n",
      "          68       0.06      0.06      0.06        31\n",
      "          69       0.25      0.07      0.11        27\n",
      "          70       0.19      0.16      0.17        25\n",
      "          71       0.67      0.40      0.50         5\n",
      "          72       0.04      0.02      0.03        41\n",
      "          73       0.21      0.17      0.19        18\n",
      "          74       0.00      0.00      0.00         3\n",
      "          75       0.40      0.40      0.40        10\n",
      "          76       0.17      0.05      0.08        20\n",
      "          77       0.21      0.27      0.24        26\n",
      "          78       0.17      0.19      0.18        16\n",
      "          79       0.23      0.21      0.22        14\n",
      "          80       0.00      0.00      0.00         6\n",
      "          81       0.24      0.22      0.23        23\n",
      "          82       0.38      0.40      0.39        52\n",
      "          83       0.20      0.17      0.19        23\n",
      "          84       0.00      0.00      0.00         4\n",
      "          85       0.33      0.32      0.32        19\n",
      "          86       0.33      0.43      0.38         7\n",
      "          87       0.50      0.25      0.33         4\n",
      "          88       0.33      0.10      0.15        10\n",
      "          89       0.00      0.00      0.00         6\n",
      "          90       0.00      0.00      0.00        15\n",
      "          91       0.17      0.30      0.21       100\n",
      "          92       0.00      0.00      0.00         8\n",
      "          93       0.00      0.00      0.00         5\n",
      "          94       0.11      0.07      0.09        28\n",
      "          95       0.22      0.29      0.25        51\n",
      "          96       0.00      0.00      0.00        10\n",
      "          97       0.27      0.27      0.27        30\n",
      "          98       0.12      0.14      0.13        43\n",
      "          99       0.09      0.04      0.06        23\n",
      "\n",
      "    accuracy                           0.18      2481\n",
      "   macro avg       0.20      0.18      0.18      2481\n",
      "weighted avg       0.19      0.18      0.18      2481\n",
      "\n",
      "[0.01492998 0.04103168 0.11566479 0.14227668 0.14248844 0.0626918\n",
      " 0.04987375 0.03549561 0.01846345 0.13973579 0.04110199 0.00460045\n",
      " 0.01807421 0.04101178 0.13255959]\n"
     ]
    },
    {
     "name": "stderr",
     "output_type": "stream",
     "text": [
      "/opt/anaconda3/lib/python3.7/site-packages/sklearn/metrics/_classification.py:1272: UndefinedMetricWarning: Precision and F-score are ill-defined and being set to 0.0 in labels with no predicted samples. Use `zero_division` parameter to control this behavior.\n",
      "  _warn_prf(average, modifier, msg_start, len(result))\n"
     ]
    }
   ],
   "source": [
    "# ML algorithm: RandomForestClassifier\n",
    "\n",
    "from sklearn.ensemble import RandomForestClassifier\n",
    "\n",
    "\n",
    "clf = RandomForestClassifier(n_estimators=80)\n",
    "\n",
    "clf.fit(X_train, y_train)\n",
    "\n",
    "y_pred=clf.predict(X_test)\n",
    "\n",
    "acc=accuracy_score(y_test,y_pred)\n",
    "\n",
    "print(\"Accuracy:\" ,acc)\n",
    "print( \"confusion_matrix\")\n",
    "print( confusion_matrix(y_test, y_pred))\n",
    "\n",
    "# classification_report\n",
    "\n",
    "print(classification_report(y_test, y_pred))\n",
    "print(clf.feature_importances_)"
   ]
  },
  {
   "cell_type": "code",
   "execution_count": null,
   "metadata": {},
   "outputs": [],
   "source": []
  }
 ],
 "metadata": {
  "kernelspec": {
   "display_name": "Python 3.7.6 64-bit ('base': conda)",
   "language": "python",
   "name": "python376jvsc74a57bd0dca0ade3e726a953b501b15e8e990130d2b7799f14cfd9f4271676035ebe5511"
  },
  "language_info": {
   "codemirror_mode": {
    "name": "ipython",
    "version": 3
   },
   "file_extension": ".py",
   "mimetype": "text/x-python",
   "name": "python",
   "nbconvert_exporter": "python",
   "pygments_lexer": "ipython3",
   "version": "3.7.6"
  }
 },
 "nbformat": 4,
 "nbformat_minor": 4
}
